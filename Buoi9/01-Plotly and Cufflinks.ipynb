{
 "cells": [
  {
   "cell_type": "markdown",
   "metadata": {},
   "source": [
    "___\n",
    "\n",
    "<a href='http://www.pieriandata.com'> <img src='../Pierian_Data_Logo.png' /></a>\n",
    "___\n",
    "# Plotly and Cufflinks"
   ]
  },
  {
   "cell_type": "markdown",
   "metadata": {},
   "source": [
    "Plotly is a library that allows you to create interactive plots that you can use in dashboards or websites (you can save them as html files or static images).\n",
    "\n",
    "## Installation\n",
    "\n",
    "In order for this all to work, you'll need to install plotly and cufflinks to call plots directly off of a pandas dataframe. These libraries are not currently available through **conda** but are available through **pip**. Install the libraries at your command line/terminal using:\n",
    "\n",
    "    pip install plotly\n",
    "    pip install cufflinks\n",
    "\n",
    "** NOTE: Make sure you only have one installation of Python on your computer when you do this, otherwise the installation may not work. **\n",
    "\n",
    "## Imports and Set-up"
   ]
  },
  {
   "cell_type": "code",
   "execution_count": 7,
   "metadata": {},
   "outputs": [],
   "source": [
    "import pandas as pd\n",
    "import numpy as np\n",
    "%matplotlib inline"
   ]
  },
  {
   "cell_type": "code",
   "execution_count": 25,
   "metadata": {},
   "outputs": [],
   "source": [
    "from plotly import __version__\n",
    "from plotly.offline import download_plotlyjs, init_notebook_mode, plot, iplot\n",
    "\n",
    "#print(__version__) # requires version >= 1.9.0"
   ]
  },
  {
   "cell_type": "code",
   "execution_count": 9,
   "metadata": {},
   "outputs": [],
   "source": [
    "import cufflinks as cf"
   ]
  },
  {
   "cell_type": "code",
   "execution_count": 10,
   "metadata": {},
   "outputs": [
    {
     "data": {
      "text/html": [
       "        <script type=\"text/javascript\">\n",
       "        window.PlotlyConfig = {MathJaxConfig: 'local'};\n",
       "        if (window.MathJax) {MathJax.Hub.Config({SVG: {font: \"STIX-Web\"}});}\n",
       "        if (typeof require !== 'undefined') {\n",
       "        require.undef(\"plotly\");\n",
       "        requirejs.config({\n",
       "            paths: {\n",
       "                'plotly': ['https://cdn.plot.ly/plotly-2.6.3.min']\n",
       "            }\n",
       "        });\n",
       "        require(['plotly'], function(Plotly) {\n",
       "            window._Plotly = Plotly;\n",
       "        });\n",
       "        }\n",
       "        </script>\n",
       "        "
      ]
     },
     "metadata": {},
     "output_type": "display_data"
    }
   ],
   "source": [
    "# For Notebooks\n",
    "init_notebook_mode(connected=True)"
   ]
  },
  {
   "cell_type": "code",
   "execution_count": 11,
   "metadata": {},
   "outputs": [
    {
     "data": {
      "text/html": [
       "        <script type=\"text/javascript\">\n",
       "        window.PlotlyConfig = {MathJaxConfig: 'local'};\n",
       "        if (window.MathJax) {MathJax.Hub.Config({SVG: {font: \"STIX-Web\"}});}\n",
       "        if (typeof require !== 'undefined') {\n",
       "        require.undef(\"plotly\");\n",
       "        requirejs.config({\n",
       "            paths: {\n",
       "                'plotly': ['https://cdn.plot.ly/plotly-2.6.3.min']\n",
       "            }\n",
       "        });\n",
       "        require(['plotly'], function(Plotly) {\n",
       "            window._Plotly = Plotly;\n",
       "        });\n",
       "        }\n",
       "        </script>\n",
       "        "
      ]
     },
     "metadata": {},
     "output_type": "display_data"
    }
   ],
   "source": [
    "# For offline use\n",
    "cf.go_offline()"
   ]
  },
  {
   "cell_type": "markdown",
   "metadata": {},
   "source": [
    "### Fake Data"
   ]
  },
  {
   "cell_type": "code",
   "execution_count": 12,
   "metadata": {},
   "outputs": [],
   "source": [
    "df = pd.DataFrame(np.random.randn(100,4),columns='A B C D'.split())"
   ]
  },
  {
   "cell_type": "code",
   "execution_count": 13,
   "metadata": {},
   "outputs": [
    {
     "data": {
      "text/html": [
       "<div>\n",
       "<style scoped>\n",
       "    .dataframe tbody tr th:only-of-type {\n",
       "        vertical-align: middle;\n",
       "    }\n",
       "\n",
       "    .dataframe tbody tr th {\n",
       "        vertical-align: top;\n",
       "    }\n",
       "\n",
       "    .dataframe thead th {\n",
       "        text-align: right;\n",
       "    }\n",
       "</style>\n",
       "<table border=\"1\" class=\"dataframe\">\n",
       "  <thead>\n",
       "    <tr style=\"text-align: right;\">\n",
       "      <th></th>\n",
       "      <th>A</th>\n",
       "      <th>B</th>\n",
       "      <th>C</th>\n",
       "      <th>D</th>\n",
       "    </tr>\n",
       "  </thead>\n",
       "  <tbody>\n",
       "    <tr>\n",
       "      <th>0</th>\n",
       "      <td>1.016366</td>\n",
       "      <td>-1.314124</td>\n",
       "      <td>1.177896</td>\n",
       "      <td>-0.649756</td>\n",
       "    </tr>\n",
       "    <tr>\n",
       "      <th>1</th>\n",
       "      <td>0.617315</td>\n",
       "      <td>0.393750</td>\n",
       "      <td>-0.661400</td>\n",
       "      <td>0.569602</td>\n",
       "    </tr>\n",
       "    <tr>\n",
       "      <th>2</th>\n",
       "      <td>-0.677281</td>\n",
       "      <td>-0.333375</td>\n",
       "      <td>1.231337</td>\n",
       "      <td>-0.774255</td>\n",
       "    </tr>\n",
       "    <tr>\n",
       "      <th>3</th>\n",
       "      <td>0.623766</td>\n",
       "      <td>-0.161293</td>\n",
       "      <td>-0.243399</td>\n",
       "      <td>0.014455</td>\n",
       "    </tr>\n",
       "    <tr>\n",
       "      <th>4</th>\n",
       "      <td>-0.372609</td>\n",
       "      <td>0.390892</td>\n",
       "      <td>0.967596</td>\n",
       "      <td>-0.906013</td>\n",
       "    </tr>\n",
       "  </tbody>\n",
       "</table>\n",
       "</div>"
      ],
      "text/plain": [
       "          A         B         C         D\n",
       "0  1.016366 -1.314124  1.177896 -0.649756\n",
       "1  0.617315  0.393750 -0.661400  0.569602\n",
       "2 -0.677281 -0.333375  1.231337 -0.774255\n",
       "3  0.623766 -0.161293 -0.243399  0.014455\n",
       "4 -0.372609  0.390892  0.967596 -0.906013"
      ]
     },
     "execution_count": 13,
     "metadata": {},
     "output_type": "execute_result"
    }
   ],
   "source": [
    "df.head()"
   ]
  },
  {
   "cell_type": "code",
   "execution_count": 14,
   "metadata": {},
   "outputs": [],
   "source": [
    "df2 = pd.DataFrame({'Category':['A','B','C'],'Values':[32,43,50]})"
   ]
  },
  {
   "cell_type": "code",
   "execution_count": 15,
   "metadata": {},
   "outputs": [
    {
     "data": {
      "text/html": [
       "<div>\n",
       "<style scoped>\n",
       "    .dataframe tbody tr th:only-of-type {\n",
       "        vertical-align: middle;\n",
       "    }\n",
       "\n",
       "    .dataframe tbody tr th {\n",
       "        vertical-align: top;\n",
       "    }\n",
       "\n",
       "    .dataframe thead th {\n",
       "        text-align: right;\n",
       "    }\n",
       "</style>\n",
       "<table border=\"1\" class=\"dataframe\">\n",
       "  <thead>\n",
       "    <tr style=\"text-align: right;\">\n",
       "      <th></th>\n",
       "      <th>Category</th>\n",
       "      <th>Values</th>\n",
       "    </tr>\n",
       "  </thead>\n",
       "  <tbody>\n",
       "    <tr>\n",
       "      <th>0</th>\n",
       "      <td>A</td>\n",
       "      <td>32</td>\n",
       "    </tr>\n",
       "    <tr>\n",
       "      <th>1</th>\n",
       "      <td>B</td>\n",
       "      <td>43</td>\n",
       "    </tr>\n",
       "    <tr>\n",
       "      <th>2</th>\n",
       "      <td>C</td>\n",
       "      <td>50</td>\n",
       "    </tr>\n",
       "  </tbody>\n",
       "</table>\n",
       "</div>"
      ],
      "text/plain": [
       "  Category  Values\n",
       "0        A      32\n",
       "1        B      43\n",
       "2        C      50"
      ]
     },
     "execution_count": 15,
     "metadata": {},
     "output_type": "execute_result"
    }
   ],
   "source": [
    "df2.head()"
   ]
  },
  {
   "cell_type": "markdown",
   "metadata": {},
   "source": [
    "## Using Cufflinks and iplot()\n",
    "\n",
    "* scatter\n",
    "* bar\n",
    "* box\n",
    "* spread\n",
    "* ratio\n",
    "* heatmap\n",
    "* surface\n",
    "* histogram\n",
    "* bubble"
   ]
  },
  {
   "cell_type": "markdown",
   "metadata": {},
   "source": [
    "## Scatter"
   ]
  },
  {
   "cell_type": "code",
   "execution_count": 16,
   "metadata": {},
   "outputs": [
    {
     "data": {
      "application/vnd.plotly.v1+json": {
       "config": {
        "linkText": "Export to plot.ly",
        "plotlyServerURL": "https://plot.ly",
        "showLink": true
       },
       "data": [
        {
         "line": {
          "color": "rgba(255, 153, 51, 1.0)",
          "dash": "solid",
          "shape": "linear",
          "width": 1.3
         },
         "marker": {
          "size": 10,
          "symbol": "circle"
         },
         "mode": "markers",
         "name": "B",
         "text": "",
         "type": "scatter",
         "x": [
          1.0163663847315616,
          0.6173154871769431,
          -0.6772810476386104,
          0.6237655411646876,
          -0.37260920798691394,
          0.5268099656427503,
          3.3821009368357,
          1.9577238270097503,
          2.3672034338753085,
          -0.1264357292249816,
          -0.8103067961827602,
          0.626606385498777,
          0.8971248085452803,
          0.9197234355071809,
          -0.08116844691411543,
          -0.23627135619609388,
          0.006315752144729975,
          0.8669884152608879,
          1.3477600604778872,
          0.5955044109947454,
          -2.2568755644129865,
          -0.4068329840129025,
          -1.0539585845464274,
          1.1553831547694944,
          0.8367721877894332,
          0.07562472966509834,
          -0.12160991114433886,
          -1.8708656358350333,
          -2.0980755507321915,
          -0.08333649016138943,
          -0.47654864104757116,
          0.3105903538405738,
          -0.2108414867369569,
          1.2160327251023146,
          0.530254461980228,
          0.8521931743489114,
          1.3174997251183853,
          -0.6329843164077711,
          -0.882042357186549,
          -0.10209874131529179,
          -0.8947340334956717,
          -0.03844201310949979,
          0.7649005814572767,
          -0.5966885081694819,
          0.11506435913682996,
          -0.10048058063216983,
          0.9452885815617678,
          -0.4588861395882851,
          1.2607952095263109,
          0.9909294214610531,
          -1.1887396736772753,
          0.45737437826220323,
          1.218396683884078,
          -0.6001335964116054,
          0.04417622281112498,
          0.004450468534862416,
          1.8313217303103826,
          -0.37055291069047724,
          1.2230284286498043,
          0.9753590408138841,
          -0.9655361156914539,
          -1.2668526033999856,
          1.1422566561817689,
          0.06441963023437752,
          -0.8204500089030339,
          -0.08683699678333419,
          -0.36853538959583965,
          -0.7060872984774748,
          1.2026123368245425,
          -1.3864336167600535,
          0.6529959510516941,
          -0.08084710487352231,
          0.3907698202410437,
          0.8968560566217788,
          -0.6609848902540147,
          1.8688627173419552,
          -0.27731576559523075,
          -1.7189260231242547,
          0.39408077609560643,
          0.6185665794368471,
          0.9780991990845405,
          -0.37004731829361825,
          -0.5377331341474938,
          0.43868366034200346,
          0.5368217774165542,
          1.213954701386464,
          0.5110904541180284,
          -0.4235805169165554,
          -1.0118041589500104,
          1.1431317111969865,
          -1.350938695027268,
          1.0143078055993617,
          -0.7217509864426822,
          0.9030044560127558,
          0.42860812787029134,
          -0.1071231255623638,
          -0.4543792366009019,
          -0.9730770823989808,
          0.1872464176467623,
          1.9436565221058293
         ],
         "y": [
          -1.314123512152019,
          0.39375016329835755,
          -0.3333754421609034,
          -0.16129292315339847,
          0.39089174011821676,
          -0.2415285832239928,
          -0.1330687410391177,
          -2.742176842383155,
          -1.4549249762961163,
          -0.03288164196362554,
          0.7870954339775161,
          -1.5906364831120088,
          -0.24665783984415385,
          -1.2709531905402118,
          1.4177396247528429,
          0.9139339993306476,
          0.14968727936437834,
          -1.4773579780270367,
          1.2836065788783506,
          0.4218429543817784,
          -0.3891327307587016,
          -0.6603022181306161,
          -1.0684908499632273,
          -0.3548553707374886,
          0.899830228716969,
          -0.8941242273946151,
          0.28641016797356983,
          -0.5620191278396524,
          0.5645175911279281,
          -0.687053335069698,
          1.9940782552722824,
          0.41288636989328503,
          -0.0757559224356657,
          -1.228484199092643,
          0.10159891043339675,
          -0.8406593103911069,
          0.626646032389116,
          1.344081195804092,
          -0.2058879538088759,
          -0.24892149899365876,
          1.61428601967461,
          1.054023242279591,
          -1.0494231161382948,
          -0.29037512816229744,
          -0.31845732692891965,
          0.529699171795502,
          -0.8271224841739949,
          0.4273220127629525,
          -0.7435857578963644,
          -0.27184790451055646,
          -1.4840195959301983,
          -0.44688526663229666,
          0.4628829916489609,
          -1.0937281052231775,
          -0.04684302086081167,
          -1.7319842733126842,
          0.8936502873631862,
          -0.8605804212619843,
          -1.491722030552004,
          0.22619482826173615,
          0.12596075803515505,
          0.5939073679012035,
          -2.0319593614147418,
          0.4094611282332534,
          -1.425236969134026,
          0.13011219954716607,
          -0.40809823124548433,
          -0.09813875666548708,
          -0.3443129245978503,
          0.3722128853803303,
          -0.4876598037455311,
          1.0394990700889335,
          -0.8096093205424912,
          1.8638913823070484,
          1.4465628410979272,
          1.5033357505346296,
          -0.1644064395364936,
          0.9572849136768261,
          1.5099517130489664,
          -0.03615537780077251,
          -0.7750468333728179,
          0.6185273461544226,
          0.8477903244792816,
          0.2404673003418146,
          -0.8111967164058738,
          0.538679623313098,
          -0.594248432346121,
          0.971093297394865,
          0.26710198449999917,
          -0.37466122018418707,
          0.35159515438680605,
          -0.36114835700299674,
          -1.2442893555942884,
          -2.2215578576176584,
          1.1728151414090098,
          0.6090886842595982,
          -1.6522977997891652,
          -1.1130954230421588,
          0.42121458153220404,
          -0.8627485862769746
         ]
        }
       ],
       "layout": {
        "legend": {
         "bgcolor": "#F5F6F9",
         "font": {
          "color": "#4D5663"
         }
        },
        "paper_bgcolor": "#F5F6F9",
        "plot_bgcolor": "#F5F6F9",
        "template": {
         "data": {
          "bar": [
           {
            "error_x": {
             "color": "#2a3f5f"
            },
            "error_y": {
             "color": "#2a3f5f"
            },
            "marker": {
             "line": {
              "color": "#E5ECF6",
              "width": 0.5
             },
             "pattern": {
              "fillmode": "overlay",
              "size": 10,
              "solidity": 0.2
             }
            },
            "type": "bar"
           }
          ],
          "barpolar": [
           {
            "marker": {
             "line": {
              "color": "#E5ECF6",
              "width": 0.5
             },
             "pattern": {
              "fillmode": "overlay",
              "size": 10,
              "solidity": 0.2
             }
            },
            "type": "barpolar"
           }
          ],
          "carpet": [
           {
            "aaxis": {
             "endlinecolor": "#2a3f5f",
             "gridcolor": "white",
             "linecolor": "white",
             "minorgridcolor": "white",
             "startlinecolor": "#2a3f5f"
            },
            "baxis": {
             "endlinecolor": "#2a3f5f",
             "gridcolor": "white",
             "linecolor": "white",
             "minorgridcolor": "white",
             "startlinecolor": "#2a3f5f"
            },
            "type": "carpet"
           }
          ],
          "choropleth": [
           {
            "colorbar": {
             "outlinewidth": 0,
             "ticks": ""
            },
            "type": "choropleth"
           }
          ],
          "contour": [
           {
            "colorbar": {
             "outlinewidth": 0,
             "ticks": ""
            },
            "colorscale": [
             [
              0,
              "#0d0887"
             ],
             [
              0.1111111111111111,
              "#46039f"
             ],
             [
              0.2222222222222222,
              "#7201a8"
             ],
             [
              0.3333333333333333,
              "#9c179e"
             ],
             [
              0.4444444444444444,
              "#bd3786"
             ],
             [
              0.5555555555555556,
              "#d8576b"
             ],
             [
              0.6666666666666666,
              "#ed7953"
             ],
             [
              0.7777777777777778,
              "#fb9f3a"
             ],
             [
              0.8888888888888888,
              "#fdca26"
             ],
             [
              1,
              "#f0f921"
             ]
            ],
            "type": "contour"
           }
          ],
          "contourcarpet": [
           {
            "colorbar": {
             "outlinewidth": 0,
             "ticks": ""
            },
            "type": "contourcarpet"
           }
          ],
          "heatmap": [
           {
            "colorbar": {
             "outlinewidth": 0,
             "ticks": ""
            },
            "colorscale": [
             [
              0,
              "#0d0887"
             ],
             [
              0.1111111111111111,
              "#46039f"
             ],
             [
              0.2222222222222222,
              "#7201a8"
             ],
             [
              0.3333333333333333,
              "#9c179e"
             ],
             [
              0.4444444444444444,
              "#bd3786"
             ],
             [
              0.5555555555555556,
              "#d8576b"
             ],
             [
              0.6666666666666666,
              "#ed7953"
             ],
             [
              0.7777777777777778,
              "#fb9f3a"
             ],
             [
              0.8888888888888888,
              "#fdca26"
             ],
             [
              1,
              "#f0f921"
             ]
            ],
            "type": "heatmap"
           }
          ],
          "heatmapgl": [
           {
            "colorbar": {
             "outlinewidth": 0,
             "ticks": ""
            },
            "colorscale": [
             [
              0,
              "#0d0887"
             ],
             [
              0.1111111111111111,
              "#46039f"
             ],
             [
              0.2222222222222222,
              "#7201a8"
             ],
             [
              0.3333333333333333,
              "#9c179e"
             ],
             [
              0.4444444444444444,
              "#bd3786"
             ],
             [
              0.5555555555555556,
              "#d8576b"
             ],
             [
              0.6666666666666666,
              "#ed7953"
             ],
             [
              0.7777777777777778,
              "#fb9f3a"
             ],
             [
              0.8888888888888888,
              "#fdca26"
             ],
             [
              1,
              "#f0f921"
             ]
            ],
            "type": "heatmapgl"
           }
          ],
          "histogram": [
           {
            "marker": {
             "pattern": {
              "fillmode": "overlay",
              "size": 10,
              "solidity": 0.2
             }
            },
            "type": "histogram"
           }
          ],
          "histogram2d": [
           {
            "colorbar": {
             "outlinewidth": 0,
             "ticks": ""
            },
            "colorscale": [
             [
              0,
              "#0d0887"
             ],
             [
              0.1111111111111111,
              "#46039f"
             ],
             [
              0.2222222222222222,
              "#7201a8"
             ],
             [
              0.3333333333333333,
              "#9c179e"
             ],
             [
              0.4444444444444444,
              "#bd3786"
             ],
             [
              0.5555555555555556,
              "#d8576b"
             ],
             [
              0.6666666666666666,
              "#ed7953"
             ],
             [
              0.7777777777777778,
              "#fb9f3a"
             ],
             [
              0.8888888888888888,
              "#fdca26"
             ],
             [
              1,
              "#f0f921"
             ]
            ],
            "type": "histogram2d"
           }
          ],
          "histogram2dcontour": [
           {
            "colorbar": {
             "outlinewidth": 0,
             "ticks": ""
            },
            "colorscale": [
             [
              0,
              "#0d0887"
             ],
             [
              0.1111111111111111,
              "#46039f"
             ],
             [
              0.2222222222222222,
              "#7201a8"
             ],
             [
              0.3333333333333333,
              "#9c179e"
             ],
             [
              0.4444444444444444,
              "#bd3786"
             ],
             [
              0.5555555555555556,
              "#d8576b"
             ],
             [
              0.6666666666666666,
              "#ed7953"
             ],
             [
              0.7777777777777778,
              "#fb9f3a"
             ],
             [
              0.8888888888888888,
              "#fdca26"
             ],
             [
              1,
              "#f0f921"
             ]
            ],
            "type": "histogram2dcontour"
           }
          ],
          "mesh3d": [
           {
            "colorbar": {
             "outlinewidth": 0,
             "ticks": ""
            },
            "type": "mesh3d"
           }
          ],
          "parcoords": [
           {
            "line": {
             "colorbar": {
              "outlinewidth": 0,
              "ticks": ""
             }
            },
            "type": "parcoords"
           }
          ],
          "pie": [
           {
            "automargin": true,
            "type": "pie"
           }
          ],
          "scatter": [
           {
            "marker": {
             "colorbar": {
              "outlinewidth": 0,
              "ticks": ""
             }
            },
            "type": "scatter"
           }
          ],
          "scatter3d": [
           {
            "line": {
             "colorbar": {
              "outlinewidth": 0,
              "ticks": ""
             }
            },
            "marker": {
             "colorbar": {
              "outlinewidth": 0,
              "ticks": ""
             }
            },
            "type": "scatter3d"
           }
          ],
          "scattercarpet": [
           {
            "marker": {
             "colorbar": {
              "outlinewidth": 0,
              "ticks": ""
             }
            },
            "type": "scattercarpet"
           }
          ],
          "scattergeo": [
           {
            "marker": {
             "colorbar": {
              "outlinewidth": 0,
              "ticks": ""
             }
            },
            "type": "scattergeo"
           }
          ],
          "scattergl": [
           {
            "marker": {
             "colorbar": {
              "outlinewidth": 0,
              "ticks": ""
             }
            },
            "type": "scattergl"
           }
          ],
          "scattermapbox": [
           {
            "marker": {
             "colorbar": {
              "outlinewidth": 0,
              "ticks": ""
             }
            },
            "type": "scattermapbox"
           }
          ],
          "scatterpolar": [
           {
            "marker": {
             "colorbar": {
              "outlinewidth": 0,
              "ticks": ""
             }
            },
            "type": "scatterpolar"
           }
          ],
          "scatterpolargl": [
           {
            "marker": {
             "colorbar": {
              "outlinewidth": 0,
              "ticks": ""
             }
            },
            "type": "scatterpolargl"
           }
          ],
          "scatterternary": [
           {
            "marker": {
             "colorbar": {
              "outlinewidth": 0,
              "ticks": ""
             }
            },
            "type": "scatterternary"
           }
          ],
          "surface": [
           {
            "colorbar": {
             "outlinewidth": 0,
             "ticks": ""
            },
            "colorscale": [
             [
              0,
              "#0d0887"
             ],
             [
              0.1111111111111111,
              "#46039f"
             ],
             [
              0.2222222222222222,
              "#7201a8"
             ],
             [
              0.3333333333333333,
              "#9c179e"
             ],
             [
              0.4444444444444444,
              "#bd3786"
             ],
             [
              0.5555555555555556,
              "#d8576b"
             ],
             [
              0.6666666666666666,
              "#ed7953"
             ],
             [
              0.7777777777777778,
              "#fb9f3a"
             ],
             [
              0.8888888888888888,
              "#fdca26"
             ],
             [
              1,
              "#f0f921"
             ]
            ],
            "type": "surface"
           }
          ],
          "table": [
           {
            "cells": {
             "fill": {
              "color": "#EBF0F8"
             },
             "line": {
              "color": "white"
             }
            },
            "header": {
             "fill": {
              "color": "#C8D4E3"
             },
             "line": {
              "color": "white"
             }
            },
            "type": "table"
           }
          ]
         },
         "layout": {
          "annotationdefaults": {
           "arrowcolor": "#2a3f5f",
           "arrowhead": 0,
           "arrowwidth": 1
          },
          "autotypenumbers": "strict",
          "coloraxis": {
           "colorbar": {
            "outlinewidth": 0,
            "ticks": ""
           }
          },
          "colorscale": {
           "diverging": [
            [
             0,
             "#8e0152"
            ],
            [
             0.1,
             "#c51b7d"
            ],
            [
             0.2,
             "#de77ae"
            ],
            [
             0.3,
             "#f1b6da"
            ],
            [
             0.4,
             "#fde0ef"
            ],
            [
             0.5,
             "#f7f7f7"
            ],
            [
             0.6,
             "#e6f5d0"
            ],
            [
             0.7,
             "#b8e186"
            ],
            [
             0.8,
             "#7fbc41"
            ],
            [
             0.9,
             "#4d9221"
            ],
            [
             1,
             "#276419"
            ]
           ],
           "sequential": [
            [
             0,
             "#0d0887"
            ],
            [
             0.1111111111111111,
             "#46039f"
            ],
            [
             0.2222222222222222,
             "#7201a8"
            ],
            [
             0.3333333333333333,
             "#9c179e"
            ],
            [
             0.4444444444444444,
             "#bd3786"
            ],
            [
             0.5555555555555556,
             "#d8576b"
            ],
            [
             0.6666666666666666,
             "#ed7953"
            ],
            [
             0.7777777777777778,
             "#fb9f3a"
            ],
            [
             0.8888888888888888,
             "#fdca26"
            ],
            [
             1,
             "#f0f921"
            ]
           ],
           "sequentialminus": [
            [
             0,
             "#0d0887"
            ],
            [
             0.1111111111111111,
             "#46039f"
            ],
            [
             0.2222222222222222,
             "#7201a8"
            ],
            [
             0.3333333333333333,
             "#9c179e"
            ],
            [
             0.4444444444444444,
             "#bd3786"
            ],
            [
             0.5555555555555556,
             "#d8576b"
            ],
            [
             0.6666666666666666,
             "#ed7953"
            ],
            [
             0.7777777777777778,
             "#fb9f3a"
            ],
            [
             0.8888888888888888,
             "#fdca26"
            ],
            [
             1,
             "#f0f921"
            ]
           ]
          },
          "colorway": [
           "#636efa",
           "#EF553B",
           "#00cc96",
           "#ab63fa",
           "#FFA15A",
           "#19d3f3",
           "#FF6692",
           "#B6E880",
           "#FF97FF",
           "#FECB52"
          ],
          "font": {
           "color": "#2a3f5f"
          },
          "geo": {
           "bgcolor": "white",
           "lakecolor": "white",
           "landcolor": "#E5ECF6",
           "showlakes": true,
           "showland": true,
           "subunitcolor": "white"
          },
          "hoverlabel": {
           "align": "left"
          },
          "hovermode": "closest",
          "mapbox": {
           "style": "light"
          },
          "paper_bgcolor": "white",
          "plot_bgcolor": "#E5ECF6",
          "polar": {
           "angularaxis": {
            "gridcolor": "white",
            "linecolor": "white",
            "ticks": ""
           },
           "bgcolor": "#E5ECF6",
           "radialaxis": {
            "gridcolor": "white",
            "linecolor": "white",
            "ticks": ""
           }
          },
          "scene": {
           "xaxis": {
            "backgroundcolor": "#E5ECF6",
            "gridcolor": "white",
            "gridwidth": 2,
            "linecolor": "white",
            "showbackground": true,
            "ticks": "",
            "zerolinecolor": "white"
           },
           "yaxis": {
            "backgroundcolor": "#E5ECF6",
            "gridcolor": "white",
            "gridwidth": 2,
            "linecolor": "white",
            "showbackground": true,
            "ticks": "",
            "zerolinecolor": "white"
           },
           "zaxis": {
            "backgroundcolor": "#E5ECF6",
            "gridcolor": "white",
            "gridwidth": 2,
            "linecolor": "white",
            "showbackground": true,
            "ticks": "",
            "zerolinecolor": "white"
           }
          },
          "shapedefaults": {
           "line": {
            "color": "#2a3f5f"
           }
          },
          "ternary": {
           "aaxis": {
            "gridcolor": "white",
            "linecolor": "white",
            "ticks": ""
           },
           "baxis": {
            "gridcolor": "white",
            "linecolor": "white",
            "ticks": ""
           },
           "bgcolor": "#E5ECF6",
           "caxis": {
            "gridcolor": "white",
            "linecolor": "white",
            "ticks": ""
           }
          },
          "title": {
           "x": 0.05
          },
          "xaxis": {
           "automargin": true,
           "gridcolor": "white",
           "linecolor": "white",
           "ticks": "",
           "title": {
            "standoff": 15
           },
           "zerolinecolor": "white",
           "zerolinewidth": 2
          },
          "yaxis": {
           "automargin": true,
           "gridcolor": "white",
           "linecolor": "white",
           "ticks": "",
           "title": {
            "standoff": 15
           },
           "zerolinecolor": "white",
           "zerolinewidth": 2
          }
         }
        },
        "title": {
         "font": {
          "color": "#4D5663"
         }
        },
        "xaxis": {
         "gridcolor": "#E1E5ED",
         "showgrid": true,
         "tickfont": {
          "color": "#4D5663"
         },
         "title": {
          "font": {
           "color": "#4D5663"
          },
          "text": ""
         },
         "zerolinecolor": "#E1E5ED"
        },
        "yaxis": {
         "gridcolor": "#E1E5ED",
         "showgrid": true,
         "tickfont": {
          "color": "#4D5663"
         },
         "title": {
          "font": {
           "color": "#4D5663"
          },
          "text": ""
         },
         "zerolinecolor": "#E1E5ED"
        }
       }
      },
      "text/html": [
       "<div>                            <div id=\"7a42f089-f8c8-4d63-b21b-4a7da61e7fa2\" class=\"plotly-graph-div\" style=\"height:525px; width:100%;\"></div>            <script type=\"text/javascript\">                require([\"plotly\"], function(Plotly) {                    window.PLOTLYENV=window.PLOTLYENV || {};\n",
       "                    window.PLOTLYENV.BASE_URL='https://plot.ly';                                    if (document.getElementById(\"7a42f089-f8c8-4d63-b21b-4a7da61e7fa2\")) {                    Plotly.newPlot(                        \"7a42f089-f8c8-4d63-b21b-4a7da61e7fa2\",                        [{\"line\":{\"color\":\"rgba(255, 153, 51, 1.0)\",\"dash\":\"solid\",\"shape\":\"linear\",\"width\":1.3},\"marker\":{\"size\":10,\"symbol\":\"circle\"},\"mode\":\"markers\",\"name\":\"B\",\"text\":\"\",\"x\":[1.0163663847315616,0.6173154871769431,-0.6772810476386104,0.6237655411646876,-0.37260920798691394,0.5268099656427503,3.3821009368357,1.9577238270097503,2.3672034338753085,-0.1264357292249816,-0.8103067961827602,0.626606385498777,0.8971248085452803,0.9197234355071809,-0.08116844691411543,-0.23627135619609388,0.006315752144729975,0.8669884152608879,1.3477600604778872,0.5955044109947454,-2.2568755644129865,-0.4068329840129025,-1.0539585845464274,1.1553831547694944,0.8367721877894332,0.07562472966509834,-0.12160991114433886,-1.8708656358350333,-2.0980755507321915,-0.08333649016138943,-0.47654864104757116,0.3105903538405738,-0.2108414867369569,1.2160327251023146,0.530254461980228,0.8521931743489114,1.3174997251183853,-0.6329843164077711,-0.882042357186549,-0.10209874131529179,-0.8947340334956717,-0.03844201310949979,0.7649005814572767,-0.5966885081694819,0.11506435913682996,-0.10048058063216983,0.9452885815617678,-0.4588861395882851,1.2607952095263109,0.9909294214610531,-1.1887396736772753,0.45737437826220323,1.218396683884078,-0.6001335964116054,0.04417622281112498,0.004450468534862416,1.8313217303103826,-0.37055291069047724,1.2230284286498043,0.9753590408138841,-0.9655361156914539,-1.2668526033999856,1.1422566561817689,0.06441963023437752,-0.8204500089030339,-0.08683699678333419,-0.36853538959583965,-0.7060872984774748,1.2026123368245425,-1.3864336167600535,0.6529959510516941,-0.08084710487352231,0.3907698202410437,0.8968560566217788,-0.6609848902540147,1.8688627173419552,-0.27731576559523075,-1.7189260231242547,0.39408077609560643,0.6185665794368471,0.9780991990845405,-0.37004731829361825,-0.5377331341474938,0.43868366034200346,0.5368217774165542,1.213954701386464,0.5110904541180284,-0.4235805169165554,-1.0118041589500104,1.1431317111969865,-1.350938695027268,1.0143078055993617,-0.7217509864426822,0.9030044560127558,0.42860812787029134,-0.1071231255623638,-0.4543792366009019,-0.9730770823989808,0.1872464176467623,1.9436565221058293],\"y\":[-1.314123512152019,0.39375016329835755,-0.3333754421609034,-0.16129292315339847,0.39089174011821676,-0.2415285832239928,-0.1330687410391177,-2.742176842383155,-1.4549249762961163,-0.03288164196362554,0.7870954339775161,-1.5906364831120088,-0.24665783984415385,-1.2709531905402118,1.4177396247528429,0.9139339993306476,0.14968727936437834,-1.4773579780270367,1.2836065788783506,0.4218429543817784,-0.3891327307587016,-0.6603022181306161,-1.0684908499632273,-0.3548553707374886,0.899830228716969,-0.8941242273946151,0.28641016797356983,-0.5620191278396524,0.5645175911279281,-0.687053335069698,1.9940782552722824,0.41288636989328503,-0.0757559224356657,-1.228484199092643,0.10159891043339675,-0.8406593103911069,0.626646032389116,1.344081195804092,-0.2058879538088759,-0.24892149899365876,1.61428601967461,1.054023242279591,-1.0494231161382948,-0.29037512816229744,-0.31845732692891965,0.529699171795502,-0.8271224841739949,0.4273220127629525,-0.7435857578963644,-0.27184790451055646,-1.4840195959301983,-0.44688526663229666,0.4628829916489609,-1.0937281052231775,-0.04684302086081167,-1.7319842733126842,0.8936502873631862,-0.8605804212619843,-1.491722030552004,0.22619482826173615,0.12596075803515505,0.5939073679012035,-2.0319593614147418,0.4094611282332534,-1.425236969134026,0.13011219954716607,-0.40809823124548433,-0.09813875666548708,-0.3443129245978503,0.3722128853803303,-0.4876598037455311,1.0394990700889335,-0.8096093205424912,1.8638913823070484,1.4465628410979272,1.5033357505346296,-0.1644064395364936,0.9572849136768261,1.5099517130489664,-0.03615537780077251,-0.7750468333728179,0.6185273461544226,0.8477903244792816,0.2404673003418146,-0.8111967164058738,0.538679623313098,-0.594248432346121,0.971093297394865,0.26710198449999917,-0.37466122018418707,0.35159515438680605,-0.36114835700299674,-1.2442893555942884,-2.2215578576176584,1.1728151414090098,0.6090886842595982,-1.6522977997891652,-1.1130954230421588,0.42121458153220404,-0.8627485862769746],\"type\":\"scatter\"}],                        {\"legend\":{\"bgcolor\":\"#F5F6F9\",\"font\":{\"color\":\"#4D5663\"}},\"paper_bgcolor\":\"#F5F6F9\",\"plot_bgcolor\":\"#F5F6F9\",\"template\":{\"data\":{\"barpolar\":[{\"marker\":{\"line\":{\"color\":\"#E5ECF6\",\"width\":0.5},\"pattern\":{\"fillmode\":\"overlay\",\"size\":10,\"solidity\":0.2}},\"type\":\"barpolar\"}],\"bar\":[{\"error_x\":{\"color\":\"#2a3f5f\"},\"error_y\":{\"color\":\"#2a3f5f\"},\"marker\":{\"line\":{\"color\":\"#E5ECF6\",\"width\":0.5},\"pattern\":{\"fillmode\":\"overlay\",\"size\":10,\"solidity\":0.2}},\"type\":\"bar\"}],\"carpet\":[{\"aaxis\":{\"endlinecolor\":\"#2a3f5f\",\"gridcolor\":\"white\",\"linecolor\":\"white\",\"minorgridcolor\":\"white\",\"startlinecolor\":\"#2a3f5f\"},\"baxis\":{\"endlinecolor\":\"#2a3f5f\",\"gridcolor\":\"white\",\"linecolor\":\"white\",\"minorgridcolor\":\"white\",\"startlinecolor\":\"#2a3f5f\"},\"type\":\"carpet\"}],\"choropleth\":[{\"colorbar\":{\"outlinewidth\":0,\"ticks\":\"\"},\"type\":\"choropleth\"}],\"contourcarpet\":[{\"colorbar\":{\"outlinewidth\":0,\"ticks\":\"\"},\"type\":\"contourcarpet\"}],\"contour\":[{\"colorbar\":{\"outlinewidth\":0,\"ticks\":\"\"},\"colorscale\":[[0.0,\"#0d0887\"],[0.1111111111111111,\"#46039f\"],[0.2222222222222222,\"#7201a8\"],[0.3333333333333333,\"#9c179e\"],[0.4444444444444444,\"#bd3786\"],[0.5555555555555556,\"#d8576b\"],[0.6666666666666666,\"#ed7953\"],[0.7777777777777778,\"#fb9f3a\"],[0.8888888888888888,\"#fdca26\"],[1.0,\"#f0f921\"]],\"type\":\"contour\"}],\"heatmapgl\":[{\"colorbar\":{\"outlinewidth\":0,\"ticks\":\"\"},\"colorscale\":[[0.0,\"#0d0887\"],[0.1111111111111111,\"#46039f\"],[0.2222222222222222,\"#7201a8\"],[0.3333333333333333,\"#9c179e\"],[0.4444444444444444,\"#bd3786\"],[0.5555555555555556,\"#d8576b\"],[0.6666666666666666,\"#ed7953\"],[0.7777777777777778,\"#fb9f3a\"],[0.8888888888888888,\"#fdca26\"],[1.0,\"#f0f921\"]],\"type\":\"heatmapgl\"}],\"heatmap\":[{\"colorbar\":{\"outlinewidth\":0,\"ticks\":\"\"},\"colorscale\":[[0.0,\"#0d0887\"],[0.1111111111111111,\"#46039f\"],[0.2222222222222222,\"#7201a8\"],[0.3333333333333333,\"#9c179e\"],[0.4444444444444444,\"#bd3786\"],[0.5555555555555556,\"#d8576b\"],[0.6666666666666666,\"#ed7953\"],[0.7777777777777778,\"#fb9f3a\"],[0.8888888888888888,\"#fdca26\"],[1.0,\"#f0f921\"]],\"type\":\"heatmap\"}],\"histogram2dcontour\":[{\"colorbar\":{\"outlinewidth\":0,\"ticks\":\"\"},\"colorscale\":[[0.0,\"#0d0887\"],[0.1111111111111111,\"#46039f\"],[0.2222222222222222,\"#7201a8\"],[0.3333333333333333,\"#9c179e\"],[0.4444444444444444,\"#bd3786\"],[0.5555555555555556,\"#d8576b\"],[0.6666666666666666,\"#ed7953\"],[0.7777777777777778,\"#fb9f3a\"],[0.8888888888888888,\"#fdca26\"],[1.0,\"#f0f921\"]],\"type\":\"histogram2dcontour\"}],\"histogram2d\":[{\"colorbar\":{\"outlinewidth\":0,\"ticks\":\"\"},\"colorscale\":[[0.0,\"#0d0887\"],[0.1111111111111111,\"#46039f\"],[0.2222222222222222,\"#7201a8\"],[0.3333333333333333,\"#9c179e\"],[0.4444444444444444,\"#bd3786\"],[0.5555555555555556,\"#d8576b\"],[0.6666666666666666,\"#ed7953\"],[0.7777777777777778,\"#fb9f3a\"],[0.8888888888888888,\"#fdca26\"],[1.0,\"#f0f921\"]],\"type\":\"histogram2d\"}],\"histogram\":[{\"marker\":{\"pattern\":{\"fillmode\":\"overlay\",\"size\":10,\"solidity\":0.2}},\"type\":\"histogram\"}],\"mesh3d\":[{\"colorbar\":{\"outlinewidth\":0,\"ticks\":\"\"},\"type\":\"mesh3d\"}],\"parcoords\":[{\"line\":{\"colorbar\":{\"outlinewidth\":0,\"ticks\":\"\"}},\"type\":\"parcoords\"}],\"pie\":[{\"automargin\":true,\"type\":\"pie\"}],\"scatter3d\":[{\"line\":{\"colorbar\":{\"outlinewidth\":0,\"ticks\":\"\"}},\"marker\":{\"colorbar\":{\"outlinewidth\":0,\"ticks\":\"\"}},\"type\":\"scatter3d\"}],\"scattercarpet\":[{\"marker\":{\"colorbar\":{\"outlinewidth\":0,\"ticks\":\"\"}},\"type\":\"scattercarpet\"}],\"scattergeo\":[{\"marker\":{\"colorbar\":{\"outlinewidth\":0,\"ticks\":\"\"}},\"type\":\"scattergeo\"}],\"scattergl\":[{\"marker\":{\"colorbar\":{\"outlinewidth\":0,\"ticks\":\"\"}},\"type\":\"scattergl\"}],\"scattermapbox\":[{\"marker\":{\"colorbar\":{\"outlinewidth\":0,\"ticks\":\"\"}},\"type\":\"scattermapbox\"}],\"scatterpolargl\":[{\"marker\":{\"colorbar\":{\"outlinewidth\":0,\"ticks\":\"\"}},\"type\":\"scatterpolargl\"}],\"scatterpolar\":[{\"marker\":{\"colorbar\":{\"outlinewidth\":0,\"ticks\":\"\"}},\"type\":\"scatterpolar\"}],\"scatter\":[{\"marker\":{\"colorbar\":{\"outlinewidth\":0,\"ticks\":\"\"}},\"type\":\"scatter\"}],\"scatterternary\":[{\"marker\":{\"colorbar\":{\"outlinewidth\":0,\"ticks\":\"\"}},\"type\":\"scatterternary\"}],\"surface\":[{\"colorbar\":{\"outlinewidth\":0,\"ticks\":\"\"},\"colorscale\":[[0.0,\"#0d0887\"],[0.1111111111111111,\"#46039f\"],[0.2222222222222222,\"#7201a8\"],[0.3333333333333333,\"#9c179e\"],[0.4444444444444444,\"#bd3786\"],[0.5555555555555556,\"#d8576b\"],[0.6666666666666666,\"#ed7953\"],[0.7777777777777778,\"#fb9f3a\"],[0.8888888888888888,\"#fdca26\"],[1.0,\"#f0f921\"]],\"type\":\"surface\"}],\"table\":[{\"cells\":{\"fill\":{\"color\":\"#EBF0F8\"},\"line\":{\"color\":\"white\"}},\"header\":{\"fill\":{\"color\":\"#C8D4E3\"},\"line\":{\"color\":\"white\"}},\"type\":\"table\"}]},\"layout\":{\"annotationdefaults\":{\"arrowcolor\":\"#2a3f5f\",\"arrowhead\":0,\"arrowwidth\":1},\"autotypenumbers\":\"strict\",\"coloraxis\":{\"colorbar\":{\"outlinewidth\":0,\"ticks\":\"\"}},\"colorscale\":{\"diverging\":[[0,\"#8e0152\"],[0.1,\"#c51b7d\"],[0.2,\"#de77ae\"],[0.3,\"#f1b6da\"],[0.4,\"#fde0ef\"],[0.5,\"#f7f7f7\"],[0.6,\"#e6f5d0\"],[0.7,\"#b8e186\"],[0.8,\"#7fbc41\"],[0.9,\"#4d9221\"],[1,\"#276419\"]],\"sequential\":[[0.0,\"#0d0887\"],[0.1111111111111111,\"#46039f\"],[0.2222222222222222,\"#7201a8\"],[0.3333333333333333,\"#9c179e\"],[0.4444444444444444,\"#bd3786\"],[0.5555555555555556,\"#d8576b\"],[0.6666666666666666,\"#ed7953\"],[0.7777777777777778,\"#fb9f3a\"],[0.8888888888888888,\"#fdca26\"],[1.0,\"#f0f921\"]],\"sequentialminus\":[[0.0,\"#0d0887\"],[0.1111111111111111,\"#46039f\"],[0.2222222222222222,\"#7201a8\"],[0.3333333333333333,\"#9c179e\"],[0.4444444444444444,\"#bd3786\"],[0.5555555555555556,\"#d8576b\"],[0.6666666666666666,\"#ed7953\"],[0.7777777777777778,\"#fb9f3a\"],[0.8888888888888888,\"#fdca26\"],[1.0,\"#f0f921\"]]},\"colorway\":[\"#636efa\",\"#EF553B\",\"#00cc96\",\"#ab63fa\",\"#FFA15A\",\"#19d3f3\",\"#FF6692\",\"#B6E880\",\"#FF97FF\",\"#FECB52\"],\"font\":{\"color\":\"#2a3f5f\"},\"geo\":{\"bgcolor\":\"white\",\"lakecolor\":\"white\",\"landcolor\":\"#E5ECF6\",\"showlakes\":true,\"showland\":true,\"subunitcolor\":\"white\"},\"hoverlabel\":{\"align\":\"left\"},\"hovermode\":\"closest\",\"mapbox\":{\"style\":\"light\"},\"paper_bgcolor\":\"white\",\"plot_bgcolor\":\"#E5ECF6\",\"polar\":{\"angularaxis\":{\"gridcolor\":\"white\",\"linecolor\":\"white\",\"ticks\":\"\"},\"bgcolor\":\"#E5ECF6\",\"radialaxis\":{\"gridcolor\":\"white\",\"linecolor\":\"white\",\"ticks\":\"\"}},\"scene\":{\"xaxis\":{\"backgroundcolor\":\"#E5ECF6\",\"gridcolor\":\"white\",\"gridwidth\":2,\"linecolor\":\"white\",\"showbackground\":true,\"ticks\":\"\",\"zerolinecolor\":\"white\"},\"yaxis\":{\"backgroundcolor\":\"#E5ECF6\",\"gridcolor\":\"white\",\"gridwidth\":2,\"linecolor\":\"white\",\"showbackground\":true,\"ticks\":\"\",\"zerolinecolor\":\"white\"},\"zaxis\":{\"backgroundcolor\":\"#E5ECF6\",\"gridcolor\":\"white\",\"gridwidth\":2,\"linecolor\":\"white\",\"showbackground\":true,\"ticks\":\"\",\"zerolinecolor\":\"white\"}},\"shapedefaults\":{\"line\":{\"color\":\"#2a3f5f\"}},\"ternary\":{\"aaxis\":{\"gridcolor\":\"white\",\"linecolor\":\"white\",\"ticks\":\"\"},\"baxis\":{\"gridcolor\":\"white\",\"linecolor\":\"white\",\"ticks\":\"\"},\"bgcolor\":\"#E5ECF6\",\"caxis\":{\"gridcolor\":\"white\",\"linecolor\":\"white\",\"ticks\":\"\"}},\"title\":{\"x\":0.05},\"xaxis\":{\"automargin\":true,\"gridcolor\":\"white\",\"linecolor\":\"white\",\"ticks\":\"\",\"title\":{\"standoff\":15},\"zerolinecolor\":\"white\",\"zerolinewidth\":2},\"yaxis\":{\"automargin\":true,\"gridcolor\":\"white\",\"linecolor\":\"white\",\"ticks\":\"\",\"title\":{\"standoff\":15},\"zerolinecolor\":\"white\",\"zerolinewidth\":2}}},\"title\":{\"font\":{\"color\":\"#4D5663\"}},\"xaxis\":{\"gridcolor\":\"#E1E5ED\",\"showgrid\":true,\"tickfont\":{\"color\":\"#4D5663\"},\"title\":{\"font\":{\"color\":\"#4D5663\"},\"text\":\"\"},\"zerolinecolor\":\"#E1E5ED\"},\"yaxis\":{\"gridcolor\":\"#E1E5ED\",\"showgrid\":true,\"tickfont\":{\"color\":\"#4D5663\"},\"title\":{\"font\":{\"color\":\"#4D5663\"},\"text\":\"\"},\"zerolinecolor\":\"#E1E5ED\"}},                        {\"showLink\": true, \"linkText\": \"Export to plot.ly\", \"plotlyServerURL\": \"https://plot.ly\", \"responsive\": true}                    ).then(function(){\n",
       "                            \n",
       "var gd = document.getElementById('7a42f089-f8c8-4d63-b21b-4a7da61e7fa2');\n",
       "var x = new MutationObserver(function (mutations, observer) {{\n",
       "        var display = window.getComputedStyle(gd).display;\n",
       "        if (!display || display === 'none') {{\n",
       "            console.log([gd, 'removed!']);\n",
       "            Plotly.purge(gd);\n",
       "            observer.disconnect();\n",
       "        }}\n",
       "}});\n",
       "\n",
       "// Listen for the removal of the full notebook cells\n",
       "var notebookContainer = gd.closest('#notebook-container');\n",
       "if (notebookContainer) {{\n",
       "    x.observe(notebookContainer, {childList: true});\n",
       "}}\n",
       "\n",
       "// Listen for the clearing of the current output cell\n",
       "var outputEl = gd.closest('.output');\n",
       "if (outputEl) {{\n",
       "    x.observe(outputEl, {childList: true});\n",
       "}}\n",
       "\n",
       "                        })                };                });            </script>        </div>"
      ]
     },
     "metadata": {},
     "output_type": "display_data"
    }
   ],
   "source": [
    "df.iplot(kind='scatter',x='A',y='B',mode='markers',size=10)"
   ]
  },
  {
   "cell_type": "markdown",
   "metadata": {},
   "source": [
    "## Bar Plots"
   ]
  },
  {
   "cell_type": "code",
   "execution_count": 17,
   "metadata": {},
   "outputs": [
    {
     "data": {
      "application/vnd.plotly.v1+json": {
       "config": {
        "linkText": "Export to plot.ly",
        "plotlyServerURL": "https://plot.ly",
        "showLink": true
       },
       "data": [
        {
         "marker": {
          "color": "rgba(255, 153, 51, 0.6)",
          "line": {
           "color": "rgba(255, 153, 51, 1.0)",
           "width": 1
          }
         },
         "name": "Values",
         "orientation": "v",
         "text": "",
         "type": "bar",
         "x": [
          "A",
          "B",
          "C"
         ],
         "y": [
          32,
          43,
          50
         ]
        }
       ],
       "layout": {
        "legend": {
         "bgcolor": "#F5F6F9",
         "font": {
          "color": "#4D5663"
         }
        },
        "paper_bgcolor": "#F5F6F9",
        "plot_bgcolor": "#F5F6F9",
        "template": {
         "data": {
          "bar": [
           {
            "error_x": {
             "color": "#2a3f5f"
            },
            "error_y": {
             "color": "#2a3f5f"
            },
            "marker": {
             "line": {
              "color": "#E5ECF6",
              "width": 0.5
             },
             "pattern": {
              "fillmode": "overlay",
              "size": 10,
              "solidity": 0.2
             }
            },
            "type": "bar"
           }
          ],
          "barpolar": [
           {
            "marker": {
             "line": {
              "color": "#E5ECF6",
              "width": 0.5
             },
             "pattern": {
              "fillmode": "overlay",
              "size": 10,
              "solidity": 0.2
             }
            },
            "type": "barpolar"
           }
          ],
          "carpet": [
           {
            "aaxis": {
             "endlinecolor": "#2a3f5f",
             "gridcolor": "white",
             "linecolor": "white",
             "minorgridcolor": "white",
             "startlinecolor": "#2a3f5f"
            },
            "baxis": {
             "endlinecolor": "#2a3f5f",
             "gridcolor": "white",
             "linecolor": "white",
             "minorgridcolor": "white",
             "startlinecolor": "#2a3f5f"
            },
            "type": "carpet"
           }
          ],
          "choropleth": [
           {
            "colorbar": {
             "outlinewidth": 0,
             "ticks": ""
            },
            "type": "choropleth"
           }
          ],
          "contour": [
           {
            "colorbar": {
             "outlinewidth": 0,
             "ticks": ""
            },
            "colorscale": [
             [
              0,
              "#0d0887"
             ],
             [
              0.1111111111111111,
              "#46039f"
             ],
             [
              0.2222222222222222,
              "#7201a8"
             ],
             [
              0.3333333333333333,
              "#9c179e"
             ],
             [
              0.4444444444444444,
              "#bd3786"
             ],
             [
              0.5555555555555556,
              "#d8576b"
             ],
             [
              0.6666666666666666,
              "#ed7953"
             ],
             [
              0.7777777777777778,
              "#fb9f3a"
             ],
             [
              0.8888888888888888,
              "#fdca26"
             ],
             [
              1,
              "#f0f921"
             ]
            ],
            "type": "contour"
           }
          ],
          "contourcarpet": [
           {
            "colorbar": {
             "outlinewidth": 0,
             "ticks": ""
            },
            "type": "contourcarpet"
           }
          ],
          "heatmap": [
           {
            "colorbar": {
             "outlinewidth": 0,
             "ticks": ""
            },
            "colorscale": [
             [
              0,
              "#0d0887"
             ],
             [
              0.1111111111111111,
              "#46039f"
             ],
             [
              0.2222222222222222,
              "#7201a8"
             ],
             [
              0.3333333333333333,
              "#9c179e"
             ],
             [
              0.4444444444444444,
              "#bd3786"
             ],
             [
              0.5555555555555556,
              "#d8576b"
             ],
             [
              0.6666666666666666,
              "#ed7953"
             ],
             [
              0.7777777777777778,
              "#fb9f3a"
             ],
             [
              0.8888888888888888,
              "#fdca26"
             ],
             [
              1,
              "#f0f921"
             ]
            ],
            "type": "heatmap"
           }
          ],
          "heatmapgl": [
           {
            "colorbar": {
             "outlinewidth": 0,
             "ticks": ""
            },
            "colorscale": [
             [
              0,
              "#0d0887"
             ],
             [
              0.1111111111111111,
              "#46039f"
             ],
             [
              0.2222222222222222,
              "#7201a8"
             ],
             [
              0.3333333333333333,
              "#9c179e"
             ],
             [
              0.4444444444444444,
              "#bd3786"
             ],
             [
              0.5555555555555556,
              "#d8576b"
             ],
             [
              0.6666666666666666,
              "#ed7953"
             ],
             [
              0.7777777777777778,
              "#fb9f3a"
             ],
             [
              0.8888888888888888,
              "#fdca26"
             ],
             [
              1,
              "#f0f921"
             ]
            ],
            "type": "heatmapgl"
           }
          ],
          "histogram": [
           {
            "marker": {
             "pattern": {
              "fillmode": "overlay",
              "size": 10,
              "solidity": 0.2
             }
            },
            "type": "histogram"
           }
          ],
          "histogram2d": [
           {
            "colorbar": {
             "outlinewidth": 0,
             "ticks": ""
            },
            "colorscale": [
             [
              0,
              "#0d0887"
             ],
             [
              0.1111111111111111,
              "#46039f"
             ],
             [
              0.2222222222222222,
              "#7201a8"
             ],
             [
              0.3333333333333333,
              "#9c179e"
             ],
             [
              0.4444444444444444,
              "#bd3786"
             ],
             [
              0.5555555555555556,
              "#d8576b"
             ],
             [
              0.6666666666666666,
              "#ed7953"
             ],
             [
              0.7777777777777778,
              "#fb9f3a"
             ],
             [
              0.8888888888888888,
              "#fdca26"
             ],
             [
              1,
              "#f0f921"
             ]
            ],
            "type": "histogram2d"
           }
          ],
          "histogram2dcontour": [
           {
            "colorbar": {
             "outlinewidth": 0,
             "ticks": ""
            },
            "colorscale": [
             [
              0,
              "#0d0887"
             ],
             [
              0.1111111111111111,
              "#46039f"
             ],
             [
              0.2222222222222222,
              "#7201a8"
             ],
             [
              0.3333333333333333,
              "#9c179e"
             ],
             [
              0.4444444444444444,
              "#bd3786"
             ],
             [
              0.5555555555555556,
              "#d8576b"
             ],
             [
              0.6666666666666666,
              "#ed7953"
             ],
             [
              0.7777777777777778,
              "#fb9f3a"
             ],
             [
              0.8888888888888888,
              "#fdca26"
             ],
             [
              1,
              "#f0f921"
             ]
            ],
            "type": "histogram2dcontour"
           }
          ],
          "mesh3d": [
           {
            "colorbar": {
             "outlinewidth": 0,
             "ticks": ""
            },
            "type": "mesh3d"
           }
          ],
          "parcoords": [
           {
            "line": {
             "colorbar": {
              "outlinewidth": 0,
              "ticks": ""
             }
            },
            "type": "parcoords"
           }
          ],
          "pie": [
           {
            "automargin": true,
            "type": "pie"
           }
          ],
          "scatter": [
           {
            "marker": {
             "colorbar": {
              "outlinewidth": 0,
              "ticks": ""
             }
            },
            "type": "scatter"
           }
          ],
          "scatter3d": [
           {
            "line": {
             "colorbar": {
              "outlinewidth": 0,
              "ticks": ""
             }
            },
            "marker": {
             "colorbar": {
              "outlinewidth": 0,
              "ticks": ""
             }
            },
            "type": "scatter3d"
           }
          ],
          "scattercarpet": [
           {
            "marker": {
             "colorbar": {
              "outlinewidth": 0,
              "ticks": ""
             }
            },
            "type": "scattercarpet"
           }
          ],
          "scattergeo": [
           {
            "marker": {
             "colorbar": {
              "outlinewidth": 0,
              "ticks": ""
             }
            },
            "type": "scattergeo"
           }
          ],
          "scattergl": [
           {
            "marker": {
             "colorbar": {
              "outlinewidth": 0,
              "ticks": ""
             }
            },
            "type": "scattergl"
           }
          ],
          "scattermapbox": [
           {
            "marker": {
             "colorbar": {
              "outlinewidth": 0,
              "ticks": ""
             }
            },
            "type": "scattermapbox"
           }
          ],
          "scatterpolar": [
           {
            "marker": {
             "colorbar": {
              "outlinewidth": 0,
              "ticks": ""
             }
            },
            "type": "scatterpolar"
           }
          ],
          "scatterpolargl": [
           {
            "marker": {
             "colorbar": {
              "outlinewidth": 0,
              "ticks": ""
             }
            },
            "type": "scatterpolargl"
           }
          ],
          "scatterternary": [
           {
            "marker": {
             "colorbar": {
              "outlinewidth": 0,
              "ticks": ""
             }
            },
            "type": "scatterternary"
           }
          ],
          "surface": [
           {
            "colorbar": {
             "outlinewidth": 0,
             "ticks": ""
            },
            "colorscale": [
             [
              0,
              "#0d0887"
             ],
             [
              0.1111111111111111,
              "#46039f"
             ],
             [
              0.2222222222222222,
              "#7201a8"
             ],
             [
              0.3333333333333333,
              "#9c179e"
             ],
             [
              0.4444444444444444,
              "#bd3786"
             ],
             [
              0.5555555555555556,
              "#d8576b"
             ],
             [
              0.6666666666666666,
              "#ed7953"
             ],
             [
              0.7777777777777778,
              "#fb9f3a"
             ],
             [
              0.8888888888888888,
              "#fdca26"
             ],
             [
              1,
              "#f0f921"
             ]
            ],
            "type": "surface"
           }
          ],
          "table": [
           {
            "cells": {
             "fill": {
              "color": "#EBF0F8"
             },
             "line": {
              "color": "white"
             }
            },
            "header": {
             "fill": {
              "color": "#C8D4E3"
             },
             "line": {
              "color": "white"
             }
            },
            "type": "table"
           }
          ]
         },
         "layout": {
          "annotationdefaults": {
           "arrowcolor": "#2a3f5f",
           "arrowhead": 0,
           "arrowwidth": 1
          },
          "autotypenumbers": "strict",
          "coloraxis": {
           "colorbar": {
            "outlinewidth": 0,
            "ticks": ""
           }
          },
          "colorscale": {
           "diverging": [
            [
             0,
             "#8e0152"
            ],
            [
             0.1,
             "#c51b7d"
            ],
            [
             0.2,
             "#de77ae"
            ],
            [
             0.3,
             "#f1b6da"
            ],
            [
             0.4,
             "#fde0ef"
            ],
            [
             0.5,
             "#f7f7f7"
            ],
            [
             0.6,
             "#e6f5d0"
            ],
            [
             0.7,
             "#b8e186"
            ],
            [
             0.8,
             "#7fbc41"
            ],
            [
             0.9,
             "#4d9221"
            ],
            [
             1,
             "#276419"
            ]
           ],
           "sequential": [
            [
             0,
             "#0d0887"
            ],
            [
             0.1111111111111111,
             "#46039f"
            ],
            [
             0.2222222222222222,
             "#7201a8"
            ],
            [
             0.3333333333333333,
             "#9c179e"
            ],
            [
             0.4444444444444444,
             "#bd3786"
            ],
            [
             0.5555555555555556,
             "#d8576b"
            ],
            [
             0.6666666666666666,
             "#ed7953"
            ],
            [
             0.7777777777777778,
             "#fb9f3a"
            ],
            [
             0.8888888888888888,
             "#fdca26"
            ],
            [
             1,
             "#f0f921"
            ]
           ],
           "sequentialminus": [
            [
             0,
             "#0d0887"
            ],
            [
             0.1111111111111111,
             "#46039f"
            ],
            [
             0.2222222222222222,
             "#7201a8"
            ],
            [
             0.3333333333333333,
             "#9c179e"
            ],
            [
             0.4444444444444444,
             "#bd3786"
            ],
            [
             0.5555555555555556,
             "#d8576b"
            ],
            [
             0.6666666666666666,
             "#ed7953"
            ],
            [
             0.7777777777777778,
             "#fb9f3a"
            ],
            [
             0.8888888888888888,
             "#fdca26"
            ],
            [
             1,
             "#f0f921"
            ]
           ]
          },
          "colorway": [
           "#636efa",
           "#EF553B",
           "#00cc96",
           "#ab63fa",
           "#FFA15A",
           "#19d3f3",
           "#FF6692",
           "#B6E880",
           "#FF97FF",
           "#FECB52"
          ],
          "font": {
           "color": "#2a3f5f"
          },
          "geo": {
           "bgcolor": "white",
           "lakecolor": "white",
           "landcolor": "#E5ECF6",
           "showlakes": true,
           "showland": true,
           "subunitcolor": "white"
          },
          "hoverlabel": {
           "align": "left"
          },
          "hovermode": "closest",
          "mapbox": {
           "style": "light"
          },
          "paper_bgcolor": "white",
          "plot_bgcolor": "#E5ECF6",
          "polar": {
           "angularaxis": {
            "gridcolor": "white",
            "linecolor": "white",
            "ticks": ""
           },
           "bgcolor": "#E5ECF6",
           "radialaxis": {
            "gridcolor": "white",
            "linecolor": "white",
            "ticks": ""
           }
          },
          "scene": {
           "xaxis": {
            "backgroundcolor": "#E5ECF6",
            "gridcolor": "white",
            "gridwidth": 2,
            "linecolor": "white",
            "showbackground": true,
            "ticks": "",
            "zerolinecolor": "white"
           },
           "yaxis": {
            "backgroundcolor": "#E5ECF6",
            "gridcolor": "white",
            "gridwidth": 2,
            "linecolor": "white",
            "showbackground": true,
            "ticks": "",
            "zerolinecolor": "white"
           },
           "zaxis": {
            "backgroundcolor": "#E5ECF6",
            "gridcolor": "white",
            "gridwidth": 2,
            "linecolor": "white",
            "showbackground": true,
            "ticks": "",
            "zerolinecolor": "white"
           }
          },
          "shapedefaults": {
           "line": {
            "color": "#2a3f5f"
           }
          },
          "ternary": {
           "aaxis": {
            "gridcolor": "white",
            "linecolor": "white",
            "ticks": ""
           },
           "baxis": {
            "gridcolor": "white",
            "linecolor": "white",
            "ticks": ""
           },
           "bgcolor": "#E5ECF6",
           "caxis": {
            "gridcolor": "white",
            "linecolor": "white",
            "ticks": ""
           }
          },
          "title": {
           "x": 0.05
          },
          "xaxis": {
           "automargin": true,
           "gridcolor": "white",
           "linecolor": "white",
           "ticks": "",
           "title": {
            "standoff": 15
           },
           "zerolinecolor": "white",
           "zerolinewidth": 2
          },
          "yaxis": {
           "automargin": true,
           "gridcolor": "white",
           "linecolor": "white",
           "ticks": "",
           "title": {
            "standoff": 15
           },
           "zerolinecolor": "white",
           "zerolinewidth": 2
          }
         }
        },
        "title": {
         "font": {
          "color": "#4D5663"
         }
        },
        "xaxis": {
         "gridcolor": "#E1E5ED",
         "showgrid": true,
         "tickfont": {
          "color": "#4D5663"
         },
         "title": {
          "font": {
           "color": "#4D5663"
          },
          "text": ""
         },
         "zerolinecolor": "#E1E5ED"
        },
        "yaxis": {
         "gridcolor": "#E1E5ED",
         "showgrid": true,
         "tickfont": {
          "color": "#4D5663"
         },
         "title": {
          "font": {
           "color": "#4D5663"
          },
          "text": ""
         },
         "zerolinecolor": "#E1E5ED"
        }
       }
      },
      "text/html": [
       "<div>                            <div id=\"a00d3b66-22ad-4fb9-8eeb-9e9e783f2f77\" class=\"plotly-graph-div\" style=\"height:525px; width:100%;\"></div>            <script type=\"text/javascript\">                require([\"plotly\"], function(Plotly) {                    window.PLOTLYENV=window.PLOTLYENV || {};\n",
       "                    window.PLOTLYENV.BASE_URL='https://plot.ly';                                    if (document.getElementById(\"a00d3b66-22ad-4fb9-8eeb-9e9e783f2f77\")) {                    Plotly.newPlot(                        \"a00d3b66-22ad-4fb9-8eeb-9e9e783f2f77\",                        [{\"marker\":{\"color\":\"rgba(255, 153, 51, 0.6)\",\"line\":{\"color\":\"rgba(255, 153, 51, 1.0)\",\"width\":1}},\"name\":\"Values\",\"orientation\":\"v\",\"text\":\"\",\"x\":[\"A\",\"B\",\"C\"],\"y\":[32,43,50],\"type\":\"bar\"}],                        {\"legend\":{\"bgcolor\":\"#F5F6F9\",\"font\":{\"color\":\"#4D5663\"}},\"paper_bgcolor\":\"#F5F6F9\",\"plot_bgcolor\":\"#F5F6F9\",\"template\":{\"data\":{\"barpolar\":[{\"marker\":{\"line\":{\"color\":\"#E5ECF6\",\"width\":0.5},\"pattern\":{\"fillmode\":\"overlay\",\"size\":10,\"solidity\":0.2}},\"type\":\"barpolar\"}],\"bar\":[{\"error_x\":{\"color\":\"#2a3f5f\"},\"error_y\":{\"color\":\"#2a3f5f\"},\"marker\":{\"line\":{\"color\":\"#E5ECF6\",\"width\":0.5},\"pattern\":{\"fillmode\":\"overlay\",\"size\":10,\"solidity\":0.2}},\"type\":\"bar\"}],\"carpet\":[{\"aaxis\":{\"endlinecolor\":\"#2a3f5f\",\"gridcolor\":\"white\",\"linecolor\":\"white\",\"minorgridcolor\":\"white\",\"startlinecolor\":\"#2a3f5f\"},\"baxis\":{\"endlinecolor\":\"#2a3f5f\",\"gridcolor\":\"white\",\"linecolor\":\"white\",\"minorgridcolor\":\"white\",\"startlinecolor\":\"#2a3f5f\"},\"type\":\"carpet\"}],\"choropleth\":[{\"colorbar\":{\"outlinewidth\":0,\"ticks\":\"\"},\"type\":\"choropleth\"}],\"contourcarpet\":[{\"colorbar\":{\"outlinewidth\":0,\"ticks\":\"\"},\"type\":\"contourcarpet\"}],\"contour\":[{\"colorbar\":{\"outlinewidth\":0,\"ticks\":\"\"},\"colorscale\":[[0.0,\"#0d0887\"],[0.1111111111111111,\"#46039f\"],[0.2222222222222222,\"#7201a8\"],[0.3333333333333333,\"#9c179e\"],[0.4444444444444444,\"#bd3786\"],[0.5555555555555556,\"#d8576b\"],[0.6666666666666666,\"#ed7953\"],[0.7777777777777778,\"#fb9f3a\"],[0.8888888888888888,\"#fdca26\"],[1.0,\"#f0f921\"]],\"type\":\"contour\"}],\"heatmapgl\":[{\"colorbar\":{\"outlinewidth\":0,\"ticks\":\"\"},\"colorscale\":[[0.0,\"#0d0887\"],[0.1111111111111111,\"#46039f\"],[0.2222222222222222,\"#7201a8\"],[0.3333333333333333,\"#9c179e\"],[0.4444444444444444,\"#bd3786\"],[0.5555555555555556,\"#d8576b\"],[0.6666666666666666,\"#ed7953\"],[0.7777777777777778,\"#fb9f3a\"],[0.8888888888888888,\"#fdca26\"],[1.0,\"#f0f921\"]],\"type\":\"heatmapgl\"}],\"heatmap\":[{\"colorbar\":{\"outlinewidth\":0,\"ticks\":\"\"},\"colorscale\":[[0.0,\"#0d0887\"],[0.1111111111111111,\"#46039f\"],[0.2222222222222222,\"#7201a8\"],[0.3333333333333333,\"#9c179e\"],[0.4444444444444444,\"#bd3786\"],[0.5555555555555556,\"#d8576b\"],[0.6666666666666666,\"#ed7953\"],[0.7777777777777778,\"#fb9f3a\"],[0.8888888888888888,\"#fdca26\"],[1.0,\"#f0f921\"]],\"type\":\"heatmap\"}],\"histogram2dcontour\":[{\"colorbar\":{\"outlinewidth\":0,\"ticks\":\"\"},\"colorscale\":[[0.0,\"#0d0887\"],[0.1111111111111111,\"#46039f\"],[0.2222222222222222,\"#7201a8\"],[0.3333333333333333,\"#9c179e\"],[0.4444444444444444,\"#bd3786\"],[0.5555555555555556,\"#d8576b\"],[0.6666666666666666,\"#ed7953\"],[0.7777777777777778,\"#fb9f3a\"],[0.8888888888888888,\"#fdca26\"],[1.0,\"#f0f921\"]],\"type\":\"histogram2dcontour\"}],\"histogram2d\":[{\"colorbar\":{\"outlinewidth\":0,\"ticks\":\"\"},\"colorscale\":[[0.0,\"#0d0887\"],[0.1111111111111111,\"#46039f\"],[0.2222222222222222,\"#7201a8\"],[0.3333333333333333,\"#9c179e\"],[0.4444444444444444,\"#bd3786\"],[0.5555555555555556,\"#d8576b\"],[0.6666666666666666,\"#ed7953\"],[0.7777777777777778,\"#fb9f3a\"],[0.8888888888888888,\"#fdca26\"],[1.0,\"#f0f921\"]],\"type\":\"histogram2d\"}],\"histogram\":[{\"marker\":{\"pattern\":{\"fillmode\":\"overlay\",\"size\":10,\"solidity\":0.2}},\"type\":\"histogram\"}],\"mesh3d\":[{\"colorbar\":{\"outlinewidth\":0,\"ticks\":\"\"},\"type\":\"mesh3d\"}],\"parcoords\":[{\"line\":{\"colorbar\":{\"outlinewidth\":0,\"ticks\":\"\"}},\"type\":\"parcoords\"}],\"pie\":[{\"automargin\":true,\"type\":\"pie\"}],\"scatter3d\":[{\"line\":{\"colorbar\":{\"outlinewidth\":0,\"ticks\":\"\"}},\"marker\":{\"colorbar\":{\"outlinewidth\":0,\"ticks\":\"\"}},\"type\":\"scatter3d\"}],\"scattercarpet\":[{\"marker\":{\"colorbar\":{\"outlinewidth\":0,\"ticks\":\"\"}},\"type\":\"scattercarpet\"}],\"scattergeo\":[{\"marker\":{\"colorbar\":{\"outlinewidth\":0,\"ticks\":\"\"}},\"type\":\"scattergeo\"}],\"scattergl\":[{\"marker\":{\"colorbar\":{\"outlinewidth\":0,\"ticks\":\"\"}},\"type\":\"scattergl\"}],\"scattermapbox\":[{\"marker\":{\"colorbar\":{\"outlinewidth\":0,\"ticks\":\"\"}},\"type\":\"scattermapbox\"}],\"scatterpolargl\":[{\"marker\":{\"colorbar\":{\"outlinewidth\":0,\"ticks\":\"\"}},\"type\":\"scatterpolargl\"}],\"scatterpolar\":[{\"marker\":{\"colorbar\":{\"outlinewidth\":0,\"ticks\":\"\"}},\"type\":\"scatterpolar\"}],\"scatter\":[{\"marker\":{\"colorbar\":{\"outlinewidth\":0,\"ticks\":\"\"}},\"type\":\"scatter\"}],\"scatterternary\":[{\"marker\":{\"colorbar\":{\"outlinewidth\":0,\"ticks\":\"\"}},\"type\":\"scatterternary\"}],\"surface\":[{\"colorbar\":{\"outlinewidth\":0,\"ticks\":\"\"},\"colorscale\":[[0.0,\"#0d0887\"],[0.1111111111111111,\"#46039f\"],[0.2222222222222222,\"#7201a8\"],[0.3333333333333333,\"#9c179e\"],[0.4444444444444444,\"#bd3786\"],[0.5555555555555556,\"#d8576b\"],[0.6666666666666666,\"#ed7953\"],[0.7777777777777778,\"#fb9f3a\"],[0.8888888888888888,\"#fdca26\"],[1.0,\"#f0f921\"]],\"type\":\"surface\"}],\"table\":[{\"cells\":{\"fill\":{\"color\":\"#EBF0F8\"},\"line\":{\"color\":\"white\"}},\"header\":{\"fill\":{\"color\":\"#C8D4E3\"},\"line\":{\"color\":\"white\"}},\"type\":\"table\"}]},\"layout\":{\"annotationdefaults\":{\"arrowcolor\":\"#2a3f5f\",\"arrowhead\":0,\"arrowwidth\":1},\"autotypenumbers\":\"strict\",\"coloraxis\":{\"colorbar\":{\"outlinewidth\":0,\"ticks\":\"\"}},\"colorscale\":{\"diverging\":[[0,\"#8e0152\"],[0.1,\"#c51b7d\"],[0.2,\"#de77ae\"],[0.3,\"#f1b6da\"],[0.4,\"#fde0ef\"],[0.5,\"#f7f7f7\"],[0.6,\"#e6f5d0\"],[0.7,\"#b8e186\"],[0.8,\"#7fbc41\"],[0.9,\"#4d9221\"],[1,\"#276419\"]],\"sequential\":[[0.0,\"#0d0887\"],[0.1111111111111111,\"#46039f\"],[0.2222222222222222,\"#7201a8\"],[0.3333333333333333,\"#9c179e\"],[0.4444444444444444,\"#bd3786\"],[0.5555555555555556,\"#d8576b\"],[0.6666666666666666,\"#ed7953\"],[0.7777777777777778,\"#fb9f3a\"],[0.8888888888888888,\"#fdca26\"],[1.0,\"#f0f921\"]],\"sequentialminus\":[[0.0,\"#0d0887\"],[0.1111111111111111,\"#46039f\"],[0.2222222222222222,\"#7201a8\"],[0.3333333333333333,\"#9c179e\"],[0.4444444444444444,\"#bd3786\"],[0.5555555555555556,\"#d8576b\"],[0.6666666666666666,\"#ed7953\"],[0.7777777777777778,\"#fb9f3a\"],[0.8888888888888888,\"#fdca26\"],[1.0,\"#f0f921\"]]},\"colorway\":[\"#636efa\",\"#EF553B\",\"#00cc96\",\"#ab63fa\",\"#FFA15A\",\"#19d3f3\",\"#FF6692\",\"#B6E880\",\"#FF97FF\",\"#FECB52\"],\"font\":{\"color\":\"#2a3f5f\"},\"geo\":{\"bgcolor\":\"white\",\"lakecolor\":\"white\",\"landcolor\":\"#E5ECF6\",\"showlakes\":true,\"showland\":true,\"subunitcolor\":\"white\"},\"hoverlabel\":{\"align\":\"left\"},\"hovermode\":\"closest\",\"mapbox\":{\"style\":\"light\"},\"paper_bgcolor\":\"white\",\"plot_bgcolor\":\"#E5ECF6\",\"polar\":{\"angularaxis\":{\"gridcolor\":\"white\",\"linecolor\":\"white\",\"ticks\":\"\"},\"bgcolor\":\"#E5ECF6\",\"radialaxis\":{\"gridcolor\":\"white\",\"linecolor\":\"white\",\"ticks\":\"\"}},\"scene\":{\"xaxis\":{\"backgroundcolor\":\"#E5ECF6\",\"gridcolor\":\"white\",\"gridwidth\":2,\"linecolor\":\"white\",\"showbackground\":true,\"ticks\":\"\",\"zerolinecolor\":\"white\"},\"yaxis\":{\"backgroundcolor\":\"#E5ECF6\",\"gridcolor\":\"white\",\"gridwidth\":2,\"linecolor\":\"white\",\"showbackground\":true,\"ticks\":\"\",\"zerolinecolor\":\"white\"},\"zaxis\":{\"backgroundcolor\":\"#E5ECF6\",\"gridcolor\":\"white\",\"gridwidth\":2,\"linecolor\":\"white\",\"showbackground\":true,\"ticks\":\"\",\"zerolinecolor\":\"white\"}},\"shapedefaults\":{\"line\":{\"color\":\"#2a3f5f\"}},\"ternary\":{\"aaxis\":{\"gridcolor\":\"white\",\"linecolor\":\"white\",\"ticks\":\"\"},\"baxis\":{\"gridcolor\":\"white\",\"linecolor\":\"white\",\"ticks\":\"\"},\"bgcolor\":\"#E5ECF6\",\"caxis\":{\"gridcolor\":\"white\",\"linecolor\":\"white\",\"ticks\":\"\"}},\"title\":{\"x\":0.05},\"xaxis\":{\"automargin\":true,\"gridcolor\":\"white\",\"linecolor\":\"white\",\"ticks\":\"\",\"title\":{\"standoff\":15},\"zerolinecolor\":\"white\",\"zerolinewidth\":2},\"yaxis\":{\"automargin\":true,\"gridcolor\":\"white\",\"linecolor\":\"white\",\"ticks\":\"\",\"title\":{\"standoff\":15},\"zerolinecolor\":\"white\",\"zerolinewidth\":2}}},\"title\":{\"font\":{\"color\":\"#4D5663\"}},\"xaxis\":{\"gridcolor\":\"#E1E5ED\",\"showgrid\":true,\"tickfont\":{\"color\":\"#4D5663\"},\"title\":{\"font\":{\"color\":\"#4D5663\"},\"text\":\"\"},\"zerolinecolor\":\"#E1E5ED\"},\"yaxis\":{\"gridcolor\":\"#E1E5ED\",\"showgrid\":true,\"tickfont\":{\"color\":\"#4D5663\"},\"title\":{\"font\":{\"color\":\"#4D5663\"},\"text\":\"\"},\"zerolinecolor\":\"#E1E5ED\"}},                        {\"showLink\": true, \"linkText\": \"Export to plot.ly\", \"plotlyServerURL\": \"https://plot.ly\", \"responsive\": true}                    ).then(function(){\n",
       "                            \n",
       "var gd = document.getElementById('a00d3b66-22ad-4fb9-8eeb-9e9e783f2f77');\n",
       "var x = new MutationObserver(function (mutations, observer) {{\n",
       "        var display = window.getComputedStyle(gd).display;\n",
       "        if (!display || display === 'none') {{\n",
       "            console.log([gd, 'removed!']);\n",
       "            Plotly.purge(gd);\n",
       "            observer.disconnect();\n",
       "        }}\n",
       "}});\n",
       "\n",
       "// Listen for the removal of the full notebook cells\n",
       "var notebookContainer = gd.closest('#notebook-container');\n",
       "if (notebookContainer) {{\n",
       "    x.observe(notebookContainer, {childList: true});\n",
       "}}\n",
       "\n",
       "// Listen for the clearing of the current output cell\n",
       "var outputEl = gd.closest('.output');\n",
       "if (outputEl) {{\n",
       "    x.observe(outputEl, {childList: true});\n",
       "}}\n",
       "\n",
       "                        })                };                });            </script>        </div>"
      ]
     },
     "metadata": {},
     "output_type": "display_data"
    }
   ],
   "source": [
    "df2.iplot(kind='bar',x='Category',y='Values')"
   ]
  },
  {
   "cell_type": "code",
   "execution_count": 18,
   "metadata": {},
   "outputs": [
    {
     "data": {
      "application/vnd.plotly.v1+json": {
       "config": {
        "linkText": "Export to plot.ly",
        "plotlyServerURL": "https://plot.ly",
        "showLink": true
       },
       "data": [
        {
         "marker": {
          "color": "rgba(255, 153, 51, 0.6)",
          "line": {
           "color": "rgba(255, 153, 51, 1.0)",
           "width": 1
          }
         },
         "name": "None",
         "orientation": "v",
         "text": "",
         "type": "bar",
         "x": [
          "A",
          "B",
          "C",
          "D"
         ],
         "y": [
          100,
          100,
          100,
          100
         ]
        }
       ],
       "layout": {
        "legend": {
         "bgcolor": "#F5F6F9",
         "font": {
          "color": "#4D5663"
         }
        },
        "paper_bgcolor": "#F5F6F9",
        "plot_bgcolor": "#F5F6F9",
        "template": {
         "data": {
          "bar": [
           {
            "error_x": {
             "color": "#2a3f5f"
            },
            "error_y": {
             "color": "#2a3f5f"
            },
            "marker": {
             "line": {
              "color": "#E5ECF6",
              "width": 0.5
             },
             "pattern": {
              "fillmode": "overlay",
              "size": 10,
              "solidity": 0.2
             }
            },
            "type": "bar"
           }
          ],
          "barpolar": [
           {
            "marker": {
             "line": {
              "color": "#E5ECF6",
              "width": 0.5
             },
             "pattern": {
              "fillmode": "overlay",
              "size": 10,
              "solidity": 0.2
             }
            },
            "type": "barpolar"
           }
          ],
          "carpet": [
           {
            "aaxis": {
             "endlinecolor": "#2a3f5f",
             "gridcolor": "white",
             "linecolor": "white",
             "minorgridcolor": "white",
             "startlinecolor": "#2a3f5f"
            },
            "baxis": {
             "endlinecolor": "#2a3f5f",
             "gridcolor": "white",
             "linecolor": "white",
             "minorgridcolor": "white",
             "startlinecolor": "#2a3f5f"
            },
            "type": "carpet"
           }
          ],
          "choropleth": [
           {
            "colorbar": {
             "outlinewidth": 0,
             "ticks": ""
            },
            "type": "choropleth"
           }
          ],
          "contour": [
           {
            "colorbar": {
             "outlinewidth": 0,
             "ticks": ""
            },
            "colorscale": [
             [
              0,
              "#0d0887"
             ],
             [
              0.1111111111111111,
              "#46039f"
             ],
             [
              0.2222222222222222,
              "#7201a8"
             ],
             [
              0.3333333333333333,
              "#9c179e"
             ],
             [
              0.4444444444444444,
              "#bd3786"
             ],
             [
              0.5555555555555556,
              "#d8576b"
             ],
             [
              0.6666666666666666,
              "#ed7953"
             ],
             [
              0.7777777777777778,
              "#fb9f3a"
             ],
             [
              0.8888888888888888,
              "#fdca26"
             ],
             [
              1,
              "#f0f921"
             ]
            ],
            "type": "contour"
           }
          ],
          "contourcarpet": [
           {
            "colorbar": {
             "outlinewidth": 0,
             "ticks": ""
            },
            "type": "contourcarpet"
           }
          ],
          "heatmap": [
           {
            "colorbar": {
             "outlinewidth": 0,
             "ticks": ""
            },
            "colorscale": [
             [
              0,
              "#0d0887"
             ],
             [
              0.1111111111111111,
              "#46039f"
             ],
             [
              0.2222222222222222,
              "#7201a8"
             ],
             [
              0.3333333333333333,
              "#9c179e"
             ],
             [
              0.4444444444444444,
              "#bd3786"
             ],
             [
              0.5555555555555556,
              "#d8576b"
             ],
             [
              0.6666666666666666,
              "#ed7953"
             ],
             [
              0.7777777777777778,
              "#fb9f3a"
             ],
             [
              0.8888888888888888,
              "#fdca26"
             ],
             [
              1,
              "#f0f921"
             ]
            ],
            "type": "heatmap"
           }
          ],
          "heatmapgl": [
           {
            "colorbar": {
             "outlinewidth": 0,
             "ticks": ""
            },
            "colorscale": [
             [
              0,
              "#0d0887"
             ],
             [
              0.1111111111111111,
              "#46039f"
             ],
             [
              0.2222222222222222,
              "#7201a8"
             ],
             [
              0.3333333333333333,
              "#9c179e"
             ],
             [
              0.4444444444444444,
              "#bd3786"
             ],
             [
              0.5555555555555556,
              "#d8576b"
             ],
             [
              0.6666666666666666,
              "#ed7953"
             ],
             [
              0.7777777777777778,
              "#fb9f3a"
             ],
             [
              0.8888888888888888,
              "#fdca26"
             ],
             [
              1,
              "#f0f921"
             ]
            ],
            "type": "heatmapgl"
           }
          ],
          "histogram": [
           {
            "marker": {
             "pattern": {
              "fillmode": "overlay",
              "size": 10,
              "solidity": 0.2
             }
            },
            "type": "histogram"
           }
          ],
          "histogram2d": [
           {
            "colorbar": {
             "outlinewidth": 0,
             "ticks": ""
            },
            "colorscale": [
             [
              0,
              "#0d0887"
             ],
             [
              0.1111111111111111,
              "#46039f"
             ],
             [
              0.2222222222222222,
              "#7201a8"
             ],
             [
              0.3333333333333333,
              "#9c179e"
             ],
             [
              0.4444444444444444,
              "#bd3786"
             ],
             [
              0.5555555555555556,
              "#d8576b"
             ],
             [
              0.6666666666666666,
              "#ed7953"
             ],
             [
              0.7777777777777778,
              "#fb9f3a"
             ],
             [
              0.8888888888888888,
              "#fdca26"
             ],
             [
              1,
              "#f0f921"
             ]
            ],
            "type": "histogram2d"
           }
          ],
          "histogram2dcontour": [
           {
            "colorbar": {
             "outlinewidth": 0,
             "ticks": ""
            },
            "colorscale": [
             [
              0,
              "#0d0887"
             ],
             [
              0.1111111111111111,
              "#46039f"
             ],
             [
              0.2222222222222222,
              "#7201a8"
             ],
             [
              0.3333333333333333,
              "#9c179e"
             ],
             [
              0.4444444444444444,
              "#bd3786"
             ],
             [
              0.5555555555555556,
              "#d8576b"
             ],
             [
              0.6666666666666666,
              "#ed7953"
             ],
             [
              0.7777777777777778,
              "#fb9f3a"
             ],
             [
              0.8888888888888888,
              "#fdca26"
             ],
             [
              1,
              "#f0f921"
             ]
            ],
            "type": "histogram2dcontour"
           }
          ],
          "mesh3d": [
           {
            "colorbar": {
             "outlinewidth": 0,
             "ticks": ""
            },
            "type": "mesh3d"
           }
          ],
          "parcoords": [
           {
            "line": {
             "colorbar": {
              "outlinewidth": 0,
              "ticks": ""
             }
            },
            "type": "parcoords"
           }
          ],
          "pie": [
           {
            "automargin": true,
            "type": "pie"
           }
          ],
          "scatter": [
           {
            "marker": {
             "colorbar": {
              "outlinewidth": 0,
              "ticks": ""
             }
            },
            "type": "scatter"
           }
          ],
          "scatter3d": [
           {
            "line": {
             "colorbar": {
              "outlinewidth": 0,
              "ticks": ""
             }
            },
            "marker": {
             "colorbar": {
              "outlinewidth": 0,
              "ticks": ""
             }
            },
            "type": "scatter3d"
           }
          ],
          "scattercarpet": [
           {
            "marker": {
             "colorbar": {
              "outlinewidth": 0,
              "ticks": ""
             }
            },
            "type": "scattercarpet"
           }
          ],
          "scattergeo": [
           {
            "marker": {
             "colorbar": {
              "outlinewidth": 0,
              "ticks": ""
             }
            },
            "type": "scattergeo"
           }
          ],
          "scattergl": [
           {
            "marker": {
             "colorbar": {
              "outlinewidth": 0,
              "ticks": ""
             }
            },
            "type": "scattergl"
           }
          ],
          "scattermapbox": [
           {
            "marker": {
             "colorbar": {
              "outlinewidth": 0,
              "ticks": ""
             }
            },
            "type": "scattermapbox"
           }
          ],
          "scatterpolar": [
           {
            "marker": {
             "colorbar": {
              "outlinewidth": 0,
              "ticks": ""
             }
            },
            "type": "scatterpolar"
           }
          ],
          "scatterpolargl": [
           {
            "marker": {
             "colorbar": {
              "outlinewidth": 0,
              "ticks": ""
             }
            },
            "type": "scatterpolargl"
           }
          ],
          "scatterternary": [
           {
            "marker": {
             "colorbar": {
              "outlinewidth": 0,
              "ticks": ""
             }
            },
            "type": "scatterternary"
           }
          ],
          "surface": [
           {
            "colorbar": {
             "outlinewidth": 0,
             "ticks": ""
            },
            "colorscale": [
             [
              0,
              "#0d0887"
             ],
             [
              0.1111111111111111,
              "#46039f"
             ],
             [
              0.2222222222222222,
              "#7201a8"
             ],
             [
              0.3333333333333333,
              "#9c179e"
             ],
             [
              0.4444444444444444,
              "#bd3786"
             ],
             [
              0.5555555555555556,
              "#d8576b"
             ],
             [
              0.6666666666666666,
              "#ed7953"
             ],
             [
              0.7777777777777778,
              "#fb9f3a"
             ],
             [
              0.8888888888888888,
              "#fdca26"
             ],
             [
              1,
              "#f0f921"
             ]
            ],
            "type": "surface"
           }
          ],
          "table": [
           {
            "cells": {
             "fill": {
              "color": "#EBF0F8"
             },
             "line": {
              "color": "white"
             }
            },
            "header": {
             "fill": {
              "color": "#C8D4E3"
             },
             "line": {
              "color": "white"
             }
            },
            "type": "table"
           }
          ]
         },
         "layout": {
          "annotationdefaults": {
           "arrowcolor": "#2a3f5f",
           "arrowhead": 0,
           "arrowwidth": 1
          },
          "autotypenumbers": "strict",
          "coloraxis": {
           "colorbar": {
            "outlinewidth": 0,
            "ticks": ""
           }
          },
          "colorscale": {
           "diverging": [
            [
             0,
             "#8e0152"
            ],
            [
             0.1,
             "#c51b7d"
            ],
            [
             0.2,
             "#de77ae"
            ],
            [
             0.3,
             "#f1b6da"
            ],
            [
             0.4,
             "#fde0ef"
            ],
            [
             0.5,
             "#f7f7f7"
            ],
            [
             0.6,
             "#e6f5d0"
            ],
            [
             0.7,
             "#b8e186"
            ],
            [
             0.8,
             "#7fbc41"
            ],
            [
             0.9,
             "#4d9221"
            ],
            [
             1,
             "#276419"
            ]
           ],
           "sequential": [
            [
             0,
             "#0d0887"
            ],
            [
             0.1111111111111111,
             "#46039f"
            ],
            [
             0.2222222222222222,
             "#7201a8"
            ],
            [
             0.3333333333333333,
             "#9c179e"
            ],
            [
             0.4444444444444444,
             "#bd3786"
            ],
            [
             0.5555555555555556,
             "#d8576b"
            ],
            [
             0.6666666666666666,
             "#ed7953"
            ],
            [
             0.7777777777777778,
             "#fb9f3a"
            ],
            [
             0.8888888888888888,
             "#fdca26"
            ],
            [
             1,
             "#f0f921"
            ]
           ],
           "sequentialminus": [
            [
             0,
             "#0d0887"
            ],
            [
             0.1111111111111111,
             "#46039f"
            ],
            [
             0.2222222222222222,
             "#7201a8"
            ],
            [
             0.3333333333333333,
             "#9c179e"
            ],
            [
             0.4444444444444444,
             "#bd3786"
            ],
            [
             0.5555555555555556,
             "#d8576b"
            ],
            [
             0.6666666666666666,
             "#ed7953"
            ],
            [
             0.7777777777777778,
             "#fb9f3a"
            ],
            [
             0.8888888888888888,
             "#fdca26"
            ],
            [
             1,
             "#f0f921"
            ]
           ]
          },
          "colorway": [
           "#636efa",
           "#EF553B",
           "#00cc96",
           "#ab63fa",
           "#FFA15A",
           "#19d3f3",
           "#FF6692",
           "#B6E880",
           "#FF97FF",
           "#FECB52"
          ],
          "font": {
           "color": "#2a3f5f"
          },
          "geo": {
           "bgcolor": "white",
           "lakecolor": "white",
           "landcolor": "#E5ECF6",
           "showlakes": true,
           "showland": true,
           "subunitcolor": "white"
          },
          "hoverlabel": {
           "align": "left"
          },
          "hovermode": "closest",
          "mapbox": {
           "style": "light"
          },
          "paper_bgcolor": "white",
          "plot_bgcolor": "#E5ECF6",
          "polar": {
           "angularaxis": {
            "gridcolor": "white",
            "linecolor": "white",
            "ticks": ""
           },
           "bgcolor": "#E5ECF6",
           "radialaxis": {
            "gridcolor": "white",
            "linecolor": "white",
            "ticks": ""
           }
          },
          "scene": {
           "xaxis": {
            "backgroundcolor": "#E5ECF6",
            "gridcolor": "white",
            "gridwidth": 2,
            "linecolor": "white",
            "showbackground": true,
            "ticks": "",
            "zerolinecolor": "white"
           },
           "yaxis": {
            "backgroundcolor": "#E5ECF6",
            "gridcolor": "white",
            "gridwidth": 2,
            "linecolor": "white",
            "showbackground": true,
            "ticks": "",
            "zerolinecolor": "white"
           },
           "zaxis": {
            "backgroundcolor": "#E5ECF6",
            "gridcolor": "white",
            "gridwidth": 2,
            "linecolor": "white",
            "showbackground": true,
            "ticks": "",
            "zerolinecolor": "white"
           }
          },
          "shapedefaults": {
           "line": {
            "color": "#2a3f5f"
           }
          },
          "ternary": {
           "aaxis": {
            "gridcolor": "white",
            "linecolor": "white",
            "ticks": ""
           },
           "baxis": {
            "gridcolor": "white",
            "linecolor": "white",
            "ticks": ""
           },
           "bgcolor": "#E5ECF6",
           "caxis": {
            "gridcolor": "white",
            "linecolor": "white",
            "ticks": ""
           }
          },
          "title": {
           "x": 0.05
          },
          "xaxis": {
           "automargin": true,
           "gridcolor": "white",
           "linecolor": "white",
           "ticks": "",
           "title": {
            "standoff": 15
           },
           "zerolinecolor": "white",
           "zerolinewidth": 2
          },
          "yaxis": {
           "automargin": true,
           "gridcolor": "white",
           "linecolor": "white",
           "ticks": "",
           "title": {
            "standoff": 15
           },
           "zerolinecolor": "white",
           "zerolinewidth": 2
          }
         }
        },
        "title": {
         "font": {
          "color": "#4D5663"
         }
        },
        "xaxis": {
         "gridcolor": "#E1E5ED",
         "showgrid": true,
         "tickfont": {
          "color": "#4D5663"
         },
         "title": {
          "font": {
           "color": "#4D5663"
          },
          "text": ""
         },
         "zerolinecolor": "#E1E5ED"
        },
        "yaxis": {
         "gridcolor": "#E1E5ED",
         "showgrid": true,
         "tickfont": {
          "color": "#4D5663"
         },
         "title": {
          "font": {
           "color": "#4D5663"
          },
          "text": ""
         },
         "zerolinecolor": "#E1E5ED"
        }
       }
      },
      "text/html": [
       "<div>                            <div id=\"078d804b-65b0-45a5-aefb-ecf59f047b07\" class=\"plotly-graph-div\" style=\"height:525px; width:100%;\"></div>            <script type=\"text/javascript\">                require([\"plotly\"], function(Plotly) {                    window.PLOTLYENV=window.PLOTLYENV || {};\n",
       "                    window.PLOTLYENV.BASE_URL='https://plot.ly';                                    if (document.getElementById(\"078d804b-65b0-45a5-aefb-ecf59f047b07\")) {                    Plotly.newPlot(                        \"078d804b-65b0-45a5-aefb-ecf59f047b07\",                        [{\"marker\":{\"color\":\"rgba(255, 153, 51, 0.6)\",\"line\":{\"color\":\"rgba(255, 153, 51, 1.0)\",\"width\":1}},\"name\":\"None\",\"orientation\":\"v\",\"text\":\"\",\"x\":[\"A\",\"B\",\"C\",\"D\"],\"y\":[100,100,100,100],\"type\":\"bar\"}],                        {\"legend\":{\"bgcolor\":\"#F5F6F9\",\"font\":{\"color\":\"#4D5663\"}},\"paper_bgcolor\":\"#F5F6F9\",\"plot_bgcolor\":\"#F5F6F9\",\"template\":{\"data\":{\"barpolar\":[{\"marker\":{\"line\":{\"color\":\"#E5ECF6\",\"width\":0.5},\"pattern\":{\"fillmode\":\"overlay\",\"size\":10,\"solidity\":0.2}},\"type\":\"barpolar\"}],\"bar\":[{\"error_x\":{\"color\":\"#2a3f5f\"},\"error_y\":{\"color\":\"#2a3f5f\"},\"marker\":{\"line\":{\"color\":\"#E5ECF6\",\"width\":0.5},\"pattern\":{\"fillmode\":\"overlay\",\"size\":10,\"solidity\":0.2}},\"type\":\"bar\"}],\"carpet\":[{\"aaxis\":{\"endlinecolor\":\"#2a3f5f\",\"gridcolor\":\"white\",\"linecolor\":\"white\",\"minorgridcolor\":\"white\",\"startlinecolor\":\"#2a3f5f\"},\"baxis\":{\"endlinecolor\":\"#2a3f5f\",\"gridcolor\":\"white\",\"linecolor\":\"white\",\"minorgridcolor\":\"white\",\"startlinecolor\":\"#2a3f5f\"},\"type\":\"carpet\"}],\"choropleth\":[{\"colorbar\":{\"outlinewidth\":0,\"ticks\":\"\"},\"type\":\"choropleth\"}],\"contourcarpet\":[{\"colorbar\":{\"outlinewidth\":0,\"ticks\":\"\"},\"type\":\"contourcarpet\"}],\"contour\":[{\"colorbar\":{\"outlinewidth\":0,\"ticks\":\"\"},\"colorscale\":[[0.0,\"#0d0887\"],[0.1111111111111111,\"#46039f\"],[0.2222222222222222,\"#7201a8\"],[0.3333333333333333,\"#9c179e\"],[0.4444444444444444,\"#bd3786\"],[0.5555555555555556,\"#d8576b\"],[0.6666666666666666,\"#ed7953\"],[0.7777777777777778,\"#fb9f3a\"],[0.8888888888888888,\"#fdca26\"],[1.0,\"#f0f921\"]],\"type\":\"contour\"}],\"heatmapgl\":[{\"colorbar\":{\"outlinewidth\":0,\"ticks\":\"\"},\"colorscale\":[[0.0,\"#0d0887\"],[0.1111111111111111,\"#46039f\"],[0.2222222222222222,\"#7201a8\"],[0.3333333333333333,\"#9c179e\"],[0.4444444444444444,\"#bd3786\"],[0.5555555555555556,\"#d8576b\"],[0.6666666666666666,\"#ed7953\"],[0.7777777777777778,\"#fb9f3a\"],[0.8888888888888888,\"#fdca26\"],[1.0,\"#f0f921\"]],\"type\":\"heatmapgl\"}],\"heatmap\":[{\"colorbar\":{\"outlinewidth\":0,\"ticks\":\"\"},\"colorscale\":[[0.0,\"#0d0887\"],[0.1111111111111111,\"#46039f\"],[0.2222222222222222,\"#7201a8\"],[0.3333333333333333,\"#9c179e\"],[0.4444444444444444,\"#bd3786\"],[0.5555555555555556,\"#d8576b\"],[0.6666666666666666,\"#ed7953\"],[0.7777777777777778,\"#fb9f3a\"],[0.8888888888888888,\"#fdca26\"],[1.0,\"#f0f921\"]],\"type\":\"heatmap\"}],\"histogram2dcontour\":[{\"colorbar\":{\"outlinewidth\":0,\"ticks\":\"\"},\"colorscale\":[[0.0,\"#0d0887\"],[0.1111111111111111,\"#46039f\"],[0.2222222222222222,\"#7201a8\"],[0.3333333333333333,\"#9c179e\"],[0.4444444444444444,\"#bd3786\"],[0.5555555555555556,\"#d8576b\"],[0.6666666666666666,\"#ed7953\"],[0.7777777777777778,\"#fb9f3a\"],[0.8888888888888888,\"#fdca26\"],[1.0,\"#f0f921\"]],\"type\":\"histogram2dcontour\"}],\"histogram2d\":[{\"colorbar\":{\"outlinewidth\":0,\"ticks\":\"\"},\"colorscale\":[[0.0,\"#0d0887\"],[0.1111111111111111,\"#46039f\"],[0.2222222222222222,\"#7201a8\"],[0.3333333333333333,\"#9c179e\"],[0.4444444444444444,\"#bd3786\"],[0.5555555555555556,\"#d8576b\"],[0.6666666666666666,\"#ed7953\"],[0.7777777777777778,\"#fb9f3a\"],[0.8888888888888888,\"#fdca26\"],[1.0,\"#f0f921\"]],\"type\":\"histogram2d\"}],\"histogram\":[{\"marker\":{\"pattern\":{\"fillmode\":\"overlay\",\"size\":10,\"solidity\":0.2}},\"type\":\"histogram\"}],\"mesh3d\":[{\"colorbar\":{\"outlinewidth\":0,\"ticks\":\"\"},\"type\":\"mesh3d\"}],\"parcoords\":[{\"line\":{\"colorbar\":{\"outlinewidth\":0,\"ticks\":\"\"}},\"type\":\"parcoords\"}],\"pie\":[{\"automargin\":true,\"type\":\"pie\"}],\"scatter3d\":[{\"line\":{\"colorbar\":{\"outlinewidth\":0,\"ticks\":\"\"}},\"marker\":{\"colorbar\":{\"outlinewidth\":0,\"ticks\":\"\"}},\"type\":\"scatter3d\"}],\"scattercarpet\":[{\"marker\":{\"colorbar\":{\"outlinewidth\":0,\"ticks\":\"\"}},\"type\":\"scattercarpet\"}],\"scattergeo\":[{\"marker\":{\"colorbar\":{\"outlinewidth\":0,\"ticks\":\"\"}},\"type\":\"scattergeo\"}],\"scattergl\":[{\"marker\":{\"colorbar\":{\"outlinewidth\":0,\"ticks\":\"\"}},\"type\":\"scattergl\"}],\"scattermapbox\":[{\"marker\":{\"colorbar\":{\"outlinewidth\":0,\"ticks\":\"\"}},\"type\":\"scattermapbox\"}],\"scatterpolargl\":[{\"marker\":{\"colorbar\":{\"outlinewidth\":0,\"ticks\":\"\"}},\"type\":\"scatterpolargl\"}],\"scatterpolar\":[{\"marker\":{\"colorbar\":{\"outlinewidth\":0,\"ticks\":\"\"}},\"type\":\"scatterpolar\"}],\"scatter\":[{\"marker\":{\"colorbar\":{\"outlinewidth\":0,\"ticks\":\"\"}},\"type\":\"scatter\"}],\"scatterternary\":[{\"marker\":{\"colorbar\":{\"outlinewidth\":0,\"ticks\":\"\"}},\"type\":\"scatterternary\"}],\"surface\":[{\"colorbar\":{\"outlinewidth\":0,\"ticks\":\"\"},\"colorscale\":[[0.0,\"#0d0887\"],[0.1111111111111111,\"#46039f\"],[0.2222222222222222,\"#7201a8\"],[0.3333333333333333,\"#9c179e\"],[0.4444444444444444,\"#bd3786\"],[0.5555555555555556,\"#d8576b\"],[0.6666666666666666,\"#ed7953\"],[0.7777777777777778,\"#fb9f3a\"],[0.8888888888888888,\"#fdca26\"],[1.0,\"#f0f921\"]],\"type\":\"surface\"}],\"table\":[{\"cells\":{\"fill\":{\"color\":\"#EBF0F8\"},\"line\":{\"color\":\"white\"}},\"header\":{\"fill\":{\"color\":\"#C8D4E3\"},\"line\":{\"color\":\"white\"}},\"type\":\"table\"}]},\"layout\":{\"annotationdefaults\":{\"arrowcolor\":\"#2a3f5f\",\"arrowhead\":0,\"arrowwidth\":1},\"autotypenumbers\":\"strict\",\"coloraxis\":{\"colorbar\":{\"outlinewidth\":0,\"ticks\":\"\"}},\"colorscale\":{\"diverging\":[[0,\"#8e0152\"],[0.1,\"#c51b7d\"],[0.2,\"#de77ae\"],[0.3,\"#f1b6da\"],[0.4,\"#fde0ef\"],[0.5,\"#f7f7f7\"],[0.6,\"#e6f5d0\"],[0.7,\"#b8e186\"],[0.8,\"#7fbc41\"],[0.9,\"#4d9221\"],[1,\"#276419\"]],\"sequential\":[[0.0,\"#0d0887\"],[0.1111111111111111,\"#46039f\"],[0.2222222222222222,\"#7201a8\"],[0.3333333333333333,\"#9c179e\"],[0.4444444444444444,\"#bd3786\"],[0.5555555555555556,\"#d8576b\"],[0.6666666666666666,\"#ed7953\"],[0.7777777777777778,\"#fb9f3a\"],[0.8888888888888888,\"#fdca26\"],[1.0,\"#f0f921\"]],\"sequentialminus\":[[0.0,\"#0d0887\"],[0.1111111111111111,\"#46039f\"],[0.2222222222222222,\"#7201a8\"],[0.3333333333333333,\"#9c179e\"],[0.4444444444444444,\"#bd3786\"],[0.5555555555555556,\"#d8576b\"],[0.6666666666666666,\"#ed7953\"],[0.7777777777777778,\"#fb9f3a\"],[0.8888888888888888,\"#fdca26\"],[1.0,\"#f0f921\"]]},\"colorway\":[\"#636efa\",\"#EF553B\",\"#00cc96\",\"#ab63fa\",\"#FFA15A\",\"#19d3f3\",\"#FF6692\",\"#B6E880\",\"#FF97FF\",\"#FECB52\"],\"font\":{\"color\":\"#2a3f5f\"},\"geo\":{\"bgcolor\":\"white\",\"lakecolor\":\"white\",\"landcolor\":\"#E5ECF6\",\"showlakes\":true,\"showland\":true,\"subunitcolor\":\"white\"},\"hoverlabel\":{\"align\":\"left\"},\"hovermode\":\"closest\",\"mapbox\":{\"style\":\"light\"},\"paper_bgcolor\":\"white\",\"plot_bgcolor\":\"#E5ECF6\",\"polar\":{\"angularaxis\":{\"gridcolor\":\"white\",\"linecolor\":\"white\",\"ticks\":\"\"},\"bgcolor\":\"#E5ECF6\",\"radialaxis\":{\"gridcolor\":\"white\",\"linecolor\":\"white\",\"ticks\":\"\"}},\"scene\":{\"xaxis\":{\"backgroundcolor\":\"#E5ECF6\",\"gridcolor\":\"white\",\"gridwidth\":2,\"linecolor\":\"white\",\"showbackground\":true,\"ticks\":\"\",\"zerolinecolor\":\"white\"},\"yaxis\":{\"backgroundcolor\":\"#E5ECF6\",\"gridcolor\":\"white\",\"gridwidth\":2,\"linecolor\":\"white\",\"showbackground\":true,\"ticks\":\"\",\"zerolinecolor\":\"white\"},\"zaxis\":{\"backgroundcolor\":\"#E5ECF6\",\"gridcolor\":\"white\",\"gridwidth\":2,\"linecolor\":\"white\",\"showbackground\":true,\"ticks\":\"\",\"zerolinecolor\":\"white\"}},\"shapedefaults\":{\"line\":{\"color\":\"#2a3f5f\"}},\"ternary\":{\"aaxis\":{\"gridcolor\":\"white\",\"linecolor\":\"white\",\"ticks\":\"\"},\"baxis\":{\"gridcolor\":\"white\",\"linecolor\":\"white\",\"ticks\":\"\"},\"bgcolor\":\"#E5ECF6\",\"caxis\":{\"gridcolor\":\"white\",\"linecolor\":\"white\",\"ticks\":\"\"}},\"title\":{\"x\":0.05},\"xaxis\":{\"automargin\":true,\"gridcolor\":\"white\",\"linecolor\":\"white\",\"ticks\":\"\",\"title\":{\"standoff\":15},\"zerolinecolor\":\"white\",\"zerolinewidth\":2},\"yaxis\":{\"automargin\":true,\"gridcolor\":\"white\",\"linecolor\":\"white\",\"ticks\":\"\",\"title\":{\"standoff\":15},\"zerolinecolor\":\"white\",\"zerolinewidth\":2}}},\"title\":{\"font\":{\"color\":\"#4D5663\"}},\"xaxis\":{\"gridcolor\":\"#E1E5ED\",\"showgrid\":true,\"tickfont\":{\"color\":\"#4D5663\"},\"title\":{\"font\":{\"color\":\"#4D5663\"},\"text\":\"\"},\"zerolinecolor\":\"#E1E5ED\"},\"yaxis\":{\"gridcolor\":\"#E1E5ED\",\"showgrid\":true,\"tickfont\":{\"color\":\"#4D5663\"},\"title\":{\"font\":{\"color\":\"#4D5663\"},\"text\":\"\"},\"zerolinecolor\":\"#E1E5ED\"}},                        {\"showLink\": true, \"linkText\": \"Export to plot.ly\", \"plotlyServerURL\": \"https://plot.ly\", \"responsive\": true}                    ).then(function(){\n",
       "                            \n",
       "var gd = document.getElementById('078d804b-65b0-45a5-aefb-ecf59f047b07');\n",
       "var x = new MutationObserver(function (mutations, observer) {{\n",
       "        var display = window.getComputedStyle(gd).display;\n",
       "        if (!display || display === 'none') {{\n",
       "            console.log([gd, 'removed!']);\n",
       "            Plotly.purge(gd);\n",
       "            observer.disconnect();\n",
       "        }}\n",
       "}});\n",
       "\n",
       "// Listen for the removal of the full notebook cells\n",
       "var notebookContainer = gd.closest('#notebook-container');\n",
       "if (notebookContainer) {{\n",
       "    x.observe(notebookContainer, {childList: true});\n",
       "}}\n",
       "\n",
       "// Listen for the clearing of the current output cell\n",
       "var outputEl = gd.closest('.output');\n",
       "if (outputEl) {{\n",
       "    x.observe(outputEl, {childList: true});\n",
       "}}\n",
       "\n",
       "                        })                };                });            </script>        </div>"
      ]
     },
     "metadata": {},
     "output_type": "display_data"
    }
   ],
   "source": [
    "df.count().iplot(kind='bar')"
   ]
  },
  {
   "cell_type": "markdown",
   "metadata": {},
   "source": [
    "## Boxplots"
   ]
  },
  {
   "cell_type": "code",
   "execution_count": 19,
   "metadata": {},
   "outputs": [
    {
     "data": {
      "application/vnd.plotly.v1+json": {
       "config": {
        "linkText": "Export to plot.ly",
        "plotlyServerURL": "https://plot.ly",
        "showLink": true
       },
       "data": [
        {
         "boxpoints": false,
         "line": {
          "width": 1.3
         },
         "marker": {
          "color": "rgba(255, 153, 51, 1.0)"
         },
         "name": "A",
         "orientation": "v",
         "type": "box",
         "y": [
          1.0163663847315616,
          0.6173154871769431,
          -0.6772810476386104,
          0.6237655411646876,
          -0.37260920798691394,
          0.5268099656427503,
          3.3821009368357,
          1.9577238270097503,
          2.3672034338753085,
          -0.1264357292249816,
          -0.8103067961827602,
          0.626606385498777,
          0.8971248085452803,
          0.9197234355071809,
          -0.08116844691411543,
          -0.23627135619609388,
          0.006315752144729975,
          0.8669884152608879,
          1.3477600604778872,
          0.5955044109947454,
          -2.2568755644129865,
          -0.4068329840129025,
          -1.0539585845464274,
          1.1553831547694944,
          0.8367721877894332,
          0.07562472966509834,
          -0.12160991114433886,
          -1.8708656358350333,
          -2.0980755507321915,
          -0.08333649016138943,
          -0.47654864104757116,
          0.3105903538405738,
          -0.2108414867369569,
          1.2160327251023146,
          0.530254461980228,
          0.8521931743489114,
          1.3174997251183853,
          -0.6329843164077711,
          -0.882042357186549,
          -0.10209874131529179,
          -0.8947340334956717,
          -0.03844201310949979,
          0.7649005814572767,
          -0.5966885081694819,
          0.11506435913682996,
          -0.10048058063216983,
          0.9452885815617678,
          -0.4588861395882851,
          1.2607952095263109,
          0.9909294214610531,
          -1.1887396736772753,
          0.45737437826220323,
          1.218396683884078,
          -0.6001335964116054,
          0.04417622281112498,
          0.004450468534862416,
          1.8313217303103826,
          -0.37055291069047724,
          1.2230284286498043,
          0.9753590408138841,
          -0.9655361156914539,
          -1.2668526033999856,
          1.1422566561817689,
          0.06441963023437752,
          -0.8204500089030339,
          -0.08683699678333419,
          -0.36853538959583965,
          -0.7060872984774748,
          1.2026123368245425,
          -1.3864336167600535,
          0.6529959510516941,
          -0.08084710487352231,
          0.3907698202410437,
          0.8968560566217788,
          -0.6609848902540147,
          1.8688627173419552,
          -0.27731576559523075,
          -1.7189260231242547,
          0.39408077609560643,
          0.6185665794368471,
          0.9780991990845405,
          -0.37004731829361825,
          -0.5377331341474938,
          0.43868366034200346,
          0.5368217774165542,
          1.213954701386464,
          0.5110904541180284,
          -0.4235805169165554,
          -1.0118041589500104,
          1.1431317111969865,
          -1.350938695027268,
          1.0143078055993617,
          -0.7217509864426822,
          0.9030044560127558,
          0.42860812787029134,
          -0.1071231255623638,
          -0.4543792366009019,
          -0.9730770823989808,
          0.1872464176467623,
          1.9436565221058293
         ]
        },
        {
         "boxpoints": false,
         "line": {
          "width": 1.3
         },
         "marker": {
          "color": "rgba(55, 128, 191, 1.0)"
         },
         "name": "B",
         "orientation": "v",
         "type": "box",
         "y": [
          -1.314123512152019,
          0.39375016329835755,
          -0.3333754421609034,
          -0.16129292315339847,
          0.39089174011821676,
          -0.2415285832239928,
          -0.1330687410391177,
          -2.742176842383155,
          -1.4549249762961163,
          -0.03288164196362554,
          0.7870954339775161,
          -1.5906364831120088,
          -0.24665783984415385,
          -1.2709531905402118,
          1.4177396247528429,
          0.9139339993306476,
          0.14968727936437834,
          -1.4773579780270367,
          1.2836065788783506,
          0.4218429543817784,
          -0.3891327307587016,
          -0.6603022181306161,
          -1.0684908499632273,
          -0.3548553707374886,
          0.899830228716969,
          -0.8941242273946151,
          0.28641016797356983,
          -0.5620191278396524,
          0.5645175911279281,
          -0.687053335069698,
          1.9940782552722824,
          0.41288636989328503,
          -0.0757559224356657,
          -1.228484199092643,
          0.10159891043339675,
          -0.8406593103911069,
          0.626646032389116,
          1.344081195804092,
          -0.2058879538088759,
          -0.24892149899365876,
          1.61428601967461,
          1.054023242279591,
          -1.0494231161382948,
          -0.29037512816229744,
          -0.31845732692891965,
          0.529699171795502,
          -0.8271224841739949,
          0.4273220127629525,
          -0.7435857578963644,
          -0.27184790451055646,
          -1.4840195959301983,
          -0.44688526663229666,
          0.4628829916489609,
          -1.0937281052231775,
          -0.04684302086081167,
          -1.7319842733126842,
          0.8936502873631862,
          -0.8605804212619843,
          -1.491722030552004,
          0.22619482826173615,
          0.12596075803515505,
          0.5939073679012035,
          -2.0319593614147418,
          0.4094611282332534,
          -1.425236969134026,
          0.13011219954716607,
          -0.40809823124548433,
          -0.09813875666548708,
          -0.3443129245978503,
          0.3722128853803303,
          -0.4876598037455311,
          1.0394990700889335,
          -0.8096093205424912,
          1.8638913823070484,
          1.4465628410979272,
          1.5033357505346296,
          -0.1644064395364936,
          0.9572849136768261,
          1.5099517130489664,
          -0.03615537780077251,
          -0.7750468333728179,
          0.6185273461544226,
          0.8477903244792816,
          0.2404673003418146,
          -0.8111967164058738,
          0.538679623313098,
          -0.594248432346121,
          0.971093297394865,
          0.26710198449999917,
          -0.37466122018418707,
          0.35159515438680605,
          -0.36114835700299674,
          -1.2442893555942884,
          -2.2215578576176584,
          1.1728151414090098,
          0.6090886842595982,
          -1.6522977997891652,
          -1.1130954230421588,
          0.42121458153220404,
          -0.8627485862769746
         ]
        },
        {
         "boxpoints": false,
         "line": {
          "width": 1.3
         },
         "marker": {
          "color": "rgba(50, 171, 96, 1.0)"
         },
         "name": "C",
         "orientation": "v",
         "type": "box",
         "y": [
          1.17789599223246,
          -0.661400434155931,
          1.2313368112059233,
          -0.24339900043176255,
          0.9675959828040326,
          -0.8099039954694721,
          0.6376951022971441,
          -0.668279852937571,
          0.33130477744502224,
          -0.13111868134978907,
          -0.7543129781919886,
          0.44844014879375593,
          -0.9778756365215926,
          -0.8832086958930353,
          0.9495855236923345,
          0.24545920433061041,
          -0.4023261424550109,
          -0.024582443967006366,
          2.0218225895106143,
          -1.2097122515929808,
          -2.5293273164010737,
          0.15536611001813,
          0.6927964909911235,
          -0.5940112192467712,
          0.9348938152565605,
          0.9108935503155805,
          -0.8938271886470385,
          0.38261479895870504,
          -1.0736697692873345,
          1.8740739968425641,
          0.7322525668891493,
          2.120536718121365,
          0.23824388512601272,
          -0.377504099211284,
          0.3624900571062633,
          -0.568429183865922,
          -0.32520363027060145,
          -0.8818164540919655,
          0.570179172659156,
          -0.8612968999018705,
          0.22849521683754068,
          0.7630962434956688,
          -1.0533810528338508,
          0.32567843966561977,
          1.372257366906283,
          0.23203465920643873,
          1.0477911246061877,
          -1.0006522940798506,
          1.0757530061640197,
          -0.5114981698344443,
          -0.48646916299820925,
          -0.19536450054243273,
          -1.4463445759721227,
          1.8397089791903722,
          -0.04567427241237144,
          -0.8722649704359667,
          1.501655806737382,
          -1.0247133970192228,
          0.3875552334877692,
          -0.7485457146030059,
          -0.52364163876346,
          -0.7546426049417192,
          1.0741239174140584,
          -1.082818514974668,
          -0.050682267560251036,
          0.1976062660491136,
          -0.36124633241518506,
          -0.3464003317250285,
          1.4583525610748382,
          -0.018137965611309436,
          2.5078720568676784,
          0.4584655084762964,
          -0.609029438215186,
          -0.5408052766371294,
          0.4908360738275197,
          0.8746041335759098,
          0.7227830721878171,
          0.02061706180074759,
          0.651757172821551,
          0.5321786347271554,
          -0.6189706854967447,
          -0.8803330892394644,
          -0.03071584005189342,
          -1.9886438727363793,
          0.8229309186203905,
          0.7890306368756327,
          -0.6025057062017244,
          -1.0133951630813673,
          0.4583239442037677,
          -1.0540367772848824,
          0.27249714775275824,
          0.23308697127069317,
          1.71958930015937,
          0.3124837977579066,
          -1.1037781192401224,
          0.1606789660059298,
          -0.7006514510911815,
          0.6357168109204249,
          0.6896512585494607,
          -0.3733621725599462
         ]
        },
        {
         "boxpoints": false,
         "line": {
          "width": 1.3
         },
         "marker": {
          "color": "rgba(128, 0, 128, 1.0)"
         },
         "name": "D",
         "orientation": "v",
         "type": "box",
         "y": [
          -0.6497558508146197,
          0.5696022472138228,
          -0.7742549950337608,
          0.014455016891685308,
          -0.9060133469484182,
          0.8317357464196173,
          -0.456742552047923,
          -0.893425922398005,
          -0.45629202248448775,
          0.8865742158055536,
          0.533112541987365,
          -0.5764423411134656,
          -1.0781933958796839,
          -0.7765606805526603,
          -0.774676440986213,
          -0.7254853319541702,
          0.01857757652433547,
          -0.4739028578841449,
          0.41546407453704925,
          0.18085488752726828,
          1.6392132099429437,
          2.152322296915255,
          0.5510914884845449,
          -0.17200497405891954,
          -0.30275609998810576,
          0.3337058203492321,
          1.915668368752776,
          0.09736653391683878,
          -1.1392266031457392,
          0.6189098863426716,
          0.9574377787133139,
          0.21040552178092659,
          -1.155999981256473,
          0.03471012759726958,
          -0.4759889738470913,
          -1.3202923670664828,
          -1.1421903545951442,
          -0.8023433609911226,
          0.14145530424876465,
          -0.8345545750446628,
          0.05607030814618059,
          0.8766930176309266,
          -0.3588416967252633,
          -1.2923043390651747,
          -0.14941580871574106,
          0.27879451079531004,
          0.2695398313730743,
          -0.7725303843772486,
          -0.43646365421850075,
          -0.9583290852048664,
          1.150297392219825,
          -1.1965596759703445,
          -1.0848850756530122,
          -0.1402059348920322,
          -1.2451705111909404,
          1.8248593793921886,
          -0.6558475942962985,
          0.23306245817302218,
          0.22632642407822606,
          -2.898995979748627,
          -1.2624231371901962,
          -0.45533371264789585,
          -0.6148073219255857,
          -0.4503032391310196,
          0.9341143618964147,
          -0.056447188256112835,
          -1.6372042102125877,
          3.004947294068905,
          2.7680945544450384,
          1.1114432303149564,
          0.3553376235390684,
          -0.1262912090720706,
          0.6890509423597909,
          -1.1360041320724081,
          -0.2531232310905212,
          -0.8492015466836488,
          0.06029213572844701,
          -1.5223969489227114,
          0.375856572534485,
          0.48642780992514606,
          0.4784750748119479,
          -1.2676523630862064,
          0.9255176670906304,
          0.22951864913232142,
          1.3429793798892857,
          2.702687714185298,
          1.226688593216633,
          -0.19832038411576372,
          -0.21840893275786102,
          1.1394216004837654,
          0.8271929327400069,
          0.7290778301278243,
          1.7026912789896953,
          -1.3847686195712015,
          -1.405587735172336,
          -0.16916074302135256,
          -2.4284863303666095,
          -0.5522450839579114,
          0.2603440872721333,
          -0.11201117408394276
         ]
        }
       ],
       "layout": {
        "legend": {
         "bgcolor": "#F5F6F9",
         "font": {
          "color": "#4D5663"
         }
        },
        "paper_bgcolor": "#F5F6F9",
        "plot_bgcolor": "#F5F6F9",
        "template": {
         "data": {
          "bar": [
           {
            "error_x": {
             "color": "#2a3f5f"
            },
            "error_y": {
             "color": "#2a3f5f"
            },
            "marker": {
             "line": {
              "color": "#E5ECF6",
              "width": 0.5
             },
             "pattern": {
              "fillmode": "overlay",
              "size": 10,
              "solidity": 0.2
             }
            },
            "type": "bar"
           }
          ],
          "barpolar": [
           {
            "marker": {
             "line": {
              "color": "#E5ECF6",
              "width": 0.5
             },
             "pattern": {
              "fillmode": "overlay",
              "size": 10,
              "solidity": 0.2
             }
            },
            "type": "barpolar"
           }
          ],
          "carpet": [
           {
            "aaxis": {
             "endlinecolor": "#2a3f5f",
             "gridcolor": "white",
             "linecolor": "white",
             "minorgridcolor": "white",
             "startlinecolor": "#2a3f5f"
            },
            "baxis": {
             "endlinecolor": "#2a3f5f",
             "gridcolor": "white",
             "linecolor": "white",
             "minorgridcolor": "white",
             "startlinecolor": "#2a3f5f"
            },
            "type": "carpet"
           }
          ],
          "choropleth": [
           {
            "colorbar": {
             "outlinewidth": 0,
             "ticks": ""
            },
            "type": "choropleth"
           }
          ],
          "contour": [
           {
            "colorbar": {
             "outlinewidth": 0,
             "ticks": ""
            },
            "colorscale": [
             [
              0,
              "#0d0887"
             ],
             [
              0.1111111111111111,
              "#46039f"
             ],
             [
              0.2222222222222222,
              "#7201a8"
             ],
             [
              0.3333333333333333,
              "#9c179e"
             ],
             [
              0.4444444444444444,
              "#bd3786"
             ],
             [
              0.5555555555555556,
              "#d8576b"
             ],
             [
              0.6666666666666666,
              "#ed7953"
             ],
             [
              0.7777777777777778,
              "#fb9f3a"
             ],
             [
              0.8888888888888888,
              "#fdca26"
             ],
             [
              1,
              "#f0f921"
             ]
            ],
            "type": "contour"
           }
          ],
          "contourcarpet": [
           {
            "colorbar": {
             "outlinewidth": 0,
             "ticks": ""
            },
            "type": "contourcarpet"
           }
          ],
          "heatmap": [
           {
            "colorbar": {
             "outlinewidth": 0,
             "ticks": ""
            },
            "colorscale": [
             [
              0,
              "#0d0887"
             ],
             [
              0.1111111111111111,
              "#46039f"
             ],
             [
              0.2222222222222222,
              "#7201a8"
             ],
             [
              0.3333333333333333,
              "#9c179e"
             ],
             [
              0.4444444444444444,
              "#bd3786"
             ],
             [
              0.5555555555555556,
              "#d8576b"
             ],
             [
              0.6666666666666666,
              "#ed7953"
             ],
             [
              0.7777777777777778,
              "#fb9f3a"
             ],
             [
              0.8888888888888888,
              "#fdca26"
             ],
             [
              1,
              "#f0f921"
             ]
            ],
            "type": "heatmap"
           }
          ],
          "heatmapgl": [
           {
            "colorbar": {
             "outlinewidth": 0,
             "ticks": ""
            },
            "colorscale": [
             [
              0,
              "#0d0887"
             ],
             [
              0.1111111111111111,
              "#46039f"
             ],
             [
              0.2222222222222222,
              "#7201a8"
             ],
             [
              0.3333333333333333,
              "#9c179e"
             ],
             [
              0.4444444444444444,
              "#bd3786"
             ],
             [
              0.5555555555555556,
              "#d8576b"
             ],
             [
              0.6666666666666666,
              "#ed7953"
             ],
             [
              0.7777777777777778,
              "#fb9f3a"
             ],
             [
              0.8888888888888888,
              "#fdca26"
             ],
             [
              1,
              "#f0f921"
             ]
            ],
            "type": "heatmapgl"
           }
          ],
          "histogram": [
           {
            "marker": {
             "pattern": {
              "fillmode": "overlay",
              "size": 10,
              "solidity": 0.2
             }
            },
            "type": "histogram"
           }
          ],
          "histogram2d": [
           {
            "colorbar": {
             "outlinewidth": 0,
             "ticks": ""
            },
            "colorscale": [
             [
              0,
              "#0d0887"
             ],
             [
              0.1111111111111111,
              "#46039f"
             ],
             [
              0.2222222222222222,
              "#7201a8"
             ],
             [
              0.3333333333333333,
              "#9c179e"
             ],
             [
              0.4444444444444444,
              "#bd3786"
             ],
             [
              0.5555555555555556,
              "#d8576b"
             ],
             [
              0.6666666666666666,
              "#ed7953"
             ],
             [
              0.7777777777777778,
              "#fb9f3a"
             ],
             [
              0.8888888888888888,
              "#fdca26"
             ],
             [
              1,
              "#f0f921"
             ]
            ],
            "type": "histogram2d"
           }
          ],
          "histogram2dcontour": [
           {
            "colorbar": {
             "outlinewidth": 0,
             "ticks": ""
            },
            "colorscale": [
             [
              0,
              "#0d0887"
             ],
             [
              0.1111111111111111,
              "#46039f"
             ],
             [
              0.2222222222222222,
              "#7201a8"
             ],
             [
              0.3333333333333333,
              "#9c179e"
             ],
             [
              0.4444444444444444,
              "#bd3786"
             ],
             [
              0.5555555555555556,
              "#d8576b"
             ],
             [
              0.6666666666666666,
              "#ed7953"
             ],
             [
              0.7777777777777778,
              "#fb9f3a"
             ],
             [
              0.8888888888888888,
              "#fdca26"
             ],
             [
              1,
              "#f0f921"
             ]
            ],
            "type": "histogram2dcontour"
           }
          ],
          "mesh3d": [
           {
            "colorbar": {
             "outlinewidth": 0,
             "ticks": ""
            },
            "type": "mesh3d"
           }
          ],
          "parcoords": [
           {
            "line": {
             "colorbar": {
              "outlinewidth": 0,
              "ticks": ""
             }
            },
            "type": "parcoords"
           }
          ],
          "pie": [
           {
            "automargin": true,
            "type": "pie"
           }
          ],
          "scatter": [
           {
            "marker": {
             "colorbar": {
              "outlinewidth": 0,
              "ticks": ""
             }
            },
            "type": "scatter"
           }
          ],
          "scatter3d": [
           {
            "line": {
             "colorbar": {
              "outlinewidth": 0,
              "ticks": ""
             }
            },
            "marker": {
             "colorbar": {
              "outlinewidth": 0,
              "ticks": ""
             }
            },
            "type": "scatter3d"
           }
          ],
          "scattercarpet": [
           {
            "marker": {
             "colorbar": {
              "outlinewidth": 0,
              "ticks": ""
             }
            },
            "type": "scattercarpet"
           }
          ],
          "scattergeo": [
           {
            "marker": {
             "colorbar": {
              "outlinewidth": 0,
              "ticks": ""
             }
            },
            "type": "scattergeo"
           }
          ],
          "scattergl": [
           {
            "marker": {
             "colorbar": {
              "outlinewidth": 0,
              "ticks": ""
             }
            },
            "type": "scattergl"
           }
          ],
          "scattermapbox": [
           {
            "marker": {
             "colorbar": {
              "outlinewidth": 0,
              "ticks": ""
             }
            },
            "type": "scattermapbox"
           }
          ],
          "scatterpolar": [
           {
            "marker": {
             "colorbar": {
              "outlinewidth": 0,
              "ticks": ""
             }
            },
            "type": "scatterpolar"
           }
          ],
          "scatterpolargl": [
           {
            "marker": {
             "colorbar": {
              "outlinewidth": 0,
              "ticks": ""
             }
            },
            "type": "scatterpolargl"
           }
          ],
          "scatterternary": [
           {
            "marker": {
             "colorbar": {
              "outlinewidth": 0,
              "ticks": ""
             }
            },
            "type": "scatterternary"
           }
          ],
          "surface": [
           {
            "colorbar": {
             "outlinewidth": 0,
             "ticks": ""
            },
            "colorscale": [
             [
              0,
              "#0d0887"
             ],
             [
              0.1111111111111111,
              "#46039f"
             ],
             [
              0.2222222222222222,
              "#7201a8"
             ],
             [
              0.3333333333333333,
              "#9c179e"
             ],
             [
              0.4444444444444444,
              "#bd3786"
             ],
             [
              0.5555555555555556,
              "#d8576b"
             ],
             [
              0.6666666666666666,
              "#ed7953"
             ],
             [
              0.7777777777777778,
              "#fb9f3a"
             ],
             [
              0.8888888888888888,
              "#fdca26"
             ],
             [
              1,
              "#f0f921"
             ]
            ],
            "type": "surface"
           }
          ],
          "table": [
           {
            "cells": {
             "fill": {
              "color": "#EBF0F8"
             },
             "line": {
              "color": "white"
             }
            },
            "header": {
             "fill": {
              "color": "#C8D4E3"
             },
             "line": {
              "color": "white"
             }
            },
            "type": "table"
           }
          ]
         },
         "layout": {
          "annotationdefaults": {
           "arrowcolor": "#2a3f5f",
           "arrowhead": 0,
           "arrowwidth": 1
          },
          "autotypenumbers": "strict",
          "coloraxis": {
           "colorbar": {
            "outlinewidth": 0,
            "ticks": ""
           }
          },
          "colorscale": {
           "diverging": [
            [
             0,
             "#8e0152"
            ],
            [
             0.1,
             "#c51b7d"
            ],
            [
             0.2,
             "#de77ae"
            ],
            [
             0.3,
             "#f1b6da"
            ],
            [
             0.4,
             "#fde0ef"
            ],
            [
             0.5,
             "#f7f7f7"
            ],
            [
             0.6,
             "#e6f5d0"
            ],
            [
             0.7,
             "#b8e186"
            ],
            [
             0.8,
             "#7fbc41"
            ],
            [
             0.9,
             "#4d9221"
            ],
            [
             1,
             "#276419"
            ]
           ],
           "sequential": [
            [
             0,
             "#0d0887"
            ],
            [
             0.1111111111111111,
             "#46039f"
            ],
            [
             0.2222222222222222,
             "#7201a8"
            ],
            [
             0.3333333333333333,
             "#9c179e"
            ],
            [
             0.4444444444444444,
             "#bd3786"
            ],
            [
             0.5555555555555556,
             "#d8576b"
            ],
            [
             0.6666666666666666,
             "#ed7953"
            ],
            [
             0.7777777777777778,
             "#fb9f3a"
            ],
            [
             0.8888888888888888,
             "#fdca26"
            ],
            [
             1,
             "#f0f921"
            ]
           ],
           "sequentialminus": [
            [
             0,
             "#0d0887"
            ],
            [
             0.1111111111111111,
             "#46039f"
            ],
            [
             0.2222222222222222,
             "#7201a8"
            ],
            [
             0.3333333333333333,
             "#9c179e"
            ],
            [
             0.4444444444444444,
             "#bd3786"
            ],
            [
             0.5555555555555556,
             "#d8576b"
            ],
            [
             0.6666666666666666,
             "#ed7953"
            ],
            [
             0.7777777777777778,
             "#fb9f3a"
            ],
            [
             0.8888888888888888,
             "#fdca26"
            ],
            [
             1,
             "#f0f921"
            ]
           ]
          },
          "colorway": [
           "#636efa",
           "#EF553B",
           "#00cc96",
           "#ab63fa",
           "#FFA15A",
           "#19d3f3",
           "#FF6692",
           "#B6E880",
           "#FF97FF",
           "#FECB52"
          ],
          "font": {
           "color": "#2a3f5f"
          },
          "geo": {
           "bgcolor": "white",
           "lakecolor": "white",
           "landcolor": "#E5ECF6",
           "showlakes": true,
           "showland": true,
           "subunitcolor": "white"
          },
          "hoverlabel": {
           "align": "left"
          },
          "hovermode": "closest",
          "mapbox": {
           "style": "light"
          },
          "paper_bgcolor": "white",
          "plot_bgcolor": "#E5ECF6",
          "polar": {
           "angularaxis": {
            "gridcolor": "white",
            "linecolor": "white",
            "ticks": ""
           },
           "bgcolor": "#E5ECF6",
           "radialaxis": {
            "gridcolor": "white",
            "linecolor": "white",
            "ticks": ""
           }
          },
          "scene": {
           "xaxis": {
            "backgroundcolor": "#E5ECF6",
            "gridcolor": "white",
            "gridwidth": 2,
            "linecolor": "white",
            "showbackground": true,
            "ticks": "",
            "zerolinecolor": "white"
           },
           "yaxis": {
            "backgroundcolor": "#E5ECF6",
            "gridcolor": "white",
            "gridwidth": 2,
            "linecolor": "white",
            "showbackground": true,
            "ticks": "",
            "zerolinecolor": "white"
           },
           "zaxis": {
            "backgroundcolor": "#E5ECF6",
            "gridcolor": "white",
            "gridwidth": 2,
            "linecolor": "white",
            "showbackground": true,
            "ticks": "",
            "zerolinecolor": "white"
           }
          },
          "shapedefaults": {
           "line": {
            "color": "#2a3f5f"
           }
          },
          "ternary": {
           "aaxis": {
            "gridcolor": "white",
            "linecolor": "white",
            "ticks": ""
           },
           "baxis": {
            "gridcolor": "white",
            "linecolor": "white",
            "ticks": ""
           },
           "bgcolor": "#E5ECF6",
           "caxis": {
            "gridcolor": "white",
            "linecolor": "white",
            "ticks": ""
           }
          },
          "title": {
           "x": 0.05
          },
          "xaxis": {
           "automargin": true,
           "gridcolor": "white",
           "linecolor": "white",
           "ticks": "",
           "title": {
            "standoff": 15
           },
           "zerolinecolor": "white",
           "zerolinewidth": 2
          },
          "yaxis": {
           "automargin": true,
           "gridcolor": "white",
           "linecolor": "white",
           "ticks": "",
           "title": {
            "standoff": 15
           },
           "zerolinecolor": "white",
           "zerolinewidth": 2
          }
         }
        },
        "title": {
         "font": {
          "color": "#4D5663"
         }
        },
        "xaxis": {
         "gridcolor": "#E1E5ED",
         "showgrid": true,
         "tickfont": {
          "color": "#4D5663"
         },
         "title": {
          "font": {
           "color": "#4D5663"
          },
          "text": ""
         },
         "zerolinecolor": "#E1E5ED"
        },
        "yaxis": {
         "gridcolor": "#E1E5ED",
         "showgrid": true,
         "tickfont": {
          "color": "#4D5663"
         },
         "title": {
          "font": {
           "color": "#4D5663"
          },
          "text": ""
         },
         "zerolinecolor": "#E1E5ED"
        }
       }
      },
      "text/html": [
       "<div>                            <div id=\"e847bc51-dd1d-487a-a594-a62563e62484\" class=\"plotly-graph-div\" style=\"height:525px; width:100%;\"></div>            <script type=\"text/javascript\">                require([\"plotly\"], function(Plotly) {                    window.PLOTLYENV=window.PLOTLYENV || {};\n",
       "                    window.PLOTLYENV.BASE_URL='https://plot.ly';                                    if (document.getElementById(\"e847bc51-dd1d-487a-a594-a62563e62484\")) {                    Plotly.newPlot(                        \"e847bc51-dd1d-487a-a594-a62563e62484\",                        [{\"boxpoints\":false,\"line\":{\"width\":1.3},\"marker\":{\"color\":\"rgba(255, 153, 51, 1.0)\"},\"name\":\"A\",\"orientation\":\"v\",\"y\":[1.0163663847315616,0.6173154871769431,-0.6772810476386104,0.6237655411646876,-0.37260920798691394,0.5268099656427503,3.3821009368357,1.9577238270097503,2.3672034338753085,-0.1264357292249816,-0.8103067961827602,0.626606385498777,0.8971248085452803,0.9197234355071809,-0.08116844691411543,-0.23627135619609388,0.006315752144729975,0.8669884152608879,1.3477600604778872,0.5955044109947454,-2.2568755644129865,-0.4068329840129025,-1.0539585845464274,1.1553831547694944,0.8367721877894332,0.07562472966509834,-0.12160991114433886,-1.8708656358350333,-2.0980755507321915,-0.08333649016138943,-0.47654864104757116,0.3105903538405738,-0.2108414867369569,1.2160327251023146,0.530254461980228,0.8521931743489114,1.3174997251183853,-0.6329843164077711,-0.882042357186549,-0.10209874131529179,-0.8947340334956717,-0.03844201310949979,0.7649005814572767,-0.5966885081694819,0.11506435913682996,-0.10048058063216983,0.9452885815617678,-0.4588861395882851,1.2607952095263109,0.9909294214610531,-1.1887396736772753,0.45737437826220323,1.218396683884078,-0.6001335964116054,0.04417622281112498,0.004450468534862416,1.8313217303103826,-0.37055291069047724,1.2230284286498043,0.9753590408138841,-0.9655361156914539,-1.2668526033999856,1.1422566561817689,0.06441963023437752,-0.8204500089030339,-0.08683699678333419,-0.36853538959583965,-0.7060872984774748,1.2026123368245425,-1.3864336167600535,0.6529959510516941,-0.08084710487352231,0.3907698202410437,0.8968560566217788,-0.6609848902540147,1.8688627173419552,-0.27731576559523075,-1.7189260231242547,0.39408077609560643,0.6185665794368471,0.9780991990845405,-0.37004731829361825,-0.5377331341474938,0.43868366034200346,0.5368217774165542,1.213954701386464,0.5110904541180284,-0.4235805169165554,-1.0118041589500104,1.1431317111969865,-1.350938695027268,1.0143078055993617,-0.7217509864426822,0.9030044560127558,0.42860812787029134,-0.1071231255623638,-0.4543792366009019,-0.9730770823989808,0.1872464176467623,1.9436565221058293],\"type\":\"box\"},{\"boxpoints\":false,\"line\":{\"width\":1.3},\"marker\":{\"color\":\"rgba(55, 128, 191, 1.0)\"},\"name\":\"B\",\"orientation\":\"v\",\"y\":[-1.314123512152019,0.39375016329835755,-0.3333754421609034,-0.16129292315339847,0.39089174011821676,-0.2415285832239928,-0.1330687410391177,-2.742176842383155,-1.4549249762961163,-0.03288164196362554,0.7870954339775161,-1.5906364831120088,-0.24665783984415385,-1.2709531905402118,1.4177396247528429,0.9139339993306476,0.14968727936437834,-1.4773579780270367,1.2836065788783506,0.4218429543817784,-0.3891327307587016,-0.6603022181306161,-1.0684908499632273,-0.3548553707374886,0.899830228716969,-0.8941242273946151,0.28641016797356983,-0.5620191278396524,0.5645175911279281,-0.687053335069698,1.9940782552722824,0.41288636989328503,-0.0757559224356657,-1.228484199092643,0.10159891043339675,-0.8406593103911069,0.626646032389116,1.344081195804092,-0.2058879538088759,-0.24892149899365876,1.61428601967461,1.054023242279591,-1.0494231161382948,-0.29037512816229744,-0.31845732692891965,0.529699171795502,-0.8271224841739949,0.4273220127629525,-0.7435857578963644,-0.27184790451055646,-1.4840195959301983,-0.44688526663229666,0.4628829916489609,-1.0937281052231775,-0.04684302086081167,-1.7319842733126842,0.8936502873631862,-0.8605804212619843,-1.491722030552004,0.22619482826173615,0.12596075803515505,0.5939073679012035,-2.0319593614147418,0.4094611282332534,-1.425236969134026,0.13011219954716607,-0.40809823124548433,-0.09813875666548708,-0.3443129245978503,0.3722128853803303,-0.4876598037455311,1.0394990700889335,-0.8096093205424912,1.8638913823070484,1.4465628410979272,1.5033357505346296,-0.1644064395364936,0.9572849136768261,1.5099517130489664,-0.03615537780077251,-0.7750468333728179,0.6185273461544226,0.8477903244792816,0.2404673003418146,-0.8111967164058738,0.538679623313098,-0.594248432346121,0.971093297394865,0.26710198449999917,-0.37466122018418707,0.35159515438680605,-0.36114835700299674,-1.2442893555942884,-2.2215578576176584,1.1728151414090098,0.6090886842595982,-1.6522977997891652,-1.1130954230421588,0.42121458153220404,-0.8627485862769746],\"type\":\"box\"},{\"boxpoints\":false,\"line\":{\"width\":1.3},\"marker\":{\"color\":\"rgba(50, 171, 96, 1.0)\"},\"name\":\"C\",\"orientation\":\"v\",\"y\":[1.17789599223246,-0.661400434155931,1.2313368112059233,-0.24339900043176255,0.9675959828040326,-0.8099039954694721,0.6376951022971441,-0.668279852937571,0.33130477744502224,-0.13111868134978907,-0.7543129781919886,0.44844014879375593,-0.9778756365215926,-0.8832086958930353,0.9495855236923345,0.24545920433061041,-0.4023261424550109,-0.024582443967006366,2.0218225895106143,-1.2097122515929808,-2.5293273164010737,0.15536611001813,0.6927964909911235,-0.5940112192467712,0.9348938152565605,0.9108935503155805,-0.8938271886470385,0.38261479895870504,-1.0736697692873345,1.8740739968425641,0.7322525668891493,2.120536718121365,0.23824388512601272,-0.377504099211284,0.3624900571062633,-0.568429183865922,-0.32520363027060145,-0.8818164540919655,0.570179172659156,-0.8612968999018705,0.22849521683754068,0.7630962434956688,-1.0533810528338508,0.32567843966561977,1.372257366906283,0.23203465920643873,1.0477911246061877,-1.0006522940798506,1.0757530061640197,-0.5114981698344443,-0.48646916299820925,-0.19536450054243273,-1.4463445759721227,1.8397089791903722,-0.04567427241237144,-0.8722649704359667,1.501655806737382,-1.0247133970192228,0.3875552334877692,-0.7485457146030059,-0.52364163876346,-0.7546426049417192,1.0741239174140584,-1.082818514974668,-0.050682267560251036,0.1976062660491136,-0.36124633241518506,-0.3464003317250285,1.4583525610748382,-0.018137965611309436,2.5078720568676784,0.4584655084762964,-0.609029438215186,-0.5408052766371294,0.4908360738275197,0.8746041335759098,0.7227830721878171,0.02061706180074759,0.651757172821551,0.5321786347271554,-0.6189706854967447,-0.8803330892394644,-0.03071584005189342,-1.9886438727363793,0.8229309186203905,0.7890306368756327,-0.6025057062017244,-1.0133951630813673,0.4583239442037677,-1.0540367772848824,0.27249714775275824,0.23308697127069317,1.71958930015937,0.3124837977579066,-1.1037781192401224,0.1606789660059298,-0.7006514510911815,0.6357168109204249,0.6896512585494607,-0.3733621725599462],\"type\":\"box\"},{\"boxpoints\":false,\"line\":{\"width\":1.3},\"marker\":{\"color\":\"rgba(128, 0, 128, 1.0)\"},\"name\":\"D\",\"orientation\":\"v\",\"y\":[-0.6497558508146197,0.5696022472138228,-0.7742549950337608,0.014455016891685308,-0.9060133469484182,0.8317357464196173,-0.456742552047923,-0.893425922398005,-0.45629202248448775,0.8865742158055536,0.533112541987365,-0.5764423411134656,-1.0781933958796839,-0.7765606805526603,-0.774676440986213,-0.7254853319541702,0.01857757652433547,-0.4739028578841449,0.41546407453704925,0.18085488752726828,1.6392132099429437,2.152322296915255,0.5510914884845449,-0.17200497405891954,-0.30275609998810576,0.3337058203492321,1.915668368752776,0.09736653391683878,-1.1392266031457392,0.6189098863426716,0.9574377787133139,0.21040552178092659,-1.155999981256473,0.03471012759726958,-0.4759889738470913,-1.3202923670664828,-1.1421903545951442,-0.8023433609911226,0.14145530424876465,-0.8345545750446628,0.05607030814618059,0.8766930176309266,-0.3588416967252633,-1.2923043390651747,-0.14941580871574106,0.27879451079531004,0.2695398313730743,-0.7725303843772486,-0.43646365421850075,-0.9583290852048664,1.150297392219825,-1.1965596759703445,-1.0848850756530122,-0.1402059348920322,-1.2451705111909404,1.8248593793921886,-0.6558475942962985,0.23306245817302218,0.22632642407822606,-2.898995979748627,-1.2624231371901962,-0.45533371264789585,-0.6148073219255857,-0.4503032391310196,0.9341143618964147,-0.056447188256112835,-1.6372042102125877,3.004947294068905,2.7680945544450384,1.1114432303149564,0.3553376235390684,-0.1262912090720706,0.6890509423597909,-1.1360041320724081,-0.2531232310905212,-0.8492015466836488,0.06029213572844701,-1.5223969489227114,0.375856572534485,0.48642780992514606,0.4784750748119479,-1.2676523630862064,0.9255176670906304,0.22951864913232142,1.3429793798892857,2.702687714185298,1.226688593216633,-0.19832038411576372,-0.21840893275786102,1.1394216004837654,0.8271929327400069,0.7290778301278243,1.7026912789896953,-1.3847686195712015,-1.405587735172336,-0.16916074302135256,-2.4284863303666095,-0.5522450839579114,0.2603440872721333,-0.11201117408394276],\"type\":\"box\"}],                        {\"legend\":{\"bgcolor\":\"#F5F6F9\",\"font\":{\"color\":\"#4D5663\"}},\"paper_bgcolor\":\"#F5F6F9\",\"plot_bgcolor\":\"#F5F6F9\",\"template\":{\"data\":{\"barpolar\":[{\"marker\":{\"line\":{\"color\":\"#E5ECF6\",\"width\":0.5},\"pattern\":{\"fillmode\":\"overlay\",\"size\":10,\"solidity\":0.2}},\"type\":\"barpolar\"}],\"bar\":[{\"error_x\":{\"color\":\"#2a3f5f\"},\"error_y\":{\"color\":\"#2a3f5f\"},\"marker\":{\"line\":{\"color\":\"#E5ECF6\",\"width\":0.5},\"pattern\":{\"fillmode\":\"overlay\",\"size\":10,\"solidity\":0.2}},\"type\":\"bar\"}],\"carpet\":[{\"aaxis\":{\"endlinecolor\":\"#2a3f5f\",\"gridcolor\":\"white\",\"linecolor\":\"white\",\"minorgridcolor\":\"white\",\"startlinecolor\":\"#2a3f5f\"},\"baxis\":{\"endlinecolor\":\"#2a3f5f\",\"gridcolor\":\"white\",\"linecolor\":\"white\",\"minorgridcolor\":\"white\",\"startlinecolor\":\"#2a3f5f\"},\"type\":\"carpet\"}],\"choropleth\":[{\"colorbar\":{\"outlinewidth\":0,\"ticks\":\"\"},\"type\":\"choropleth\"}],\"contourcarpet\":[{\"colorbar\":{\"outlinewidth\":0,\"ticks\":\"\"},\"type\":\"contourcarpet\"}],\"contour\":[{\"colorbar\":{\"outlinewidth\":0,\"ticks\":\"\"},\"colorscale\":[[0.0,\"#0d0887\"],[0.1111111111111111,\"#46039f\"],[0.2222222222222222,\"#7201a8\"],[0.3333333333333333,\"#9c179e\"],[0.4444444444444444,\"#bd3786\"],[0.5555555555555556,\"#d8576b\"],[0.6666666666666666,\"#ed7953\"],[0.7777777777777778,\"#fb9f3a\"],[0.8888888888888888,\"#fdca26\"],[1.0,\"#f0f921\"]],\"type\":\"contour\"}],\"heatmapgl\":[{\"colorbar\":{\"outlinewidth\":0,\"ticks\":\"\"},\"colorscale\":[[0.0,\"#0d0887\"],[0.1111111111111111,\"#46039f\"],[0.2222222222222222,\"#7201a8\"],[0.3333333333333333,\"#9c179e\"],[0.4444444444444444,\"#bd3786\"],[0.5555555555555556,\"#d8576b\"],[0.6666666666666666,\"#ed7953\"],[0.7777777777777778,\"#fb9f3a\"],[0.8888888888888888,\"#fdca26\"],[1.0,\"#f0f921\"]],\"type\":\"heatmapgl\"}],\"heatmap\":[{\"colorbar\":{\"outlinewidth\":0,\"ticks\":\"\"},\"colorscale\":[[0.0,\"#0d0887\"],[0.1111111111111111,\"#46039f\"],[0.2222222222222222,\"#7201a8\"],[0.3333333333333333,\"#9c179e\"],[0.4444444444444444,\"#bd3786\"],[0.5555555555555556,\"#d8576b\"],[0.6666666666666666,\"#ed7953\"],[0.7777777777777778,\"#fb9f3a\"],[0.8888888888888888,\"#fdca26\"],[1.0,\"#f0f921\"]],\"type\":\"heatmap\"}],\"histogram2dcontour\":[{\"colorbar\":{\"outlinewidth\":0,\"ticks\":\"\"},\"colorscale\":[[0.0,\"#0d0887\"],[0.1111111111111111,\"#46039f\"],[0.2222222222222222,\"#7201a8\"],[0.3333333333333333,\"#9c179e\"],[0.4444444444444444,\"#bd3786\"],[0.5555555555555556,\"#d8576b\"],[0.6666666666666666,\"#ed7953\"],[0.7777777777777778,\"#fb9f3a\"],[0.8888888888888888,\"#fdca26\"],[1.0,\"#f0f921\"]],\"type\":\"histogram2dcontour\"}],\"histogram2d\":[{\"colorbar\":{\"outlinewidth\":0,\"ticks\":\"\"},\"colorscale\":[[0.0,\"#0d0887\"],[0.1111111111111111,\"#46039f\"],[0.2222222222222222,\"#7201a8\"],[0.3333333333333333,\"#9c179e\"],[0.4444444444444444,\"#bd3786\"],[0.5555555555555556,\"#d8576b\"],[0.6666666666666666,\"#ed7953\"],[0.7777777777777778,\"#fb9f3a\"],[0.8888888888888888,\"#fdca26\"],[1.0,\"#f0f921\"]],\"type\":\"histogram2d\"}],\"histogram\":[{\"marker\":{\"pattern\":{\"fillmode\":\"overlay\",\"size\":10,\"solidity\":0.2}},\"type\":\"histogram\"}],\"mesh3d\":[{\"colorbar\":{\"outlinewidth\":0,\"ticks\":\"\"},\"type\":\"mesh3d\"}],\"parcoords\":[{\"line\":{\"colorbar\":{\"outlinewidth\":0,\"ticks\":\"\"}},\"type\":\"parcoords\"}],\"pie\":[{\"automargin\":true,\"type\":\"pie\"}],\"scatter3d\":[{\"line\":{\"colorbar\":{\"outlinewidth\":0,\"ticks\":\"\"}},\"marker\":{\"colorbar\":{\"outlinewidth\":0,\"ticks\":\"\"}},\"type\":\"scatter3d\"}],\"scattercarpet\":[{\"marker\":{\"colorbar\":{\"outlinewidth\":0,\"ticks\":\"\"}},\"type\":\"scattercarpet\"}],\"scattergeo\":[{\"marker\":{\"colorbar\":{\"outlinewidth\":0,\"ticks\":\"\"}},\"type\":\"scattergeo\"}],\"scattergl\":[{\"marker\":{\"colorbar\":{\"outlinewidth\":0,\"ticks\":\"\"}},\"type\":\"scattergl\"}],\"scattermapbox\":[{\"marker\":{\"colorbar\":{\"outlinewidth\":0,\"ticks\":\"\"}},\"type\":\"scattermapbox\"}],\"scatterpolargl\":[{\"marker\":{\"colorbar\":{\"outlinewidth\":0,\"ticks\":\"\"}},\"type\":\"scatterpolargl\"}],\"scatterpolar\":[{\"marker\":{\"colorbar\":{\"outlinewidth\":0,\"ticks\":\"\"}},\"type\":\"scatterpolar\"}],\"scatter\":[{\"marker\":{\"colorbar\":{\"outlinewidth\":0,\"ticks\":\"\"}},\"type\":\"scatter\"}],\"scatterternary\":[{\"marker\":{\"colorbar\":{\"outlinewidth\":0,\"ticks\":\"\"}},\"type\":\"scatterternary\"}],\"surface\":[{\"colorbar\":{\"outlinewidth\":0,\"ticks\":\"\"},\"colorscale\":[[0.0,\"#0d0887\"],[0.1111111111111111,\"#46039f\"],[0.2222222222222222,\"#7201a8\"],[0.3333333333333333,\"#9c179e\"],[0.4444444444444444,\"#bd3786\"],[0.5555555555555556,\"#d8576b\"],[0.6666666666666666,\"#ed7953\"],[0.7777777777777778,\"#fb9f3a\"],[0.8888888888888888,\"#fdca26\"],[1.0,\"#f0f921\"]],\"type\":\"surface\"}],\"table\":[{\"cells\":{\"fill\":{\"color\":\"#EBF0F8\"},\"line\":{\"color\":\"white\"}},\"header\":{\"fill\":{\"color\":\"#C8D4E3\"},\"line\":{\"color\":\"white\"}},\"type\":\"table\"}]},\"layout\":{\"annotationdefaults\":{\"arrowcolor\":\"#2a3f5f\",\"arrowhead\":0,\"arrowwidth\":1},\"autotypenumbers\":\"strict\",\"coloraxis\":{\"colorbar\":{\"outlinewidth\":0,\"ticks\":\"\"}},\"colorscale\":{\"diverging\":[[0,\"#8e0152\"],[0.1,\"#c51b7d\"],[0.2,\"#de77ae\"],[0.3,\"#f1b6da\"],[0.4,\"#fde0ef\"],[0.5,\"#f7f7f7\"],[0.6,\"#e6f5d0\"],[0.7,\"#b8e186\"],[0.8,\"#7fbc41\"],[0.9,\"#4d9221\"],[1,\"#276419\"]],\"sequential\":[[0.0,\"#0d0887\"],[0.1111111111111111,\"#46039f\"],[0.2222222222222222,\"#7201a8\"],[0.3333333333333333,\"#9c179e\"],[0.4444444444444444,\"#bd3786\"],[0.5555555555555556,\"#d8576b\"],[0.6666666666666666,\"#ed7953\"],[0.7777777777777778,\"#fb9f3a\"],[0.8888888888888888,\"#fdca26\"],[1.0,\"#f0f921\"]],\"sequentialminus\":[[0.0,\"#0d0887\"],[0.1111111111111111,\"#46039f\"],[0.2222222222222222,\"#7201a8\"],[0.3333333333333333,\"#9c179e\"],[0.4444444444444444,\"#bd3786\"],[0.5555555555555556,\"#d8576b\"],[0.6666666666666666,\"#ed7953\"],[0.7777777777777778,\"#fb9f3a\"],[0.8888888888888888,\"#fdca26\"],[1.0,\"#f0f921\"]]},\"colorway\":[\"#636efa\",\"#EF553B\",\"#00cc96\",\"#ab63fa\",\"#FFA15A\",\"#19d3f3\",\"#FF6692\",\"#B6E880\",\"#FF97FF\",\"#FECB52\"],\"font\":{\"color\":\"#2a3f5f\"},\"geo\":{\"bgcolor\":\"white\",\"lakecolor\":\"white\",\"landcolor\":\"#E5ECF6\",\"showlakes\":true,\"showland\":true,\"subunitcolor\":\"white\"},\"hoverlabel\":{\"align\":\"left\"},\"hovermode\":\"closest\",\"mapbox\":{\"style\":\"light\"},\"paper_bgcolor\":\"white\",\"plot_bgcolor\":\"#E5ECF6\",\"polar\":{\"angularaxis\":{\"gridcolor\":\"white\",\"linecolor\":\"white\",\"ticks\":\"\"},\"bgcolor\":\"#E5ECF6\",\"radialaxis\":{\"gridcolor\":\"white\",\"linecolor\":\"white\",\"ticks\":\"\"}},\"scene\":{\"xaxis\":{\"backgroundcolor\":\"#E5ECF6\",\"gridcolor\":\"white\",\"gridwidth\":2,\"linecolor\":\"white\",\"showbackground\":true,\"ticks\":\"\",\"zerolinecolor\":\"white\"},\"yaxis\":{\"backgroundcolor\":\"#E5ECF6\",\"gridcolor\":\"white\",\"gridwidth\":2,\"linecolor\":\"white\",\"showbackground\":true,\"ticks\":\"\",\"zerolinecolor\":\"white\"},\"zaxis\":{\"backgroundcolor\":\"#E5ECF6\",\"gridcolor\":\"white\",\"gridwidth\":2,\"linecolor\":\"white\",\"showbackground\":true,\"ticks\":\"\",\"zerolinecolor\":\"white\"}},\"shapedefaults\":{\"line\":{\"color\":\"#2a3f5f\"}},\"ternary\":{\"aaxis\":{\"gridcolor\":\"white\",\"linecolor\":\"white\",\"ticks\":\"\"},\"baxis\":{\"gridcolor\":\"white\",\"linecolor\":\"white\",\"ticks\":\"\"},\"bgcolor\":\"#E5ECF6\",\"caxis\":{\"gridcolor\":\"white\",\"linecolor\":\"white\",\"ticks\":\"\"}},\"title\":{\"x\":0.05},\"xaxis\":{\"automargin\":true,\"gridcolor\":\"white\",\"linecolor\":\"white\",\"ticks\":\"\",\"title\":{\"standoff\":15},\"zerolinecolor\":\"white\",\"zerolinewidth\":2},\"yaxis\":{\"automargin\":true,\"gridcolor\":\"white\",\"linecolor\":\"white\",\"ticks\":\"\",\"title\":{\"standoff\":15},\"zerolinecolor\":\"white\",\"zerolinewidth\":2}}},\"title\":{\"font\":{\"color\":\"#4D5663\"}},\"xaxis\":{\"gridcolor\":\"#E1E5ED\",\"showgrid\":true,\"tickfont\":{\"color\":\"#4D5663\"},\"title\":{\"font\":{\"color\":\"#4D5663\"},\"text\":\"\"},\"zerolinecolor\":\"#E1E5ED\"},\"yaxis\":{\"gridcolor\":\"#E1E5ED\",\"showgrid\":true,\"tickfont\":{\"color\":\"#4D5663\"},\"title\":{\"font\":{\"color\":\"#4D5663\"},\"text\":\"\"},\"zerolinecolor\":\"#E1E5ED\"}},                        {\"showLink\": true, \"linkText\": \"Export to plot.ly\", \"plotlyServerURL\": \"https://plot.ly\", \"responsive\": true}                    ).then(function(){\n",
       "                            \n",
       "var gd = document.getElementById('e847bc51-dd1d-487a-a594-a62563e62484');\n",
       "var x = new MutationObserver(function (mutations, observer) {{\n",
       "        var display = window.getComputedStyle(gd).display;\n",
       "        if (!display || display === 'none') {{\n",
       "            console.log([gd, 'removed!']);\n",
       "            Plotly.purge(gd);\n",
       "            observer.disconnect();\n",
       "        }}\n",
       "}});\n",
       "\n",
       "// Listen for the removal of the full notebook cells\n",
       "var notebookContainer = gd.closest('#notebook-container');\n",
       "if (notebookContainer) {{\n",
       "    x.observe(notebookContainer, {childList: true});\n",
       "}}\n",
       "\n",
       "// Listen for the clearing of the current output cell\n",
       "var outputEl = gd.closest('.output');\n",
       "if (outputEl) {{\n",
       "    x.observe(outputEl, {childList: true});\n",
       "}}\n",
       "\n",
       "                        })                };                });            </script>        </div>"
      ]
     },
     "metadata": {},
     "output_type": "display_data"
    }
   ],
   "source": [
    "df.iplot(kind='box')"
   ]
  },
  {
   "cell_type": "markdown",
   "metadata": {},
   "source": [
    "## 3d Surface"
   ]
  },
  {
   "cell_type": "code",
   "execution_count": 20,
   "metadata": {},
   "outputs": [
    {
     "data": {
      "application/vnd.plotly.v1+json": {
       "config": {
        "linkText": "Export to plot.ly",
        "plotlyServerURL": "https://plot.ly",
        "showLink": true
       },
       "data": [
        {
         "colorscale": [
          [
           0,
           "rgb(165,0,38)"
          ],
          [
           0.1,
           "rgb(215,48,39)"
          ],
          [
           0.2,
           "rgb(244,109,67)"
          ],
          [
           0.3,
           "rgb(253,174,97)"
          ],
          [
           0.4,
           "rgb(254,224,144)"
          ],
          [
           0.5,
           "rgb(255,255,191)"
          ],
          [
           0.6,
           "rgb(224,243,248)"
          ],
          [
           0.7,
           "rgb(171,217,233)"
          ],
          [
           0.8,
           "rgb(116,173,209)"
          ],
          [
           0.9,
           "rgb(69,117,180)"
          ],
          [
           1,
           "rgb(49,54,149)"
          ]
         ],
         "type": "surface",
         "x": [
          0,
          1,
          2,
          3,
          4
         ],
         "y": [
          "x",
          "y",
          "z"
         ],
         "z": [
          [
           1,
           2,
           3,
           4,
           5
          ],
          [
           10,
           20,
           30,
           20,
           10
          ],
          [
           5,
           4,
           3,
           2,
           1
          ]
         ]
        }
       ],
       "layout": {
        "legend": {
         "bgcolor": "#F5F6F9",
         "font": {
          "color": "#4D5663"
         }
        },
        "paper_bgcolor": "#F5F6F9",
        "plot_bgcolor": "#F5F6F9",
        "template": {
         "data": {
          "bar": [
           {
            "error_x": {
             "color": "#2a3f5f"
            },
            "error_y": {
             "color": "#2a3f5f"
            },
            "marker": {
             "line": {
              "color": "#E5ECF6",
              "width": 0.5
             },
             "pattern": {
              "fillmode": "overlay",
              "size": 10,
              "solidity": 0.2
             }
            },
            "type": "bar"
           }
          ],
          "barpolar": [
           {
            "marker": {
             "line": {
              "color": "#E5ECF6",
              "width": 0.5
             },
             "pattern": {
              "fillmode": "overlay",
              "size": 10,
              "solidity": 0.2
             }
            },
            "type": "barpolar"
           }
          ],
          "carpet": [
           {
            "aaxis": {
             "endlinecolor": "#2a3f5f",
             "gridcolor": "white",
             "linecolor": "white",
             "minorgridcolor": "white",
             "startlinecolor": "#2a3f5f"
            },
            "baxis": {
             "endlinecolor": "#2a3f5f",
             "gridcolor": "white",
             "linecolor": "white",
             "minorgridcolor": "white",
             "startlinecolor": "#2a3f5f"
            },
            "type": "carpet"
           }
          ],
          "choropleth": [
           {
            "colorbar": {
             "outlinewidth": 0,
             "ticks": ""
            },
            "type": "choropleth"
           }
          ],
          "contour": [
           {
            "colorbar": {
             "outlinewidth": 0,
             "ticks": ""
            },
            "colorscale": [
             [
              0,
              "#0d0887"
             ],
             [
              0.1111111111111111,
              "#46039f"
             ],
             [
              0.2222222222222222,
              "#7201a8"
             ],
             [
              0.3333333333333333,
              "#9c179e"
             ],
             [
              0.4444444444444444,
              "#bd3786"
             ],
             [
              0.5555555555555556,
              "#d8576b"
             ],
             [
              0.6666666666666666,
              "#ed7953"
             ],
             [
              0.7777777777777778,
              "#fb9f3a"
             ],
             [
              0.8888888888888888,
              "#fdca26"
             ],
             [
              1,
              "#f0f921"
             ]
            ],
            "type": "contour"
           }
          ],
          "contourcarpet": [
           {
            "colorbar": {
             "outlinewidth": 0,
             "ticks": ""
            },
            "type": "contourcarpet"
           }
          ],
          "heatmap": [
           {
            "colorbar": {
             "outlinewidth": 0,
             "ticks": ""
            },
            "colorscale": [
             [
              0,
              "#0d0887"
             ],
             [
              0.1111111111111111,
              "#46039f"
             ],
             [
              0.2222222222222222,
              "#7201a8"
             ],
             [
              0.3333333333333333,
              "#9c179e"
             ],
             [
              0.4444444444444444,
              "#bd3786"
             ],
             [
              0.5555555555555556,
              "#d8576b"
             ],
             [
              0.6666666666666666,
              "#ed7953"
             ],
             [
              0.7777777777777778,
              "#fb9f3a"
             ],
             [
              0.8888888888888888,
              "#fdca26"
             ],
             [
              1,
              "#f0f921"
             ]
            ],
            "type": "heatmap"
           }
          ],
          "heatmapgl": [
           {
            "colorbar": {
             "outlinewidth": 0,
             "ticks": ""
            },
            "colorscale": [
             [
              0,
              "#0d0887"
             ],
             [
              0.1111111111111111,
              "#46039f"
             ],
             [
              0.2222222222222222,
              "#7201a8"
             ],
             [
              0.3333333333333333,
              "#9c179e"
             ],
             [
              0.4444444444444444,
              "#bd3786"
             ],
             [
              0.5555555555555556,
              "#d8576b"
             ],
             [
              0.6666666666666666,
              "#ed7953"
             ],
             [
              0.7777777777777778,
              "#fb9f3a"
             ],
             [
              0.8888888888888888,
              "#fdca26"
             ],
             [
              1,
              "#f0f921"
             ]
            ],
            "type": "heatmapgl"
           }
          ],
          "histogram": [
           {
            "marker": {
             "pattern": {
              "fillmode": "overlay",
              "size": 10,
              "solidity": 0.2
             }
            },
            "type": "histogram"
           }
          ],
          "histogram2d": [
           {
            "colorbar": {
             "outlinewidth": 0,
             "ticks": ""
            },
            "colorscale": [
             [
              0,
              "#0d0887"
             ],
             [
              0.1111111111111111,
              "#46039f"
             ],
             [
              0.2222222222222222,
              "#7201a8"
             ],
             [
              0.3333333333333333,
              "#9c179e"
             ],
             [
              0.4444444444444444,
              "#bd3786"
             ],
             [
              0.5555555555555556,
              "#d8576b"
             ],
             [
              0.6666666666666666,
              "#ed7953"
             ],
             [
              0.7777777777777778,
              "#fb9f3a"
             ],
             [
              0.8888888888888888,
              "#fdca26"
             ],
             [
              1,
              "#f0f921"
             ]
            ],
            "type": "histogram2d"
           }
          ],
          "histogram2dcontour": [
           {
            "colorbar": {
             "outlinewidth": 0,
             "ticks": ""
            },
            "colorscale": [
             [
              0,
              "#0d0887"
             ],
             [
              0.1111111111111111,
              "#46039f"
             ],
             [
              0.2222222222222222,
              "#7201a8"
             ],
             [
              0.3333333333333333,
              "#9c179e"
             ],
             [
              0.4444444444444444,
              "#bd3786"
             ],
             [
              0.5555555555555556,
              "#d8576b"
             ],
             [
              0.6666666666666666,
              "#ed7953"
             ],
             [
              0.7777777777777778,
              "#fb9f3a"
             ],
             [
              0.8888888888888888,
              "#fdca26"
             ],
             [
              1,
              "#f0f921"
             ]
            ],
            "type": "histogram2dcontour"
           }
          ],
          "mesh3d": [
           {
            "colorbar": {
             "outlinewidth": 0,
             "ticks": ""
            },
            "type": "mesh3d"
           }
          ],
          "parcoords": [
           {
            "line": {
             "colorbar": {
              "outlinewidth": 0,
              "ticks": ""
             }
            },
            "type": "parcoords"
           }
          ],
          "pie": [
           {
            "automargin": true,
            "type": "pie"
           }
          ],
          "scatter": [
           {
            "marker": {
             "colorbar": {
              "outlinewidth": 0,
              "ticks": ""
             }
            },
            "type": "scatter"
           }
          ],
          "scatter3d": [
           {
            "line": {
             "colorbar": {
              "outlinewidth": 0,
              "ticks": ""
             }
            },
            "marker": {
             "colorbar": {
              "outlinewidth": 0,
              "ticks": ""
             }
            },
            "type": "scatter3d"
           }
          ],
          "scattercarpet": [
           {
            "marker": {
             "colorbar": {
              "outlinewidth": 0,
              "ticks": ""
             }
            },
            "type": "scattercarpet"
           }
          ],
          "scattergeo": [
           {
            "marker": {
             "colorbar": {
              "outlinewidth": 0,
              "ticks": ""
             }
            },
            "type": "scattergeo"
           }
          ],
          "scattergl": [
           {
            "marker": {
             "colorbar": {
              "outlinewidth": 0,
              "ticks": ""
             }
            },
            "type": "scattergl"
           }
          ],
          "scattermapbox": [
           {
            "marker": {
             "colorbar": {
              "outlinewidth": 0,
              "ticks": ""
             }
            },
            "type": "scattermapbox"
           }
          ],
          "scatterpolar": [
           {
            "marker": {
             "colorbar": {
              "outlinewidth": 0,
              "ticks": ""
             }
            },
            "type": "scatterpolar"
           }
          ],
          "scatterpolargl": [
           {
            "marker": {
             "colorbar": {
              "outlinewidth": 0,
              "ticks": ""
             }
            },
            "type": "scatterpolargl"
           }
          ],
          "scatterternary": [
           {
            "marker": {
             "colorbar": {
              "outlinewidth": 0,
              "ticks": ""
             }
            },
            "type": "scatterternary"
           }
          ],
          "surface": [
           {
            "colorbar": {
             "outlinewidth": 0,
             "ticks": ""
            },
            "colorscale": [
             [
              0,
              "#0d0887"
             ],
             [
              0.1111111111111111,
              "#46039f"
             ],
             [
              0.2222222222222222,
              "#7201a8"
             ],
             [
              0.3333333333333333,
              "#9c179e"
             ],
             [
              0.4444444444444444,
              "#bd3786"
             ],
             [
              0.5555555555555556,
              "#d8576b"
             ],
             [
              0.6666666666666666,
              "#ed7953"
             ],
             [
              0.7777777777777778,
              "#fb9f3a"
             ],
             [
              0.8888888888888888,
              "#fdca26"
             ],
             [
              1,
              "#f0f921"
             ]
            ],
            "type": "surface"
           }
          ],
          "table": [
           {
            "cells": {
             "fill": {
              "color": "#EBF0F8"
             },
             "line": {
              "color": "white"
             }
            },
            "header": {
             "fill": {
              "color": "#C8D4E3"
             },
             "line": {
              "color": "white"
             }
            },
            "type": "table"
           }
          ]
         },
         "layout": {
          "annotationdefaults": {
           "arrowcolor": "#2a3f5f",
           "arrowhead": 0,
           "arrowwidth": 1
          },
          "autotypenumbers": "strict",
          "coloraxis": {
           "colorbar": {
            "outlinewidth": 0,
            "ticks": ""
           }
          },
          "colorscale": {
           "diverging": [
            [
             0,
             "#8e0152"
            ],
            [
             0.1,
             "#c51b7d"
            ],
            [
             0.2,
             "#de77ae"
            ],
            [
             0.3,
             "#f1b6da"
            ],
            [
             0.4,
             "#fde0ef"
            ],
            [
             0.5,
             "#f7f7f7"
            ],
            [
             0.6,
             "#e6f5d0"
            ],
            [
             0.7,
             "#b8e186"
            ],
            [
             0.8,
             "#7fbc41"
            ],
            [
             0.9,
             "#4d9221"
            ],
            [
             1,
             "#276419"
            ]
           ],
           "sequential": [
            [
             0,
             "#0d0887"
            ],
            [
             0.1111111111111111,
             "#46039f"
            ],
            [
             0.2222222222222222,
             "#7201a8"
            ],
            [
             0.3333333333333333,
             "#9c179e"
            ],
            [
             0.4444444444444444,
             "#bd3786"
            ],
            [
             0.5555555555555556,
             "#d8576b"
            ],
            [
             0.6666666666666666,
             "#ed7953"
            ],
            [
             0.7777777777777778,
             "#fb9f3a"
            ],
            [
             0.8888888888888888,
             "#fdca26"
            ],
            [
             1,
             "#f0f921"
            ]
           ],
           "sequentialminus": [
            [
             0,
             "#0d0887"
            ],
            [
             0.1111111111111111,
             "#46039f"
            ],
            [
             0.2222222222222222,
             "#7201a8"
            ],
            [
             0.3333333333333333,
             "#9c179e"
            ],
            [
             0.4444444444444444,
             "#bd3786"
            ],
            [
             0.5555555555555556,
             "#d8576b"
            ],
            [
             0.6666666666666666,
             "#ed7953"
            ],
            [
             0.7777777777777778,
             "#fb9f3a"
            ],
            [
             0.8888888888888888,
             "#fdca26"
            ],
            [
             1,
             "#f0f921"
            ]
           ]
          },
          "colorway": [
           "#636efa",
           "#EF553B",
           "#00cc96",
           "#ab63fa",
           "#FFA15A",
           "#19d3f3",
           "#FF6692",
           "#B6E880",
           "#FF97FF",
           "#FECB52"
          ],
          "font": {
           "color": "#2a3f5f"
          },
          "geo": {
           "bgcolor": "white",
           "lakecolor": "white",
           "landcolor": "#E5ECF6",
           "showlakes": true,
           "showland": true,
           "subunitcolor": "white"
          },
          "hoverlabel": {
           "align": "left"
          },
          "hovermode": "closest",
          "mapbox": {
           "style": "light"
          },
          "paper_bgcolor": "white",
          "plot_bgcolor": "#E5ECF6",
          "polar": {
           "angularaxis": {
            "gridcolor": "white",
            "linecolor": "white",
            "ticks": ""
           },
           "bgcolor": "#E5ECF6",
           "radialaxis": {
            "gridcolor": "white",
            "linecolor": "white",
            "ticks": ""
           }
          },
          "scene": {
           "xaxis": {
            "backgroundcolor": "#E5ECF6",
            "gridcolor": "white",
            "gridwidth": 2,
            "linecolor": "white",
            "showbackground": true,
            "ticks": "",
            "zerolinecolor": "white"
           },
           "yaxis": {
            "backgroundcolor": "#E5ECF6",
            "gridcolor": "white",
            "gridwidth": 2,
            "linecolor": "white",
            "showbackground": true,
            "ticks": "",
            "zerolinecolor": "white"
           },
           "zaxis": {
            "backgroundcolor": "#E5ECF6",
            "gridcolor": "white",
            "gridwidth": 2,
            "linecolor": "white",
            "showbackground": true,
            "ticks": "",
            "zerolinecolor": "white"
           }
          },
          "shapedefaults": {
           "line": {
            "color": "#2a3f5f"
           }
          },
          "ternary": {
           "aaxis": {
            "gridcolor": "white",
            "linecolor": "white",
            "ticks": ""
           },
           "baxis": {
            "gridcolor": "white",
            "linecolor": "white",
            "ticks": ""
           },
           "bgcolor": "#E5ECF6",
           "caxis": {
            "gridcolor": "white",
            "linecolor": "white",
            "ticks": ""
           }
          },
          "title": {
           "x": 0.05
          },
          "xaxis": {
           "automargin": true,
           "gridcolor": "white",
           "linecolor": "white",
           "ticks": "",
           "title": {
            "standoff": 15
           },
           "zerolinecolor": "white",
           "zerolinewidth": 2
          },
          "yaxis": {
           "automargin": true,
           "gridcolor": "white",
           "linecolor": "white",
           "ticks": "",
           "title": {
            "standoff": 15
           },
           "zerolinecolor": "white",
           "zerolinewidth": 2
          }
         }
        },
        "title": {
         "font": {
          "color": "#4D5663"
         }
        },
        "xaxis": {
         "gridcolor": "#E1E5ED",
         "showgrid": true,
         "tickfont": {
          "color": "#4D5663"
         },
         "title": {
          "font": {
           "color": "#4D5663"
          },
          "text": ""
         },
         "zerolinecolor": "#E1E5ED"
        },
        "yaxis": {
         "gridcolor": "#E1E5ED",
         "showgrid": true,
         "tickfont": {
          "color": "#4D5663"
         },
         "title": {
          "font": {
           "color": "#4D5663"
          },
          "text": ""
         },
         "zerolinecolor": "#E1E5ED"
        }
       }
      },
      "text/html": [
       "<div>                            <div id=\"67d68746-3ef6-4004-9954-7d03e13a14cf\" class=\"plotly-graph-div\" style=\"height:525px; width:100%;\"></div>            <script type=\"text/javascript\">                require([\"plotly\"], function(Plotly) {                    window.PLOTLYENV=window.PLOTLYENV || {};\n",
       "                    window.PLOTLYENV.BASE_URL='https://plot.ly';                                    if (document.getElementById(\"67d68746-3ef6-4004-9954-7d03e13a14cf\")) {                    Plotly.newPlot(                        \"67d68746-3ef6-4004-9954-7d03e13a14cf\",                        [{\"colorscale\":[[0.0,\"rgb(165,0,38)\"],[0.1,\"rgb(215,48,39)\"],[0.2,\"rgb(244,109,67)\"],[0.3,\"rgb(253,174,97)\"],[0.4,\"rgb(254,224,144)\"],[0.5,\"rgb(255,255,191)\"],[0.6,\"rgb(224,243,248)\"],[0.7,\"rgb(171,217,233)\"],[0.8,\"rgb(116,173,209)\"],[0.9,\"rgb(69,117,180)\"],[1.0,\"rgb(49,54,149)\"]],\"x\":[0,1,2,3,4],\"y\":[\"x\",\"y\",\"z\"],\"z\":[[1,2,3,4,5],[10,20,30,20,10],[5,4,3,2,1]],\"type\":\"surface\"}],                        {\"legend\":{\"bgcolor\":\"#F5F6F9\",\"font\":{\"color\":\"#4D5663\"}},\"paper_bgcolor\":\"#F5F6F9\",\"plot_bgcolor\":\"#F5F6F9\",\"template\":{\"data\":{\"barpolar\":[{\"marker\":{\"line\":{\"color\":\"#E5ECF6\",\"width\":0.5},\"pattern\":{\"fillmode\":\"overlay\",\"size\":10,\"solidity\":0.2}},\"type\":\"barpolar\"}],\"bar\":[{\"error_x\":{\"color\":\"#2a3f5f\"},\"error_y\":{\"color\":\"#2a3f5f\"},\"marker\":{\"line\":{\"color\":\"#E5ECF6\",\"width\":0.5},\"pattern\":{\"fillmode\":\"overlay\",\"size\":10,\"solidity\":0.2}},\"type\":\"bar\"}],\"carpet\":[{\"aaxis\":{\"endlinecolor\":\"#2a3f5f\",\"gridcolor\":\"white\",\"linecolor\":\"white\",\"minorgridcolor\":\"white\",\"startlinecolor\":\"#2a3f5f\"},\"baxis\":{\"endlinecolor\":\"#2a3f5f\",\"gridcolor\":\"white\",\"linecolor\":\"white\",\"minorgridcolor\":\"white\",\"startlinecolor\":\"#2a3f5f\"},\"type\":\"carpet\"}],\"choropleth\":[{\"colorbar\":{\"outlinewidth\":0,\"ticks\":\"\"},\"type\":\"choropleth\"}],\"contourcarpet\":[{\"colorbar\":{\"outlinewidth\":0,\"ticks\":\"\"},\"type\":\"contourcarpet\"}],\"contour\":[{\"colorbar\":{\"outlinewidth\":0,\"ticks\":\"\"},\"colorscale\":[[0.0,\"#0d0887\"],[0.1111111111111111,\"#46039f\"],[0.2222222222222222,\"#7201a8\"],[0.3333333333333333,\"#9c179e\"],[0.4444444444444444,\"#bd3786\"],[0.5555555555555556,\"#d8576b\"],[0.6666666666666666,\"#ed7953\"],[0.7777777777777778,\"#fb9f3a\"],[0.8888888888888888,\"#fdca26\"],[1.0,\"#f0f921\"]],\"type\":\"contour\"}],\"heatmapgl\":[{\"colorbar\":{\"outlinewidth\":0,\"ticks\":\"\"},\"colorscale\":[[0.0,\"#0d0887\"],[0.1111111111111111,\"#46039f\"],[0.2222222222222222,\"#7201a8\"],[0.3333333333333333,\"#9c179e\"],[0.4444444444444444,\"#bd3786\"],[0.5555555555555556,\"#d8576b\"],[0.6666666666666666,\"#ed7953\"],[0.7777777777777778,\"#fb9f3a\"],[0.8888888888888888,\"#fdca26\"],[1.0,\"#f0f921\"]],\"type\":\"heatmapgl\"}],\"heatmap\":[{\"colorbar\":{\"outlinewidth\":0,\"ticks\":\"\"},\"colorscale\":[[0.0,\"#0d0887\"],[0.1111111111111111,\"#46039f\"],[0.2222222222222222,\"#7201a8\"],[0.3333333333333333,\"#9c179e\"],[0.4444444444444444,\"#bd3786\"],[0.5555555555555556,\"#d8576b\"],[0.6666666666666666,\"#ed7953\"],[0.7777777777777778,\"#fb9f3a\"],[0.8888888888888888,\"#fdca26\"],[1.0,\"#f0f921\"]],\"type\":\"heatmap\"}],\"histogram2dcontour\":[{\"colorbar\":{\"outlinewidth\":0,\"ticks\":\"\"},\"colorscale\":[[0.0,\"#0d0887\"],[0.1111111111111111,\"#46039f\"],[0.2222222222222222,\"#7201a8\"],[0.3333333333333333,\"#9c179e\"],[0.4444444444444444,\"#bd3786\"],[0.5555555555555556,\"#d8576b\"],[0.6666666666666666,\"#ed7953\"],[0.7777777777777778,\"#fb9f3a\"],[0.8888888888888888,\"#fdca26\"],[1.0,\"#f0f921\"]],\"type\":\"histogram2dcontour\"}],\"histogram2d\":[{\"colorbar\":{\"outlinewidth\":0,\"ticks\":\"\"},\"colorscale\":[[0.0,\"#0d0887\"],[0.1111111111111111,\"#46039f\"],[0.2222222222222222,\"#7201a8\"],[0.3333333333333333,\"#9c179e\"],[0.4444444444444444,\"#bd3786\"],[0.5555555555555556,\"#d8576b\"],[0.6666666666666666,\"#ed7953\"],[0.7777777777777778,\"#fb9f3a\"],[0.8888888888888888,\"#fdca26\"],[1.0,\"#f0f921\"]],\"type\":\"histogram2d\"}],\"histogram\":[{\"marker\":{\"pattern\":{\"fillmode\":\"overlay\",\"size\":10,\"solidity\":0.2}},\"type\":\"histogram\"}],\"mesh3d\":[{\"colorbar\":{\"outlinewidth\":0,\"ticks\":\"\"},\"type\":\"mesh3d\"}],\"parcoords\":[{\"line\":{\"colorbar\":{\"outlinewidth\":0,\"ticks\":\"\"}},\"type\":\"parcoords\"}],\"pie\":[{\"automargin\":true,\"type\":\"pie\"}],\"scatter3d\":[{\"line\":{\"colorbar\":{\"outlinewidth\":0,\"ticks\":\"\"}},\"marker\":{\"colorbar\":{\"outlinewidth\":0,\"ticks\":\"\"}},\"type\":\"scatter3d\"}],\"scattercarpet\":[{\"marker\":{\"colorbar\":{\"outlinewidth\":0,\"ticks\":\"\"}},\"type\":\"scattercarpet\"}],\"scattergeo\":[{\"marker\":{\"colorbar\":{\"outlinewidth\":0,\"ticks\":\"\"}},\"type\":\"scattergeo\"}],\"scattergl\":[{\"marker\":{\"colorbar\":{\"outlinewidth\":0,\"ticks\":\"\"}},\"type\":\"scattergl\"}],\"scattermapbox\":[{\"marker\":{\"colorbar\":{\"outlinewidth\":0,\"ticks\":\"\"}},\"type\":\"scattermapbox\"}],\"scatterpolargl\":[{\"marker\":{\"colorbar\":{\"outlinewidth\":0,\"ticks\":\"\"}},\"type\":\"scatterpolargl\"}],\"scatterpolar\":[{\"marker\":{\"colorbar\":{\"outlinewidth\":0,\"ticks\":\"\"}},\"type\":\"scatterpolar\"}],\"scatter\":[{\"marker\":{\"colorbar\":{\"outlinewidth\":0,\"ticks\":\"\"}},\"type\":\"scatter\"}],\"scatterternary\":[{\"marker\":{\"colorbar\":{\"outlinewidth\":0,\"ticks\":\"\"}},\"type\":\"scatterternary\"}],\"surface\":[{\"colorbar\":{\"outlinewidth\":0,\"ticks\":\"\"},\"colorscale\":[[0.0,\"#0d0887\"],[0.1111111111111111,\"#46039f\"],[0.2222222222222222,\"#7201a8\"],[0.3333333333333333,\"#9c179e\"],[0.4444444444444444,\"#bd3786\"],[0.5555555555555556,\"#d8576b\"],[0.6666666666666666,\"#ed7953\"],[0.7777777777777778,\"#fb9f3a\"],[0.8888888888888888,\"#fdca26\"],[1.0,\"#f0f921\"]],\"type\":\"surface\"}],\"table\":[{\"cells\":{\"fill\":{\"color\":\"#EBF0F8\"},\"line\":{\"color\":\"white\"}},\"header\":{\"fill\":{\"color\":\"#C8D4E3\"},\"line\":{\"color\":\"white\"}},\"type\":\"table\"}]},\"layout\":{\"annotationdefaults\":{\"arrowcolor\":\"#2a3f5f\",\"arrowhead\":0,\"arrowwidth\":1},\"autotypenumbers\":\"strict\",\"coloraxis\":{\"colorbar\":{\"outlinewidth\":0,\"ticks\":\"\"}},\"colorscale\":{\"diverging\":[[0,\"#8e0152\"],[0.1,\"#c51b7d\"],[0.2,\"#de77ae\"],[0.3,\"#f1b6da\"],[0.4,\"#fde0ef\"],[0.5,\"#f7f7f7\"],[0.6,\"#e6f5d0\"],[0.7,\"#b8e186\"],[0.8,\"#7fbc41\"],[0.9,\"#4d9221\"],[1,\"#276419\"]],\"sequential\":[[0.0,\"#0d0887\"],[0.1111111111111111,\"#46039f\"],[0.2222222222222222,\"#7201a8\"],[0.3333333333333333,\"#9c179e\"],[0.4444444444444444,\"#bd3786\"],[0.5555555555555556,\"#d8576b\"],[0.6666666666666666,\"#ed7953\"],[0.7777777777777778,\"#fb9f3a\"],[0.8888888888888888,\"#fdca26\"],[1.0,\"#f0f921\"]],\"sequentialminus\":[[0.0,\"#0d0887\"],[0.1111111111111111,\"#46039f\"],[0.2222222222222222,\"#7201a8\"],[0.3333333333333333,\"#9c179e\"],[0.4444444444444444,\"#bd3786\"],[0.5555555555555556,\"#d8576b\"],[0.6666666666666666,\"#ed7953\"],[0.7777777777777778,\"#fb9f3a\"],[0.8888888888888888,\"#fdca26\"],[1.0,\"#f0f921\"]]},\"colorway\":[\"#636efa\",\"#EF553B\",\"#00cc96\",\"#ab63fa\",\"#FFA15A\",\"#19d3f3\",\"#FF6692\",\"#B6E880\",\"#FF97FF\",\"#FECB52\"],\"font\":{\"color\":\"#2a3f5f\"},\"geo\":{\"bgcolor\":\"white\",\"lakecolor\":\"white\",\"landcolor\":\"#E5ECF6\",\"showlakes\":true,\"showland\":true,\"subunitcolor\":\"white\"},\"hoverlabel\":{\"align\":\"left\"},\"hovermode\":\"closest\",\"mapbox\":{\"style\":\"light\"},\"paper_bgcolor\":\"white\",\"plot_bgcolor\":\"#E5ECF6\",\"polar\":{\"angularaxis\":{\"gridcolor\":\"white\",\"linecolor\":\"white\",\"ticks\":\"\"},\"bgcolor\":\"#E5ECF6\",\"radialaxis\":{\"gridcolor\":\"white\",\"linecolor\":\"white\",\"ticks\":\"\"}},\"scene\":{\"xaxis\":{\"backgroundcolor\":\"#E5ECF6\",\"gridcolor\":\"white\",\"gridwidth\":2,\"linecolor\":\"white\",\"showbackground\":true,\"ticks\":\"\",\"zerolinecolor\":\"white\"},\"yaxis\":{\"backgroundcolor\":\"#E5ECF6\",\"gridcolor\":\"white\",\"gridwidth\":2,\"linecolor\":\"white\",\"showbackground\":true,\"ticks\":\"\",\"zerolinecolor\":\"white\"},\"zaxis\":{\"backgroundcolor\":\"#E5ECF6\",\"gridcolor\":\"white\",\"gridwidth\":2,\"linecolor\":\"white\",\"showbackground\":true,\"ticks\":\"\",\"zerolinecolor\":\"white\"}},\"shapedefaults\":{\"line\":{\"color\":\"#2a3f5f\"}},\"ternary\":{\"aaxis\":{\"gridcolor\":\"white\",\"linecolor\":\"white\",\"ticks\":\"\"},\"baxis\":{\"gridcolor\":\"white\",\"linecolor\":\"white\",\"ticks\":\"\"},\"bgcolor\":\"#E5ECF6\",\"caxis\":{\"gridcolor\":\"white\",\"linecolor\":\"white\",\"ticks\":\"\"}},\"title\":{\"x\":0.05},\"xaxis\":{\"automargin\":true,\"gridcolor\":\"white\",\"linecolor\":\"white\",\"ticks\":\"\",\"title\":{\"standoff\":15},\"zerolinecolor\":\"white\",\"zerolinewidth\":2},\"yaxis\":{\"automargin\":true,\"gridcolor\":\"white\",\"linecolor\":\"white\",\"ticks\":\"\",\"title\":{\"standoff\":15},\"zerolinecolor\":\"white\",\"zerolinewidth\":2}}},\"title\":{\"font\":{\"color\":\"#4D5663\"}},\"xaxis\":{\"gridcolor\":\"#E1E5ED\",\"showgrid\":true,\"tickfont\":{\"color\":\"#4D5663\"},\"title\":{\"font\":{\"color\":\"#4D5663\"},\"text\":\"\"},\"zerolinecolor\":\"#E1E5ED\"},\"yaxis\":{\"gridcolor\":\"#E1E5ED\",\"showgrid\":true,\"tickfont\":{\"color\":\"#4D5663\"},\"title\":{\"font\":{\"color\":\"#4D5663\"},\"text\":\"\"},\"zerolinecolor\":\"#E1E5ED\"}},                        {\"showLink\": true, \"linkText\": \"Export to plot.ly\", \"plotlyServerURL\": \"https://plot.ly\", \"responsive\": true}                    ).then(function(){\n",
       "                            \n",
       "var gd = document.getElementById('67d68746-3ef6-4004-9954-7d03e13a14cf');\n",
       "var x = new MutationObserver(function (mutations, observer) {{\n",
       "        var display = window.getComputedStyle(gd).display;\n",
       "        if (!display || display === 'none') {{\n",
       "            console.log([gd, 'removed!']);\n",
       "            Plotly.purge(gd);\n",
       "            observer.disconnect();\n",
       "        }}\n",
       "}});\n",
       "\n",
       "// Listen for the removal of the full notebook cells\n",
       "var notebookContainer = gd.closest('#notebook-container');\n",
       "if (notebookContainer) {{\n",
       "    x.observe(notebookContainer, {childList: true});\n",
       "}}\n",
       "\n",
       "// Listen for the clearing of the current output cell\n",
       "var outputEl = gd.closest('.output');\n",
       "if (outputEl) {{\n",
       "    x.observe(outputEl, {childList: true});\n",
       "}}\n",
       "\n",
       "                        })                };                });            </script>        </div>"
      ]
     },
     "metadata": {},
     "output_type": "display_data"
    }
   ],
   "source": [
    "df3 = pd.DataFrame({'x':[1,2,3,4,5],'y':[10,20,30,20,10],'z':[5,4,3,2,1]})\n",
    "df3.iplot(kind='surface',colorscale='rdylbu')"
   ]
  },
  {
   "cell_type": "markdown",
   "metadata": {},
   "source": [
    "## Spread"
   ]
  },
  {
   "cell_type": "code",
   "execution_count": 21,
   "metadata": {},
   "outputs": [
    {
     "name": "stderr",
     "output_type": "stream",
     "text": [
      "C:\\Users\\KLUCK\\anaconda3\\lib\\site-packages\\cufflinks\\plotlytools.py:849: FutureWarning:\n",
      "\n",
      "The pandas.np module is deprecated and will be removed from pandas in a future version. Import numpy directly instead\n",
      "\n",
      "C:\\Users\\KLUCK\\anaconda3\\lib\\site-packages\\cufflinks\\plotlytools.py:850: FutureWarning:\n",
      "\n",
      "The pandas.np module is deprecated and will be removed from pandas in a future version. Import numpy directly instead\n",
      "\n"
     ]
    },
    {
     "data": {
      "application/vnd.plotly.v1+json": {
       "config": {
        "linkText": "Export to plot.ly",
        "plotlyServerURL": "https://plot.ly",
        "showLink": true
       },
       "data": [
        {
         "line": {
          "color": "rgba(255, 153, 51, 1.0)",
          "dash": "solid",
          "shape": "linear",
          "width": 1.3
         },
         "mode": "lines",
         "name": "A",
         "text": "",
         "type": "scatter",
         "x": [
          0,
          1,
          2,
          3,
          4,
          5,
          6,
          7,
          8,
          9,
          10,
          11,
          12,
          13,
          14,
          15,
          16,
          17,
          18,
          19,
          20,
          21,
          22,
          23,
          24,
          25,
          26,
          27,
          28,
          29,
          30,
          31,
          32,
          33,
          34,
          35,
          36,
          37,
          38,
          39,
          40,
          41,
          42,
          43,
          44,
          45,
          46,
          47,
          48,
          49,
          50,
          51,
          52,
          53,
          54,
          55,
          56,
          57,
          58,
          59,
          60,
          61,
          62,
          63,
          64,
          65,
          66,
          67,
          68,
          69,
          70,
          71,
          72,
          73,
          74,
          75,
          76,
          77,
          78,
          79,
          80,
          81,
          82,
          83,
          84,
          85,
          86,
          87,
          88,
          89,
          90,
          91,
          92,
          93,
          94,
          95,
          96,
          97,
          98,
          99
         ],
         "y": [
          1.0163663847315616,
          0.6173154871769431,
          -0.6772810476386104,
          0.6237655411646876,
          -0.37260920798691394,
          0.5268099656427503,
          3.3821009368357,
          1.9577238270097503,
          2.3672034338753085,
          -0.1264357292249816,
          -0.8103067961827602,
          0.626606385498777,
          0.8971248085452803,
          0.9197234355071809,
          -0.08116844691411543,
          -0.23627135619609388,
          0.006315752144729975,
          0.8669884152608879,
          1.3477600604778872,
          0.5955044109947454,
          -2.2568755644129865,
          -0.4068329840129025,
          -1.0539585845464274,
          1.1553831547694944,
          0.8367721877894332,
          0.07562472966509834,
          -0.12160991114433886,
          -1.8708656358350333,
          -2.0980755507321915,
          -0.08333649016138943,
          -0.47654864104757116,
          0.3105903538405738,
          -0.2108414867369569,
          1.2160327251023146,
          0.530254461980228,
          0.8521931743489114,
          1.3174997251183853,
          -0.6329843164077711,
          -0.882042357186549,
          -0.10209874131529179,
          -0.8947340334956717,
          -0.03844201310949979,
          0.7649005814572767,
          -0.5966885081694819,
          0.11506435913682996,
          -0.10048058063216983,
          0.9452885815617678,
          -0.4588861395882851,
          1.2607952095263109,
          0.9909294214610531,
          -1.1887396736772753,
          0.45737437826220323,
          1.218396683884078,
          -0.6001335964116054,
          0.04417622281112498,
          0.004450468534862416,
          1.8313217303103826,
          -0.37055291069047724,
          1.2230284286498043,
          0.9753590408138841,
          -0.9655361156914539,
          -1.2668526033999856,
          1.1422566561817689,
          0.06441963023437752,
          -0.8204500089030339,
          -0.08683699678333419,
          -0.36853538959583965,
          -0.7060872984774748,
          1.2026123368245425,
          -1.3864336167600535,
          0.6529959510516941,
          -0.08084710487352231,
          0.3907698202410437,
          0.8968560566217788,
          -0.6609848902540147,
          1.8688627173419552,
          -0.27731576559523075,
          -1.7189260231242547,
          0.39408077609560643,
          0.6185665794368471,
          0.9780991990845405,
          -0.37004731829361825,
          -0.5377331341474938,
          0.43868366034200346,
          0.5368217774165542,
          1.213954701386464,
          0.5110904541180284,
          -0.4235805169165554,
          -1.0118041589500104,
          1.1431317111969865,
          -1.350938695027268,
          1.0143078055993617,
          -0.7217509864426822,
          0.9030044560127558,
          0.42860812787029134,
          -0.1071231255623638,
          -0.4543792366009019,
          -0.9730770823989808,
          0.1872464176467623,
          1.9436565221058293
         ]
        },
        {
         "line": {
          "color": "rgba(55, 128, 191, 1.0)",
          "dash": "solid",
          "shape": "linear",
          "width": 1.3
         },
         "mode": "lines",
         "name": "B",
         "text": "",
         "type": "scatter",
         "x": [
          0,
          1,
          2,
          3,
          4,
          5,
          6,
          7,
          8,
          9,
          10,
          11,
          12,
          13,
          14,
          15,
          16,
          17,
          18,
          19,
          20,
          21,
          22,
          23,
          24,
          25,
          26,
          27,
          28,
          29,
          30,
          31,
          32,
          33,
          34,
          35,
          36,
          37,
          38,
          39,
          40,
          41,
          42,
          43,
          44,
          45,
          46,
          47,
          48,
          49,
          50,
          51,
          52,
          53,
          54,
          55,
          56,
          57,
          58,
          59,
          60,
          61,
          62,
          63,
          64,
          65,
          66,
          67,
          68,
          69,
          70,
          71,
          72,
          73,
          74,
          75,
          76,
          77,
          78,
          79,
          80,
          81,
          82,
          83,
          84,
          85,
          86,
          87,
          88,
          89,
          90,
          91,
          92,
          93,
          94,
          95,
          96,
          97,
          98,
          99
         ],
         "y": [
          -1.314123512152019,
          0.39375016329835755,
          -0.3333754421609034,
          -0.16129292315339847,
          0.39089174011821676,
          -0.2415285832239928,
          -0.1330687410391177,
          -2.742176842383155,
          -1.4549249762961163,
          -0.03288164196362554,
          0.7870954339775161,
          -1.5906364831120088,
          -0.24665783984415385,
          -1.2709531905402118,
          1.4177396247528429,
          0.9139339993306476,
          0.14968727936437834,
          -1.4773579780270367,
          1.2836065788783506,
          0.4218429543817784,
          -0.3891327307587016,
          -0.6603022181306161,
          -1.0684908499632273,
          -0.3548553707374886,
          0.899830228716969,
          -0.8941242273946151,
          0.28641016797356983,
          -0.5620191278396524,
          0.5645175911279281,
          -0.687053335069698,
          1.9940782552722824,
          0.41288636989328503,
          -0.0757559224356657,
          -1.228484199092643,
          0.10159891043339675,
          -0.8406593103911069,
          0.626646032389116,
          1.344081195804092,
          -0.2058879538088759,
          -0.24892149899365876,
          1.61428601967461,
          1.054023242279591,
          -1.0494231161382948,
          -0.29037512816229744,
          -0.31845732692891965,
          0.529699171795502,
          -0.8271224841739949,
          0.4273220127629525,
          -0.7435857578963644,
          -0.27184790451055646,
          -1.4840195959301983,
          -0.44688526663229666,
          0.4628829916489609,
          -1.0937281052231775,
          -0.04684302086081167,
          -1.7319842733126842,
          0.8936502873631862,
          -0.8605804212619843,
          -1.491722030552004,
          0.22619482826173615,
          0.12596075803515505,
          0.5939073679012035,
          -2.0319593614147418,
          0.4094611282332534,
          -1.425236969134026,
          0.13011219954716607,
          -0.40809823124548433,
          -0.09813875666548708,
          -0.3443129245978503,
          0.3722128853803303,
          -0.4876598037455311,
          1.0394990700889335,
          -0.8096093205424912,
          1.8638913823070484,
          1.4465628410979272,
          1.5033357505346296,
          -0.1644064395364936,
          0.9572849136768261,
          1.5099517130489664,
          -0.03615537780077251,
          -0.7750468333728179,
          0.6185273461544226,
          0.8477903244792816,
          0.2404673003418146,
          -0.8111967164058738,
          0.538679623313098,
          -0.594248432346121,
          0.971093297394865,
          0.26710198449999917,
          -0.37466122018418707,
          0.35159515438680605,
          -0.36114835700299674,
          -1.2442893555942884,
          -2.2215578576176584,
          1.1728151414090098,
          0.6090886842595982,
          -1.6522977997891652,
          -1.1130954230421588,
          0.42121458153220404,
          -0.8627485862769746
         ]
        },
        {
         "connectgaps": false,
         "fill": "tozeroy",
         "line": {
          "color": "green",
          "dash": "solid",
          "shape": "linear",
          "width": 0.5
         },
         "mode": "lines",
         "name": "Spread",
         "showlegend": false,
         "type": "scatter",
         "x": [
          0,
          1,
          2,
          3,
          4,
          5,
          6,
          7,
          8,
          9,
          10,
          11,
          12,
          13,
          14,
          15,
          16,
          17,
          18,
          19,
          20,
          21,
          22,
          23,
          24,
          25,
          26,
          27,
          28,
          29,
          30,
          31,
          32,
          33,
          34,
          35,
          36,
          37,
          38,
          39,
          40,
          41,
          42,
          43,
          44,
          45,
          46,
          47,
          48,
          49,
          50,
          51,
          52,
          53,
          54,
          55,
          56,
          57,
          58,
          59,
          60,
          61,
          62,
          63,
          64,
          65,
          66,
          67,
          68,
          69,
          70,
          71,
          72,
          73,
          74,
          75,
          76,
          77,
          78,
          79,
          80,
          81,
          82,
          83,
          84,
          85,
          86,
          87,
          88,
          89,
          90,
          91,
          92,
          93,
          94,
          95,
          96,
          97,
          98,
          99
         ],
         "xaxis": "x2",
         "y": [
          2.3304898968835808,
          0.22356532387858552,
          "",
          0.7850584643180861,
          "",
          0.7683385488667431,
          3.515169677874818,
          4.699900669392905,
          3.822128410171425,
          "",
          "",
          2.2172428686107857,
          1.1437826483894342,
          2.190676626047393,
          "",
          "",
          "",
          2.3443463932879247,
          0.0641534815995366,
          0.173661456612967,
          "",
          0.25346923411771355,
          0.014532265416799861,
          1.510238525506983,
          "",
          0.9697489570597134,
          "",
          "",
          "",
          0.6037168449083086,
          "",
          "",
          "",
          2.4445169241949576,
          0.4286555515468312,
          1.6928524847400181,
          0.6908536927292693,
          "",
          "",
          0.14682275767836697,
          "",
          "",
          1.8143236975955714,
          "",
          0.4335216860657496,
          "",
          1.7724110657357626,
          "",
          2.004380967422675,
          1.2627773259716095,
          0.295279922252923,
          0.9042596448945,
          0.7555136922351171,
          0.4935945088115722,
          0.09101924367193664,
          1.7364347418475465,
          0.9376714429471964,
          0.49002751057150706,
          2.7147504592018086,
          0.749164212552148,
          "",
          "",
          3.1742160175965104,
          "",
          0.6047869602309922,
          "",
          0.03956284164964469,
          "",
          1.5469252614223927,
          "",
          1.1406557547972251,
          "",
          1.200379140783535,
          "",
          "",
          0.36552696680732555,
          "",
          "",
          "",
          0.6547219572376196,
          1.7531460324573582,
          "",
          "",
          0.19821636000018886,
          1.348018493822428,
          0.675275078073366,
          1.1053388864641494,
          "",
          "",
          1.5177929313811735,
          "",
          1.3754561626023585,
          0.5225383691516062,
          3.124562313630414,
          "",
          "",
          1.1979185631882634,
          0.14001834064317797,
          "",
          2.806405108382804
         ],
         "yaxis": "y2"
        },
        {
         "connectgaps": false,
         "fill": "tozeroy",
         "line": {
          "color": "red",
          "dash": "solid",
          "shape": "linear",
          "width": 0.5
         },
         "mode": "lines",
         "name": "Spread",
         "showlegend": false,
         "type": "scatter",
         "x": [
          0,
          1,
          2,
          3,
          4,
          5,
          6,
          7,
          8,
          9,
          10,
          11,
          12,
          13,
          14,
          15,
          16,
          17,
          18,
          19,
          20,
          21,
          22,
          23,
          24,
          25,
          26,
          27,
          28,
          29,
          30,
          31,
          32,
          33,
          34,
          35,
          36,
          37,
          38,
          39,
          40,
          41,
          42,
          43,
          44,
          45,
          46,
          47,
          48,
          49,
          50,
          51,
          52,
          53,
          54,
          55,
          56,
          57,
          58,
          59,
          60,
          61,
          62,
          63,
          64,
          65,
          66,
          67,
          68,
          69,
          70,
          71,
          72,
          73,
          74,
          75,
          76,
          77,
          78,
          79,
          80,
          81,
          82,
          83,
          84,
          85,
          86,
          87,
          88,
          89,
          90,
          91,
          92,
          93,
          94,
          95,
          96,
          97,
          98,
          99
         ],
         "xaxis": "x2",
         "y": [
          "",
          "",
          -0.343905605477707,
          "",
          -0.7635009481051307,
          "",
          "",
          "",
          "",
          -0.09355408726135608,
          -1.5974022301602764,
          "",
          "",
          "",
          -1.4989080716669583,
          -1.1502053555267415,
          -0.14337152721964835,
          "",
          "",
          "",
          -1.867742833654285,
          "",
          "",
          "",
          -0.06305804092753586,
          "",
          -0.4080200791179087,
          -1.3088465079953808,
          -2.6625931418601194,
          "",
          -2.4706268963198537,
          -0.10229601605271121,
          -0.1350855643012912,
          "",
          "",
          "",
          "",
          -1.977065512211863,
          -0.6761544033776731,
          "",
          -2.509020053170282,
          -1.0924652553890908,
          "",
          -0.3063133800071845,
          "",
          -0.6301797524276718,
          "",
          -0.8862081523512376,
          "",
          "",
          "",
          "",
          "",
          "",
          "",
          "",
          "",
          "",
          "",
          "",
          -1.091496873726609,
          -1.860759971301189,
          "",
          -0.3450414979988759,
          "",
          -0.21694919633050025,
          "",
          -0.6079485418119877,
          "",
          -1.7586465021403839,
          "",
          -1.1203461749624557,
          "",
          -0.9670353256852696,
          -2.107547731351942,
          "",
          -0.11290932605873716,
          -2.676210936801081,
          -1.11587093695336,
          "",
          "",
          -0.9885746644480409,
          -1.3855234586267753,
          "",
          "",
          "",
          "",
          -1.3946738143114206,
          -1.2789061434500095,
          "",
          -1.702533849414074,
          "",
          "",
          "",
          -0.7442070135387184,
          -0.716211809821962,
          "",
          "",
          -0.23396816388544173,
          ""
         ],
         "yaxis": "y2"
        }
       ],
       "layout": {
        "hovermode": "x",
        "legend": {
         "bgcolor": "#F5F6F9",
         "font": {
          "color": "#4D5663"
         }
        },
        "paper_bgcolor": "#F5F6F9",
        "plot_bgcolor": "#F5F6F9",
        "template": {
         "data": {
          "bar": [
           {
            "error_x": {
             "color": "#2a3f5f"
            },
            "error_y": {
             "color": "#2a3f5f"
            },
            "marker": {
             "line": {
              "color": "#E5ECF6",
              "width": 0.5
             },
             "pattern": {
              "fillmode": "overlay",
              "size": 10,
              "solidity": 0.2
             }
            },
            "type": "bar"
           }
          ],
          "barpolar": [
           {
            "marker": {
             "line": {
              "color": "#E5ECF6",
              "width": 0.5
             },
             "pattern": {
              "fillmode": "overlay",
              "size": 10,
              "solidity": 0.2
             }
            },
            "type": "barpolar"
           }
          ],
          "carpet": [
           {
            "aaxis": {
             "endlinecolor": "#2a3f5f",
             "gridcolor": "white",
             "linecolor": "white",
             "minorgridcolor": "white",
             "startlinecolor": "#2a3f5f"
            },
            "baxis": {
             "endlinecolor": "#2a3f5f",
             "gridcolor": "white",
             "linecolor": "white",
             "minorgridcolor": "white",
             "startlinecolor": "#2a3f5f"
            },
            "type": "carpet"
           }
          ],
          "choropleth": [
           {
            "colorbar": {
             "outlinewidth": 0,
             "ticks": ""
            },
            "type": "choropleth"
           }
          ],
          "contour": [
           {
            "colorbar": {
             "outlinewidth": 0,
             "ticks": ""
            },
            "colorscale": [
             [
              0,
              "#0d0887"
             ],
             [
              0.1111111111111111,
              "#46039f"
             ],
             [
              0.2222222222222222,
              "#7201a8"
             ],
             [
              0.3333333333333333,
              "#9c179e"
             ],
             [
              0.4444444444444444,
              "#bd3786"
             ],
             [
              0.5555555555555556,
              "#d8576b"
             ],
             [
              0.6666666666666666,
              "#ed7953"
             ],
             [
              0.7777777777777778,
              "#fb9f3a"
             ],
             [
              0.8888888888888888,
              "#fdca26"
             ],
             [
              1,
              "#f0f921"
             ]
            ],
            "type": "contour"
           }
          ],
          "contourcarpet": [
           {
            "colorbar": {
             "outlinewidth": 0,
             "ticks": ""
            },
            "type": "contourcarpet"
           }
          ],
          "heatmap": [
           {
            "colorbar": {
             "outlinewidth": 0,
             "ticks": ""
            },
            "colorscale": [
             [
              0,
              "#0d0887"
             ],
             [
              0.1111111111111111,
              "#46039f"
             ],
             [
              0.2222222222222222,
              "#7201a8"
             ],
             [
              0.3333333333333333,
              "#9c179e"
             ],
             [
              0.4444444444444444,
              "#bd3786"
             ],
             [
              0.5555555555555556,
              "#d8576b"
             ],
             [
              0.6666666666666666,
              "#ed7953"
             ],
             [
              0.7777777777777778,
              "#fb9f3a"
             ],
             [
              0.8888888888888888,
              "#fdca26"
             ],
             [
              1,
              "#f0f921"
             ]
            ],
            "type": "heatmap"
           }
          ],
          "heatmapgl": [
           {
            "colorbar": {
             "outlinewidth": 0,
             "ticks": ""
            },
            "colorscale": [
             [
              0,
              "#0d0887"
             ],
             [
              0.1111111111111111,
              "#46039f"
             ],
             [
              0.2222222222222222,
              "#7201a8"
             ],
             [
              0.3333333333333333,
              "#9c179e"
             ],
             [
              0.4444444444444444,
              "#bd3786"
             ],
             [
              0.5555555555555556,
              "#d8576b"
             ],
             [
              0.6666666666666666,
              "#ed7953"
             ],
             [
              0.7777777777777778,
              "#fb9f3a"
             ],
             [
              0.8888888888888888,
              "#fdca26"
             ],
             [
              1,
              "#f0f921"
             ]
            ],
            "type": "heatmapgl"
           }
          ],
          "histogram": [
           {
            "marker": {
             "pattern": {
              "fillmode": "overlay",
              "size": 10,
              "solidity": 0.2
             }
            },
            "type": "histogram"
           }
          ],
          "histogram2d": [
           {
            "colorbar": {
             "outlinewidth": 0,
             "ticks": ""
            },
            "colorscale": [
             [
              0,
              "#0d0887"
             ],
             [
              0.1111111111111111,
              "#46039f"
             ],
             [
              0.2222222222222222,
              "#7201a8"
             ],
             [
              0.3333333333333333,
              "#9c179e"
             ],
             [
              0.4444444444444444,
              "#bd3786"
             ],
             [
              0.5555555555555556,
              "#d8576b"
             ],
             [
              0.6666666666666666,
              "#ed7953"
             ],
             [
              0.7777777777777778,
              "#fb9f3a"
             ],
             [
              0.8888888888888888,
              "#fdca26"
             ],
             [
              1,
              "#f0f921"
             ]
            ],
            "type": "histogram2d"
           }
          ],
          "histogram2dcontour": [
           {
            "colorbar": {
             "outlinewidth": 0,
             "ticks": ""
            },
            "colorscale": [
             [
              0,
              "#0d0887"
             ],
             [
              0.1111111111111111,
              "#46039f"
             ],
             [
              0.2222222222222222,
              "#7201a8"
             ],
             [
              0.3333333333333333,
              "#9c179e"
             ],
             [
              0.4444444444444444,
              "#bd3786"
             ],
             [
              0.5555555555555556,
              "#d8576b"
             ],
             [
              0.6666666666666666,
              "#ed7953"
             ],
             [
              0.7777777777777778,
              "#fb9f3a"
             ],
             [
              0.8888888888888888,
              "#fdca26"
             ],
             [
              1,
              "#f0f921"
             ]
            ],
            "type": "histogram2dcontour"
           }
          ],
          "mesh3d": [
           {
            "colorbar": {
             "outlinewidth": 0,
             "ticks": ""
            },
            "type": "mesh3d"
           }
          ],
          "parcoords": [
           {
            "line": {
             "colorbar": {
              "outlinewidth": 0,
              "ticks": ""
             }
            },
            "type": "parcoords"
           }
          ],
          "pie": [
           {
            "automargin": true,
            "type": "pie"
           }
          ],
          "scatter": [
           {
            "marker": {
             "colorbar": {
              "outlinewidth": 0,
              "ticks": ""
             }
            },
            "type": "scatter"
           }
          ],
          "scatter3d": [
           {
            "line": {
             "colorbar": {
              "outlinewidth": 0,
              "ticks": ""
             }
            },
            "marker": {
             "colorbar": {
              "outlinewidth": 0,
              "ticks": ""
             }
            },
            "type": "scatter3d"
           }
          ],
          "scattercarpet": [
           {
            "marker": {
             "colorbar": {
              "outlinewidth": 0,
              "ticks": ""
             }
            },
            "type": "scattercarpet"
           }
          ],
          "scattergeo": [
           {
            "marker": {
             "colorbar": {
              "outlinewidth": 0,
              "ticks": ""
             }
            },
            "type": "scattergeo"
           }
          ],
          "scattergl": [
           {
            "marker": {
             "colorbar": {
              "outlinewidth": 0,
              "ticks": ""
             }
            },
            "type": "scattergl"
           }
          ],
          "scattermapbox": [
           {
            "marker": {
             "colorbar": {
              "outlinewidth": 0,
              "ticks": ""
             }
            },
            "type": "scattermapbox"
           }
          ],
          "scatterpolar": [
           {
            "marker": {
             "colorbar": {
              "outlinewidth": 0,
              "ticks": ""
             }
            },
            "type": "scatterpolar"
           }
          ],
          "scatterpolargl": [
           {
            "marker": {
             "colorbar": {
              "outlinewidth": 0,
              "ticks": ""
             }
            },
            "type": "scatterpolargl"
           }
          ],
          "scatterternary": [
           {
            "marker": {
             "colorbar": {
              "outlinewidth": 0,
              "ticks": ""
             }
            },
            "type": "scatterternary"
           }
          ],
          "surface": [
           {
            "colorbar": {
             "outlinewidth": 0,
             "ticks": ""
            },
            "colorscale": [
             [
              0,
              "#0d0887"
             ],
             [
              0.1111111111111111,
              "#46039f"
             ],
             [
              0.2222222222222222,
              "#7201a8"
             ],
             [
              0.3333333333333333,
              "#9c179e"
             ],
             [
              0.4444444444444444,
              "#bd3786"
             ],
             [
              0.5555555555555556,
              "#d8576b"
             ],
             [
              0.6666666666666666,
              "#ed7953"
             ],
             [
              0.7777777777777778,
              "#fb9f3a"
             ],
             [
              0.8888888888888888,
              "#fdca26"
             ],
             [
              1,
              "#f0f921"
             ]
            ],
            "type": "surface"
           }
          ],
          "table": [
           {
            "cells": {
             "fill": {
              "color": "#EBF0F8"
             },
             "line": {
              "color": "white"
             }
            },
            "header": {
             "fill": {
              "color": "#C8D4E3"
             },
             "line": {
              "color": "white"
             }
            },
            "type": "table"
           }
          ]
         },
         "layout": {
          "annotationdefaults": {
           "arrowcolor": "#2a3f5f",
           "arrowhead": 0,
           "arrowwidth": 1
          },
          "autotypenumbers": "strict",
          "coloraxis": {
           "colorbar": {
            "outlinewidth": 0,
            "ticks": ""
           }
          },
          "colorscale": {
           "diverging": [
            [
             0,
             "#8e0152"
            ],
            [
             0.1,
             "#c51b7d"
            ],
            [
             0.2,
             "#de77ae"
            ],
            [
             0.3,
             "#f1b6da"
            ],
            [
             0.4,
             "#fde0ef"
            ],
            [
             0.5,
             "#f7f7f7"
            ],
            [
             0.6,
             "#e6f5d0"
            ],
            [
             0.7,
             "#b8e186"
            ],
            [
             0.8,
             "#7fbc41"
            ],
            [
             0.9,
             "#4d9221"
            ],
            [
             1,
             "#276419"
            ]
           ],
           "sequential": [
            [
             0,
             "#0d0887"
            ],
            [
             0.1111111111111111,
             "#46039f"
            ],
            [
             0.2222222222222222,
             "#7201a8"
            ],
            [
             0.3333333333333333,
             "#9c179e"
            ],
            [
             0.4444444444444444,
             "#bd3786"
            ],
            [
             0.5555555555555556,
             "#d8576b"
            ],
            [
             0.6666666666666666,
             "#ed7953"
            ],
            [
             0.7777777777777778,
             "#fb9f3a"
            ],
            [
             0.8888888888888888,
             "#fdca26"
            ],
            [
             1,
             "#f0f921"
            ]
           ],
           "sequentialminus": [
            [
             0,
             "#0d0887"
            ],
            [
             0.1111111111111111,
             "#46039f"
            ],
            [
             0.2222222222222222,
             "#7201a8"
            ],
            [
             0.3333333333333333,
             "#9c179e"
            ],
            [
             0.4444444444444444,
             "#bd3786"
            ],
            [
             0.5555555555555556,
             "#d8576b"
            ],
            [
             0.6666666666666666,
             "#ed7953"
            ],
            [
             0.7777777777777778,
             "#fb9f3a"
            ],
            [
             0.8888888888888888,
             "#fdca26"
            ],
            [
             1,
             "#f0f921"
            ]
           ]
          },
          "colorway": [
           "#636efa",
           "#EF553B",
           "#00cc96",
           "#ab63fa",
           "#FFA15A",
           "#19d3f3",
           "#FF6692",
           "#B6E880",
           "#FF97FF",
           "#FECB52"
          ],
          "font": {
           "color": "#2a3f5f"
          },
          "geo": {
           "bgcolor": "white",
           "lakecolor": "white",
           "landcolor": "#E5ECF6",
           "showlakes": true,
           "showland": true,
           "subunitcolor": "white"
          },
          "hoverlabel": {
           "align": "left"
          },
          "hovermode": "closest",
          "mapbox": {
           "style": "light"
          },
          "paper_bgcolor": "white",
          "plot_bgcolor": "#E5ECF6",
          "polar": {
           "angularaxis": {
            "gridcolor": "white",
            "linecolor": "white",
            "ticks": ""
           },
           "bgcolor": "#E5ECF6",
           "radialaxis": {
            "gridcolor": "white",
            "linecolor": "white",
            "ticks": ""
           }
          },
          "scene": {
           "xaxis": {
            "backgroundcolor": "#E5ECF6",
            "gridcolor": "white",
            "gridwidth": 2,
            "linecolor": "white",
            "showbackground": true,
            "ticks": "",
            "zerolinecolor": "white"
           },
           "yaxis": {
            "backgroundcolor": "#E5ECF6",
            "gridcolor": "white",
            "gridwidth": 2,
            "linecolor": "white",
            "showbackground": true,
            "ticks": "",
            "zerolinecolor": "white"
           },
           "zaxis": {
            "backgroundcolor": "#E5ECF6",
            "gridcolor": "white",
            "gridwidth": 2,
            "linecolor": "white",
            "showbackground": true,
            "ticks": "",
            "zerolinecolor": "white"
           }
          },
          "shapedefaults": {
           "line": {
            "color": "#2a3f5f"
           }
          },
          "ternary": {
           "aaxis": {
            "gridcolor": "white",
            "linecolor": "white",
            "ticks": ""
           },
           "baxis": {
            "gridcolor": "white",
            "linecolor": "white",
            "ticks": ""
           },
           "bgcolor": "#E5ECF6",
           "caxis": {
            "gridcolor": "white",
            "linecolor": "white",
            "ticks": ""
           }
          },
          "title": {
           "x": 0.05
          },
          "xaxis": {
           "automargin": true,
           "gridcolor": "white",
           "linecolor": "white",
           "ticks": "",
           "title": {
            "standoff": 15
           },
           "zerolinecolor": "white",
           "zerolinewidth": 2
          },
          "yaxis": {
           "automargin": true,
           "gridcolor": "white",
           "linecolor": "white",
           "ticks": "",
           "title": {
            "standoff": 15
           },
           "zerolinecolor": "white",
           "zerolinewidth": 2
          }
         }
        },
        "title": {
         "font": {
          "color": "#4D5663"
         }
        },
        "xaxis": {
         "gridcolor": "#E1E5ED",
         "showgrid": true,
         "tickfont": {
          "color": "#4D5663"
         },
         "title": {
          "font": {
           "color": "#4D5663"
          },
          "text": ""
         },
         "zerolinecolor": "#E1E5ED"
        },
        "xaxis2": {
         "anchor": "y2",
         "gridcolor": "#E1E5ED",
         "showgrid": true,
         "showticklabels": false,
         "tickfont": {
          "color": "#4D5663"
         },
         "title": {
          "font": {
           "color": "#4D5663"
          },
          "text": ""
         },
         "zerolinecolor": "#E1E5ED"
        },
        "yaxis": {
         "domain": [
          0.3,
          1
         ],
         "gridcolor": "#E1E5ED",
         "showgrid": true,
         "tickfont": {
          "color": "#4D5663"
         },
         "title": {
          "font": {
           "color": "#4D5663"
          },
          "text": ""
         },
         "zerolinecolor": "#E1E5ED"
        },
        "yaxis2": {
         "domain": [
          0,
          0.25
         ],
         "gridcolor": "#E1E5ED",
         "showgrid": true,
         "tickfont": {
          "color": "#4D5663"
         },
         "title": {
          "font": {
           "color": "#4D5663"
          },
          "text": "Spread"
         },
         "zerolinecolor": "#E1E5ED"
        }
       }
      },
      "text/html": [
       "<div>                            <div id=\"1c98e934-8e6a-44c2-967e-eb17dc3459be\" class=\"plotly-graph-div\" style=\"height:525px; width:100%;\"></div>            <script type=\"text/javascript\">                require([\"plotly\"], function(Plotly) {                    window.PLOTLYENV=window.PLOTLYENV || {};\n",
       "                    window.PLOTLYENV.BASE_URL='https://plot.ly';                                    if (document.getElementById(\"1c98e934-8e6a-44c2-967e-eb17dc3459be\")) {                    Plotly.newPlot(                        \"1c98e934-8e6a-44c2-967e-eb17dc3459be\",                        [{\"line\":{\"color\":\"rgba(255, 153, 51, 1.0)\",\"dash\":\"solid\",\"shape\":\"linear\",\"width\":1.3},\"mode\":\"lines\",\"name\":\"A\",\"text\":\"\",\"x\":[0,1,2,3,4,5,6,7,8,9,10,11,12,13,14,15,16,17,18,19,20,21,22,23,24,25,26,27,28,29,30,31,32,33,34,35,36,37,38,39,40,41,42,43,44,45,46,47,48,49,50,51,52,53,54,55,56,57,58,59,60,61,62,63,64,65,66,67,68,69,70,71,72,73,74,75,76,77,78,79,80,81,82,83,84,85,86,87,88,89,90,91,92,93,94,95,96,97,98,99],\"y\":[1.0163663847315616,0.6173154871769431,-0.6772810476386104,0.6237655411646876,-0.37260920798691394,0.5268099656427503,3.3821009368357,1.9577238270097503,2.3672034338753085,-0.1264357292249816,-0.8103067961827602,0.626606385498777,0.8971248085452803,0.9197234355071809,-0.08116844691411543,-0.23627135619609388,0.006315752144729975,0.8669884152608879,1.3477600604778872,0.5955044109947454,-2.2568755644129865,-0.4068329840129025,-1.0539585845464274,1.1553831547694944,0.8367721877894332,0.07562472966509834,-0.12160991114433886,-1.8708656358350333,-2.0980755507321915,-0.08333649016138943,-0.47654864104757116,0.3105903538405738,-0.2108414867369569,1.2160327251023146,0.530254461980228,0.8521931743489114,1.3174997251183853,-0.6329843164077711,-0.882042357186549,-0.10209874131529179,-0.8947340334956717,-0.03844201310949979,0.7649005814572767,-0.5966885081694819,0.11506435913682996,-0.10048058063216983,0.9452885815617678,-0.4588861395882851,1.2607952095263109,0.9909294214610531,-1.1887396736772753,0.45737437826220323,1.218396683884078,-0.6001335964116054,0.04417622281112498,0.004450468534862416,1.8313217303103826,-0.37055291069047724,1.2230284286498043,0.9753590408138841,-0.9655361156914539,-1.2668526033999856,1.1422566561817689,0.06441963023437752,-0.8204500089030339,-0.08683699678333419,-0.36853538959583965,-0.7060872984774748,1.2026123368245425,-1.3864336167600535,0.6529959510516941,-0.08084710487352231,0.3907698202410437,0.8968560566217788,-0.6609848902540147,1.8688627173419552,-0.27731576559523075,-1.7189260231242547,0.39408077609560643,0.6185665794368471,0.9780991990845405,-0.37004731829361825,-0.5377331341474938,0.43868366034200346,0.5368217774165542,1.213954701386464,0.5110904541180284,-0.4235805169165554,-1.0118041589500104,1.1431317111969865,-1.350938695027268,1.0143078055993617,-0.7217509864426822,0.9030044560127558,0.42860812787029134,-0.1071231255623638,-0.4543792366009019,-0.9730770823989808,0.1872464176467623,1.9436565221058293],\"type\":\"scatter\"},{\"line\":{\"color\":\"rgba(55, 128, 191, 1.0)\",\"dash\":\"solid\",\"shape\":\"linear\",\"width\":1.3},\"mode\":\"lines\",\"name\":\"B\",\"text\":\"\",\"x\":[0,1,2,3,4,5,6,7,8,9,10,11,12,13,14,15,16,17,18,19,20,21,22,23,24,25,26,27,28,29,30,31,32,33,34,35,36,37,38,39,40,41,42,43,44,45,46,47,48,49,50,51,52,53,54,55,56,57,58,59,60,61,62,63,64,65,66,67,68,69,70,71,72,73,74,75,76,77,78,79,80,81,82,83,84,85,86,87,88,89,90,91,92,93,94,95,96,97,98,99],\"y\":[-1.314123512152019,0.39375016329835755,-0.3333754421609034,-0.16129292315339847,0.39089174011821676,-0.2415285832239928,-0.1330687410391177,-2.742176842383155,-1.4549249762961163,-0.03288164196362554,0.7870954339775161,-1.5906364831120088,-0.24665783984415385,-1.2709531905402118,1.4177396247528429,0.9139339993306476,0.14968727936437834,-1.4773579780270367,1.2836065788783506,0.4218429543817784,-0.3891327307587016,-0.6603022181306161,-1.0684908499632273,-0.3548553707374886,0.899830228716969,-0.8941242273946151,0.28641016797356983,-0.5620191278396524,0.5645175911279281,-0.687053335069698,1.9940782552722824,0.41288636989328503,-0.0757559224356657,-1.228484199092643,0.10159891043339675,-0.8406593103911069,0.626646032389116,1.344081195804092,-0.2058879538088759,-0.24892149899365876,1.61428601967461,1.054023242279591,-1.0494231161382948,-0.29037512816229744,-0.31845732692891965,0.529699171795502,-0.8271224841739949,0.4273220127629525,-0.7435857578963644,-0.27184790451055646,-1.4840195959301983,-0.44688526663229666,0.4628829916489609,-1.0937281052231775,-0.04684302086081167,-1.7319842733126842,0.8936502873631862,-0.8605804212619843,-1.491722030552004,0.22619482826173615,0.12596075803515505,0.5939073679012035,-2.0319593614147418,0.4094611282332534,-1.425236969134026,0.13011219954716607,-0.40809823124548433,-0.09813875666548708,-0.3443129245978503,0.3722128853803303,-0.4876598037455311,1.0394990700889335,-0.8096093205424912,1.8638913823070484,1.4465628410979272,1.5033357505346296,-0.1644064395364936,0.9572849136768261,1.5099517130489664,-0.03615537780077251,-0.7750468333728179,0.6185273461544226,0.8477903244792816,0.2404673003418146,-0.8111967164058738,0.538679623313098,-0.594248432346121,0.971093297394865,0.26710198449999917,-0.37466122018418707,0.35159515438680605,-0.36114835700299674,-1.2442893555942884,-2.2215578576176584,1.1728151414090098,0.6090886842595982,-1.6522977997891652,-1.1130954230421588,0.42121458153220404,-0.8627485862769746],\"type\":\"scatter\"},{\"connectgaps\":false,\"fill\":\"tozeroy\",\"line\":{\"color\":\"green\",\"dash\":\"solid\",\"shape\":\"linear\",\"width\":0.5},\"mode\":\"lines\",\"name\":\"Spread\",\"showlegend\":false,\"x\":[0,1,2,3,4,5,6,7,8,9,10,11,12,13,14,15,16,17,18,19,20,21,22,23,24,25,26,27,28,29,30,31,32,33,34,35,36,37,38,39,40,41,42,43,44,45,46,47,48,49,50,51,52,53,54,55,56,57,58,59,60,61,62,63,64,65,66,67,68,69,70,71,72,73,74,75,76,77,78,79,80,81,82,83,84,85,86,87,88,89,90,91,92,93,94,95,96,97,98,99],\"xaxis\":\"x2\",\"y\":[2.3304898968835808,0.22356532387858552,\"\",0.7850584643180861,\"\",0.7683385488667431,3.515169677874818,4.699900669392905,3.822128410171425,\"\",\"\",2.2172428686107857,1.1437826483894342,2.190676626047393,\"\",\"\",\"\",2.3443463932879247,0.0641534815995366,0.173661456612967,\"\",0.25346923411771355,0.014532265416799861,1.510238525506983,\"\",0.9697489570597134,\"\",\"\",\"\",0.6037168449083086,\"\",\"\",\"\",2.4445169241949576,0.4286555515468312,1.6928524847400181,0.6908536927292693,\"\",\"\",0.14682275767836697,\"\",\"\",1.8143236975955714,\"\",0.4335216860657496,\"\",1.7724110657357626,\"\",2.004380967422675,1.2627773259716095,0.295279922252923,0.9042596448945,0.7555136922351171,0.4935945088115722,0.09101924367193664,1.7364347418475465,0.9376714429471964,0.49002751057150706,2.7147504592018086,0.749164212552148,\"\",\"\",3.1742160175965104,\"\",0.6047869602309922,\"\",0.03956284164964469,\"\",1.5469252614223927,\"\",1.1406557547972251,\"\",1.200379140783535,\"\",\"\",0.36552696680732555,\"\",\"\",\"\",0.6547219572376196,1.7531460324573582,\"\",\"\",0.19821636000018886,1.348018493822428,0.675275078073366,1.1053388864641494,\"\",\"\",1.5177929313811735,\"\",1.3754561626023585,0.5225383691516062,3.124562313630414,\"\",\"\",1.1979185631882634,0.14001834064317797,\"\",2.806405108382804],\"yaxis\":\"y2\",\"type\":\"scatter\"},{\"connectgaps\":false,\"fill\":\"tozeroy\",\"line\":{\"color\":\"red\",\"dash\":\"solid\",\"shape\":\"linear\",\"width\":0.5},\"mode\":\"lines\",\"name\":\"Spread\",\"showlegend\":false,\"x\":[0,1,2,3,4,5,6,7,8,9,10,11,12,13,14,15,16,17,18,19,20,21,22,23,24,25,26,27,28,29,30,31,32,33,34,35,36,37,38,39,40,41,42,43,44,45,46,47,48,49,50,51,52,53,54,55,56,57,58,59,60,61,62,63,64,65,66,67,68,69,70,71,72,73,74,75,76,77,78,79,80,81,82,83,84,85,86,87,88,89,90,91,92,93,94,95,96,97,98,99],\"xaxis\":\"x2\",\"y\":[\"\",\"\",-0.343905605477707,\"\",-0.7635009481051307,\"\",\"\",\"\",\"\",-0.09355408726135608,-1.5974022301602764,\"\",\"\",\"\",-1.4989080716669583,-1.1502053555267415,-0.14337152721964835,\"\",\"\",\"\",-1.867742833654285,\"\",\"\",\"\",-0.06305804092753586,\"\",-0.4080200791179087,-1.3088465079953808,-2.6625931418601194,\"\",-2.4706268963198537,-0.10229601605271121,-0.1350855643012912,\"\",\"\",\"\",\"\",-1.977065512211863,-0.6761544033776731,\"\",-2.509020053170282,-1.0924652553890908,\"\",-0.3063133800071845,\"\",-0.6301797524276718,\"\",-0.8862081523512376,\"\",\"\",\"\",\"\",\"\",\"\",\"\",\"\",\"\",\"\",\"\",\"\",-1.091496873726609,-1.860759971301189,\"\",-0.3450414979988759,\"\",-0.21694919633050025,\"\",-0.6079485418119877,\"\",-1.7586465021403839,\"\",-1.1203461749624557,\"\",-0.9670353256852696,-2.107547731351942,\"\",-0.11290932605873716,-2.676210936801081,-1.11587093695336,\"\",\"\",-0.9885746644480409,-1.3855234586267753,\"\",\"\",\"\",\"\",-1.3946738143114206,-1.2789061434500095,\"\",-1.702533849414074,\"\",\"\",\"\",-0.7442070135387184,-0.716211809821962,\"\",\"\",-0.23396816388544173,\"\"],\"yaxis\":\"y2\",\"type\":\"scatter\"}],                        {\"hovermode\":\"x\",\"legend\":{\"bgcolor\":\"#F5F6F9\",\"font\":{\"color\":\"#4D5663\"}},\"paper_bgcolor\":\"#F5F6F9\",\"plot_bgcolor\":\"#F5F6F9\",\"template\":{\"data\":{\"barpolar\":[{\"marker\":{\"line\":{\"color\":\"#E5ECF6\",\"width\":0.5},\"pattern\":{\"fillmode\":\"overlay\",\"size\":10,\"solidity\":0.2}},\"type\":\"barpolar\"}],\"bar\":[{\"error_x\":{\"color\":\"#2a3f5f\"},\"error_y\":{\"color\":\"#2a3f5f\"},\"marker\":{\"line\":{\"color\":\"#E5ECF6\",\"width\":0.5},\"pattern\":{\"fillmode\":\"overlay\",\"size\":10,\"solidity\":0.2}},\"type\":\"bar\"}],\"carpet\":[{\"aaxis\":{\"endlinecolor\":\"#2a3f5f\",\"gridcolor\":\"white\",\"linecolor\":\"white\",\"minorgridcolor\":\"white\",\"startlinecolor\":\"#2a3f5f\"},\"baxis\":{\"endlinecolor\":\"#2a3f5f\",\"gridcolor\":\"white\",\"linecolor\":\"white\",\"minorgridcolor\":\"white\",\"startlinecolor\":\"#2a3f5f\"},\"type\":\"carpet\"}],\"choropleth\":[{\"colorbar\":{\"outlinewidth\":0,\"ticks\":\"\"},\"type\":\"choropleth\"}],\"contourcarpet\":[{\"colorbar\":{\"outlinewidth\":0,\"ticks\":\"\"},\"type\":\"contourcarpet\"}],\"contour\":[{\"colorbar\":{\"outlinewidth\":0,\"ticks\":\"\"},\"colorscale\":[[0.0,\"#0d0887\"],[0.1111111111111111,\"#46039f\"],[0.2222222222222222,\"#7201a8\"],[0.3333333333333333,\"#9c179e\"],[0.4444444444444444,\"#bd3786\"],[0.5555555555555556,\"#d8576b\"],[0.6666666666666666,\"#ed7953\"],[0.7777777777777778,\"#fb9f3a\"],[0.8888888888888888,\"#fdca26\"],[1.0,\"#f0f921\"]],\"type\":\"contour\"}],\"heatmapgl\":[{\"colorbar\":{\"outlinewidth\":0,\"ticks\":\"\"},\"colorscale\":[[0.0,\"#0d0887\"],[0.1111111111111111,\"#46039f\"],[0.2222222222222222,\"#7201a8\"],[0.3333333333333333,\"#9c179e\"],[0.4444444444444444,\"#bd3786\"],[0.5555555555555556,\"#d8576b\"],[0.6666666666666666,\"#ed7953\"],[0.7777777777777778,\"#fb9f3a\"],[0.8888888888888888,\"#fdca26\"],[1.0,\"#f0f921\"]],\"type\":\"heatmapgl\"}],\"heatmap\":[{\"colorbar\":{\"outlinewidth\":0,\"ticks\":\"\"},\"colorscale\":[[0.0,\"#0d0887\"],[0.1111111111111111,\"#46039f\"],[0.2222222222222222,\"#7201a8\"],[0.3333333333333333,\"#9c179e\"],[0.4444444444444444,\"#bd3786\"],[0.5555555555555556,\"#d8576b\"],[0.6666666666666666,\"#ed7953\"],[0.7777777777777778,\"#fb9f3a\"],[0.8888888888888888,\"#fdca26\"],[1.0,\"#f0f921\"]],\"type\":\"heatmap\"}],\"histogram2dcontour\":[{\"colorbar\":{\"outlinewidth\":0,\"ticks\":\"\"},\"colorscale\":[[0.0,\"#0d0887\"],[0.1111111111111111,\"#46039f\"],[0.2222222222222222,\"#7201a8\"],[0.3333333333333333,\"#9c179e\"],[0.4444444444444444,\"#bd3786\"],[0.5555555555555556,\"#d8576b\"],[0.6666666666666666,\"#ed7953\"],[0.7777777777777778,\"#fb9f3a\"],[0.8888888888888888,\"#fdca26\"],[1.0,\"#f0f921\"]],\"type\":\"histogram2dcontour\"}],\"histogram2d\":[{\"colorbar\":{\"outlinewidth\":0,\"ticks\":\"\"},\"colorscale\":[[0.0,\"#0d0887\"],[0.1111111111111111,\"#46039f\"],[0.2222222222222222,\"#7201a8\"],[0.3333333333333333,\"#9c179e\"],[0.4444444444444444,\"#bd3786\"],[0.5555555555555556,\"#d8576b\"],[0.6666666666666666,\"#ed7953\"],[0.7777777777777778,\"#fb9f3a\"],[0.8888888888888888,\"#fdca26\"],[1.0,\"#f0f921\"]],\"type\":\"histogram2d\"}],\"histogram\":[{\"marker\":{\"pattern\":{\"fillmode\":\"overlay\",\"size\":10,\"solidity\":0.2}},\"type\":\"histogram\"}],\"mesh3d\":[{\"colorbar\":{\"outlinewidth\":0,\"ticks\":\"\"},\"type\":\"mesh3d\"}],\"parcoords\":[{\"line\":{\"colorbar\":{\"outlinewidth\":0,\"ticks\":\"\"}},\"type\":\"parcoords\"}],\"pie\":[{\"automargin\":true,\"type\":\"pie\"}],\"scatter3d\":[{\"line\":{\"colorbar\":{\"outlinewidth\":0,\"ticks\":\"\"}},\"marker\":{\"colorbar\":{\"outlinewidth\":0,\"ticks\":\"\"}},\"type\":\"scatter3d\"}],\"scattercarpet\":[{\"marker\":{\"colorbar\":{\"outlinewidth\":0,\"ticks\":\"\"}},\"type\":\"scattercarpet\"}],\"scattergeo\":[{\"marker\":{\"colorbar\":{\"outlinewidth\":0,\"ticks\":\"\"}},\"type\":\"scattergeo\"}],\"scattergl\":[{\"marker\":{\"colorbar\":{\"outlinewidth\":0,\"ticks\":\"\"}},\"type\":\"scattergl\"}],\"scattermapbox\":[{\"marker\":{\"colorbar\":{\"outlinewidth\":0,\"ticks\":\"\"}},\"type\":\"scattermapbox\"}],\"scatterpolargl\":[{\"marker\":{\"colorbar\":{\"outlinewidth\":0,\"ticks\":\"\"}},\"type\":\"scatterpolargl\"}],\"scatterpolar\":[{\"marker\":{\"colorbar\":{\"outlinewidth\":0,\"ticks\":\"\"}},\"type\":\"scatterpolar\"}],\"scatter\":[{\"marker\":{\"colorbar\":{\"outlinewidth\":0,\"ticks\":\"\"}},\"type\":\"scatter\"}],\"scatterternary\":[{\"marker\":{\"colorbar\":{\"outlinewidth\":0,\"ticks\":\"\"}},\"type\":\"scatterternary\"}],\"surface\":[{\"colorbar\":{\"outlinewidth\":0,\"ticks\":\"\"},\"colorscale\":[[0.0,\"#0d0887\"],[0.1111111111111111,\"#46039f\"],[0.2222222222222222,\"#7201a8\"],[0.3333333333333333,\"#9c179e\"],[0.4444444444444444,\"#bd3786\"],[0.5555555555555556,\"#d8576b\"],[0.6666666666666666,\"#ed7953\"],[0.7777777777777778,\"#fb9f3a\"],[0.8888888888888888,\"#fdca26\"],[1.0,\"#f0f921\"]],\"type\":\"surface\"}],\"table\":[{\"cells\":{\"fill\":{\"color\":\"#EBF0F8\"},\"line\":{\"color\":\"white\"}},\"header\":{\"fill\":{\"color\":\"#C8D4E3\"},\"line\":{\"color\":\"white\"}},\"type\":\"table\"}]},\"layout\":{\"annotationdefaults\":{\"arrowcolor\":\"#2a3f5f\",\"arrowhead\":0,\"arrowwidth\":1},\"autotypenumbers\":\"strict\",\"coloraxis\":{\"colorbar\":{\"outlinewidth\":0,\"ticks\":\"\"}},\"colorscale\":{\"diverging\":[[0,\"#8e0152\"],[0.1,\"#c51b7d\"],[0.2,\"#de77ae\"],[0.3,\"#f1b6da\"],[0.4,\"#fde0ef\"],[0.5,\"#f7f7f7\"],[0.6,\"#e6f5d0\"],[0.7,\"#b8e186\"],[0.8,\"#7fbc41\"],[0.9,\"#4d9221\"],[1,\"#276419\"]],\"sequential\":[[0.0,\"#0d0887\"],[0.1111111111111111,\"#46039f\"],[0.2222222222222222,\"#7201a8\"],[0.3333333333333333,\"#9c179e\"],[0.4444444444444444,\"#bd3786\"],[0.5555555555555556,\"#d8576b\"],[0.6666666666666666,\"#ed7953\"],[0.7777777777777778,\"#fb9f3a\"],[0.8888888888888888,\"#fdca26\"],[1.0,\"#f0f921\"]],\"sequentialminus\":[[0.0,\"#0d0887\"],[0.1111111111111111,\"#46039f\"],[0.2222222222222222,\"#7201a8\"],[0.3333333333333333,\"#9c179e\"],[0.4444444444444444,\"#bd3786\"],[0.5555555555555556,\"#d8576b\"],[0.6666666666666666,\"#ed7953\"],[0.7777777777777778,\"#fb9f3a\"],[0.8888888888888888,\"#fdca26\"],[1.0,\"#f0f921\"]]},\"colorway\":[\"#636efa\",\"#EF553B\",\"#00cc96\",\"#ab63fa\",\"#FFA15A\",\"#19d3f3\",\"#FF6692\",\"#B6E880\",\"#FF97FF\",\"#FECB52\"],\"font\":{\"color\":\"#2a3f5f\"},\"geo\":{\"bgcolor\":\"white\",\"lakecolor\":\"white\",\"landcolor\":\"#E5ECF6\",\"showlakes\":true,\"showland\":true,\"subunitcolor\":\"white\"},\"hoverlabel\":{\"align\":\"left\"},\"hovermode\":\"closest\",\"mapbox\":{\"style\":\"light\"},\"paper_bgcolor\":\"white\",\"plot_bgcolor\":\"#E5ECF6\",\"polar\":{\"angularaxis\":{\"gridcolor\":\"white\",\"linecolor\":\"white\",\"ticks\":\"\"},\"bgcolor\":\"#E5ECF6\",\"radialaxis\":{\"gridcolor\":\"white\",\"linecolor\":\"white\",\"ticks\":\"\"}},\"scene\":{\"xaxis\":{\"backgroundcolor\":\"#E5ECF6\",\"gridcolor\":\"white\",\"gridwidth\":2,\"linecolor\":\"white\",\"showbackground\":true,\"ticks\":\"\",\"zerolinecolor\":\"white\"},\"yaxis\":{\"backgroundcolor\":\"#E5ECF6\",\"gridcolor\":\"white\",\"gridwidth\":2,\"linecolor\":\"white\",\"showbackground\":true,\"ticks\":\"\",\"zerolinecolor\":\"white\"},\"zaxis\":{\"backgroundcolor\":\"#E5ECF6\",\"gridcolor\":\"white\",\"gridwidth\":2,\"linecolor\":\"white\",\"showbackground\":true,\"ticks\":\"\",\"zerolinecolor\":\"white\"}},\"shapedefaults\":{\"line\":{\"color\":\"#2a3f5f\"}},\"ternary\":{\"aaxis\":{\"gridcolor\":\"white\",\"linecolor\":\"white\",\"ticks\":\"\"},\"baxis\":{\"gridcolor\":\"white\",\"linecolor\":\"white\",\"ticks\":\"\"},\"bgcolor\":\"#E5ECF6\",\"caxis\":{\"gridcolor\":\"white\",\"linecolor\":\"white\",\"ticks\":\"\"}},\"title\":{\"x\":0.05},\"xaxis\":{\"automargin\":true,\"gridcolor\":\"white\",\"linecolor\":\"white\",\"ticks\":\"\",\"title\":{\"standoff\":15},\"zerolinecolor\":\"white\",\"zerolinewidth\":2},\"yaxis\":{\"automargin\":true,\"gridcolor\":\"white\",\"linecolor\":\"white\",\"ticks\":\"\",\"title\":{\"standoff\":15},\"zerolinecolor\":\"white\",\"zerolinewidth\":2}}},\"title\":{\"font\":{\"color\":\"#4D5663\"}},\"xaxis\":{\"gridcolor\":\"#E1E5ED\",\"showgrid\":true,\"tickfont\":{\"color\":\"#4D5663\"},\"title\":{\"font\":{\"color\":\"#4D5663\"},\"text\":\"\"},\"zerolinecolor\":\"#E1E5ED\"},\"yaxis\":{\"domain\":[0.3,1],\"gridcolor\":\"#E1E5ED\",\"showgrid\":true,\"tickfont\":{\"color\":\"#4D5663\"},\"title\":{\"font\":{\"color\":\"#4D5663\"},\"text\":\"\"},\"zerolinecolor\":\"#E1E5ED\"},\"yaxis2\":{\"domain\":[0,0.25],\"gridcolor\":\"#E1E5ED\",\"showgrid\":true,\"tickfont\":{\"color\":\"#4D5663\"},\"title\":{\"font\":{\"color\":\"#4D5663\"},\"text\":\"Spread\"},\"zerolinecolor\":\"#E1E5ED\"},\"xaxis2\":{\"anchor\":\"y2\",\"gridcolor\":\"#E1E5ED\",\"showgrid\":true,\"showticklabels\":false,\"tickfont\":{\"color\":\"#4D5663\"},\"title\":{\"font\":{\"color\":\"#4D5663\"},\"text\":\"\"},\"zerolinecolor\":\"#E1E5ED\"}},                        {\"showLink\": true, \"linkText\": \"Export to plot.ly\", \"plotlyServerURL\": \"https://plot.ly\", \"responsive\": true}                    ).then(function(){\n",
       "                            \n",
       "var gd = document.getElementById('1c98e934-8e6a-44c2-967e-eb17dc3459be');\n",
       "var x = new MutationObserver(function (mutations, observer) {{\n",
       "        var display = window.getComputedStyle(gd).display;\n",
       "        if (!display || display === 'none') {{\n",
       "            console.log([gd, 'removed!']);\n",
       "            Plotly.purge(gd);\n",
       "            observer.disconnect();\n",
       "        }}\n",
       "}});\n",
       "\n",
       "// Listen for the removal of the full notebook cells\n",
       "var notebookContainer = gd.closest('#notebook-container');\n",
       "if (notebookContainer) {{\n",
       "    x.observe(notebookContainer, {childList: true});\n",
       "}}\n",
       "\n",
       "// Listen for the clearing of the current output cell\n",
       "var outputEl = gd.closest('.output');\n",
       "if (outputEl) {{\n",
       "    x.observe(outputEl, {childList: true});\n",
       "}}\n",
       "\n",
       "                        })                };                });            </script>        </div>"
      ]
     },
     "metadata": {},
     "output_type": "display_data"
    }
   ],
   "source": [
    "df[['A','B']].iplot(kind='spread')"
   ]
  },
  {
   "cell_type": "markdown",
   "metadata": {},
   "source": [
    "## histogram"
   ]
  },
  {
   "cell_type": "code",
   "execution_count": 22,
   "metadata": {},
   "outputs": [
    {
     "data": {
      "application/vnd.plotly.v1+json": {
       "config": {
        "linkText": "Export to plot.ly",
        "plotlyServerURL": "https://plot.ly",
        "showLink": true
       },
       "data": [
        {
         "histfunc": "count",
         "histnorm": "",
         "marker": {
          "color": "rgba(255, 153, 51, 1.0)",
          "line": {
           "color": "#4D5663",
           "width": 1.3
          }
         },
         "name": "A",
         "nbinsx": 25,
         "opacity": 0.8,
         "orientation": "v",
         "type": "histogram",
         "x": [
          1.0163663847315616,
          0.6173154871769431,
          -0.6772810476386104,
          0.6237655411646876,
          -0.37260920798691394,
          0.5268099656427503,
          3.3821009368357,
          1.9577238270097503,
          2.3672034338753085,
          -0.1264357292249816,
          -0.8103067961827602,
          0.626606385498777,
          0.8971248085452803,
          0.9197234355071809,
          -0.08116844691411543,
          -0.23627135619609388,
          0.006315752144729975,
          0.8669884152608879,
          1.3477600604778872,
          0.5955044109947454,
          -2.2568755644129865,
          -0.4068329840129025,
          -1.0539585845464274,
          1.1553831547694944,
          0.8367721877894332,
          0.07562472966509834,
          -0.12160991114433886,
          -1.8708656358350333,
          -2.0980755507321915,
          -0.08333649016138943,
          -0.47654864104757116,
          0.3105903538405738,
          -0.2108414867369569,
          1.2160327251023146,
          0.530254461980228,
          0.8521931743489114,
          1.3174997251183853,
          -0.6329843164077711,
          -0.882042357186549,
          -0.10209874131529179,
          -0.8947340334956717,
          -0.03844201310949979,
          0.7649005814572767,
          -0.5966885081694819,
          0.11506435913682996,
          -0.10048058063216983,
          0.9452885815617678,
          -0.4588861395882851,
          1.2607952095263109,
          0.9909294214610531,
          -1.1887396736772753,
          0.45737437826220323,
          1.218396683884078,
          -0.6001335964116054,
          0.04417622281112498,
          0.004450468534862416,
          1.8313217303103826,
          -0.37055291069047724,
          1.2230284286498043,
          0.9753590408138841,
          -0.9655361156914539,
          -1.2668526033999856,
          1.1422566561817689,
          0.06441963023437752,
          -0.8204500089030339,
          -0.08683699678333419,
          -0.36853538959583965,
          -0.7060872984774748,
          1.2026123368245425,
          -1.3864336167600535,
          0.6529959510516941,
          -0.08084710487352231,
          0.3907698202410437,
          0.8968560566217788,
          -0.6609848902540147,
          1.8688627173419552,
          -0.27731576559523075,
          -1.7189260231242547,
          0.39408077609560643,
          0.6185665794368471,
          0.9780991990845405,
          -0.37004731829361825,
          -0.5377331341474938,
          0.43868366034200346,
          0.5368217774165542,
          1.213954701386464,
          0.5110904541180284,
          -0.4235805169165554,
          -1.0118041589500104,
          1.1431317111969865,
          -1.350938695027268,
          1.0143078055993617,
          -0.7217509864426822,
          0.9030044560127558,
          0.42860812787029134,
          -0.1071231255623638,
          -0.4543792366009019,
          -0.9730770823989808,
          0.1872464176467623,
          1.9436565221058293
         ]
        }
       ],
       "layout": {
        "barmode": "overlay",
        "legend": {
         "bgcolor": "#F5F6F9",
         "font": {
          "color": "#4D5663"
         }
        },
        "paper_bgcolor": "#F5F6F9",
        "plot_bgcolor": "#F5F6F9",
        "template": {
         "data": {
          "bar": [
           {
            "error_x": {
             "color": "#2a3f5f"
            },
            "error_y": {
             "color": "#2a3f5f"
            },
            "marker": {
             "line": {
              "color": "#E5ECF6",
              "width": 0.5
             },
             "pattern": {
              "fillmode": "overlay",
              "size": 10,
              "solidity": 0.2
             }
            },
            "type": "bar"
           }
          ],
          "barpolar": [
           {
            "marker": {
             "line": {
              "color": "#E5ECF6",
              "width": 0.5
             },
             "pattern": {
              "fillmode": "overlay",
              "size": 10,
              "solidity": 0.2
             }
            },
            "type": "barpolar"
           }
          ],
          "carpet": [
           {
            "aaxis": {
             "endlinecolor": "#2a3f5f",
             "gridcolor": "white",
             "linecolor": "white",
             "minorgridcolor": "white",
             "startlinecolor": "#2a3f5f"
            },
            "baxis": {
             "endlinecolor": "#2a3f5f",
             "gridcolor": "white",
             "linecolor": "white",
             "minorgridcolor": "white",
             "startlinecolor": "#2a3f5f"
            },
            "type": "carpet"
           }
          ],
          "choropleth": [
           {
            "colorbar": {
             "outlinewidth": 0,
             "ticks": ""
            },
            "type": "choropleth"
           }
          ],
          "contour": [
           {
            "colorbar": {
             "outlinewidth": 0,
             "ticks": ""
            },
            "colorscale": [
             [
              0,
              "#0d0887"
             ],
             [
              0.1111111111111111,
              "#46039f"
             ],
             [
              0.2222222222222222,
              "#7201a8"
             ],
             [
              0.3333333333333333,
              "#9c179e"
             ],
             [
              0.4444444444444444,
              "#bd3786"
             ],
             [
              0.5555555555555556,
              "#d8576b"
             ],
             [
              0.6666666666666666,
              "#ed7953"
             ],
             [
              0.7777777777777778,
              "#fb9f3a"
             ],
             [
              0.8888888888888888,
              "#fdca26"
             ],
             [
              1,
              "#f0f921"
             ]
            ],
            "type": "contour"
           }
          ],
          "contourcarpet": [
           {
            "colorbar": {
             "outlinewidth": 0,
             "ticks": ""
            },
            "type": "contourcarpet"
           }
          ],
          "heatmap": [
           {
            "colorbar": {
             "outlinewidth": 0,
             "ticks": ""
            },
            "colorscale": [
             [
              0,
              "#0d0887"
             ],
             [
              0.1111111111111111,
              "#46039f"
             ],
             [
              0.2222222222222222,
              "#7201a8"
             ],
             [
              0.3333333333333333,
              "#9c179e"
             ],
             [
              0.4444444444444444,
              "#bd3786"
             ],
             [
              0.5555555555555556,
              "#d8576b"
             ],
             [
              0.6666666666666666,
              "#ed7953"
             ],
             [
              0.7777777777777778,
              "#fb9f3a"
             ],
             [
              0.8888888888888888,
              "#fdca26"
             ],
             [
              1,
              "#f0f921"
             ]
            ],
            "type": "heatmap"
           }
          ],
          "heatmapgl": [
           {
            "colorbar": {
             "outlinewidth": 0,
             "ticks": ""
            },
            "colorscale": [
             [
              0,
              "#0d0887"
             ],
             [
              0.1111111111111111,
              "#46039f"
             ],
             [
              0.2222222222222222,
              "#7201a8"
             ],
             [
              0.3333333333333333,
              "#9c179e"
             ],
             [
              0.4444444444444444,
              "#bd3786"
             ],
             [
              0.5555555555555556,
              "#d8576b"
             ],
             [
              0.6666666666666666,
              "#ed7953"
             ],
             [
              0.7777777777777778,
              "#fb9f3a"
             ],
             [
              0.8888888888888888,
              "#fdca26"
             ],
             [
              1,
              "#f0f921"
             ]
            ],
            "type": "heatmapgl"
           }
          ],
          "histogram": [
           {
            "marker": {
             "pattern": {
              "fillmode": "overlay",
              "size": 10,
              "solidity": 0.2
             }
            },
            "type": "histogram"
           }
          ],
          "histogram2d": [
           {
            "colorbar": {
             "outlinewidth": 0,
             "ticks": ""
            },
            "colorscale": [
             [
              0,
              "#0d0887"
             ],
             [
              0.1111111111111111,
              "#46039f"
             ],
             [
              0.2222222222222222,
              "#7201a8"
             ],
             [
              0.3333333333333333,
              "#9c179e"
             ],
             [
              0.4444444444444444,
              "#bd3786"
             ],
             [
              0.5555555555555556,
              "#d8576b"
             ],
             [
              0.6666666666666666,
              "#ed7953"
             ],
             [
              0.7777777777777778,
              "#fb9f3a"
             ],
             [
              0.8888888888888888,
              "#fdca26"
             ],
             [
              1,
              "#f0f921"
             ]
            ],
            "type": "histogram2d"
           }
          ],
          "histogram2dcontour": [
           {
            "colorbar": {
             "outlinewidth": 0,
             "ticks": ""
            },
            "colorscale": [
             [
              0,
              "#0d0887"
             ],
             [
              0.1111111111111111,
              "#46039f"
             ],
             [
              0.2222222222222222,
              "#7201a8"
             ],
             [
              0.3333333333333333,
              "#9c179e"
             ],
             [
              0.4444444444444444,
              "#bd3786"
             ],
             [
              0.5555555555555556,
              "#d8576b"
             ],
             [
              0.6666666666666666,
              "#ed7953"
             ],
             [
              0.7777777777777778,
              "#fb9f3a"
             ],
             [
              0.8888888888888888,
              "#fdca26"
             ],
             [
              1,
              "#f0f921"
             ]
            ],
            "type": "histogram2dcontour"
           }
          ],
          "mesh3d": [
           {
            "colorbar": {
             "outlinewidth": 0,
             "ticks": ""
            },
            "type": "mesh3d"
           }
          ],
          "parcoords": [
           {
            "line": {
             "colorbar": {
              "outlinewidth": 0,
              "ticks": ""
             }
            },
            "type": "parcoords"
           }
          ],
          "pie": [
           {
            "automargin": true,
            "type": "pie"
           }
          ],
          "scatter": [
           {
            "marker": {
             "colorbar": {
              "outlinewidth": 0,
              "ticks": ""
             }
            },
            "type": "scatter"
           }
          ],
          "scatter3d": [
           {
            "line": {
             "colorbar": {
              "outlinewidth": 0,
              "ticks": ""
             }
            },
            "marker": {
             "colorbar": {
              "outlinewidth": 0,
              "ticks": ""
             }
            },
            "type": "scatter3d"
           }
          ],
          "scattercarpet": [
           {
            "marker": {
             "colorbar": {
              "outlinewidth": 0,
              "ticks": ""
             }
            },
            "type": "scattercarpet"
           }
          ],
          "scattergeo": [
           {
            "marker": {
             "colorbar": {
              "outlinewidth": 0,
              "ticks": ""
             }
            },
            "type": "scattergeo"
           }
          ],
          "scattergl": [
           {
            "marker": {
             "colorbar": {
              "outlinewidth": 0,
              "ticks": ""
             }
            },
            "type": "scattergl"
           }
          ],
          "scattermapbox": [
           {
            "marker": {
             "colorbar": {
              "outlinewidth": 0,
              "ticks": ""
             }
            },
            "type": "scattermapbox"
           }
          ],
          "scatterpolar": [
           {
            "marker": {
             "colorbar": {
              "outlinewidth": 0,
              "ticks": ""
             }
            },
            "type": "scatterpolar"
           }
          ],
          "scatterpolargl": [
           {
            "marker": {
             "colorbar": {
              "outlinewidth": 0,
              "ticks": ""
             }
            },
            "type": "scatterpolargl"
           }
          ],
          "scatterternary": [
           {
            "marker": {
             "colorbar": {
              "outlinewidth": 0,
              "ticks": ""
             }
            },
            "type": "scatterternary"
           }
          ],
          "surface": [
           {
            "colorbar": {
             "outlinewidth": 0,
             "ticks": ""
            },
            "colorscale": [
             [
              0,
              "#0d0887"
             ],
             [
              0.1111111111111111,
              "#46039f"
             ],
             [
              0.2222222222222222,
              "#7201a8"
             ],
             [
              0.3333333333333333,
              "#9c179e"
             ],
             [
              0.4444444444444444,
              "#bd3786"
             ],
             [
              0.5555555555555556,
              "#d8576b"
             ],
             [
              0.6666666666666666,
              "#ed7953"
             ],
             [
              0.7777777777777778,
              "#fb9f3a"
             ],
             [
              0.8888888888888888,
              "#fdca26"
             ],
             [
              1,
              "#f0f921"
             ]
            ],
            "type": "surface"
           }
          ],
          "table": [
           {
            "cells": {
             "fill": {
              "color": "#EBF0F8"
             },
             "line": {
              "color": "white"
             }
            },
            "header": {
             "fill": {
              "color": "#C8D4E3"
             },
             "line": {
              "color": "white"
             }
            },
            "type": "table"
           }
          ]
         },
         "layout": {
          "annotationdefaults": {
           "arrowcolor": "#2a3f5f",
           "arrowhead": 0,
           "arrowwidth": 1
          },
          "autotypenumbers": "strict",
          "coloraxis": {
           "colorbar": {
            "outlinewidth": 0,
            "ticks": ""
           }
          },
          "colorscale": {
           "diverging": [
            [
             0,
             "#8e0152"
            ],
            [
             0.1,
             "#c51b7d"
            ],
            [
             0.2,
             "#de77ae"
            ],
            [
             0.3,
             "#f1b6da"
            ],
            [
             0.4,
             "#fde0ef"
            ],
            [
             0.5,
             "#f7f7f7"
            ],
            [
             0.6,
             "#e6f5d0"
            ],
            [
             0.7,
             "#b8e186"
            ],
            [
             0.8,
             "#7fbc41"
            ],
            [
             0.9,
             "#4d9221"
            ],
            [
             1,
             "#276419"
            ]
           ],
           "sequential": [
            [
             0,
             "#0d0887"
            ],
            [
             0.1111111111111111,
             "#46039f"
            ],
            [
             0.2222222222222222,
             "#7201a8"
            ],
            [
             0.3333333333333333,
             "#9c179e"
            ],
            [
             0.4444444444444444,
             "#bd3786"
            ],
            [
             0.5555555555555556,
             "#d8576b"
            ],
            [
             0.6666666666666666,
             "#ed7953"
            ],
            [
             0.7777777777777778,
             "#fb9f3a"
            ],
            [
             0.8888888888888888,
             "#fdca26"
            ],
            [
             1,
             "#f0f921"
            ]
           ],
           "sequentialminus": [
            [
             0,
             "#0d0887"
            ],
            [
             0.1111111111111111,
             "#46039f"
            ],
            [
             0.2222222222222222,
             "#7201a8"
            ],
            [
             0.3333333333333333,
             "#9c179e"
            ],
            [
             0.4444444444444444,
             "#bd3786"
            ],
            [
             0.5555555555555556,
             "#d8576b"
            ],
            [
             0.6666666666666666,
             "#ed7953"
            ],
            [
             0.7777777777777778,
             "#fb9f3a"
            ],
            [
             0.8888888888888888,
             "#fdca26"
            ],
            [
             1,
             "#f0f921"
            ]
           ]
          },
          "colorway": [
           "#636efa",
           "#EF553B",
           "#00cc96",
           "#ab63fa",
           "#FFA15A",
           "#19d3f3",
           "#FF6692",
           "#B6E880",
           "#FF97FF",
           "#FECB52"
          ],
          "font": {
           "color": "#2a3f5f"
          },
          "geo": {
           "bgcolor": "white",
           "lakecolor": "white",
           "landcolor": "#E5ECF6",
           "showlakes": true,
           "showland": true,
           "subunitcolor": "white"
          },
          "hoverlabel": {
           "align": "left"
          },
          "hovermode": "closest",
          "mapbox": {
           "style": "light"
          },
          "paper_bgcolor": "white",
          "plot_bgcolor": "#E5ECF6",
          "polar": {
           "angularaxis": {
            "gridcolor": "white",
            "linecolor": "white",
            "ticks": ""
           },
           "bgcolor": "#E5ECF6",
           "radialaxis": {
            "gridcolor": "white",
            "linecolor": "white",
            "ticks": ""
           }
          },
          "scene": {
           "xaxis": {
            "backgroundcolor": "#E5ECF6",
            "gridcolor": "white",
            "gridwidth": 2,
            "linecolor": "white",
            "showbackground": true,
            "ticks": "",
            "zerolinecolor": "white"
           },
           "yaxis": {
            "backgroundcolor": "#E5ECF6",
            "gridcolor": "white",
            "gridwidth": 2,
            "linecolor": "white",
            "showbackground": true,
            "ticks": "",
            "zerolinecolor": "white"
           },
           "zaxis": {
            "backgroundcolor": "#E5ECF6",
            "gridcolor": "white",
            "gridwidth": 2,
            "linecolor": "white",
            "showbackground": true,
            "ticks": "",
            "zerolinecolor": "white"
           }
          },
          "shapedefaults": {
           "line": {
            "color": "#2a3f5f"
           }
          },
          "ternary": {
           "aaxis": {
            "gridcolor": "white",
            "linecolor": "white",
            "ticks": ""
           },
           "baxis": {
            "gridcolor": "white",
            "linecolor": "white",
            "ticks": ""
           },
           "bgcolor": "#E5ECF6",
           "caxis": {
            "gridcolor": "white",
            "linecolor": "white",
            "ticks": ""
           }
          },
          "title": {
           "x": 0.05
          },
          "xaxis": {
           "automargin": true,
           "gridcolor": "white",
           "linecolor": "white",
           "ticks": "",
           "title": {
            "standoff": 15
           },
           "zerolinecolor": "white",
           "zerolinewidth": 2
          },
          "yaxis": {
           "automargin": true,
           "gridcolor": "white",
           "linecolor": "white",
           "ticks": "",
           "title": {
            "standoff": 15
           },
           "zerolinecolor": "white",
           "zerolinewidth": 2
          }
         }
        },
        "title": {
         "font": {
          "color": "#4D5663"
         }
        },
        "xaxis": {
         "gridcolor": "#E1E5ED",
         "showgrid": true,
         "tickfont": {
          "color": "#4D5663"
         },
         "title": {
          "font": {
           "color": "#4D5663"
          },
          "text": ""
         },
         "zerolinecolor": "#E1E5ED"
        },
        "yaxis": {
         "gridcolor": "#E1E5ED",
         "showgrid": true,
         "tickfont": {
          "color": "#4D5663"
         },
         "title": {
          "font": {
           "color": "#4D5663"
          },
          "text": ""
         },
         "zerolinecolor": "#E1E5ED"
        }
       }
      },
      "text/html": [
       "<div>                            <div id=\"1841a55c-86ee-460b-a294-068a272eb9fb\" class=\"plotly-graph-div\" style=\"height:525px; width:100%;\"></div>            <script type=\"text/javascript\">                require([\"plotly\"], function(Plotly) {                    window.PLOTLYENV=window.PLOTLYENV || {};\n",
       "                    window.PLOTLYENV.BASE_URL='https://plot.ly';                                    if (document.getElementById(\"1841a55c-86ee-460b-a294-068a272eb9fb\")) {                    Plotly.newPlot(                        \"1841a55c-86ee-460b-a294-068a272eb9fb\",                        [{\"histfunc\":\"count\",\"histnorm\":\"\",\"marker\":{\"color\":\"rgba(255, 153, 51, 1.0)\",\"line\":{\"color\":\"#4D5663\",\"width\":1.3}},\"name\":\"A\",\"nbinsx\":25,\"opacity\":0.8,\"orientation\":\"v\",\"x\":[1.0163663847315616,0.6173154871769431,-0.6772810476386104,0.6237655411646876,-0.37260920798691394,0.5268099656427503,3.3821009368357,1.9577238270097503,2.3672034338753085,-0.1264357292249816,-0.8103067961827602,0.626606385498777,0.8971248085452803,0.9197234355071809,-0.08116844691411543,-0.23627135619609388,0.006315752144729975,0.8669884152608879,1.3477600604778872,0.5955044109947454,-2.2568755644129865,-0.4068329840129025,-1.0539585845464274,1.1553831547694944,0.8367721877894332,0.07562472966509834,-0.12160991114433886,-1.8708656358350333,-2.0980755507321915,-0.08333649016138943,-0.47654864104757116,0.3105903538405738,-0.2108414867369569,1.2160327251023146,0.530254461980228,0.8521931743489114,1.3174997251183853,-0.6329843164077711,-0.882042357186549,-0.10209874131529179,-0.8947340334956717,-0.03844201310949979,0.7649005814572767,-0.5966885081694819,0.11506435913682996,-0.10048058063216983,0.9452885815617678,-0.4588861395882851,1.2607952095263109,0.9909294214610531,-1.1887396736772753,0.45737437826220323,1.218396683884078,-0.6001335964116054,0.04417622281112498,0.004450468534862416,1.8313217303103826,-0.37055291069047724,1.2230284286498043,0.9753590408138841,-0.9655361156914539,-1.2668526033999856,1.1422566561817689,0.06441963023437752,-0.8204500089030339,-0.08683699678333419,-0.36853538959583965,-0.7060872984774748,1.2026123368245425,-1.3864336167600535,0.6529959510516941,-0.08084710487352231,0.3907698202410437,0.8968560566217788,-0.6609848902540147,1.8688627173419552,-0.27731576559523075,-1.7189260231242547,0.39408077609560643,0.6185665794368471,0.9780991990845405,-0.37004731829361825,-0.5377331341474938,0.43868366034200346,0.5368217774165542,1.213954701386464,0.5110904541180284,-0.4235805169165554,-1.0118041589500104,1.1431317111969865,-1.350938695027268,1.0143078055993617,-0.7217509864426822,0.9030044560127558,0.42860812787029134,-0.1071231255623638,-0.4543792366009019,-0.9730770823989808,0.1872464176467623,1.9436565221058293],\"type\":\"histogram\"}],                        {\"barmode\":\"overlay\",\"legend\":{\"bgcolor\":\"#F5F6F9\",\"font\":{\"color\":\"#4D5663\"}},\"paper_bgcolor\":\"#F5F6F9\",\"plot_bgcolor\":\"#F5F6F9\",\"template\":{\"data\":{\"barpolar\":[{\"marker\":{\"line\":{\"color\":\"#E5ECF6\",\"width\":0.5},\"pattern\":{\"fillmode\":\"overlay\",\"size\":10,\"solidity\":0.2}},\"type\":\"barpolar\"}],\"bar\":[{\"error_x\":{\"color\":\"#2a3f5f\"},\"error_y\":{\"color\":\"#2a3f5f\"},\"marker\":{\"line\":{\"color\":\"#E5ECF6\",\"width\":0.5},\"pattern\":{\"fillmode\":\"overlay\",\"size\":10,\"solidity\":0.2}},\"type\":\"bar\"}],\"carpet\":[{\"aaxis\":{\"endlinecolor\":\"#2a3f5f\",\"gridcolor\":\"white\",\"linecolor\":\"white\",\"minorgridcolor\":\"white\",\"startlinecolor\":\"#2a3f5f\"},\"baxis\":{\"endlinecolor\":\"#2a3f5f\",\"gridcolor\":\"white\",\"linecolor\":\"white\",\"minorgridcolor\":\"white\",\"startlinecolor\":\"#2a3f5f\"},\"type\":\"carpet\"}],\"choropleth\":[{\"colorbar\":{\"outlinewidth\":0,\"ticks\":\"\"},\"type\":\"choropleth\"}],\"contourcarpet\":[{\"colorbar\":{\"outlinewidth\":0,\"ticks\":\"\"},\"type\":\"contourcarpet\"}],\"contour\":[{\"colorbar\":{\"outlinewidth\":0,\"ticks\":\"\"},\"colorscale\":[[0.0,\"#0d0887\"],[0.1111111111111111,\"#46039f\"],[0.2222222222222222,\"#7201a8\"],[0.3333333333333333,\"#9c179e\"],[0.4444444444444444,\"#bd3786\"],[0.5555555555555556,\"#d8576b\"],[0.6666666666666666,\"#ed7953\"],[0.7777777777777778,\"#fb9f3a\"],[0.8888888888888888,\"#fdca26\"],[1.0,\"#f0f921\"]],\"type\":\"contour\"}],\"heatmapgl\":[{\"colorbar\":{\"outlinewidth\":0,\"ticks\":\"\"},\"colorscale\":[[0.0,\"#0d0887\"],[0.1111111111111111,\"#46039f\"],[0.2222222222222222,\"#7201a8\"],[0.3333333333333333,\"#9c179e\"],[0.4444444444444444,\"#bd3786\"],[0.5555555555555556,\"#d8576b\"],[0.6666666666666666,\"#ed7953\"],[0.7777777777777778,\"#fb9f3a\"],[0.8888888888888888,\"#fdca26\"],[1.0,\"#f0f921\"]],\"type\":\"heatmapgl\"}],\"heatmap\":[{\"colorbar\":{\"outlinewidth\":0,\"ticks\":\"\"},\"colorscale\":[[0.0,\"#0d0887\"],[0.1111111111111111,\"#46039f\"],[0.2222222222222222,\"#7201a8\"],[0.3333333333333333,\"#9c179e\"],[0.4444444444444444,\"#bd3786\"],[0.5555555555555556,\"#d8576b\"],[0.6666666666666666,\"#ed7953\"],[0.7777777777777778,\"#fb9f3a\"],[0.8888888888888888,\"#fdca26\"],[1.0,\"#f0f921\"]],\"type\":\"heatmap\"}],\"histogram2dcontour\":[{\"colorbar\":{\"outlinewidth\":0,\"ticks\":\"\"},\"colorscale\":[[0.0,\"#0d0887\"],[0.1111111111111111,\"#46039f\"],[0.2222222222222222,\"#7201a8\"],[0.3333333333333333,\"#9c179e\"],[0.4444444444444444,\"#bd3786\"],[0.5555555555555556,\"#d8576b\"],[0.6666666666666666,\"#ed7953\"],[0.7777777777777778,\"#fb9f3a\"],[0.8888888888888888,\"#fdca26\"],[1.0,\"#f0f921\"]],\"type\":\"histogram2dcontour\"}],\"histogram2d\":[{\"colorbar\":{\"outlinewidth\":0,\"ticks\":\"\"},\"colorscale\":[[0.0,\"#0d0887\"],[0.1111111111111111,\"#46039f\"],[0.2222222222222222,\"#7201a8\"],[0.3333333333333333,\"#9c179e\"],[0.4444444444444444,\"#bd3786\"],[0.5555555555555556,\"#d8576b\"],[0.6666666666666666,\"#ed7953\"],[0.7777777777777778,\"#fb9f3a\"],[0.8888888888888888,\"#fdca26\"],[1.0,\"#f0f921\"]],\"type\":\"histogram2d\"}],\"histogram\":[{\"marker\":{\"pattern\":{\"fillmode\":\"overlay\",\"size\":10,\"solidity\":0.2}},\"type\":\"histogram\"}],\"mesh3d\":[{\"colorbar\":{\"outlinewidth\":0,\"ticks\":\"\"},\"type\":\"mesh3d\"}],\"parcoords\":[{\"line\":{\"colorbar\":{\"outlinewidth\":0,\"ticks\":\"\"}},\"type\":\"parcoords\"}],\"pie\":[{\"automargin\":true,\"type\":\"pie\"}],\"scatter3d\":[{\"line\":{\"colorbar\":{\"outlinewidth\":0,\"ticks\":\"\"}},\"marker\":{\"colorbar\":{\"outlinewidth\":0,\"ticks\":\"\"}},\"type\":\"scatter3d\"}],\"scattercarpet\":[{\"marker\":{\"colorbar\":{\"outlinewidth\":0,\"ticks\":\"\"}},\"type\":\"scattercarpet\"}],\"scattergeo\":[{\"marker\":{\"colorbar\":{\"outlinewidth\":0,\"ticks\":\"\"}},\"type\":\"scattergeo\"}],\"scattergl\":[{\"marker\":{\"colorbar\":{\"outlinewidth\":0,\"ticks\":\"\"}},\"type\":\"scattergl\"}],\"scattermapbox\":[{\"marker\":{\"colorbar\":{\"outlinewidth\":0,\"ticks\":\"\"}},\"type\":\"scattermapbox\"}],\"scatterpolargl\":[{\"marker\":{\"colorbar\":{\"outlinewidth\":0,\"ticks\":\"\"}},\"type\":\"scatterpolargl\"}],\"scatterpolar\":[{\"marker\":{\"colorbar\":{\"outlinewidth\":0,\"ticks\":\"\"}},\"type\":\"scatterpolar\"}],\"scatter\":[{\"marker\":{\"colorbar\":{\"outlinewidth\":0,\"ticks\":\"\"}},\"type\":\"scatter\"}],\"scatterternary\":[{\"marker\":{\"colorbar\":{\"outlinewidth\":0,\"ticks\":\"\"}},\"type\":\"scatterternary\"}],\"surface\":[{\"colorbar\":{\"outlinewidth\":0,\"ticks\":\"\"},\"colorscale\":[[0.0,\"#0d0887\"],[0.1111111111111111,\"#46039f\"],[0.2222222222222222,\"#7201a8\"],[0.3333333333333333,\"#9c179e\"],[0.4444444444444444,\"#bd3786\"],[0.5555555555555556,\"#d8576b\"],[0.6666666666666666,\"#ed7953\"],[0.7777777777777778,\"#fb9f3a\"],[0.8888888888888888,\"#fdca26\"],[1.0,\"#f0f921\"]],\"type\":\"surface\"}],\"table\":[{\"cells\":{\"fill\":{\"color\":\"#EBF0F8\"},\"line\":{\"color\":\"white\"}},\"header\":{\"fill\":{\"color\":\"#C8D4E3\"},\"line\":{\"color\":\"white\"}},\"type\":\"table\"}]},\"layout\":{\"annotationdefaults\":{\"arrowcolor\":\"#2a3f5f\",\"arrowhead\":0,\"arrowwidth\":1},\"autotypenumbers\":\"strict\",\"coloraxis\":{\"colorbar\":{\"outlinewidth\":0,\"ticks\":\"\"}},\"colorscale\":{\"diverging\":[[0,\"#8e0152\"],[0.1,\"#c51b7d\"],[0.2,\"#de77ae\"],[0.3,\"#f1b6da\"],[0.4,\"#fde0ef\"],[0.5,\"#f7f7f7\"],[0.6,\"#e6f5d0\"],[0.7,\"#b8e186\"],[0.8,\"#7fbc41\"],[0.9,\"#4d9221\"],[1,\"#276419\"]],\"sequential\":[[0.0,\"#0d0887\"],[0.1111111111111111,\"#46039f\"],[0.2222222222222222,\"#7201a8\"],[0.3333333333333333,\"#9c179e\"],[0.4444444444444444,\"#bd3786\"],[0.5555555555555556,\"#d8576b\"],[0.6666666666666666,\"#ed7953\"],[0.7777777777777778,\"#fb9f3a\"],[0.8888888888888888,\"#fdca26\"],[1.0,\"#f0f921\"]],\"sequentialminus\":[[0.0,\"#0d0887\"],[0.1111111111111111,\"#46039f\"],[0.2222222222222222,\"#7201a8\"],[0.3333333333333333,\"#9c179e\"],[0.4444444444444444,\"#bd3786\"],[0.5555555555555556,\"#d8576b\"],[0.6666666666666666,\"#ed7953\"],[0.7777777777777778,\"#fb9f3a\"],[0.8888888888888888,\"#fdca26\"],[1.0,\"#f0f921\"]]},\"colorway\":[\"#636efa\",\"#EF553B\",\"#00cc96\",\"#ab63fa\",\"#FFA15A\",\"#19d3f3\",\"#FF6692\",\"#B6E880\",\"#FF97FF\",\"#FECB52\"],\"font\":{\"color\":\"#2a3f5f\"},\"geo\":{\"bgcolor\":\"white\",\"lakecolor\":\"white\",\"landcolor\":\"#E5ECF6\",\"showlakes\":true,\"showland\":true,\"subunitcolor\":\"white\"},\"hoverlabel\":{\"align\":\"left\"},\"hovermode\":\"closest\",\"mapbox\":{\"style\":\"light\"},\"paper_bgcolor\":\"white\",\"plot_bgcolor\":\"#E5ECF6\",\"polar\":{\"angularaxis\":{\"gridcolor\":\"white\",\"linecolor\":\"white\",\"ticks\":\"\"},\"bgcolor\":\"#E5ECF6\",\"radialaxis\":{\"gridcolor\":\"white\",\"linecolor\":\"white\",\"ticks\":\"\"}},\"scene\":{\"xaxis\":{\"backgroundcolor\":\"#E5ECF6\",\"gridcolor\":\"white\",\"gridwidth\":2,\"linecolor\":\"white\",\"showbackground\":true,\"ticks\":\"\",\"zerolinecolor\":\"white\"},\"yaxis\":{\"backgroundcolor\":\"#E5ECF6\",\"gridcolor\":\"white\",\"gridwidth\":2,\"linecolor\":\"white\",\"showbackground\":true,\"ticks\":\"\",\"zerolinecolor\":\"white\"},\"zaxis\":{\"backgroundcolor\":\"#E5ECF6\",\"gridcolor\":\"white\",\"gridwidth\":2,\"linecolor\":\"white\",\"showbackground\":true,\"ticks\":\"\",\"zerolinecolor\":\"white\"}},\"shapedefaults\":{\"line\":{\"color\":\"#2a3f5f\"}},\"ternary\":{\"aaxis\":{\"gridcolor\":\"white\",\"linecolor\":\"white\",\"ticks\":\"\"},\"baxis\":{\"gridcolor\":\"white\",\"linecolor\":\"white\",\"ticks\":\"\"},\"bgcolor\":\"#E5ECF6\",\"caxis\":{\"gridcolor\":\"white\",\"linecolor\":\"white\",\"ticks\":\"\"}},\"title\":{\"x\":0.05},\"xaxis\":{\"automargin\":true,\"gridcolor\":\"white\",\"linecolor\":\"white\",\"ticks\":\"\",\"title\":{\"standoff\":15},\"zerolinecolor\":\"white\",\"zerolinewidth\":2},\"yaxis\":{\"automargin\":true,\"gridcolor\":\"white\",\"linecolor\":\"white\",\"ticks\":\"\",\"title\":{\"standoff\":15},\"zerolinecolor\":\"white\",\"zerolinewidth\":2}}},\"title\":{\"font\":{\"color\":\"#4D5663\"}},\"xaxis\":{\"gridcolor\":\"#E1E5ED\",\"showgrid\":true,\"tickfont\":{\"color\":\"#4D5663\"},\"title\":{\"font\":{\"color\":\"#4D5663\"},\"text\":\"\"},\"zerolinecolor\":\"#E1E5ED\"},\"yaxis\":{\"gridcolor\":\"#E1E5ED\",\"showgrid\":true,\"tickfont\":{\"color\":\"#4D5663\"},\"title\":{\"font\":{\"color\":\"#4D5663\"},\"text\":\"\"},\"zerolinecolor\":\"#E1E5ED\"}},                        {\"showLink\": true, \"linkText\": \"Export to plot.ly\", \"plotlyServerURL\": \"https://plot.ly\", \"responsive\": true}                    ).then(function(){\n",
       "                            \n",
       "var gd = document.getElementById('1841a55c-86ee-460b-a294-068a272eb9fb');\n",
       "var x = new MutationObserver(function (mutations, observer) {{\n",
       "        var display = window.getComputedStyle(gd).display;\n",
       "        if (!display || display === 'none') {{\n",
       "            console.log([gd, 'removed!']);\n",
       "            Plotly.purge(gd);\n",
       "            observer.disconnect();\n",
       "        }}\n",
       "}});\n",
       "\n",
       "// Listen for the removal of the full notebook cells\n",
       "var notebookContainer = gd.closest('#notebook-container');\n",
       "if (notebookContainer) {{\n",
       "    x.observe(notebookContainer, {childList: true});\n",
       "}}\n",
       "\n",
       "// Listen for the clearing of the current output cell\n",
       "var outputEl = gd.closest('.output');\n",
       "if (outputEl) {{\n",
       "    x.observe(outputEl, {childList: true});\n",
       "}}\n",
       "\n",
       "                        })                };                });            </script>        </div>"
      ]
     },
     "metadata": {},
     "output_type": "display_data"
    }
   ],
   "source": [
    "df['A'].iplot(kind='hist',bins=25)"
   ]
  },
  {
   "cell_type": "code",
   "execution_count": 23,
   "metadata": {},
   "outputs": [
    {
     "data": {
      "application/vnd.plotly.v1+json": {
       "config": {
        "linkText": "Export to plot.ly",
        "plotlyServerURL": "https://plot.ly",
        "showLink": true
       },
       "data": [
        {
         "marker": {
          "color": [
           "rgb(255, 153, 51)",
           "rgb(55, 128, 191)",
           "rgb(50, 171, 96)",
           "rgb(128, 0, 128)",
           "rgb(219, 64, 82)",
           "rgb(0, 128, 128)",
           "rgb(255, 255, 51)",
           "rgb(128, 128, 0)",
           "rgb(251, 128, 114)",
           "rgb(128, 177, 211)"
          ],
          "line": {
           "width": 1.3
          },
          "size": [
           85,
           49,
           86,
           57,
           81,
           46,
           74,
           48,
           68,
           59,
           47,
           71,
           42,
           44,
           81,
           67,
           54,
           61,
           102,
           38,
           12,
           65,
           75,
           50,
           80,
           80,
           44,
           69,
           40,
           99,
           76,
           104,
           66,
           54,
           69,
           50,
           55,
           44,
           73,
           45,
           66,
           77,
           41,
           68,
           89,
           66,
           83,
           42,
           83,
           52,
           52,
           58,
           33,
           98,
           61,
           44,
           92,
           41,
           69,
           47,
           51,
           47,
           83,
           40,
           61,
           66,
           55,
           55,
           91,
           61,
           112,
           71,
           50,
           51,
           71,
           79,
           76,
           62,
           75,
           72,
           49,
           44,
           61,
           22,
           78,
           77,
           50,
           42,
           71,
           41,
           67,
           66,
           96,
           68,
           40,
           65,
           48,
           74,
           75,
           54
          ],
          "symbol": "circle"
         },
         "mode": "markers",
         "text": "",
         "type": "scatter",
         "x": [
          1.0163663847315616,
          0.6173154871769431,
          -0.6772810476386104,
          0.6237655411646876,
          -0.37260920798691394,
          0.5268099656427503,
          3.3821009368357,
          1.9577238270097503,
          2.3672034338753085,
          -0.1264357292249816,
          -0.8103067961827602,
          0.626606385498777,
          0.8971248085452803,
          0.9197234355071809,
          -0.08116844691411543,
          -0.23627135619609388,
          0.006315752144729975,
          0.8669884152608879,
          1.3477600604778872,
          0.5955044109947454,
          -2.2568755644129865,
          -0.4068329840129025,
          -1.0539585845464274,
          1.1553831547694944,
          0.8367721877894332,
          0.07562472966509834,
          -0.12160991114433886,
          -1.8708656358350333,
          -2.0980755507321915,
          -0.08333649016138943,
          -0.47654864104757116,
          0.3105903538405738,
          -0.2108414867369569,
          1.2160327251023146,
          0.530254461980228,
          0.8521931743489114,
          1.3174997251183853,
          -0.6329843164077711,
          -0.882042357186549,
          -0.10209874131529179,
          -0.8947340334956717,
          -0.03844201310949979,
          0.7649005814572767,
          -0.5966885081694819,
          0.11506435913682996,
          -0.10048058063216983,
          0.9452885815617678,
          -0.4588861395882851,
          1.2607952095263109,
          0.9909294214610531,
          -1.1887396736772753,
          0.45737437826220323,
          1.218396683884078,
          -0.6001335964116054,
          0.04417622281112498,
          0.004450468534862416,
          1.8313217303103826,
          -0.37055291069047724,
          1.2230284286498043,
          0.9753590408138841,
          -0.9655361156914539,
          -1.2668526033999856,
          1.1422566561817689,
          0.06441963023437752,
          -0.8204500089030339,
          -0.08683699678333419,
          -0.36853538959583965,
          -0.7060872984774748,
          1.2026123368245425,
          -1.3864336167600535,
          0.6529959510516941,
          -0.08084710487352231,
          0.3907698202410437,
          0.8968560566217788,
          -0.6609848902540147,
          1.8688627173419552,
          -0.27731576559523075,
          -1.7189260231242547,
          0.39408077609560643,
          0.6185665794368471,
          0.9780991990845405,
          -0.37004731829361825,
          -0.5377331341474938,
          0.43868366034200346,
          0.5368217774165542,
          1.213954701386464,
          0.5110904541180284,
          -0.4235805169165554,
          -1.0118041589500104,
          1.1431317111969865,
          -1.350938695027268,
          1.0143078055993617,
          -0.7217509864426822,
          0.9030044560127558,
          0.42860812787029134,
          -0.1071231255623638,
          -0.4543792366009019,
          -0.9730770823989808,
          0.1872464176467623,
          1.9436565221058293
         ],
         "y": [
          -1.314123512152019,
          0.39375016329835755,
          -0.3333754421609034,
          -0.16129292315339847,
          0.39089174011821676,
          -0.2415285832239928,
          -0.1330687410391177,
          -2.742176842383155,
          -1.4549249762961163,
          -0.03288164196362554,
          0.7870954339775161,
          -1.5906364831120088,
          -0.24665783984415385,
          -1.2709531905402118,
          1.4177396247528429,
          0.9139339993306476,
          0.14968727936437834,
          -1.4773579780270367,
          1.2836065788783506,
          0.4218429543817784,
          -0.3891327307587016,
          -0.6603022181306161,
          -1.0684908499632273,
          -0.3548553707374886,
          0.899830228716969,
          -0.8941242273946151,
          0.28641016797356983,
          -0.5620191278396524,
          0.5645175911279281,
          -0.687053335069698,
          1.9940782552722824,
          0.41288636989328503,
          -0.0757559224356657,
          -1.228484199092643,
          0.10159891043339675,
          -0.8406593103911069,
          0.626646032389116,
          1.344081195804092,
          -0.2058879538088759,
          -0.24892149899365876,
          1.61428601967461,
          1.054023242279591,
          -1.0494231161382948,
          -0.29037512816229744,
          -0.31845732692891965,
          0.529699171795502,
          -0.8271224841739949,
          0.4273220127629525,
          -0.7435857578963644,
          -0.27184790451055646,
          -1.4840195959301983,
          -0.44688526663229666,
          0.4628829916489609,
          -1.0937281052231775,
          -0.04684302086081167,
          -1.7319842733126842,
          0.8936502873631862,
          -0.8605804212619843,
          -1.491722030552004,
          0.22619482826173615,
          0.12596075803515505,
          0.5939073679012035,
          -2.0319593614147418,
          0.4094611282332534,
          -1.425236969134026,
          0.13011219954716607,
          -0.40809823124548433,
          -0.09813875666548708,
          -0.3443129245978503,
          0.3722128853803303,
          -0.4876598037455311,
          1.0394990700889335,
          -0.8096093205424912,
          1.8638913823070484,
          1.4465628410979272,
          1.5033357505346296,
          -0.1644064395364936,
          0.9572849136768261,
          1.5099517130489664,
          -0.03615537780077251,
          -0.7750468333728179,
          0.6185273461544226,
          0.8477903244792816,
          0.2404673003418146,
          -0.8111967164058738,
          0.538679623313098,
          -0.594248432346121,
          0.971093297394865,
          0.26710198449999917,
          -0.37466122018418707,
          0.35159515438680605,
          -0.36114835700299674,
          -1.2442893555942884,
          -2.2215578576176584,
          1.1728151414090098,
          0.6090886842595982,
          -1.6522977997891652,
          -1.1130954230421588,
          0.42121458153220404,
          -0.8627485862769746
         ]
        }
       ],
       "layout": {
        "legend": {
         "bgcolor": "#F5F6F9",
         "font": {
          "color": "#4D5663"
         }
        },
        "paper_bgcolor": "#F5F6F9",
        "plot_bgcolor": "#F5F6F9",
        "template": {
         "data": {
          "bar": [
           {
            "error_x": {
             "color": "#2a3f5f"
            },
            "error_y": {
             "color": "#2a3f5f"
            },
            "marker": {
             "line": {
              "color": "#E5ECF6",
              "width": 0.5
             },
             "pattern": {
              "fillmode": "overlay",
              "size": 10,
              "solidity": 0.2
             }
            },
            "type": "bar"
           }
          ],
          "barpolar": [
           {
            "marker": {
             "line": {
              "color": "#E5ECF6",
              "width": 0.5
             },
             "pattern": {
              "fillmode": "overlay",
              "size": 10,
              "solidity": 0.2
             }
            },
            "type": "barpolar"
           }
          ],
          "carpet": [
           {
            "aaxis": {
             "endlinecolor": "#2a3f5f",
             "gridcolor": "white",
             "linecolor": "white",
             "minorgridcolor": "white",
             "startlinecolor": "#2a3f5f"
            },
            "baxis": {
             "endlinecolor": "#2a3f5f",
             "gridcolor": "white",
             "linecolor": "white",
             "minorgridcolor": "white",
             "startlinecolor": "#2a3f5f"
            },
            "type": "carpet"
           }
          ],
          "choropleth": [
           {
            "colorbar": {
             "outlinewidth": 0,
             "ticks": ""
            },
            "type": "choropleth"
           }
          ],
          "contour": [
           {
            "colorbar": {
             "outlinewidth": 0,
             "ticks": ""
            },
            "colorscale": [
             [
              0,
              "#0d0887"
             ],
             [
              0.1111111111111111,
              "#46039f"
             ],
             [
              0.2222222222222222,
              "#7201a8"
             ],
             [
              0.3333333333333333,
              "#9c179e"
             ],
             [
              0.4444444444444444,
              "#bd3786"
             ],
             [
              0.5555555555555556,
              "#d8576b"
             ],
             [
              0.6666666666666666,
              "#ed7953"
             ],
             [
              0.7777777777777778,
              "#fb9f3a"
             ],
             [
              0.8888888888888888,
              "#fdca26"
             ],
             [
              1,
              "#f0f921"
             ]
            ],
            "type": "contour"
           }
          ],
          "contourcarpet": [
           {
            "colorbar": {
             "outlinewidth": 0,
             "ticks": ""
            },
            "type": "contourcarpet"
           }
          ],
          "heatmap": [
           {
            "colorbar": {
             "outlinewidth": 0,
             "ticks": ""
            },
            "colorscale": [
             [
              0,
              "#0d0887"
             ],
             [
              0.1111111111111111,
              "#46039f"
             ],
             [
              0.2222222222222222,
              "#7201a8"
             ],
             [
              0.3333333333333333,
              "#9c179e"
             ],
             [
              0.4444444444444444,
              "#bd3786"
             ],
             [
              0.5555555555555556,
              "#d8576b"
             ],
             [
              0.6666666666666666,
              "#ed7953"
             ],
             [
              0.7777777777777778,
              "#fb9f3a"
             ],
             [
              0.8888888888888888,
              "#fdca26"
             ],
             [
              1,
              "#f0f921"
             ]
            ],
            "type": "heatmap"
           }
          ],
          "heatmapgl": [
           {
            "colorbar": {
             "outlinewidth": 0,
             "ticks": ""
            },
            "colorscale": [
             [
              0,
              "#0d0887"
             ],
             [
              0.1111111111111111,
              "#46039f"
             ],
             [
              0.2222222222222222,
              "#7201a8"
             ],
             [
              0.3333333333333333,
              "#9c179e"
             ],
             [
              0.4444444444444444,
              "#bd3786"
             ],
             [
              0.5555555555555556,
              "#d8576b"
             ],
             [
              0.6666666666666666,
              "#ed7953"
             ],
             [
              0.7777777777777778,
              "#fb9f3a"
             ],
             [
              0.8888888888888888,
              "#fdca26"
             ],
             [
              1,
              "#f0f921"
             ]
            ],
            "type": "heatmapgl"
           }
          ],
          "histogram": [
           {
            "marker": {
             "pattern": {
              "fillmode": "overlay",
              "size": 10,
              "solidity": 0.2
             }
            },
            "type": "histogram"
           }
          ],
          "histogram2d": [
           {
            "colorbar": {
             "outlinewidth": 0,
             "ticks": ""
            },
            "colorscale": [
             [
              0,
              "#0d0887"
             ],
             [
              0.1111111111111111,
              "#46039f"
             ],
             [
              0.2222222222222222,
              "#7201a8"
             ],
             [
              0.3333333333333333,
              "#9c179e"
             ],
             [
              0.4444444444444444,
              "#bd3786"
             ],
             [
              0.5555555555555556,
              "#d8576b"
             ],
             [
              0.6666666666666666,
              "#ed7953"
             ],
             [
              0.7777777777777778,
              "#fb9f3a"
             ],
             [
              0.8888888888888888,
              "#fdca26"
             ],
             [
              1,
              "#f0f921"
             ]
            ],
            "type": "histogram2d"
           }
          ],
          "histogram2dcontour": [
           {
            "colorbar": {
             "outlinewidth": 0,
             "ticks": ""
            },
            "colorscale": [
             [
              0,
              "#0d0887"
             ],
             [
              0.1111111111111111,
              "#46039f"
             ],
             [
              0.2222222222222222,
              "#7201a8"
             ],
             [
              0.3333333333333333,
              "#9c179e"
             ],
             [
              0.4444444444444444,
              "#bd3786"
             ],
             [
              0.5555555555555556,
              "#d8576b"
             ],
             [
              0.6666666666666666,
              "#ed7953"
             ],
             [
              0.7777777777777778,
              "#fb9f3a"
             ],
             [
              0.8888888888888888,
              "#fdca26"
             ],
             [
              1,
              "#f0f921"
             ]
            ],
            "type": "histogram2dcontour"
           }
          ],
          "mesh3d": [
           {
            "colorbar": {
             "outlinewidth": 0,
             "ticks": ""
            },
            "type": "mesh3d"
           }
          ],
          "parcoords": [
           {
            "line": {
             "colorbar": {
              "outlinewidth": 0,
              "ticks": ""
             }
            },
            "type": "parcoords"
           }
          ],
          "pie": [
           {
            "automargin": true,
            "type": "pie"
           }
          ],
          "scatter": [
           {
            "marker": {
             "colorbar": {
              "outlinewidth": 0,
              "ticks": ""
             }
            },
            "type": "scatter"
           }
          ],
          "scatter3d": [
           {
            "line": {
             "colorbar": {
              "outlinewidth": 0,
              "ticks": ""
             }
            },
            "marker": {
             "colorbar": {
              "outlinewidth": 0,
              "ticks": ""
             }
            },
            "type": "scatter3d"
           }
          ],
          "scattercarpet": [
           {
            "marker": {
             "colorbar": {
              "outlinewidth": 0,
              "ticks": ""
             }
            },
            "type": "scattercarpet"
           }
          ],
          "scattergeo": [
           {
            "marker": {
             "colorbar": {
              "outlinewidth": 0,
              "ticks": ""
             }
            },
            "type": "scattergeo"
           }
          ],
          "scattergl": [
           {
            "marker": {
             "colorbar": {
              "outlinewidth": 0,
              "ticks": ""
             }
            },
            "type": "scattergl"
           }
          ],
          "scattermapbox": [
           {
            "marker": {
             "colorbar": {
              "outlinewidth": 0,
              "ticks": ""
             }
            },
            "type": "scattermapbox"
           }
          ],
          "scatterpolar": [
           {
            "marker": {
             "colorbar": {
              "outlinewidth": 0,
              "ticks": ""
             }
            },
            "type": "scatterpolar"
           }
          ],
          "scatterpolargl": [
           {
            "marker": {
             "colorbar": {
              "outlinewidth": 0,
              "ticks": ""
             }
            },
            "type": "scatterpolargl"
           }
          ],
          "scatterternary": [
           {
            "marker": {
             "colorbar": {
              "outlinewidth": 0,
              "ticks": ""
             }
            },
            "type": "scatterternary"
           }
          ],
          "surface": [
           {
            "colorbar": {
             "outlinewidth": 0,
             "ticks": ""
            },
            "colorscale": [
             [
              0,
              "#0d0887"
             ],
             [
              0.1111111111111111,
              "#46039f"
             ],
             [
              0.2222222222222222,
              "#7201a8"
             ],
             [
              0.3333333333333333,
              "#9c179e"
             ],
             [
              0.4444444444444444,
              "#bd3786"
             ],
             [
              0.5555555555555556,
              "#d8576b"
             ],
             [
              0.6666666666666666,
              "#ed7953"
             ],
             [
              0.7777777777777778,
              "#fb9f3a"
             ],
             [
              0.8888888888888888,
              "#fdca26"
             ],
             [
              1,
              "#f0f921"
             ]
            ],
            "type": "surface"
           }
          ],
          "table": [
           {
            "cells": {
             "fill": {
              "color": "#EBF0F8"
             },
             "line": {
              "color": "white"
             }
            },
            "header": {
             "fill": {
              "color": "#C8D4E3"
             },
             "line": {
              "color": "white"
             }
            },
            "type": "table"
           }
          ]
         },
         "layout": {
          "annotationdefaults": {
           "arrowcolor": "#2a3f5f",
           "arrowhead": 0,
           "arrowwidth": 1
          },
          "autotypenumbers": "strict",
          "coloraxis": {
           "colorbar": {
            "outlinewidth": 0,
            "ticks": ""
           }
          },
          "colorscale": {
           "diverging": [
            [
             0,
             "#8e0152"
            ],
            [
             0.1,
             "#c51b7d"
            ],
            [
             0.2,
             "#de77ae"
            ],
            [
             0.3,
             "#f1b6da"
            ],
            [
             0.4,
             "#fde0ef"
            ],
            [
             0.5,
             "#f7f7f7"
            ],
            [
             0.6,
             "#e6f5d0"
            ],
            [
             0.7,
             "#b8e186"
            ],
            [
             0.8,
             "#7fbc41"
            ],
            [
             0.9,
             "#4d9221"
            ],
            [
             1,
             "#276419"
            ]
           ],
           "sequential": [
            [
             0,
             "#0d0887"
            ],
            [
             0.1111111111111111,
             "#46039f"
            ],
            [
             0.2222222222222222,
             "#7201a8"
            ],
            [
             0.3333333333333333,
             "#9c179e"
            ],
            [
             0.4444444444444444,
             "#bd3786"
            ],
            [
             0.5555555555555556,
             "#d8576b"
            ],
            [
             0.6666666666666666,
             "#ed7953"
            ],
            [
             0.7777777777777778,
             "#fb9f3a"
            ],
            [
             0.8888888888888888,
             "#fdca26"
            ],
            [
             1,
             "#f0f921"
            ]
           ],
           "sequentialminus": [
            [
             0,
             "#0d0887"
            ],
            [
             0.1111111111111111,
             "#46039f"
            ],
            [
             0.2222222222222222,
             "#7201a8"
            ],
            [
             0.3333333333333333,
             "#9c179e"
            ],
            [
             0.4444444444444444,
             "#bd3786"
            ],
            [
             0.5555555555555556,
             "#d8576b"
            ],
            [
             0.6666666666666666,
             "#ed7953"
            ],
            [
             0.7777777777777778,
             "#fb9f3a"
            ],
            [
             0.8888888888888888,
             "#fdca26"
            ],
            [
             1,
             "#f0f921"
            ]
           ]
          },
          "colorway": [
           "#636efa",
           "#EF553B",
           "#00cc96",
           "#ab63fa",
           "#FFA15A",
           "#19d3f3",
           "#FF6692",
           "#B6E880",
           "#FF97FF",
           "#FECB52"
          ],
          "font": {
           "color": "#2a3f5f"
          },
          "geo": {
           "bgcolor": "white",
           "lakecolor": "white",
           "landcolor": "#E5ECF6",
           "showlakes": true,
           "showland": true,
           "subunitcolor": "white"
          },
          "hoverlabel": {
           "align": "left"
          },
          "hovermode": "closest",
          "mapbox": {
           "style": "light"
          },
          "paper_bgcolor": "white",
          "plot_bgcolor": "#E5ECF6",
          "polar": {
           "angularaxis": {
            "gridcolor": "white",
            "linecolor": "white",
            "ticks": ""
           },
           "bgcolor": "#E5ECF6",
           "radialaxis": {
            "gridcolor": "white",
            "linecolor": "white",
            "ticks": ""
           }
          },
          "scene": {
           "xaxis": {
            "backgroundcolor": "#E5ECF6",
            "gridcolor": "white",
            "gridwidth": 2,
            "linecolor": "white",
            "showbackground": true,
            "ticks": "",
            "zerolinecolor": "white"
           },
           "yaxis": {
            "backgroundcolor": "#E5ECF6",
            "gridcolor": "white",
            "gridwidth": 2,
            "linecolor": "white",
            "showbackground": true,
            "ticks": "",
            "zerolinecolor": "white"
           },
           "zaxis": {
            "backgroundcolor": "#E5ECF6",
            "gridcolor": "white",
            "gridwidth": 2,
            "linecolor": "white",
            "showbackground": true,
            "ticks": "",
            "zerolinecolor": "white"
           }
          },
          "shapedefaults": {
           "line": {
            "color": "#2a3f5f"
           }
          },
          "ternary": {
           "aaxis": {
            "gridcolor": "white",
            "linecolor": "white",
            "ticks": ""
           },
           "baxis": {
            "gridcolor": "white",
            "linecolor": "white",
            "ticks": ""
           },
           "bgcolor": "#E5ECF6",
           "caxis": {
            "gridcolor": "white",
            "linecolor": "white",
            "ticks": ""
           }
          },
          "title": {
           "x": 0.05
          },
          "xaxis": {
           "automargin": true,
           "gridcolor": "white",
           "linecolor": "white",
           "ticks": "",
           "title": {
            "standoff": 15
           },
           "zerolinecolor": "white",
           "zerolinewidth": 2
          },
          "yaxis": {
           "automargin": true,
           "gridcolor": "white",
           "linecolor": "white",
           "ticks": "",
           "title": {
            "standoff": 15
           },
           "zerolinecolor": "white",
           "zerolinewidth": 2
          }
         }
        },
        "title": {
         "font": {
          "color": "#4D5663"
         }
        },
        "xaxis": {
         "gridcolor": "#E1E5ED",
         "showgrid": true,
         "tickfont": {
          "color": "#4D5663"
         },
         "title": {
          "font": {
           "color": "#4D5663"
          },
          "text": ""
         },
         "zerolinecolor": "#E1E5ED"
        },
        "yaxis": {
         "gridcolor": "#E1E5ED",
         "showgrid": true,
         "tickfont": {
          "color": "#4D5663"
         },
         "title": {
          "font": {
           "color": "#4D5663"
          },
          "text": ""
         },
         "zerolinecolor": "#E1E5ED"
        }
       }
      },
      "text/html": [
       "<div>                            <div id=\"b5f90a79-9580-45a6-809c-2a14b08c093a\" class=\"plotly-graph-div\" style=\"height:525px; width:100%;\"></div>            <script type=\"text/javascript\">                require([\"plotly\"], function(Plotly) {                    window.PLOTLYENV=window.PLOTLYENV || {};\n",
       "                    window.PLOTLYENV.BASE_URL='https://plot.ly';                                    if (document.getElementById(\"b5f90a79-9580-45a6-809c-2a14b08c093a\")) {                    Plotly.newPlot(                        \"b5f90a79-9580-45a6-809c-2a14b08c093a\",                        [{\"marker\":{\"color\":[\"rgb(255, 153, 51)\",\"rgb(55, 128, 191)\",\"rgb(50, 171, 96)\",\"rgb(128, 0, 128)\",\"rgb(219, 64, 82)\",\"rgb(0, 128, 128)\",\"rgb(255, 255, 51)\",\"rgb(128, 128, 0)\",\"rgb(251, 128, 114)\",\"rgb(128, 177, 211)\"],\"line\":{\"width\":1.3},\"size\":[85,49,86,57,81,46,74,48,68,59,47,71,42,44,81,67,54,61,102,38,12,65,75,50,80,80,44,69,40,99,76,104,66,54,69,50,55,44,73,45,66,77,41,68,89,66,83,42,83,52,52,58,33,98,61,44,92,41,69,47,51,47,83,40,61,66,55,55,91,61,112,71,50,51,71,79,76,62,75,72,49,44,61,22,78,77,50,42,71,41,67,66,96,68,40,65,48,74,75,54],\"symbol\":\"circle\"},\"mode\":\"markers\",\"text\":\"\",\"x\":[1.0163663847315616,0.6173154871769431,-0.6772810476386104,0.6237655411646876,-0.37260920798691394,0.5268099656427503,3.3821009368357,1.9577238270097503,2.3672034338753085,-0.1264357292249816,-0.8103067961827602,0.626606385498777,0.8971248085452803,0.9197234355071809,-0.08116844691411543,-0.23627135619609388,0.006315752144729975,0.8669884152608879,1.3477600604778872,0.5955044109947454,-2.2568755644129865,-0.4068329840129025,-1.0539585845464274,1.1553831547694944,0.8367721877894332,0.07562472966509834,-0.12160991114433886,-1.8708656358350333,-2.0980755507321915,-0.08333649016138943,-0.47654864104757116,0.3105903538405738,-0.2108414867369569,1.2160327251023146,0.530254461980228,0.8521931743489114,1.3174997251183853,-0.6329843164077711,-0.882042357186549,-0.10209874131529179,-0.8947340334956717,-0.03844201310949979,0.7649005814572767,-0.5966885081694819,0.11506435913682996,-0.10048058063216983,0.9452885815617678,-0.4588861395882851,1.2607952095263109,0.9909294214610531,-1.1887396736772753,0.45737437826220323,1.218396683884078,-0.6001335964116054,0.04417622281112498,0.004450468534862416,1.8313217303103826,-0.37055291069047724,1.2230284286498043,0.9753590408138841,-0.9655361156914539,-1.2668526033999856,1.1422566561817689,0.06441963023437752,-0.8204500089030339,-0.08683699678333419,-0.36853538959583965,-0.7060872984774748,1.2026123368245425,-1.3864336167600535,0.6529959510516941,-0.08084710487352231,0.3907698202410437,0.8968560566217788,-0.6609848902540147,1.8688627173419552,-0.27731576559523075,-1.7189260231242547,0.39408077609560643,0.6185665794368471,0.9780991990845405,-0.37004731829361825,-0.5377331341474938,0.43868366034200346,0.5368217774165542,1.213954701386464,0.5110904541180284,-0.4235805169165554,-1.0118041589500104,1.1431317111969865,-1.350938695027268,1.0143078055993617,-0.7217509864426822,0.9030044560127558,0.42860812787029134,-0.1071231255623638,-0.4543792366009019,-0.9730770823989808,0.1872464176467623,1.9436565221058293],\"y\":[-1.314123512152019,0.39375016329835755,-0.3333754421609034,-0.16129292315339847,0.39089174011821676,-0.2415285832239928,-0.1330687410391177,-2.742176842383155,-1.4549249762961163,-0.03288164196362554,0.7870954339775161,-1.5906364831120088,-0.24665783984415385,-1.2709531905402118,1.4177396247528429,0.9139339993306476,0.14968727936437834,-1.4773579780270367,1.2836065788783506,0.4218429543817784,-0.3891327307587016,-0.6603022181306161,-1.0684908499632273,-0.3548553707374886,0.899830228716969,-0.8941242273946151,0.28641016797356983,-0.5620191278396524,0.5645175911279281,-0.687053335069698,1.9940782552722824,0.41288636989328503,-0.0757559224356657,-1.228484199092643,0.10159891043339675,-0.8406593103911069,0.626646032389116,1.344081195804092,-0.2058879538088759,-0.24892149899365876,1.61428601967461,1.054023242279591,-1.0494231161382948,-0.29037512816229744,-0.31845732692891965,0.529699171795502,-0.8271224841739949,0.4273220127629525,-0.7435857578963644,-0.27184790451055646,-1.4840195959301983,-0.44688526663229666,0.4628829916489609,-1.0937281052231775,-0.04684302086081167,-1.7319842733126842,0.8936502873631862,-0.8605804212619843,-1.491722030552004,0.22619482826173615,0.12596075803515505,0.5939073679012035,-2.0319593614147418,0.4094611282332534,-1.425236969134026,0.13011219954716607,-0.40809823124548433,-0.09813875666548708,-0.3443129245978503,0.3722128853803303,-0.4876598037455311,1.0394990700889335,-0.8096093205424912,1.8638913823070484,1.4465628410979272,1.5033357505346296,-0.1644064395364936,0.9572849136768261,1.5099517130489664,-0.03615537780077251,-0.7750468333728179,0.6185273461544226,0.8477903244792816,0.2404673003418146,-0.8111967164058738,0.538679623313098,-0.594248432346121,0.971093297394865,0.26710198449999917,-0.37466122018418707,0.35159515438680605,-0.36114835700299674,-1.2442893555942884,-2.2215578576176584,1.1728151414090098,0.6090886842595982,-1.6522977997891652,-1.1130954230421588,0.42121458153220404,-0.8627485862769746],\"type\":\"scatter\"}],                        {\"legend\":{\"bgcolor\":\"#F5F6F9\",\"font\":{\"color\":\"#4D5663\"}},\"paper_bgcolor\":\"#F5F6F9\",\"plot_bgcolor\":\"#F5F6F9\",\"template\":{\"data\":{\"barpolar\":[{\"marker\":{\"line\":{\"color\":\"#E5ECF6\",\"width\":0.5},\"pattern\":{\"fillmode\":\"overlay\",\"size\":10,\"solidity\":0.2}},\"type\":\"barpolar\"}],\"bar\":[{\"error_x\":{\"color\":\"#2a3f5f\"},\"error_y\":{\"color\":\"#2a3f5f\"},\"marker\":{\"line\":{\"color\":\"#E5ECF6\",\"width\":0.5},\"pattern\":{\"fillmode\":\"overlay\",\"size\":10,\"solidity\":0.2}},\"type\":\"bar\"}],\"carpet\":[{\"aaxis\":{\"endlinecolor\":\"#2a3f5f\",\"gridcolor\":\"white\",\"linecolor\":\"white\",\"minorgridcolor\":\"white\",\"startlinecolor\":\"#2a3f5f\"},\"baxis\":{\"endlinecolor\":\"#2a3f5f\",\"gridcolor\":\"white\",\"linecolor\":\"white\",\"minorgridcolor\":\"white\",\"startlinecolor\":\"#2a3f5f\"},\"type\":\"carpet\"}],\"choropleth\":[{\"colorbar\":{\"outlinewidth\":0,\"ticks\":\"\"},\"type\":\"choropleth\"}],\"contourcarpet\":[{\"colorbar\":{\"outlinewidth\":0,\"ticks\":\"\"},\"type\":\"contourcarpet\"}],\"contour\":[{\"colorbar\":{\"outlinewidth\":0,\"ticks\":\"\"},\"colorscale\":[[0.0,\"#0d0887\"],[0.1111111111111111,\"#46039f\"],[0.2222222222222222,\"#7201a8\"],[0.3333333333333333,\"#9c179e\"],[0.4444444444444444,\"#bd3786\"],[0.5555555555555556,\"#d8576b\"],[0.6666666666666666,\"#ed7953\"],[0.7777777777777778,\"#fb9f3a\"],[0.8888888888888888,\"#fdca26\"],[1.0,\"#f0f921\"]],\"type\":\"contour\"}],\"heatmapgl\":[{\"colorbar\":{\"outlinewidth\":0,\"ticks\":\"\"},\"colorscale\":[[0.0,\"#0d0887\"],[0.1111111111111111,\"#46039f\"],[0.2222222222222222,\"#7201a8\"],[0.3333333333333333,\"#9c179e\"],[0.4444444444444444,\"#bd3786\"],[0.5555555555555556,\"#d8576b\"],[0.6666666666666666,\"#ed7953\"],[0.7777777777777778,\"#fb9f3a\"],[0.8888888888888888,\"#fdca26\"],[1.0,\"#f0f921\"]],\"type\":\"heatmapgl\"}],\"heatmap\":[{\"colorbar\":{\"outlinewidth\":0,\"ticks\":\"\"},\"colorscale\":[[0.0,\"#0d0887\"],[0.1111111111111111,\"#46039f\"],[0.2222222222222222,\"#7201a8\"],[0.3333333333333333,\"#9c179e\"],[0.4444444444444444,\"#bd3786\"],[0.5555555555555556,\"#d8576b\"],[0.6666666666666666,\"#ed7953\"],[0.7777777777777778,\"#fb9f3a\"],[0.8888888888888888,\"#fdca26\"],[1.0,\"#f0f921\"]],\"type\":\"heatmap\"}],\"histogram2dcontour\":[{\"colorbar\":{\"outlinewidth\":0,\"ticks\":\"\"},\"colorscale\":[[0.0,\"#0d0887\"],[0.1111111111111111,\"#46039f\"],[0.2222222222222222,\"#7201a8\"],[0.3333333333333333,\"#9c179e\"],[0.4444444444444444,\"#bd3786\"],[0.5555555555555556,\"#d8576b\"],[0.6666666666666666,\"#ed7953\"],[0.7777777777777778,\"#fb9f3a\"],[0.8888888888888888,\"#fdca26\"],[1.0,\"#f0f921\"]],\"type\":\"histogram2dcontour\"}],\"histogram2d\":[{\"colorbar\":{\"outlinewidth\":0,\"ticks\":\"\"},\"colorscale\":[[0.0,\"#0d0887\"],[0.1111111111111111,\"#46039f\"],[0.2222222222222222,\"#7201a8\"],[0.3333333333333333,\"#9c179e\"],[0.4444444444444444,\"#bd3786\"],[0.5555555555555556,\"#d8576b\"],[0.6666666666666666,\"#ed7953\"],[0.7777777777777778,\"#fb9f3a\"],[0.8888888888888888,\"#fdca26\"],[1.0,\"#f0f921\"]],\"type\":\"histogram2d\"}],\"histogram\":[{\"marker\":{\"pattern\":{\"fillmode\":\"overlay\",\"size\":10,\"solidity\":0.2}},\"type\":\"histogram\"}],\"mesh3d\":[{\"colorbar\":{\"outlinewidth\":0,\"ticks\":\"\"},\"type\":\"mesh3d\"}],\"parcoords\":[{\"line\":{\"colorbar\":{\"outlinewidth\":0,\"ticks\":\"\"}},\"type\":\"parcoords\"}],\"pie\":[{\"automargin\":true,\"type\":\"pie\"}],\"scatter3d\":[{\"line\":{\"colorbar\":{\"outlinewidth\":0,\"ticks\":\"\"}},\"marker\":{\"colorbar\":{\"outlinewidth\":0,\"ticks\":\"\"}},\"type\":\"scatter3d\"}],\"scattercarpet\":[{\"marker\":{\"colorbar\":{\"outlinewidth\":0,\"ticks\":\"\"}},\"type\":\"scattercarpet\"}],\"scattergeo\":[{\"marker\":{\"colorbar\":{\"outlinewidth\":0,\"ticks\":\"\"}},\"type\":\"scattergeo\"}],\"scattergl\":[{\"marker\":{\"colorbar\":{\"outlinewidth\":0,\"ticks\":\"\"}},\"type\":\"scattergl\"}],\"scattermapbox\":[{\"marker\":{\"colorbar\":{\"outlinewidth\":0,\"ticks\":\"\"}},\"type\":\"scattermapbox\"}],\"scatterpolargl\":[{\"marker\":{\"colorbar\":{\"outlinewidth\":0,\"ticks\":\"\"}},\"type\":\"scatterpolargl\"}],\"scatterpolar\":[{\"marker\":{\"colorbar\":{\"outlinewidth\":0,\"ticks\":\"\"}},\"type\":\"scatterpolar\"}],\"scatter\":[{\"marker\":{\"colorbar\":{\"outlinewidth\":0,\"ticks\":\"\"}},\"type\":\"scatter\"}],\"scatterternary\":[{\"marker\":{\"colorbar\":{\"outlinewidth\":0,\"ticks\":\"\"}},\"type\":\"scatterternary\"}],\"surface\":[{\"colorbar\":{\"outlinewidth\":0,\"ticks\":\"\"},\"colorscale\":[[0.0,\"#0d0887\"],[0.1111111111111111,\"#46039f\"],[0.2222222222222222,\"#7201a8\"],[0.3333333333333333,\"#9c179e\"],[0.4444444444444444,\"#bd3786\"],[0.5555555555555556,\"#d8576b\"],[0.6666666666666666,\"#ed7953\"],[0.7777777777777778,\"#fb9f3a\"],[0.8888888888888888,\"#fdca26\"],[1.0,\"#f0f921\"]],\"type\":\"surface\"}],\"table\":[{\"cells\":{\"fill\":{\"color\":\"#EBF0F8\"},\"line\":{\"color\":\"white\"}},\"header\":{\"fill\":{\"color\":\"#C8D4E3\"},\"line\":{\"color\":\"white\"}},\"type\":\"table\"}]},\"layout\":{\"annotationdefaults\":{\"arrowcolor\":\"#2a3f5f\",\"arrowhead\":0,\"arrowwidth\":1},\"autotypenumbers\":\"strict\",\"coloraxis\":{\"colorbar\":{\"outlinewidth\":0,\"ticks\":\"\"}},\"colorscale\":{\"diverging\":[[0,\"#8e0152\"],[0.1,\"#c51b7d\"],[0.2,\"#de77ae\"],[0.3,\"#f1b6da\"],[0.4,\"#fde0ef\"],[0.5,\"#f7f7f7\"],[0.6,\"#e6f5d0\"],[0.7,\"#b8e186\"],[0.8,\"#7fbc41\"],[0.9,\"#4d9221\"],[1,\"#276419\"]],\"sequential\":[[0.0,\"#0d0887\"],[0.1111111111111111,\"#46039f\"],[0.2222222222222222,\"#7201a8\"],[0.3333333333333333,\"#9c179e\"],[0.4444444444444444,\"#bd3786\"],[0.5555555555555556,\"#d8576b\"],[0.6666666666666666,\"#ed7953\"],[0.7777777777777778,\"#fb9f3a\"],[0.8888888888888888,\"#fdca26\"],[1.0,\"#f0f921\"]],\"sequentialminus\":[[0.0,\"#0d0887\"],[0.1111111111111111,\"#46039f\"],[0.2222222222222222,\"#7201a8\"],[0.3333333333333333,\"#9c179e\"],[0.4444444444444444,\"#bd3786\"],[0.5555555555555556,\"#d8576b\"],[0.6666666666666666,\"#ed7953\"],[0.7777777777777778,\"#fb9f3a\"],[0.8888888888888888,\"#fdca26\"],[1.0,\"#f0f921\"]]},\"colorway\":[\"#636efa\",\"#EF553B\",\"#00cc96\",\"#ab63fa\",\"#FFA15A\",\"#19d3f3\",\"#FF6692\",\"#B6E880\",\"#FF97FF\",\"#FECB52\"],\"font\":{\"color\":\"#2a3f5f\"},\"geo\":{\"bgcolor\":\"white\",\"lakecolor\":\"white\",\"landcolor\":\"#E5ECF6\",\"showlakes\":true,\"showland\":true,\"subunitcolor\":\"white\"},\"hoverlabel\":{\"align\":\"left\"},\"hovermode\":\"closest\",\"mapbox\":{\"style\":\"light\"},\"paper_bgcolor\":\"white\",\"plot_bgcolor\":\"#E5ECF6\",\"polar\":{\"angularaxis\":{\"gridcolor\":\"white\",\"linecolor\":\"white\",\"ticks\":\"\"},\"bgcolor\":\"#E5ECF6\",\"radialaxis\":{\"gridcolor\":\"white\",\"linecolor\":\"white\",\"ticks\":\"\"}},\"scene\":{\"xaxis\":{\"backgroundcolor\":\"#E5ECF6\",\"gridcolor\":\"white\",\"gridwidth\":2,\"linecolor\":\"white\",\"showbackground\":true,\"ticks\":\"\",\"zerolinecolor\":\"white\"},\"yaxis\":{\"backgroundcolor\":\"#E5ECF6\",\"gridcolor\":\"white\",\"gridwidth\":2,\"linecolor\":\"white\",\"showbackground\":true,\"ticks\":\"\",\"zerolinecolor\":\"white\"},\"zaxis\":{\"backgroundcolor\":\"#E5ECF6\",\"gridcolor\":\"white\",\"gridwidth\":2,\"linecolor\":\"white\",\"showbackground\":true,\"ticks\":\"\",\"zerolinecolor\":\"white\"}},\"shapedefaults\":{\"line\":{\"color\":\"#2a3f5f\"}},\"ternary\":{\"aaxis\":{\"gridcolor\":\"white\",\"linecolor\":\"white\",\"ticks\":\"\"},\"baxis\":{\"gridcolor\":\"white\",\"linecolor\":\"white\",\"ticks\":\"\"},\"bgcolor\":\"#E5ECF6\",\"caxis\":{\"gridcolor\":\"white\",\"linecolor\":\"white\",\"ticks\":\"\"}},\"title\":{\"x\":0.05},\"xaxis\":{\"automargin\":true,\"gridcolor\":\"white\",\"linecolor\":\"white\",\"ticks\":\"\",\"title\":{\"standoff\":15},\"zerolinecolor\":\"white\",\"zerolinewidth\":2},\"yaxis\":{\"automargin\":true,\"gridcolor\":\"white\",\"linecolor\":\"white\",\"ticks\":\"\",\"title\":{\"standoff\":15},\"zerolinecolor\":\"white\",\"zerolinewidth\":2}}},\"title\":{\"font\":{\"color\":\"#4D5663\"}},\"xaxis\":{\"gridcolor\":\"#E1E5ED\",\"showgrid\":true,\"tickfont\":{\"color\":\"#4D5663\"},\"title\":{\"font\":{\"color\":\"#4D5663\"},\"text\":\"\"},\"zerolinecolor\":\"#E1E5ED\"},\"yaxis\":{\"gridcolor\":\"#E1E5ED\",\"showgrid\":true,\"tickfont\":{\"color\":\"#4D5663\"},\"title\":{\"font\":{\"color\":\"#4D5663\"},\"text\":\"\"},\"zerolinecolor\":\"#E1E5ED\"}},                        {\"showLink\": true, \"linkText\": \"Export to plot.ly\", \"plotlyServerURL\": \"https://plot.ly\", \"responsive\": true}                    ).then(function(){\n",
       "                            \n",
       "var gd = document.getElementById('b5f90a79-9580-45a6-809c-2a14b08c093a');\n",
       "var x = new MutationObserver(function (mutations, observer) {{\n",
       "        var display = window.getComputedStyle(gd).display;\n",
       "        if (!display || display === 'none') {{\n",
       "            console.log([gd, 'removed!']);\n",
       "            Plotly.purge(gd);\n",
       "            observer.disconnect();\n",
       "        }}\n",
       "}});\n",
       "\n",
       "// Listen for the removal of the full notebook cells\n",
       "var notebookContainer = gd.closest('#notebook-container');\n",
       "if (notebookContainer) {{\n",
       "    x.observe(notebookContainer, {childList: true});\n",
       "}}\n",
       "\n",
       "// Listen for the clearing of the current output cell\n",
       "var outputEl = gd.closest('.output');\n",
       "if (outputEl) {{\n",
       "    x.observe(outputEl, {childList: true});\n",
       "}}\n",
       "\n",
       "                        })                };                });            </script>        </div>"
      ]
     },
     "metadata": {},
     "output_type": "display_data"
    }
   ],
   "source": [
    "df.iplot(kind='bubble',x='A',y='B',size='C')"
   ]
  },
  {
   "cell_type": "markdown",
   "metadata": {},
   "source": [
    "## scatter_matrix()\n",
    "\n",
    "Similar to sns.pairplot()"
   ]
  },
  {
   "cell_type": "code",
   "execution_count": 24,
   "metadata": {},
   "outputs": [
    {
     "data": {
      "application/vnd.plotly.v1+json": {
       "config": {
        "linkText": "Export to plot.ly",
        "plotlyServerURL": "https://plot.ly",
        "showLink": true
       },
       "data": [
        {
         "histfunc": "count",
         "histnorm": "",
         "marker": {
          "color": "rgba(255, 153, 51, 1.0)",
          "line": {
           "color": "#4D5663",
           "width": 1.3
          }
         },
         "name": "A",
         "nbinsx": 10,
         "opacity": 0.8,
         "orientation": "v",
         "type": "histogram",
         "x": [
          1.0163663847315616,
          0.6173154871769431,
          -0.6772810476386104,
          0.6237655411646876,
          -0.37260920798691394,
          0.5268099656427503,
          3.3821009368357,
          1.9577238270097503,
          2.3672034338753085,
          -0.1264357292249816,
          -0.8103067961827602,
          0.626606385498777,
          0.8971248085452803,
          0.9197234355071809,
          -0.08116844691411543,
          -0.23627135619609388,
          0.006315752144729975,
          0.8669884152608879,
          1.3477600604778872,
          0.5955044109947454,
          -2.2568755644129865,
          -0.4068329840129025,
          -1.0539585845464274,
          1.1553831547694944,
          0.8367721877894332,
          0.07562472966509834,
          -0.12160991114433886,
          -1.8708656358350333,
          -2.0980755507321915,
          -0.08333649016138943,
          -0.47654864104757116,
          0.3105903538405738,
          -0.2108414867369569,
          1.2160327251023146,
          0.530254461980228,
          0.8521931743489114,
          1.3174997251183853,
          -0.6329843164077711,
          -0.882042357186549,
          -0.10209874131529179,
          -0.8947340334956717,
          -0.03844201310949979,
          0.7649005814572767,
          -0.5966885081694819,
          0.11506435913682996,
          -0.10048058063216983,
          0.9452885815617678,
          -0.4588861395882851,
          1.2607952095263109,
          0.9909294214610531,
          -1.1887396736772753,
          0.45737437826220323,
          1.218396683884078,
          -0.6001335964116054,
          0.04417622281112498,
          0.004450468534862416,
          1.8313217303103826,
          -0.37055291069047724,
          1.2230284286498043,
          0.9753590408138841,
          -0.9655361156914539,
          -1.2668526033999856,
          1.1422566561817689,
          0.06441963023437752,
          -0.8204500089030339,
          -0.08683699678333419,
          -0.36853538959583965,
          -0.7060872984774748,
          1.2026123368245425,
          -1.3864336167600535,
          0.6529959510516941,
          -0.08084710487352231,
          0.3907698202410437,
          0.8968560566217788,
          -0.6609848902540147,
          1.8688627173419552,
          -0.27731576559523075,
          -1.7189260231242547,
          0.39408077609560643,
          0.6185665794368471,
          0.9780991990845405,
          -0.37004731829361825,
          -0.5377331341474938,
          0.43868366034200346,
          0.5368217774165542,
          1.213954701386464,
          0.5110904541180284,
          -0.4235805169165554,
          -1.0118041589500104,
          1.1431317111969865,
          -1.350938695027268,
          1.0143078055993617,
          -0.7217509864426822,
          0.9030044560127558,
          0.42860812787029134,
          -0.1071231255623638,
          -0.4543792366009019,
          -0.9730770823989808,
          0.1872464176467623,
          1.9436565221058293
         ],
         "xaxis": "x",
         "yaxis": "y"
        },
        {
         "line": {
          "color": "rgba(128, 128, 128, 1.0)",
          "dash": "solid",
          "shape": "linear",
          "width": 1.3
         },
         "marker": {
          "size": 2,
          "symbol": "circle"
         },
         "mode": "markers",
         "name": "A",
         "text": "",
         "type": "scatter",
         "x": [
          -1.314123512152019,
          0.39375016329835755,
          -0.3333754421609034,
          -0.16129292315339847,
          0.39089174011821676,
          -0.2415285832239928,
          -0.1330687410391177,
          -2.742176842383155,
          -1.4549249762961163,
          -0.03288164196362554,
          0.7870954339775161,
          -1.5906364831120088,
          -0.24665783984415385,
          -1.2709531905402118,
          1.4177396247528429,
          0.9139339993306476,
          0.14968727936437834,
          -1.4773579780270367,
          1.2836065788783506,
          0.4218429543817784,
          -0.3891327307587016,
          -0.6603022181306161,
          -1.0684908499632273,
          -0.3548553707374886,
          0.899830228716969,
          -0.8941242273946151,
          0.28641016797356983,
          -0.5620191278396524,
          0.5645175911279281,
          -0.687053335069698,
          1.9940782552722824,
          0.41288636989328503,
          -0.0757559224356657,
          -1.228484199092643,
          0.10159891043339675,
          -0.8406593103911069,
          0.626646032389116,
          1.344081195804092,
          -0.2058879538088759,
          -0.24892149899365876,
          1.61428601967461,
          1.054023242279591,
          -1.0494231161382948,
          -0.29037512816229744,
          -0.31845732692891965,
          0.529699171795502,
          -0.8271224841739949,
          0.4273220127629525,
          -0.7435857578963644,
          -0.27184790451055646,
          -1.4840195959301983,
          -0.44688526663229666,
          0.4628829916489609,
          -1.0937281052231775,
          -0.04684302086081167,
          -1.7319842733126842,
          0.8936502873631862,
          -0.8605804212619843,
          -1.491722030552004,
          0.22619482826173615,
          0.12596075803515505,
          0.5939073679012035,
          -2.0319593614147418,
          0.4094611282332534,
          -1.425236969134026,
          0.13011219954716607,
          -0.40809823124548433,
          -0.09813875666548708,
          -0.3443129245978503,
          0.3722128853803303,
          -0.4876598037455311,
          1.0394990700889335,
          -0.8096093205424912,
          1.8638913823070484,
          1.4465628410979272,
          1.5033357505346296,
          -0.1644064395364936,
          0.9572849136768261,
          1.5099517130489664,
          -0.03615537780077251,
          -0.7750468333728179,
          0.6185273461544226,
          0.8477903244792816,
          0.2404673003418146,
          -0.8111967164058738,
          0.538679623313098,
          -0.594248432346121,
          0.971093297394865,
          0.26710198449999917,
          -0.37466122018418707,
          0.35159515438680605,
          -0.36114835700299674,
          -1.2442893555942884,
          -2.2215578576176584,
          1.1728151414090098,
          0.6090886842595982,
          -1.6522977997891652,
          -1.1130954230421588,
          0.42121458153220404,
          -0.8627485862769746
         ],
         "xaxis": "x2",
         "y": [
          1.0163663847315616,
          0.6173154871769431,
          -0.6772810476386104,
          0.6237655411646876,
          -0.37260920798691394,
          0.5268099656427503,
          3.3821009368357,
          1.9577238270097503,
          2.3672034338753085,
          -0.1264357292249816,
          -0.8103067961827602,
          0.626606385498777,
          0.8971248085452803,
          0.9197234355071809,
          -0.08116844691411543,
          -0.23627135619609388,
          0.006315752144729975,
          0.8669884152608879,
          1.3477600604778872,
          0.5955044109947454,
          -2.2568755644129865,
          -0.4068329840129025,
          -1.0539585845464274,
          1.1553831547694944,
          0.8367721877894332,
          0.07562472966509834,
          -0.12160991114433886,
          -1.8708656358350333,
          -2.0980755507321915,
          -0.08333649016138943,
          -0.47654864104757116,
          0.3105903538405738,
          -0.2108414867369569,
          1.2160327251023146,
          0.530254461980228,
          0.8521931743489114,
          1.3174997251183853,
          -0.6329843164077711,
          -0.882042357186549,
          -0.10209874131529179,
          -0.8947340334956717,
          -0.03844201310949979,
          0.7649005814572767,
          -0.5966885081694819,
          0.11506435913682996,
          -0.10048058063216983,
          0.9452885815617678,
          -0.4588861395882851,
          1.2607952095263109,
          0.9909294214610531,
          -1.1887396736772753,
          0.45737437826220323,
          1.218396683884078,
          -0.6001335964116054,
          0.04417622281112498,
          0.004450468534862416,
          1.8313217303103826,
          -0.37055291069047724,
          1.2230284286498043,
          0.9753590408138841,
          -0.9655361156914539,
          -1.2668526033999856,
          1.1422566561817689,
          0.06441963023437752,
          -0.8204500089030339,
          -0.08683699678333419,
          -0.36853538959583965,
          -0.7060872984774748,
          1.2026123368245425,
          -1.3864336167600535,
          0.6529959510516941,
          -0.08084710487352231,
          0.3907698202410437,
          0.8968560566217788,
          -0.6609848902540147,
          1.8688627173419552,
          -0.27731576559523075,
          -1.7189260231242547,
          0.39408077609560643,
          0.6185665794368471,
          0.9780991990845405,
          -0.37004731829361825,
          -0.5377331341474938,
          0.43868366034200346,
          0.5368217774165542,
          1.213954701386464,
          0.5110904541180284,
          -0.4235805169165554,
          -1.0118041589500104,
          1.1431317111969865,
          -1.350938695027268,
          1.0143078055993617,
          -0.7217509864426822,
          0.9030044560127558,
          0.42860812787029134,
          -0.1071231255623638,
          -0.4543792366009019,
          -0.9730770823989808,
          0.1872464176467623,
          1.9436565221058293
         ],
         "yaxis": "y2"
        },
        {
         "line": {
          "color": "rgba(128, 128, 128, 1.0)",
          "dash": "solid",
          "shape": "linear",
          "width": 1.3
         },
         "marker": {
          "size": 2,
          "symbol": "circle"
         },
         "mode": "markers",
         "name": "A",
         "text": "",
         "type": "scatter",
         "x": [
          1.17789599223246,
          -0.661400434155931,
          1.2313368112059233,
          -0.24339900043176255,
          0.9675959828040326,
          -0.8099039954694721,
          0.6376951022971441,
          -0.668279852937571,
          0.33130477744502224,
          -0.13111868134978907,
          -0.7543129781919886,
          0.44844014879375593,
          -0.9778756365215926,
          -0.8832086958930353,
          0.9495855236923345,
          0.24545920433061041,
          -0.4023261424550109,
          -0.024582443967006366,
          2.0218225895106143,
          -1.2097122515929808,
          -2.5293273164010737,
          0.15536611001813,
          0.6927964909911235,
          -0.5940112192467712,
          0.9348938152565605,
          0.9108935503155805,
          -0.8938271886470385,
          0.38261479895870504,
          -1.0736697692873345,
          1.8740739968425641,
          0.7322525668891493,
          2.120536718121365,
          0.23824388512601272,
          -0.377504099211284,
          0.3624900571062633,
          -0.568429183865922,
          -0.32520363027060145,
          -0.8818164540919655,
          0.570179172659156,
          -0.8612968999018705,
          0.22849521683754068,
          0.7630962434956688,
          -1.0533810528338508,
          0.32567843966561977,
          1.372257366906283,
          0.23203465920643873,
          1.0477911246061877,
          -1.0006522940798506,
          1.0757530061640197,
          -0.5114981698344443,
          -0.48646916299820925,
          -0.19536450054243273,
          -1.4463445759721227,
          1.8397089791903722,
          -0.04567427241237144,
          -0.8722649704359667,
          1.501655806737382,
          -1.0247133970192228,
          0.3875552334877692,
          -0.7485457146030059,
          -0.52364163876346,
          -0.7546426049417192,
          1.0741239174140584,
          -1.082818514974668,
          -0.050682267560251036,
          0.1976062660491136,
          -0.36124633241518506,
          -0.3464003317250285,
          1.4583525610748382,
          -0.018137965611309436,
          2.5078720568676784,
          0.4584655084762964,
          -0.609029438215186,
          -0.5408052766371294,
          0.4908360738275197,
          0.8746041335759098,
          0.7227830721878171,
          0.02061706180074759,
          0.651757172821551,
          0.5321786347271554,
          -0.6189706854967447,
          -0.8803330892394644,
          -0.03071584005189342,
          -1.9886438727363793,
          0.8229309186203905,
          0.7890306368756327,
          -0.6025057062017244,
          -1.0133951630813673,
          0.4583239442037677,
          -1.0540367772848824,
          0.27249714775275824,
          0.23308697127069317,
          1.71958930015937,
          0.3124837977579066,
          -1.1037781192401224,
          0.1606789660059298,
          -0.7006514510911815,
          0.6357168109204249,
          0.6896512585494607,
          -0.3733621725599462
         ],
         "xaxis": "x3",
         "y": [
          1.0163663847315616,
          0.6173154871769431,
          -0.6772810476386104,
          0.6237655411646876,
          -0.37260920798691394,
          0.5268099656427503,
          3.3821009368357,
          1.9577238270097503,
          2.3672034338753085,
          -0.1264357292249816,
          -0.8103067961827602,
          0.626606385498777,
          0.8971248085452803,
          0.9197234355071809,
          -0.08116844691411543,
          -0.23627135619609388,
          0.006315752144729975,
          0.8669884152608879,
          1.3477600604778872,
          0.5955044109947454,
          -2.2568755644129865,
          -0.4068329840129025,
          -1.0539585845464274,
          1.1553831547694944,
          0.8367721877894332,
          0.07562472966509834,
          -0.12160991114433886,
          -1.8708656358350333,
          -2.0980755507321915,
          -0.08333649016138943,
          -0.47654864104757116,
          0.3105903538405738,
          -0.2108414867369569,
          1.2160327251023146,
          0.530254461980228,
          0.8521931743489114,
          1.3174997251183853,
          -0.6329843164077711,
          -0.882042357186549,
          -0.10209874131529179,
          -0.8947340334956717,
          -0.03844201310949979,
          0.7649005814572767,
          -0.5966885081694819,
          0.11506435913682996,
          -0.10048058063216983,
          0.9452885815617678,
          -0.4588861395882851,
          1.2607952095263109,
          0.9909294214610531,
          -1.1887396736772753,
          0.45737437826220323,
          1.218396683884078,
          -0.6001335964116054,
          0.04417622281112498,
          0.004450468534862416,
          1.8313217303103826,
          -0.37055291069047724,
          1.2230284286498043,
          0.9753590408138841,
          -0.9655361156914539,
          -1.2668526033999856,
          1.1422566561817689,
          0.06441963023437752,
          -0.8204500089030339,
          -0.08683699678333419,
          -0.36853538959583965,
          -0.7060872984774748,
          1.2026123368245425,
          -1.3864336167600535,
          0.6529959510516941,
          -0.08084710487352231,
          0.3907698202410437,
          0.8968560566217788,
          -0.6609848902540147,
          1.8688627173419552,
          -0.27731576559523075,
          -1.7189260231242547,
          0.39408077609560643,
          0.6185665794368471,
          0.9780991990845405,
          -0.37004731829361825,
          -0.5377331341474938,
          0.43868366034200346,
          0.5368217774165542,
          1.213954701386464,
          0.5110904541180284,
          -0.4235805169165554,
          -1.0118041589500104,
          1.1431317111969865,
          -1.350938695027268,
          1.0143078055993617,
          -0.7217509864426822,
          0.9030044560127558,
          0.42860812787029134,
          -0.1071231255623638,
          -0.4543792366009019,
          -0.9730770823989808,
          0.1872464176467623,
          1.9436565221058293
         ],
         "yaxis": "y3"
        },
        {
         "line": {
          "color": "rgba(128, 128, 128, 1.0)",
          "dash": "solid",
          "shape": "linear",
          "width": 1.3
         },
         "marker": {
          "size": 2,
          "symbol": "circle"
         },
         "mode": "markers",
         "name": "A",
         "text": "",
         "type": "scatter",
         "x": [
          -0.6497558508146197,
          0.5696022472138228,
          -0.7742549950337608,
          0.014455016891685308,
          -0.9060133469484182,
          0.8317357464196173,
          -0.456742552047923,
          -0.893425922398005,
          -0.45629202248448775,
          0.8865742158055536,
          0.533112541987365,
          -0.5764423411134656,
          -1.0781933958796839,
          -0.7765606805526603,
          -0.774676440986213,
          -0.7254853319541702,
          0.01857757652433547,
          -0.4739028578841449,
          0.41546407453704925,
          0.18085488752726828,
          1.6392132099429437,
          2.152322296915255,
          0.5510914884845449,
          -0.17200497405891954,
          -0.30275609998810576,
          0.3337058203492321,
          1.915668368752776,
          0.09736653391683878,
          -1.1392266031457392,
          0.6189098863426716,
          0.9574377787133139,
          0.21040552178092659,
          -1.155999981256473,
          0.03471012759726958,
          -0.4759889738470913,
          -1.3202923670664828,
          -1.1421903545951442,
          -0.8023433609911226,
          0.14145530424876465,
          -0.8345545750446628,
          0.05607030814618059,
          0.8766930176309266,
          -0.3588416967252633,
          -1.2923043390651747,
          -0.14941580871574106,
          0.27879451079531004,
          0.2695398313730743,
          -0.7725303843772486,
          -0.43646365421850075,
          -0.9583290852048664,
          1.150297392219825,
          -1.1965596759703445,
          -1.0848850756530122,
          -0.1402059348920322,
          -1.2451705111909404,
          1.8248593793921886,
          -0.6558475942962985,
          0.23306245817302218,
          0.22632642407822606,
          -2.898995979748627,
          -1.2624231371901962,
          -0.45533371264789585,
          -0.6148073219255857,
          -0.4503032391310196,
          0.9341143618964147,
          -0.056447188256112835,
          -1.6372042102125877,
          3.004947294068905,
          2.7680945544450384,
          1.1114432303149564,
          0.3553376235390684,
          -0.1262912090720706,
          0.6890509423597909,
          -1.1360041320724081,
          -0.2531232310905212,
          -0.8492015466836488,
          0.06029213572844701,
          -1.5223969489227114,
          0.375856572534485,
          0.48642780992514606,
          0.4784750748119479,
          -1.2676523630862064,
          0.9255176670906304,
          0.22951864913232142,
          1.3429793798892857,
          2.702687714185298,
          1.226688593216633,
          -0.19832038411576372,
          -0.21840893275786102,
          1.1394216004837654,
          0.8271929327400069,
          0.7290778301278243,
          1.7026912789896953,
          -1.3847686195712015,
          -1.405587735172336,
          -0.16916074302135256,
          -2.4284863303666095,
          -0.5522450839579114,
          0.2603440872721333,
          -0.11201117408394276
         ],
         "xaxis": "x4",
         "y": [
          1.0163663847315616,
          0.6173154871769431,
          -0.6772810476386104,
          0.6237655411646876,
          -0.37260920798691394,
          0.5268099656427503,
          3.3821009368357,
          1.9577238270097503,
          2.3672034338753085,
          -0.1264357292249816,
          -0.8103067961827602,
          0.626606385498777,
          0.8971248085452803,
          0.9197234355071809,
          -0.08116844691411543,
          -0.23627135619609388,
          0.006315752144729975,
          0.8669884152608879,
          1.3477600604778872,
          0.5955044109947454,
          -2.2568755644129865,
          -0.4068329840129025,
          -1.0539585845464274,
          1.1553831547694944,
          0.8367721877894332,
          0.07562472966509834,
          -0.12160991114433886,
          -1.8708656358350333,
          -2.0980755507321915,
          -0.08333649016138943,
          -0.47654864104757116,
          0.3105903538405738,
          -0.2108414867369569,
          1.2160327251023146,
          0.530254461980228,
          0.8521931743489114,
          1.3174997251183853,
          -0.6329843164077711,
          -0.882042357186549,
          -0.10209874131529179,
          -0.8947340334956717,
          -0.03844201310949979,
          0.7649005814572767,
          -0.5966885081694819,
          0.11506435913682996,
          -0.10048058063216983,
          0.9452885815617678,
          -0.4588861395882851,
          1.2607952095263109,
          0.9909294214610531,
          -1.1887396736772753,
          0.45737437826220323,
          1.218396683884078,
          -0.6001335964116054,
          0.04417622281112498,
          0.004450468534862416,
          1.8313217303103826,
          -0.37055291069047724,
          1.2230284286498043,
          0.9753590408138841,
          -0.9655361156914539,
          -1.2668526033999856,
          1.1422566561817689,
          0.06441963023437752,
          -0.8204500089030339,
          -0.08683699678333419,
          -0.36853538959583965,
          -0.7060872984774748,
          1.2026123368245425,
          -1.3864336167600535,
          0.6529959510516941,
          -0.08084710487352231,
          0.3907698202410437,
          0.8968560566217788,
          -0.6609848902540147,
          1.8688627173419552,
          -0.27731576559523075,
          -1.7189260231242547,
          0.39408077609560643,
          0.6185665794368471,
          0.9780991990845405,
          -0.37004731829361825,
          -0.5377331341474938,
          0.43868366034200346,
          0.5368217774165542,
          1.213954701386464,
          0.5110904541180284,
          -0.4235805169165554,
          -1.0118041589500104,
          1.1431317111969865,
          -1.350938695027268,
          1.0143078055993617,
          -0.7217509864426822,
          0.9030044560127558,
          0.42860812787029134,
          -0.1071231255623638,
          -0.4543792366009019,
          -0.9730770823989808,
          0.1872464176467623,
          1.9436565221058293
         ],
         "yaxis": "y4"
        },
        {
         "line": {
          "color": "rgba(128, 128, 128, 1.0)",
          "dash": "solid",
          "shape": "linear",
          "width": 1.3
         },
         "marker": {
          "size": 2,
          "symbol": "circle"
         },
         "mode": "markers",
         "name": "B",
         "text": "",
         "type": "scatter",
         "x": [
          1.0163663847315616,
          0.6173154871769431,
          -0.6772810476386104,
          0.6237655411646876,
          -0.37260920798691394,
          0.5268099656427503,
          3.3821009368357,
          1.9577238270097503,
          2.3672034338753085,
          -0.1264357292249816,
          -0.8103067961827602,
          0.626606385498777,
          0.8971248085452803,
          0.9197234355071809,
          -0.08116844691411543,
          -0.23627135619609388,
          0.006315752144729975,
          0.8669884152608879,
          1.3477600604778872,
          0.5955044109947454,
          -2.2568755644129865,
          -0.4068329840129025,
          -1.0539585845464274,
          1.1553831547694944,
          0.8367721877894332,
          0.07562472966509834,
          -0.12160991114433886,
          -1.8708656358350333,
          -2.0980755507321915,
          -0.08333649016138943,
          -0.47654864104757116,
          0.3105903538405738,
          -0.2108414867369569,
          1.2160327251023146,
          0.530254461980228,
          0.8521931743489114,
          1.3174997251183853,
          -0.6329843164077711,
          -0.882042357186549,
          -0.10209874131529179,
          -0.8947340334956717,
          -0.03844201310949979,
          0.7649005814572767,
          -0.5966885081694819,
          0.11506435913682996,
          -0.10048058063216983,
          0.9452885815617678,
          -0.4588861395882851,
          1.2607952095263109,
          0.9909294214610531,
          -1.1887396736772753,
          0.45737437826220323,
          1.218396683884078,
          -0.6001335964116054,
          0.04417622281112498,
          0.004450468534862416,
          1.8313217303103826,
          -0.37055291069047724,
          1.2230284286498043,
          0.9753590408138841,
          -0.9655361156914539,
          -1.2668526033999856,
          1.1422566561817689,
          0.06441963023437752,
          -0.8204500089030339,
          -0.08683699678333419,
          -0.36853538959583965,
          -0.7060872984774748,
          1.2026123368245425,
          -1.3864336167600535,
          0.6529959510516941,
          -0.08084710487352231,
          0.3907698202410437,
          0.8968560566217788,
          -0.6609848902540147,
          1.8688627173419552,
          -0.27731576559523075,
          -1.7189260231242547,
          0.39408077609560643,
          0.6185665794368471,
          0.9780991990845405,
          -0.37004731829361825,
          -0.5377331341474938,
          0.43868366034200346,
          0.5368217774165542,
          1.213954701386464,
          0.5110904541180284,
          -0.4235805169165554,
          -1.0118041589500104,
          1.1431317111969865,
          -1.350938695027268,
          1.0143078055993617,
          -0.7217509864426822,
          0.9030044560127558,
          0.42860812787029134,
          -0.1071231255623638,
          -0.4543792366009019,
          -0.9730770823989808,
          0.1872464176467623,
          1.9436565221058293
         ],
         "xaxis": "x5",
         "y": [
          -1.314123512152019,
          0.39375016329835755,
          -0.3333754421609034,
          -0.16129292315339847,
          0.39089174011821676,
          -0.2415285832239928,
          -0.1330687410391177,
          -2.742176842383155,
          -1.4549249762961163,
          -0.03288164196362554,
          0.7870954339775161,
          -1.5906364831120088,
          -0.24665783984415385,
          -1.2709531905402118,
          1.4177396247528429,
          0.9139339993306476,
          0.14968727936437834,
          -1.4773579780270367,
          1.2836065788783506,
          0.4218429543817784,
          -0.3891327307587016,
          -0.6603022181306161,
          -1.0684908499632273,
          -0.3548553707374886,
          0.899830228716969,
          -0.8941242273946151,
          0.28641016797356983,
          -0.5620191278396524,
          0.5645175911279281,
          -0.687053335069698,
          1.9940782552722824,
          0.41288636989328503,
          -0.0757559224356657,
          -1.228484199092643,
          0.10159891043339675,
          -0.8406593103911069,
          0.626646032389116,
          1.344081195804092,
          -0.2058879538088759,
          -0.24892149899365876,
          1.61428601967461,
          1.054023242279591,
          -1.0494231161382948,
          -0.29037512816229744,
          -0.31845732692891965,
          0.529699171795502,
          -0.8271224841739949,
          0.4273220127629525,
          -0.7435857578963644,
          -0.27184790451055646,
          -1.4840195959301983,
          -0.44688526663229666,
          0.4628829916489609,
          -1.0937281052231775,
          -0.04684302086081167,
          -1.7319842733126842,
          0.8936502873631862,
          -0.8605804212619843,
          -1.491722030552004,
          0.22619482826173615,
          0.12596075803515505,
          0.5939073679012035,
          -2.0319593614147418,
          0.4094611282332534,
          -1.425236969134026,
          0.13011219954716607,
          -0.40809823124548433,
          -0.09813875666548708,
          -0.3443129245978503,
          0.3722128853803303,
          -0.4876598037455311,
          1.0394990700889335,
          -0.8096093205424912,
          1.8638913823070484,
          1.4465628410979272,
          1.5033357505346296,
          -0.1644064395364936,
          0.9572849136768261,
          1.5099517130489664,
          -0.03615537780077251,
          -0.7750468333728179,
          0.6185273461544226,
          0.8477903244792816,
          0.2404673003418146,
          -0.8111967164058738,
          0.538679623313098,
          -0.594248432346121,
          0.971093297394865,
          0.26710198449999917,
          -0.37466122018418707,
          0.35159515438680605,
          -0.36114835700299674,
          -1.2442893555942884,
          -2.2215578576176584,
          1.1728151414090098,
          0.6090886842595982,
          -1.6522977997891652,
          -1.1130954230421588,
          0.42121458153220404,
          -0.8627485862769746
         ],
         "yaxis": "y5"
        },
        {
         "histfunc": "count",
         "histnorm": "",
         "marker": {
          "color": "rgba(55, 128, 191, 1.0)",
          "line": {
           "color": "#4D5663",
           "width": 1.3
          }
         },
         "name": "B",
         "nbinsx": 10,
         "opacity": 0.8,
         "orientation": "v",
         "type": "histogram",
         "x": [
          -1.314123512152019,
          0.39375016329835755,
          -0.3333754421609034,
          -0.16129292315339847,
          0.39089174011821676,
          -0.2415285832239928,
          -0.1330687410391177,
          -2.742176842383155,
          -1.4549249762961163,
          -0.03288164196362554,
          0.7870954339775161,
          -1.5906364831120088,
          -0.24665783984415385,
          -1.2709531905402118,
          1.4177396247528429,
          0.9139339993306476,
          0.14968727936437834,
          -1.4773579780270367,
          1.2836065788783506,
          0.4218429543817784,
          -0.3891327307587016,
          -0.6603022181306161,
          -1.0684908499632273,
          -0.3548553707374886,
          0.899830228716969,
          -0.8941242273946151,
          0.28641016797356983,
          -0.5620191278396524,
          0.5645175911279281,
          -0.687053335069698,
          1.9940782552722824,
          0.41288636989328503,
          -0.0757559224356657,
          -1.228484199092643,
          0.10159891043339675,
          -0.8406593103911069,
          0.626646032389116,
          1.344081195804092,
          -0.2058879538088759,
          -0.24892149899365876,
          1.61428601967461,
          1.054023242279591,
          -1.0494231161382948,
          -0.29037512816229744,
          -0.31845732692891965,
          0.529699171795502,
          -0.8271224841739949,
          0.4273220127629525,
          -0.7435857578963644,
          -0.27184790451055646,
          -1.4840195959301983,
          -0.44688526663229666,
          0.4628829916489609,
          -1.0937281052231775,
          -0.04684302086081167,
          -1.7319842733126842,
          0.8936502873631862,
          -0.8605804212619843,
          -1.491722030552004,
          0.22619482826173615,
          0.12596075803515505,
          0.5939073679012035,
          -2.0319593614147418,
          0.4094611282332534,
          -1.425236969134026,
          0.13011219954716607,
          -0.40809823124548433,
          -0.09813875666548708,
          -0.3443129245978503,
          0.3722128853803303,
          -0.4876598037455311,
          1.0394990700889335,
          -0.8096093205424912,
          1.8638913823070484,
          1.4465628410979272,
          1.5033357505346296,
          -0.1644064395364936,
          0.9572849136768261,
          1.5099517130489664,
          -0.03615537780077251,
          -0.7750468333728179,
          0.6185273461544226,
          0.8477903244792816,
          0.2404673003418146,
          -0.8111967164058738,
          0.538679623313098,
          -0.594248432346121,
          0.971093297394865,
          0.26710198449999917,
          -0.37466122018418707,
          0.35159515438680605,
          -0.36114835700299674,
          -1.2442893555942884,
          -2.2215578576176584,
          1.1728151414090098,
          0.6090886842595982,
          -1.6522977997891652,
          -1.1130954230421588,
          0.42121458153220404,
          -0.8627485862769746
         ],
         "xaxis": "x6",
         "yaxis": "y6"
        },
        {
         "line": {
          "color": "rgba(128, 128, 128, 1.0)",
          "dash": "solid",
          "shape": "linear",
          "width": 1.3
         },
         "marker": {
          "size": 2,
          "symbol": "circle"
         },
         "mode": "markers",
         "name": "B",
         "text": "",
         "type": "scatter",
         "x": [
          1.17789599223246,
          -0.661400434155931,
          1.2313368112059233,
          -0.24339900043176255,
          0.9675959828040326,
          -0.8099039954694721,
          0.6376951022971441,
          -0.668279852937571,
          0.33130477744502224,
          -0.13111868134978907,
          -0.7543129781919886,
          0.44844014879375593,
          -0.9778756365215926,
          -0.8832086958930353,
          0.9495855236923345,
          0.24545920433061041,
          -0.4023261424550109,
          -0.024582443967006366,
          2.0218225895106143,
          -1.2097122515929808,
          -2.5293273164010737,
          0.15536611001813,
          0.6927964909911235,
          -0.5940112192467712,
          0.9348938152565605,
          0.9108935503155805,
          -0.8938271886470385,
          0.38261479895870504,
          -1.0736697692873345,
          1.8740739968425641,
          0.7322525668891493,
          2.120536718121365,
          0.23824388512601272,
          -0.377504099211284,
          0.3624900571062633,
          -0.568429183865922,
          -0.32520363027060145,
          -0.8818164540919655,
          0.570179172659156,
          -0.8612968999018705,
          0.22849521683754068,
          0.7630962434956688,
          -1.0533810528338508,
          0.32567843966561977,
          1.372257366906283,
          0.23203465920643873,
          1.0477911246061877,
          -1.0006522940798506,
          1.0757530061640197,
          -0.5114981698344443,
          -0.48646916299820925,
          -0.19536450054243273,
          -1.4463445759721227,
          1.8397089791903722,
          -0.04567427241237144,
          -0.8722649704359667,
          1.501655806737382,
          -1.0247133970192228,
          0.3875552334877692,
          -0.7485457146030059,
          -0.52364163876346,
          -0.7546426049417192,
          1.0741239174140584,
          -1.082818514974668,
          -0.050682267560251036,
          0.1976062660491136,
          -0.36124633241518506,
          -0.3464003317250285,
          1.4583525610748382,
          -0.018137965611309436,
          2.5078720568676784,
          0.4584655084762964,
          -0.609029438215186,
          -0.5408052766371294,
          0.4908360738275197,
          0.8746041335759098,
          0.7227830721878171,
          0.02061706180074759,
          0.651757172821551,
          0.5321786347271554,
          -0.6189706854967447,
          -0.8803330892394644,
          -0.03071584005189342,
          -1.9886438727363793,
          0.8229309186203905,
          0.7890306368756327,
          -0.6025057062017244,
          -1.0133951630813673,
          0.4583239442037677,
          -1.0540367772848824,
          0.27249714775275824,
          0.23308697127069317,
          1.71958930015937,
          0.3124837977579066,
          -1.1037781192401224,
          0.1606789660059298,
          -0.7006514510911815,
          0.6357168109204249,
          0.6896512585494607,
          -0.3733621725599462
         ],
         "xaxis": "x7",
         "y": [
          -1.314123512152019,
          0.39375016329835755,
          -0.3333754421609034,
          -0.16129292315339847,
          0.39089174011821676,
          -0.2415285832239928,
          -0.1330687410391177,
          -2.742176842383155,
          -1.4549249762961163,
          -0.03288164196362554,
          0.7870954339775161,
          -1.5906364831120088,
          -0.24665783984415385,
          -1.2709531905402118,
          1.4177396247528429,
          0.9139339993306476,
          0.14968727936437834,
          -1.4773579780270367,
          1.2836065788783506,
          0.4218429543817784,
          -0.3891327307587016,
          -0.6603022181306161,
          -1.0684908499632273,
          -0.3548553707374886,
          0.899830228716969,
          -0.8941242273946151,
          0.28641016797356983,
          -0.5620191278396524,
          0.5645175911279281,
          -0.687053335069698,
          1.9940782552722824,
          0.41288636989328503,
          -0.0757559224356657,
          -1.228484199092643,
          0.10159891043339675,
          -0.8406593103911069,
          0.626646032389116,
          1.344081195804092,
          -0.2058879538088759,
          -0.24892149899365876,
          1.61428601967461,
          1.054023242279591,
          -1.0494231161382948,
          -0.29037512816229744,
          -0.31845732692891965,
          0.529699171795502,
          -0.8271224841739949,
          0.4273220127629525,
          -0.7435857578963644,
          -0.27184790451055646,
          -1.4840195959301983,
          -0.44688526663229666,
          0.4628829916489609,
          -1.0937281052231775,
          -0.04684302086081167,
          -1.7319842733126842,
          0.8936502873631862,
          -0.8605804212619843,
          -1.491722030552004,
          0.22619482826173615,
          0.12596075803515505,
          0.5939073679012035,
          -2.0319593614147418,
          0.4094611282332534,
          -1.425236969134026,
          0.13011219954716607,
          -0.40809823124548433,
          -0.09813875666548708,
          -0.3443129245978503,
          0.3722128853803303,
          -0.4876598037455311,
          1.0394990700889335,
          -0.8096093205424912,
          1.8638913823070484,
          1.4465628410979272,
          1.5033357505346296,
          -0.1644064395364936,
          0.9572849136768261,
          1.5099517130489664,
          -0.03615537780077251,
          -0.7750468333728179,
          0.6185273461544226,
          0.8477903244792816,
          0.2404673003418146,
          -0.8111967164058738,
          0.538679623313098,
          -0.594248432346121,
          0.971093297394865,
          0.26710198449999917,
          -0.37466122018418707,
          0.35159515438680605,
          -0.36114835700299674,
          -1.2442893555942884,
          -2.2215578576176584,
          1.1728151414090098,
          0.6090886842595982,
          -1.6522977997891652,
          -1.1130954230421588,
          0.42121458153220404,
          -0.8627485862769746
         ],
         "yaxis": "y7"
        },
        {
         "line": {
          "color": "rgba(128, 128, 128, 1.0)",
          "dash": "solid",
          "shape": "linear",
          "width": 1.3
         },
         "marker": {
          "size": 2,
          "symbol": "circle"
         },
         "mode": "markers",
         "name": "B",
         "text": "",
         "type": "scatter",
         "x": [
          -0.6497558508146197,
          0.5696022472138228,
          -0.7742549950337608,
          0.014455016891685308,
          -0.9060133469484182,
          0.8317357464196173,
          -0.456742552047923,
          -0.893425922398005,
          -0.45629202248448775,
          0.8865742158055536,
          0.533112541987365,
          -0.5764423411134656,
          -1.0781933958796839,
          -0.7765606805526603,
          -0.774676440986213,
          -0.7254853319541702,
          0.01857757652433547,
          -0.4739028578841449,
          0.41546407453704925,
          0.18085488752726828,
          1.6392132099429437,
          2.152322296915255,
          0.5510914884845449,
          -0.17200497405891954,
          -0.30275609998810576,
          0.3337058203492321,
          1.915668368752776,
          0.09736653391683878,
          -1.1392266031457392,
          0.6189098863426716,
          0.9574377787133139,
          0.21040552178092659,
          -1.155999981256473,
          0.03471012759726958,
          -0.4759889738470913,
          -1.3202923670664828,
          -1.1421903545951442,
          -0.8023433609911226,
          0.14145530424876465,
          -0.8345545750446628,
          0.05607030814618059,
          0.8766930176309266,
          -0.3588416967252633,
          -1.2923043390651747,
          -0.14941580871574106,
          0.27879451079531004,
          0.2695398313730743,
          -0.7725303843772486,
          -0.43646365421850075,
          -0.9583290852048664,
          1.150297392219825,
          -1.1965596759703445,
          -1.0848850756530122,
          -0.1402059348920322,
          -1.2451705111909404,
          1.8248593793921886,
          -0.6558475942962985,
          0.23306245817302218,
          0.22632642407822606,
          -2.898995979748627,
          -1.2624231371901962,
          -0.45533371264789585,
          -0.6148073219255857,
          -0.4503032391310196,
          0.9341143618964147,
          -0.056447188256112835,
          -1.6372042102125877,
          3.004947294068905,
          2.7680945544450384,
          1.1114432303149564,
          0.3553376235390684,
          -0.1262912090720706,
          0.6890509423597909,
          -1.1360041320724081,
          -0.2531232310905212,
          -0.8492015466836488,
          0.06029213572844701,
          -1.5223969489227114,
          0.375856572534485,
          0.48642780992514606,
          0.4784750748119479,
          -1.2676523630862064,
          0.9255176670906304,
          0.22951864913232142,
          1.3429793798892857,
          2.702687714185298,
          1.226688593216633,
          -0.19832038411576372,
          -0.21840893275786102,
          1.1394216004837654,
          0.8271929327400069,
          0.7290778301278243,
          1.7026912789896953,
          -1.3847686195712015,
          -1.405587735172336,
          -0.16916074302135256,
          -2.4284863303666095,
          -0.5522450839579114,
          0.2603440872721333,
          -0.11201117408394276
         ],
         "xaxis": "x8",
         "y": [
          -1.314123512152019,
          0.39375016329835755,
          -0.3333754421609034,
          -0.16129292315339847,
          0.39089174011821676,
          -0.2415285832239928,
          -0.1330687410391177,
          -2.742176842383155,
          -1.4549249762961163,
          -0.03288164196362554,
          0.7870954339775161,
          -1.5906364831120088,
          -0.24665783984415385,
          -1.2709531905402118,
          1.4177396247528429,
          0.9139339993306476,
          0.14968727936437834,
          -1.4773579780270367,
          1.2836065788783506,
          0.4218429543817784,
          -0.3891327307587016,
          -0.6603022181306161,
          -1.0684908499632273,
          -0.3548553707374886,
          0.899830228716969,
          -0.8941242273946151,
          0.28641016797356983,
          -0.5620191278396524,
          0.5645175911279281,
          -0.687053335069698,
          1.9940782552722824,
          0.41288636989328503,
          -0.0757559224356657,
          -1.228484199092643,
          0.10159891043339675,
          -0.8406593103911069,
          0.626646032389116,
          1.344081195804092,
          -0.2058879538088759,
          -0.24892149899365876,
          1.61428601967461,
          1.054023242279591,
          -1.0494231161382948,
          -0.29037512816229744,
          -0.31845732692891965,
          0.529699171795502,
          -0.8271224841739949,
          0.4273220127629525,
          -0.7435857578963644,
          -0.27184790451055646,
          -1.4840195959301983,
          -0.44688526663229666,
          0.4628829916489609,
          -1.0937281052231775,
          -0.04684302086081167,
          -1.7319842733126842,
          0.8936502873631862,
          -0.8605804212619843,
          -1.491722030552004,
          0.22619482826173615,
          0.12596075803515505,
          0.5939073679012035,
          -2.0319593614147418,
          0.4094611282332534,
          -1.425236969134026,
          0.13011219954716607,
          -0.40809823124548433,
          -0.09813875666548708,
          -0.3443129245978503,
          0.3722128853803303,
          -0.4876598037455311,
          1.0394990700889335,
          -0.8096093205424912,
          1.8638913823070484,
          1.4465628410979272,
          1.5033357505346296,
          -0.1644064395364936,
          0.9572849136768261,
          1.5099517130489664,
          -0.03615537780077251,
          -0.7750468333728179,
          0.6185273461544226,
          0.8477903244792816,
          0.2404673003418146,
          -0.8111967164058738,
          0.538679623313098,
          -0.594248432346121,
          0.971093297394865,
          0.26710198449999917,
          -0.37466122018418707,
          0.35159515438680605,
          -0.36114835700299674,
          -1.2442893555942884,
          -2.2215578576176584,
          1.1728151414090098,
          0.6090886842595982,
          -1.6522977997891652,
          -1.1130954230421588,
          0.42121458153220404,
          -0.8627485862769746
         ],
         "yaxis": "y8"
        },
        {
         "line": {
          "color": "rgba(128, 128, 128, 1.0)",
          "dash": "solid",
          "shape": "linear",
          "width": 1.3
         },
         "marker": {
          "size": 2,
          "symbol": "circle"
         },
         "mode": "markers",
         "name": "C",
         "text": "",
         "type": "scatter",
         "x": [
          1.0163663847315616,
          0.6173154871769431,
          -0.6772810476386104,
          0.6237655411646876,
          -0.37260920798691394,
          0.5268099656427503,
          3.3821009368357,
          1.9577238270097503,
          2.3672034338753085,
          -0.1264357292249816,
          -0.8103067961827602,
          0.626606385498777,
          0.8971248085452803,
          0.9197234355071809,
          -0.08116844691411543,
          -0.23627135619609388,
          0.006315752144729975,
          0.8669884152608879,
          1.3477600604778872,
          0.5955044109947454,
          -2.2568755644129865,
          -0.4068329840129025,
          -1.0539585845464274,
          1.1553831547694944,
          0.8367721877894332,
          0.07562472966509834,
          -0.12160991114433886,
          -1.8708656358350333,
          -2.0980755507321915,
          -0.08333649016138943,
          -0.47654864104757116,
          0.3105903538405738,
          -0.2108414867369569,
          1.2160327251023146,
          0.530254461980228,
          0.8521931743489114,
          1.3174997251183853,
          -0.6329843164077711,
          -0.882042357186549,
          -0.10209874131529179,
          -0.8947340334956717,
          -0.03844201310949979,
          0.7649005814572767,
          -0.5966885081694819,
          0.11506435913682996,
          -0.10048058063216983,
          0.9452885815617678,
          -0.4588861395882851,
          1.2607952095263109,
          0.9909294214610531,
          -1.1887396736772753,
          0.45737437826220323,
          1.218396683884078,
          -0.6001335964116054,
          0.04417622281112498,
          0.004450468534862416,
          1.8313217303103826,
          -0.37055291069047724,
          1.2230284286498043,
          0.9753590408138841,
          -0.9655361156914539,
          -1.2668526033999856,
          1.1422566561817689,
          0.06441963023437752,
          -0.8204500089030339,
          -0.08683699678333419,
          -0.36853538959583965,
          -0.7060872984774748,
          1.2026123368245425,
          -1.3864336167600535,
          0.6529959510516941,
          -0.08084710487352231,
          0.3907698202410437,
          0.8968560566217788,
          -0.6609848902540147,
          1.8688627173419552,
          -0.27731576559523075,
          -1.7189260231242547,
          0.39408077609560643,
          0.6185665794368471,
          0.9780991990845405,
          -0.37004731829361825,
          -0.5377331341474938,
          0.43868366034200346,
          0.5368217774165542,
          1.213954701386464,
          0.5110904541180284,
          -0.4235805169165554,
          -1.0118041589500104,
          1.1431317111969865,
          -1.350938695027268,
          1.0143078055993617,
          -0.7217509864426822,
          0.9030044560127558,
          0.42860812787029134,
          -0.1071231255623638,
          -0.4543792366009019,
          -0.9730770823989808,
          0.1872464176467623,
          1.9436565221058293
         ],
         "xaxis": "x9",
         "y": [
          1.17789599223246,
          -0.661400434155931,
          1.2313368112059233,
          -0.24339900043176255,
          0.9675959828040326,
          -0.8099039954694721,
          0.6376951022971441,
          -0.668279852937571,
          0.33130477744502224,
          -0.13111868134978907,
          -0.7543129781919886,
          0.44844014879375593,
          -0.9778756365215926,
          -0.8832086958930353,
          0.9495855236923345,
          0.24545920433061041,
          -0.4023261424550109,
          -0.024582443967006366,
          2.0218225895106143,
          -1.2097122515929808,
          -2.5293273164010737,
          0.15536611001813,
          0.6927964909911235,
          -0.5940112192467712,
          0.9348938152565605,
          0.9108935503155805,
          -0.8938271886470385,
          0.38261479895870504,
          -1.0736697692873345,
          1.8740739968425641,
          0.7322525668891493,
          2.120536718121365,
          0.23824388512601272,
          -0.377504099211284,
          0.3624900571062633,
          -0.568429183865922,
          -0.32520363027060145,
          -0.8818164540919655,
          0.570179172659156,
          -0.8612968999018705,
          0.22849521683754068,
          0.7630962434956688,
          -1.0533810528338508,
          0.32567843966561977,
          1.372257366906283,
          0.23203465920643873,
          1.0477911246061877,
          -1.0006522940798506,
          1.0757530061640197,
          -0.5114981698344443,
          -0.48646916299820925,
          -0.19536450054243273,
          -1.4463445759721227,
          1.8397089791903722,
          -0.04567427241237144,
          -0.8722649704359667,
          1.501655806737382,
          -1.0247133970192228,
          0.3875552334877692,
          -0.7485457146030059,
          -0.52364163876346,
          -0.7546426049417192,
          1.0741239174140584,
          -1.082818514974668,
          -0.050682267560251036,
          0.1976062660491136,
          -0.36124633241518506,
          -0.3464003317250285,
          1.4583525610748382,
          -0.018137965611309436,
          2.5078720568676784,
          0.4584655084762964,
          -0.609029438215186,
          -0.5408052766371294,
          0.4908360738275197,
          0.8746041335759098,
          0.7227830721878171,
          0.02061706180074759,
          0.651757172821551,
          0.5321786347271554,
          -0.6189706854967447,
          -0.8803330892394644,
          -0.03071584005189342,
          -1.9886438727363793,
          0.8229309186203905,
          0.7890306368756327,
          -0.6025057062017244,
          -1.0133951630813673,
          0.4583239442037677,
          -1.0540367772848824,
          0.27249714775275824,
          0.23308697127069317,
          1.71958930015937,
          0.3124837977579066,
          -1.1037781192401224,
          0.1606789660059298,
          -0.7006514510911815,
          0.6357168109204249,
          0.6896512585494607,
          -0.3733621725599462
         ],
         "yaxis": "y9"
        },
        {
         "line": {
          "color": "rgba(128, 128, 128, 1.0)",
          "dash": "solid",
          "shape": "linear",
          "width": 1.3
         },
         "marker": {
          "size": 2,
          "symbol": "circle"
         },
         "mode": "markers",
         "name": "C",
         "text": "",
         "type": "scatter",
         "x": [
          -1.314123512152019,
          0.39375016329835755,
          -0.3333754421609034,
          -0.16129292315339847,
          0.39089174011821676,
          -0.2415285832239928,
          -0.1330687410391177,
          -2.742176842383155,
          -1.4549249762961163,
          -0.03288164196362554,
          0.7870954339775161,
          -1.5906364831120088,
          -0.24665783984415385,
          -1.2709531905402118,
          1.4177396247528429,
          0.9139339993306476,
          0.14968727936437834,
          -1.4773579780270367,
          1.2836065788783506,
          0.4218429543817784,
          -0.3891327307587016,
          -0.6603022181306161,
          -1.0684908499632273,
          -0.3548553707374886,
          0.899830228716969,
          -0.8941242273946151,
          0.28641016797356983,
          -0.5620191278396524,
          0.5645175911279281,
          -0.687053335069698,
          1.9940782552722824,
          0.41288636989328503,
          -0.0757559224356657,
          -1.228484199092643,
          0.10159891043339675,
          -0.8406593103911069,
          0.626646032389116,
          1.344081195804092,
          -0.2058879538088759,
          -0.24892149899365876,
          1.61428601967461,
          1.054023242279591,
          -1.0494231161382948,
          -0.29037512816229744,
          -0.31845732692891965,
          0.529699171795502,
          -0.8271224841739949,
          0.4273220127629525,
          -0.7435857578963644,
          -0.27184790451055646,
          -1.4840195959301983,
          -0.44688526663229666,
          0.4628829916489609,
          -1.0937281052231775,
          -0.04684302086081167,
          -1.7319842733126842,
          0.8936502873631862,
          -0.8605804212619843,
          -1.491722030552004,
          0.22619482826173615,
          0.12596075803515505,
          0.5939073679012035,
          -2.0319593614147418,
          0.4094611282332534,
          -1.425236969134026,
          0.13011219954716607,
          -0.40809823124548433,
          -0.09813875666548708,
          -0.3443129245978503,
          0.3722128853803303,
          -0.4876598037455311,
          1.0394990700889335,
          -0.8096093205424912,
          1.8638913823070484,
          1.4465628410979272,
          1.5033357505346296,
          -0.1644064395364936,
          0.9572849136768261,
          1.5099517130489664,
          -0.03615537780077251,
          -0.7750468333728179,
          0.6185273461544226,
          0.8477903244792816,
          0.2404673003418146,
          -0.8111967164058738,
          0.538679623313098,
          -0.594248432346121,
          0.971093297394865,
          0.26710198449999917,
          -0.37466122018418707,
          0.35159515438680605,
          -0.36114835700299674,
          -1.2442893555942884,
          -2.2215578576176584,
          1.1728151414090098,
          0.6090886842595982,
          -1.6522977997891652,
          -1.1130954230421588,
          0.42121458153220404,
          -0.8627485862769746
         ],
         "xaxis": "x10",
         "y": [
          1.17789599223246,
          -0.661400434155931,
          1.2313368112059233,
          -0.24339900043176255,
          0.9675959828040326,
          -0.8099039954694721,
          0.6376951022971441,
          -0.668279852937571,
          0.33130477744502224,
          -0.13111868134978907,
          -0.7543129781919886,
          0.44844014879375593,
          -0.9778756365215926,
          -0.8832086958930353,
          0.9495855236923345,
          0.24545920433061041,
          -0.4023261424550109,
          -0.024582443967006366,
          2.0218225895106143,
          -1.2097122515929808,
          -2.5293273164010737,
          0.15536611001813,
          0.6927964909911235,
          -0.5940112192467712,
          0.9348938152565605,
          0.9108935503155805,
          -0.8938271886470385,
          0.38261479895870504,
          -1.0736697692873345,
          1.8740739968425641,
          0.7322525668891493,
          2.120536718121365,
          0.23824388512601272,
          -0.377504099211284,
          0.3624900571062633,
          -0.568429183865922,
          -0.32520363027060145,
          -0.8818164540919655,
          0.570179172659156,
          -0.8612968999018705,
          0.22849521683754068,
          0.7630962434956688,
          -1.0533810528338508,
          0.32567843966561977,
          1.372257366906283,
          0.23203465920643873,
          1.0477911246061877,
          -1.0006522940798506,
          1.0757530061640197,
          -0.5114981698344443,
          -0.48646916299820925,
          -0.19536450054243273,
          -1.4463445759721227,
          1.8397089791903722,
          -0.04567427241237144,
          -0.8722649704359667,
          1.501655806737382,
          -1.0247133970192228,
          0.3875552334877692,
          -0.7485457146030059,
          -0.52364163876346,
          -0.7546426049417192,
          1.0741239174140584,
          -1.082818514974668,
          -0.050682267560251036,
          0.1976062660491136,
          -0.36124633241518506,
          -0.3464003317250285,
          1.4583525610748382,
          -0.018137965611309436,
          2.5078720568676784,
          0.4584655084762964,
          -0.609029438215186,
          -0.5408052766371294,
          0.4908360738275197,
          0.8746041335759098,
          0.7227830721878171,
          0.02061706180074759,
          0.651757172821551,
          0.5321786347271554,
          -0.6189706854967447,
          -0.8803330892394644,
          -0.03071584005189342,
          -1.9886438727363793,
          0.8229309186203905,
          0.7890306368756327,
          -0.6025057062017244,
          -1.0133951630813673,
          0.4583239442037677,
          -1.0540367772848824,
          0.27249714775275824,
          0.23308697127069317,
          1.71958930015937,
          0.3124837977579066,
          -1.1037781192401224,
          0.1606789660059298,
          -0.7006514510911815,
          0.6357168109204249,
          0.6896512585494607,
          -0.3733621725599462
         ],
         "yaxis": "y10"
        },
        {
         "histfunc": "count",
         "histnorm": "",
         "marker": {
          "color": "rgba(50, 171, 96, 1.0)",
          "line": {
           "color": "#4D5663",
           "width": 1.3
          }
         },
         "name": "C",
         "nbinsx": 10,
         "opacity": 0.8,
         "orientation": "v",
         "type": "histogram",
         "x": [
          1.17789599223246,
          -0.661400434155931,
          1.2313368112059233,
          -0.24339900043176255,
          0.9675959828040326,
          -0.8099039954694721,
          0.6376951022971441,
          -0.668279852937571,
          0.33130477744502224,
          -0.13111868134978907,
          -0.7543129781919886,
          0.44844014879375593,
          -0.9778756365215926,
          -0.8832086958930353,
          0.9495855236923345,
          0.24545920433061041,
          -0.4023261424550109,
          -0.024582443967006366,
          2.0218225895106143,
          -1.2097122515929808,
          -2.5293273164010737,
          0.15536611001813,
          0.6927964909911235,
          -0.5940112192467712,
          0.9348938152565605,
          0.9108935503155805,
          -0.8938271886470385,
          0.38261479895870504,
          -1.0736697692873345,
          1.8740739968425641,
          0.7322525668891493,
          2.120536718121365,
          0.23824388512601272,
          -0.377504099211284,
          0.3624900571062633,
          -0.568429183865922,
          -0.32520363027060145,
          -0.8818164540919655,
          0.570179172659156,
          -0.8612968999018705,
          0.22849521683754068,
          0.7630962434956688,
          -1.0533810528338508,
          0.32567843966561977,
          1.372257366906283,
          0.23203465920643873,
          1.0477911246061877,
          -1.0006522940798506,
          1.0757530061640197,
          -0.5114981698344443,
          -0.48646916299820925,
          -0.19536450054243273,
          -1.4463445759721227,
          1.8397089791903722,
          -0.04567427241237144,
          -0.8722649704359667,
          1.501655806737382,
          -1.0247133970192228,
          0.3875552334877692,
          -0.7485457146030059,
          -0.52364163876346,
          -0.7546426049417192,
          1.0741239174140584,
          -1.082818514974668,
          -0.050682267560251036,
          0.1976062660491136,
          -0.36124633241518506,
          -0.3464003317250285,
          1.4583525610748382,
          -0.018137965611309436,
          2.5078720568676784,
          0.4584655084762964,
          -0.609029438215186,
          -0.5408052766371294,
          0.4908360738275197,
          0.8746041335759098,
          0.7227830721878171,
          0.02061706180074759,
          0.651757172821551,
          0.5321786347271554,
          -0.6189706854967447,
          -0.8803330892394644,
          -0.03071584005189342,
          -1.9886438727363793,
          0.8229309186203905,
          0.7890306368756327,
          -0.6025057062017244,
          -1.0133951630813673,
          0.4583239442037677,
          -1.0540367772848824,
          0.27249714775275824,
          0.23308697127069317,
          1.71958930015937,
          0.3124837977579066,
          -1.1037781192401224,
          0.1606789660059298,
          -0.7006514510911815,
          0.6357168109204249,
          0.6896512585494607,
          -0.3733621725599462
         ],
         "xaxis": "x11",
         "yaxis": "y11"
        },
        {
         "line": {
          "color": "rgba(128, 128, 128, 1.0)",
          "dash": "solid",
          "shape": "linear",
          "width": 1.3
         },
         "marker": {
          "size": 2,
          "symbol": "circle"
         },
         "mode": "markers",
         "name": "C",
         "text": "",
         "type": "scatter",
         "x": [
          -0.6497558508146197,
          0.5696022472138228,
          -0.7742549950337608,
          0.014455016891685308,
          -0.9060133469484182,
          0.8317357464196173,
          -0.456742552047923,
          -0.893425922398005,
          -0.45629202248448775,
          0.8865742158055536,
          0.533112541987365,
          -0.5764423411134656,
          -1.0781933958796839,
          -0.7765606805526603,
          -0.774676440986213,
          -0.7254853319541702,
          0.01857757652433547,
          -0.4739028578841449,
          0.41546407453704925,
          0.18085488752726828,
          1.6392132099429437,
          2.152322296915255,
          0.5510914884845449,
          -0.17200497405891954,
          -0.30275609998810576,
          0.3337058203492321,
          1.915668368752776,
          0.09736653391683878,
          -1.1392266031457392,
          0.6189098863426716,
          0.9574377787133139,
          0.21040552178092659,
          -1.155999981256473,
          0.03471012759726958,
          -0.4759889738470913,
          -1.3202923670664828,
          -1.1421903545951442,
          -0.8023433609911226,
          0.14145530424876465,
          -0.8345545750446628,
          0.05607030814618059,
          0.8766930176309266,
          -0.3588416967252633,
          -1.2923043390651747,
          -0.14941580871574106,
          0.27879451079531004,
          0.2695398313730743,
          -0.7725303843772486,
          -0.43646365421850075,
          -0.9583290852048664,
          1.150297392219825,
          -1.1965596759703445,
          -1.0848850756530122,
          -0.1402059348920322,
          -1.2451705111909404,
          1.8248593793921886,
          -0.6558475942962985,
          0.23306245817302218,
          0.22632642407822606,
          -2.898995979748627,
          -1.2624231371901962,
          -0.45533371264789585,
          -0.6148073219255857,
          -0.4503032391310196,
          0.9341143618964147,
          -0.056447188256112835,
          -1.6372042102125877,
          3.004947294068905,
          2.7680945544450384,
          1.1114432303149564,
          0.3553376235390684,
          -0.1262912090720706,
          0.6890509423597909,
          -1.1360041320724081,
          -0.2531232310905212,
          -0.8492015466836488,
          0.06029213572844701,
          -1.5223969489227114,
          0.375856572534485,
          0.48642780992514606,
          0.4784750748119479,
          -1.2676523630862064,
          0.9255176670906304,
          0.22951864913232142,
          1.3429793798892857,
          2.702687714185298,
          1.226688593216633,
          -0.19832038411576372,
          -0.21840893275786102,
          1.1394216004837654,
          0.8271929327400069,
          0.7290778301278243,
          1.7026912789896953,
          -1.3847686195712015,
          -1.405587735172336,
          -0.16916074302135256,
          -2.4284863303666095,
          -0.5522450839579114,
          0.2603440872721333,
          -0.11201117408394276
         ],
         "xaxis": "x12",
         "y": [
          1.17789599223246,
          -0.661400434155931,
          1.2313368112059233,
          -0.24339900043176255,
          0.9675959828040326,
          -0.8099039954694721,
          0.6376951022971441,
          -0.668279852937571,
          0.33130477744502224,
          -0.13111868134978907,
          -0.7543129781919886,
          0.44844014879375593,
          -0.9778756365215926,
          -0.8832086958930353,
          0.9495855236923345,
          0.24545920433061041,
          -0.4023261424550109,
          -0.024582443967006366,
          2.0218225895106143,
          -1.2097122515929808,
          -2.5293273164010737,
          0.15536611001813,
          0.6927964909911235,
          -0.5940112192467712,
          0.9348938152565605,
          0.9108935503155805,
          -0.8938271886470385,
          0.38261479895870504,
          -1.0736697692873345,
          1.8740739968425641,
          0.7322525668891493,
          2.120536718121365,
          0.23824388512601272,
          -0.377504099211284,
          0.3624900571062633,
          -0.568429183865922,
          -0.32520363027060145,
          -0.8818164540919655,
          0.570179172659156,
          -0.8612968999018705,
          0.22849521683754068,
          0.7630962434956688,
          -1.0533810528338508,
          0.32567843966561977,
          1.372257366906283,
          0.23203465920643873,
          1.0477911246061877,
          -1.0006522940798506,
          1.0757530061640197,
          -0.5114981698344443,
          -0.48646916299820925,
          -0.19536450054243273,
          -1.4463445759721227,
          1.8397089791903722,
          -0.04567427241237144,
          -0.8722649704359667,
          1.501655806737382,
          -1.0247133970192228,
          0.3875552334877692,
          -0.7485457146030059,
          -0.52364163876346,
          -0.7546426049417192,
          1.0741239174140584,
          -1.082818514974668,
          -0.050682267560251036,
          0.1976062660491136,
          -0.36124633241518506,
          -0.3464003317250285,
          1.4583525610748382,
          -0.018137965611309436,
          2.5078720568676784,
          0.4584655084762964,
          -0.609029438215186,
          -0.5408052766371294,
          0.4908360738275197,
          0.8746041335759098,
          0.7227830721878171,
          0.02061706180074759,
          0.651757172821551,
          0.5321786347271554,
          -0.6189706854967447,
          -0.8803330892394644,
          -0.03071584005189342,
          -1.9886438727363793,
          0.8229309186203905,
          0.7890306368756327,
          -0.6025057062017244,
          -1.0133951630813673,
          0.4583239442037677,
          -1.0540367772848824,
          0.27249714775275824,
          0.23308697127069317,
          1.71958930015937,
          0.3124837977579066,
          -1.1037781192401224,
          0.1606789660059298,
          -0.7006514510911815,
          0.6357168109204249,
          0.6896512585494607,
          -0.3733621725599462
         ],
         "yaxis": "y12"
        },
        {
         "line": {
          "color": "rgba(128, 128, 128, 1.0)",
          "dash": "solid",
          "shape": "linear",
          "width": 1.3
         },
         "marker": {
          "size": 2,
          "symbol": "circle"
         },
         "mode": "markers",
         "name": "D",
         "text": "",
         "type": "scatter",
         "x": [
          1.0163663847315616,
          0.6173154871769431,
          -0.6772810476386104,
          0.6237655411646876,
          -0.37260920798691394,
          0.5268099656427503,
          3.3821009368357,
          1.9577238270097503,
          2.3672034338753085,
          -0.1264357292249816,
          -0.8103067961827602,
          0.626606385498777,
          0.8971248085452803,
          0.9197234355071809,
          -0.08116844691411543,
          -0.23627135619609388,
          0.006315752144729975,
          0.8669884152608879,
          1.3477600604778872,
          0.5955044109947454,
          -2.2568755644129865,
          -0.4068329840129025,
          -1.0539585845464274,
          1.1553831547694944,
          0.8367721877894332,
          0.07562472966509834,
          -0.12160991114433886,
          -1.8708656358350333,
          -2.0980755507321915,
          -0.08333649016138943,
          -0.47654864104757116,
          0.3105903538405738,
          -0.2108414867369569,
          1.2160327251023146,
          0.530254461980228,
          0.8521931743489114,
          1.3174997251183853,
          -0.6329843164077711,
          -0.882042357186549,
          -0.10209874131529179,
          -0.8947340334956717,
          -0.03844201310949979,
          0.7649005814572767,
          -0.5966885081694819,
          0.11506435913682996,
          -0.10048058063216983,
          0.9452885815617678,
          -0.4588861395882851,
          1.2607952095263109,
          0.9909294214610531,
          -1.1887396736772753,
          0.45737437826220323,
          1.218396683884078,
          -0.6001335964116054,
          0.04417622281112498,
          0.004450468534862416,
          1.8313217303103826,
          -0.37055291069047724,
          1.2230284286498043,
          0.9753590408138841,
          -0.9655361156914539,
          -1.2668526033999856,
          1.1422566561817689,
          0.06441963023437752,
          -0.8204500089030339,
          -0.08683699678333419,
          -0.36853538959583965,
          -0.7060872984774748,
          1.2026123368245425,
          -1.3864336167600535,
          0.6529959510516941,
          -0.08084710487352231,
          0.3907698202410437,
          0.8968560566217788,
          -0.6609848902540147,
          1.8688627173419552,
          -0.27731576559523075,
          -1.7189260231242547,
          0.39408077609560643,
          0.6185665794368471,
          0.9780991990845405,
          -0.37004731829361825,
          -0.5377331341474938,
          0.43868366034200346,
          0.5368217774165542,
          1.213954701386464,
          0.5110904541180284,
          -0.4235805169165554,
          -1.0118041589500104,
          1.1431317111969865,
          -1.350938695027268,
          1.0143078055993617,
          -0.7217509864426822,
          0.9030044560127558,
          0.42860812787029134,
          -0.1071231255623638,
          -0.4543792366009019,
          -0.9730770823989808,
          0.1872464176467623,
          1.9436565221058293
         ],
         "xaxis": "x13",
         "y": [
          -0.6497558508146197,
          0.5696022472138228,
          -0.7742549950337608,
          0.014455016891685308,
          -0.9060133469484182,
          0.8317357464196173,
          -0.456742552047923,
          -0.893425922398005,
          -0.45629202248448775,
          0.8865742158055536,
          0.533112541987365,
          -0.5764423411134656,
          -1.0781933958796839,
          -0.7765606805526603,
          -0.774676440986213,
          -0.7254853319541702,
          0.01857757652433547,
          -0.4739028578841449,
          0.41546407453704925,
          0.18085488752726828,
          1.6392132099429437,
          2.152322296915255,
          0.5510914884845449,
          -0.17200497405891954,
          -0.30275609998810576,
          0.3337058203492321,
          1.915668368752776,
          0.09736653391683878,
          -1.1392266031457392,
          0.6189098863426716,
          0.9574377787133139,
          0.21040552178092659,
          -1.155999981256473,
          0.03471012759726958,
          -0.4759889738470913,
          -1.3202923670664828,
          -1.1421903545951442,
          -0.8023433609911226,
          0.14145530424876465,
          -0.8345545750446628,
          0.05607030814618059,
          0.8766930176309266,
          -0.3588416967252633,
          -1.2923043390651747,
          -0.14941580871574106,
          0.27879451079531004,
          0.2695398313730743,
          -0.7725303843772486,
          -0.43646365421850075,
          -0.9583290852048664,
          1.150297392219825,
          -1.1965596759703445,
          -1.0848850756530122,
          -0.1402059348920322,
          -1.2451705111909404,
          1.8248593793921886,
          -0.6558475942962985,
          0.23306245817302218,
          0.22632642407822606,
          -2.898995979748627,
          -1.2624231371901962,
          -0.45533371264789585,
          -0.6148073219255857,
          -0.4503032391310196,
          0.9341143618964147,
          -0.056447188256112835,
          -1.6372042102125877,
          3.004947294068905,
          2.7680945544450384,
          1.1114432303149564,
          0.3553376235390684,
          -0.1262912090720706,
          0.6890509423597909,
          -1.1360041320724081,
          -0.2531232310905212,
          -0.8492015466836488,
          0.06029213572844701,
          -1.5223969489227114,
          0.375856572534485,
          0.48642780992514606,
          0.4784750748119479,
          -1.2676523630862064,
          0.9255176670906304,
          0.22951864913232142,
          1.3429793798892857,
          2.702687714185298,
          1.226688593216633,
          -0.19832038411576372,
          -0.21840893275786102,
          1.1394216004837654,
          0.8271929327400069,
          0.7290778301278243,
          1.7026912789896953,
          -1.3847686195712015,
          -1.405587735172336,
          -0.16916074302135256,
          -2.4284863303666095,
          -0.5522450839579114,
          0.2603440872721333,
          -0.11201117408394276
         ],
         "yaxis": "y13"
        },
        {
         "line": {
          "color": "rgba(128, 128, 128, 1.0)",
          "dash": "solid",
          "shape": "linear",
          "width": 1.3
         },
         "marker": {
          "size": 2,
          "symbol": "circle"
         },
         "mode": "markers",
         "name": "D",
         "text": "",
         "type": "scatter",
         "x": [
          -1.314123512152019,
          0.39375016329835755,
          -0.3333754421609034,
          -0.16129292315339847,
          0.39089174011821676,
          -0.2415285832239928,
          -0.1330687410391177,
          -2.742176842383155,
          -1.4549249762961163,
          -0.03288164196362554,
          0.7870954339775161,
          -1.5906364831120088,
          -0.24665783984415385,
          -1.2709531905402118,
          1.4177396247528429,
          0.9139339993306476,
          0.14968727936437834,
          -1.4773579780270367,
          1.2836065788783506,
          0.4218429543817784,
          -0.3891327307587016,
          -0.6603022181306161,
          -1.0684908499632273,
          -0.3548553707374886,
          0.899830228716969,
          -0.8941242273946151,
          0.28641016797356983,
          -0.5620191278396524,
          0.5645175911279281,
          -0.687053335069698,
          1.9940782552722824,
          0.41288636989328503,
          -0.0757559224356657,
          -1.228484199092643,
          0.10159891043339675,
          -0.8406593103911069,
          0.626646032389116,
          1.344081195804092,
          -0.2058879538088759,
          -0.24892149899365876,
          1.61428601967461,
          1.054023242279591,
          -1.0494231161382948,
          -0.29037512816229744,
          -0.31845732692891965,
          0.529699171795502,
          -0.8271224841739949,
          0.4273220127629525,
          -0.7435857578963644,
          -0.27184790451055646,
          -1.4840195959301983,
          -0.44688526663229666,
          0.4628829916489609,
          -1.0937281052231775,
          -0.04684302086081167,
          -1.7319842733126842,
          0.8936502873631862,
          -0.8605804212619843,
          -1.491722030552004,
          0.22619482826173615,
          0.12596075803515505,
          0.5939073679012035,
          -2.0319593614147418,
          0.4094611282332534,
          -1.425236969134026,
          0.13011219954716607,
          -0.40809823124548433,
          -0.09813875666548708,
          -0.3443129245978503,
          0.3722128853803303,
          -0.4876598037455311,
          1.0394990700889335,
          -0.8096093205424912,
          1.8638913823070484,
          1.4465628410979272,
          1.5033357505346296,
          -0.1644064395364936,
          0.9572849136768261,
          1.5099517130489664,
          -0.03615537780077251,
          -0.7750468333728179,
          0.6185273461544226,
          0.8477903244792816,
          0.2404673003418146,
          -0.8111967164058738,
          0.538679623313098,
          -0.594248432346121,
          0.971093297394865,
          0.26710198449999917,
          -0.37466122018418707,
          0.35159515438680605,
          -0.36114835700299674,
          -1.2442893555942884,
          -2.2215578576176584,
          1.1728151414090098,
          0.6090886842595982,
          -1.6522977997891652,
          -1.1130954230421588,
          0.42121458153220404,
          -0.8627485862769746
         ],
         "xaxis": "x14",
         "y": [
          -0.6497558508146197,
          0.5696022472138228,
          -0.7742549950337608,
          0.014455016891685308,
          -0.9060133469484182,
          0.8317357464196173,
          -0.456742552047923,
          -0.893425922398005,
          -0.45629202248448775,
          0.8865742158055536,
          0.533112541987365,
          -0.5764423411134656,
          -1.0781933958796839,
          -0.7765606805526603,
          -0.774676440986213,
          -0.7254853319541702,
          0.01857757652433547,
          -0.4739028578841449,
          0.41546407453704925,
          0.18085488752726828,
          1.6392132099429437,
          2.152322296915255,
          0.5510914884845449,
          -0.17200497405891954,
          -0.30275609998810576,
          0.3337058203492321,
          1.915668368752776,
          0.09736653391683878,
          -1.1392266031457392,
          0.6189098863426716,
          0.9574377787133139,
          0.21040552178092659,
          -1.155999981256473,
          0.03471012759726958,
          -0.4759889738470913,
          -1.3202923670664828,
          -1.1421903545951442,
          -0.8023433609911226,
          0.14145530424876465,
          -0.8345545750446628,
          0.05607030814618059,
          0.8766930176309266,
          -0.3588416967252633,
          -1.2923043390651747,
          -0.14941580871574106,
          0.27879451079531004,
          0.2695398313730743,
          -0.7725303843772486,
          -0.43646365421850075,
          -0.9583290852048664,
          1.150297392219825,
          -1.1965596759703445,
          -1.0848850756530122,
          -0.1402059348920322,
          -1.2451705111909404,
          1.8248593793921886,
          -0.6558475942962985,
          0.23306245817302218,
          0.22632642407822606,
          -2.898995979748627,
          -1.2624231371901962,
          -0.45533371264789585,
          -0.6148073219255857,
          -0.4503032391310196,
          0.9341143618964147,
          -0.056447188256112835,
          -1.6372042102125877,
          3.004947294068905,
          2.7680945544450384,
          1.1114432303149564,
          0.3553376235390684,
          -0.1262912090720706,
          0.6890509423597909,
          -1.1360041320724081,
          -0.2531232310905212,
          -0.8492015466836488,
          0.06029213572844701,
          -1.5223969489227114,
          0.375856572534485,
          0.48642780992514606,
          0.4784750748119479,
          -1.2676523630862064,
          0.9255176670906304,
          0.22951864913232142,
          1.3429793798892857,
          2.702687714185298,
          1.226688593216633,
          -0.19832038411576372,
          -0.21840893275786102,
          1.1394216004837654,
          0.8271929327400069,
          0.7290778301278243,
          1.7026912789896953,
          -1.3847686195712015,
          -1.405587735172336,
          -0.16916074302135256,
          -2.4284863303666095,
          -0.5522450839579114,
          0.2603440872721333,
          -0.11201117408394276
         ],
         "yaxis": "y14"
        },
        {
         "line": {
          "color": "rgba(128, 128, 128, 1.0)",
          "dash": "solid",
          "shape": "linear",
          "width": 1.3
         },
         "marker": {
          "size": 2,
          "symbol": "circle"
         },
         "mode": "markers",
         "name": "D",
         "text": "",
         "type": "scatter",
         "x": [
          1.17789599223246,
          -0.661400434155931,
          1.2313368112059233,
          -0.24339900043176255,
          0.9675959828040326,
          -0.8099039954694721,
          0.6376951022971441,
          -0.668279852937571,
          0.33130477744502224,
          -0.13111868134978907,
          -0.7543129781919886,
          0.44844014879375593,
          -0.9778756365215926,
          -0.8832086958930353,
          0.9495855236923345,
          0.24545920433061041,
          -0.4023261424550109,
          -0.024582443967006366,
          2.0218225895106143,
          -1.2097122515929808,
          -2.5293273164010737,
          0.15536611001813,
          0.6927964909911235,
          -0.5940112192467712,
          0.9348938152565605,
          0.9108935503155805,
          -0.8938271886470385,
          0.38261479895870504,
          -1.0736697692873345,
          1.8740739968425641,
          0.7322525668891493,
          2.120536718121365,
          0.23824388512601272,
          -0.377504099211284,
          0.3624900571062633,
          -0.568429183865922,
          -0.32520363027060145,
          -0.8818164540919655,
          0.570179172659156,
          -0.8612968999018705,
          0.22849521683754068,
          0.7630962434956688,
          -1.0533810528338508,
          0.32567843966561977,
          1.372257366906283,
          0.23203465920643873,
          1.0477911246061877,
          -1.0006522940798506,
          1.0757530061640197,
          -0.5114981698344443,
          -0.48646916299820925,
          -0.19536450054243273,
          -1.4463445759721227,
          1.8397089791903722,
          -0.04567427241237144,
          -0.8722649704359667,
          1.501655806737382,
          -1.0247133970192228,
          0.3875552334877692,
          -0.7485457146030059,
          -0.52364163876346,
          -0.7546426049417192,
          1.0741239174140584,
          -1.082818514974668,
          -0.050682267560251036,
          0.1976062660491136,
          -0.36124633241518506,
          -0.3464003317250285,
          1.4583525610748382,
          -0.018137965611309436,
          2.5078720568676784,
          0.4584655084762964,
          -0.609029438215186,
          -0.5408052766371294,
          0.4908360738275197,
          0.8746041335759098,
          0.7227830721878171,
          0.02061706180074759,
          0.651757172821551,
          0.5321786347271554,
          -0.6189706854967447,
          -0.8803330892394644,
          -0.03071584005189342,
          -1.9886438727363793,
          0.8229309186203905,
          0.7890306368756327,
          -0.6025057062017244,
          -1.0133951630813673,
          0.4583239442037677,
          -1.0540367772848824,
          0.27249714775275824,
          0.23308697127069317,
          1.71958930015937,
          0.3124837977579066,
          -1.1037781192401224,
          0.1606789660059298,
          -0.7006514510911815,
          0.6357168109204249,
          0.6896512585494607,
          -0.3733621725599462
         ],
         "xaxis": "x15",
         "y": [
          -0.6497558508146197,
          0.5696022472138228,
          -0.7742549950337608,
          0.014455016891685308,
          -0.9060133469484182,
          0.8317357464196173,
          -0.456742552047923,
          -0.893425922398005,
          -0.45629202248448775,
          0.8865742158055536,
          0.533112541987365,
          -0.5764423411134656,
          -1.0781933958796839,
          -0.7765606805526603,
          -0.774676440986213,
          -0.7254853319541702,
          0.01857757652433547,
          -0.4739028578841449,
          0.41546407453704925,
          0.18085488752726828,
          1.6392132099429437,
          2.152322296915255,
          0.5510914884845449,
          -0.17200497405891954,
          -0.30275609998810576,
          0.3337058203492321,
          1.915668368752776,
          0.09736653391683878,
          -1.1392266031457392,
          0.6189098863426716,
          0.9574377787133139,
          0.21040552178092659,
          -1.155999981256473,
          0.03471012759726958,
          -0.4759889738470913,
          -1.3202923670664828,
          -1.1421903545951442,
          -0.8023433609911226,
          0.14145530424876465,
          -0.8345545750446628,
          0.05607030814618059,
          0.8766930176309266,
          -0.3588416967252633,
          -1.2923043390651747,
          -0.14941580871574106,
          0.27879451079531004,
          0.2695398313730743,
          -0.7725303843772486,
          -0.43646365421850075,
          -0.9583290852048664,
          1.150297392219825,
          -1.1965596759703445,
          -1.0848850756530122,
          -0.1402059348920322,
          -1.2451705111909404,
          1.8248593793921886,
          -0.6558475942962985,
          0.23306245817302218,
          0.22632642407822606,
          -2.898995979748627,
          -1.2624231371901962,
          -0.45533371264789585,
          -0.6148073219255857,
          -0.4503032391310196,
          0.9341143618964147,
          -0.056447188256112835,
          -1.6372042102125877,
          3.004947294068905,
          2.7680945544450384,
          1.1114432303149564,
          0.3553376235390684,
          -0.1262912090720706,
          0.6890509423597909,
          -1.1360041320724081,
          -0.2531232310905212,
          -0.8492015466836488,
          0.06029213572844701,
          -1.5223969489227114,
          0.375856572534485,
          0.48642780992514606,
          0.4784750748119479,
          -1.2676523630862064,
          0.9255176670906304,
          0.22951864913232142,
          1.3429793798892857,
          2.702687714185298,
          1.226688593216633,
          -0.19832038411576372,
          -0.21840893275786102,
          1.1394216004837654,
          0.8271929327400069,
          0.7290778301278243,
          1.7026912789896953,
          -1.3847686195712015,
          -1.405587735172336,
          -0.16916074302135256,
          -2.4284863303666095,
          -0.5522450839579114,
          0.2603440872721333,
          -0.11201117408394276
         ],
         "yaxis": "y15"
        },
        {
         "histfunc": "count",
         "histnorm": "",
         "marker": {
          "color": "rgba(128, 0, 128, 1.0)",
          "line": {
           "color": "#4D5663",
           "width": 1.3
          }
         },
         "name": "D",
         "nbinsx": 10,
         "opacity": 0.8,
         "orientation": "v",
         "type": "histogram",
         "x": [
          -0.6497558508146197,
          0.5696022472138228,
          -0.7742549950337608,
          0.014455016891685308,
          -0.9060133469484182,
          0.8317357464196173,
          -0.456742552047923,
          -0.893425922398005,
          -0.45629202248448775,
          0.8865742158055536,
          0.533112541987365,
          -0.5764423411134656,
          -1.0781933958796839,
          -0.7765606805526603,
          -0.774676440986213,
          -0.7254853319541702,
          0.01857757652433547,
          -0.4739028578841449,
          0.41546407453704925,
          0.18085488752726828,
          1.6392132099429437,
          2.152322296915255,
          0.5510914884845449,
          -0.17200497405891954,
          -0.30275609998810576,
          0.3337058203492321,
          1.915668368752776,
          0.09736653391683878,
          -1.1392266031457392,
          0.6189098863426716,
          0.9574377787133139,
          0.21040552178092659,
          -1.155999981256473,
          0.03471012759726958,
          -0.4759889738470913,
          -1.3202923670664828,
          -1.1421903545951442,
          -0.8023433609911226,
          0.14145530424876465,
          -0.8345545750446628,
          0.05607030814618059,
          0.8766930176309266,
          -0.3588416967252633,
          -1.2923043390651747,
          -0.14941580871574106,
          0.27879451079531004,
          0.2695398313730743,
          -0.7725303843772486,
          -0.43646365421850075,
          -0.9583290852048664,
          1.150297392219825,
          -1.1965596759703445,
          -1.0848850756530122,
          -0.1402059348920322,
          -1.2451705111909404,
          1.8248593793921886,
          -0.6558475942962985,
          0.23306245817302218,
          0.22632642407822606,
          -2.898995979748627,
          -1.2624231371901962,
          -0.45533371264789585,
          -0.6148073219255857,
          -0.4503032391310196,
          0.9341143618964147,
          -0.056447188256112835,
          -1.6372042102125877,
          3.004947294068905,
          2.7680945544450384,
          1.1114432303149564,
          0.3553376235390684,
          -0.1262912090720706,
          0.6890509423597909,
          -1.1360041320724081,
          -0.2531232310905212,
          -0.8492015466836488,
          0.06029213572844701,
          -1.5223969489227114,
          0.375856572534485,
          0.48642780992514606,
          0.4784750748119479,
          -1.2676523630862064,
          0.9255176670906304,
          0.22951864913232142,
          1.3429793798892857,
          2.702687714185298,
          1.226688593216633,
          -0.19832038411576372,
          -0.21840893275786102,
          1.1394216004837654,
          0.8271929327400069,
          0.7290778301278243,
          1.7026912789896953,
          -1.3847686195712015,
          -1.405587735172336,
          -0.16916074302135256,
          -2.4284863303666095,
          -0.5522450839579114,
          0.2603440872721333,
          -0.11201117408394276
         ],
         "xaxis": "x16",
         "yaxis": "y16"
        }
       ],
       "layout": {
        "bargap": 0.02,
        "legend": {
         "bgcolor": "#F5F6F9",
         "font": {
          "color": "#4D5663"
         }
        },
        "paper_bgcolor": "#F5F6F9",
        "plot_bgcolor": "#F5F6F9",
        "showlegend": false,
        "template": {
         "data": {
          "bar": [
           {
            "error_x": {
             "color": "#2a3f5f"
            },
            "error_y": {
             "color": "#2a3f5f"
            },
            "marker": {
             "line": {
              "color": "#E5ECF6",
              "width": 0.5
             },
             "pattern": {
              "fillmode": "overlay",
              "size": 10,
              "solidity": 0.2
             }
            },
            "type": "bar"
           }
          ],
          "barpolar": [
           {
            "marker": {
             "line": {
              "color": "#E5ECF6",
              "width": 0.5
             },
             "pattern": {
              "fillmode": "overlay",
              "size": 10,
              "solidity": 0.2
             }
            },
            "type": "barpolar"
           }
          ],
          "carpet": [
           {
            "aaxis": {
             "endlinecolor": "#2a3f5f",
             "gridcolor": "white",
             "linecolor": "white",
             "minorgridcolor": "white",
             "startlinecolor": "#2a3f5f"
            },
            "baxis": {
             "endlinecolor": "#2a3f5f",
             "gridcolor": "white",
             "linecolor": "white",
             "minorgridcolor": "white",
             "startlinecolor": "#2a3f5f"
            },
            "type": "carpet"
           }
          ],
          "choropleth": [
           {
            "colorbar": {
             "outlinewidth": 0,
             "ticks": ""
            },
            "type": "choropleth"
           }
          ],
          "contour": [
           {
            "colorbar": {
             "outlinewidth": 0,
             "ticks": ""
            },
            "colorscale": [
             [
              0,
              "#0d0887"
             ],
             [
              0.1111111111111111,
              "#46039f"
             ],
             [
              0.2222222222222222,
              "#7201a8"
             ],
             [
              0.3333333333333333,
              "#9c179e"
             ],
             [
              0.4444444444444444,
              "#bd3786"
             ],
             [
              0.5555555555555556,
              "#d8576b"
             ],
             [
              0.6666666666666666,
              "#ed7953"
             ],
             [
              0.7777777777777778,
              "#fb9f3a"
             ],
             [
              0.8888888888888888,
              "#fdca26"
             ],
             [
              1,
              "#f0f921"
             ]
            ],
            "type": "contour"
           }
          ],
          "contourcarpet": [
           {
            "colorbar": {
             "outlinewidth": 0,
             "ticks": ""
            },
            "type": "contourcarpet"
           }
          ],
          "heatmap": [
           {
            "colorbar": {
             "outlinewidth": 0,
             "ticks": ""
            },
            "colorscale": [
             [
              0,
              "#0d0887"
             ],
             [
              0.1111111111111111,
              "#46039f"
             ],
             [
              0.2222222222222222,
              "#7201a8"
             ],
             [
              0.3333333333333333,
              "#9c179e"
             ],
             [
              0.4444444444444444,
              "#bd3786"
             ],
             [
              0.5555555555555556,
              "#d8576b"
             ],
             [
              0.6666666666666666,
              "#ed7953"
             ],
             [
              0.7777777777777778,
              "#fb9f3a"
             ],
             [
              0.8888888888888888,
              "#fdca26"
             ],
             [
              1,
              "#f0f921"
             ]
            ],
            "type": "heatmap"
           }
          ],
          "heatmapgl": [
           {
            "colorbar": {
             "outlinewidth": 0,
             "ticks": ""
            },
            "colorscale": [
             [
              0,
              "#0d0887"
             ],
             [
              0.1111111111111111,
              "#46039f"
             ],
             [
              0.2222222222222222,
              "#7201a8"
             ],
             [
              0.3333333333333333,
              "#9c179e"
             ],
             [
              0.4444444444444444,
              "#bd3786"
             ],
             [
              0.5555555555555556,
              "#d8576b"
             ],
             [
              0.6666666666666666,
              "#ed7953"
             ],
             [
              0.7777777777777778,
              "#fb9f3a"
             ],
             [
              0.8888888888888888,
              "#fdca26"
             ],
             [
              1,
              "#f0f921"
             ]
            ],
            "type": "heatmapgl"
           }
          ],
          "histogram": [
           {
            "marker": {
             "pattern": {
              "fillmode": "overlay",
              "size": 10,
              "solidity": 0.2
             }
            },
            "type": "histogram"
           }
          ],
          "histogram2d": [
           {
            "colorbar": {
             "outlinewidth": 0,
             "ticks": ""
            },
            "colorscale": [
             [
              0,
              "#0d0887"
             ],
             [
              0.1111111111111111,
              "#46039f"
             ],
             [
              0.2222222222222222,
              "#7201a8"
             ],
             [
              0.3333333333333333,
              "#9c179e"
             ],
             [
              0.4444444444444444,
              "#bd3786"
             ],
             [
              0.5555555555555556,
              "#d8576b"
             ],
             [
              0.6666666666666666,
              "#ed7953"
             ],
             [
              0.7777777777777778,
              "#fb9f3a"
             ],
             [
              0.8888888888888888,
              "#fdca26"
             ],
             [
              1,
              "#f0f921"
             ]
            ],
            "type": "histogram2d"
           }
          ],
          "histogram2dcontour": [
           {
            "colorbar": {
             "outlinewidth": 0,
             "ticks": ""
            },
            "colorscale": [
             [
              0,
              "#0d0887"
             ],
             [
              0.1111111111111111,
              "#46039f"
             ],
             [
              0.2222222222222222,
              "#7201a8"
             ],
             [
              0.3333333333333333,
              "#9c179e"
             ],
             [
              0.4444444444444444,
              "#bd3786"
             ],
             [
              0.5555555555555556,
              "#d8576b"
             ],
             [
              0.6666666666666666,
              "#ed7953"
             ],
             [
              0.7777777777777778,
              "#fb9f3a"
             ],
             [
              0.8888888888888888,
              "#fdca26"
             ],
             [
              1,
              "#f0f921"
             ]
            ],
            "type": "histogram2dcontour"
           }
          ],
          "mesh3d": [
           {
            "colorbar": {
             "outlinewidth": 0,
             "ticks": ""
            },
            "type": "mesh3d"
           }
          ],
          "parcoords": [
           {
            "line": {
             "colorbar": {
              "outlinewidth": 0,
              "ticks": ""
             }
            },
            "type": "parcoords"
           }
          ],
          "pie": [
           {
            "automargin": true,
            "type": "pie"
           }
          ],
          "scatter": [
           {
            "marker": {
             "colorbar": {
              "outlinewidth": 0,
              "ticks": ""
             }
            },
            "type": "scatter"
           }
          ],
          "scatter3d": [
           {
            "line": {
             "colorbar": {
              "outlinewidth": 0,
              "ticks": ""
             }
            },
            "marker": {
             "colorbar": {
              "outlinewidth": 0,
              "ticks": ""
             }
            },
            "type": "scatter3d"
           }
          ],
          "scattercarpet": [
           {
            "marker": {
             "colorbar": {
              "outlinewidth": 0,
              "ticks": ""
             }
            },
            "type": "scattercarpet"
           }
          ],
          "scattergeo": [
           {
            "marker": {
             "colorbar": {
              "outlinewidth": 0,
              "ticks": ""
             }
            },
            "type": "scattergeo"
           }
          ],
          "scattergl": [
           {
            "marker": {
             "colorbar": {
              "outlinewidth": 0,
              "ticks": ""
             }
            },
            "type": "scattergl"
           }
          ],
          "scattermapbox": [
           {
            "marker": {
             "colorbar": {
              "outlinewidth": 0,
              "ticks": ""
             }
            },
            "type": "scattermapbox"
           }
          ],
          "scatterpolar": [
           {
            "marker": {
             "colorbar": {
              "outlinewidth": 0,
              "ticks": ""
             }
            },
            "type": "scatterpolar"
           }
          ],
          "scatterpolargl": [
           {
            "marker": {
             "colorbar": {
              "outlinewidth": 0,
              "ticks": ""
             }
            },
            "type": "scatterpolargl"
           }
          ],
          "scatterternary": [
           {
            "marker": {
             "colorbar": {
              "outlinewidth": 0,
              "ticks": ""
             }
            },
            "type": "scatterternary"
           }
          ],
          "surface": [
           {
            "colorbar": {
             "outlinewidth": 0,
             "ticks": ""
            },
            "colorscale": [
             [
              0,
              "#0d0887"
             ],
             [
              0.1111111111111111,
              "#46039f"
             ],
             [
              0.2222222222222222,
              "#7201a8"
             ],
             [
              0.3333333333333333,
              "#9c179e"
             ],
             [
              0.4444444444444444,
              "#bd3786"
             ],
             [
              0.5555555555555556,
              "#d8576b"
             ],
             [
              0.6666666666666666,
              "#ed7953"
             ],
             [
              0.7777777777777778,
              "#fb9f3a"
             ],
             [
              0.8888888888888888,
              "#fdca26"
             ],
             [
              1,
              "#f0f921"
             ]
            ],
            "type": "surface"
           }
          ],
          "table": [
           {
            "cells": {
             "fill": {
              "color": "#EBF0F8"
             },
             "line": {
              "color": "white"
             }
            },
            "header": {
             "fill": {
              "color": "#C8D4E3"
             },
             "line": {
              "color": "white"
             }
            },
            "type": "table"
           }
          ]
         },
         "layout": {
          "annotationdefaults": {
           "arrowcolor": "#2a3f5f",
           "arrowhead": 0,
           "arrowwidth": 1
          },
          "autotypenumbers": "strict",
          "coloraxis": {
           "colorbar": {
            "outlinewidth": 0,
            "ticks": ""
           }
          },
          "colorscale": {
           "diverging": [
            [
             0,
             "#8e0152"
            ],
            [
             0.1,
             "#c51b7d"
            ],
            [
             0.2,
             "#de77ae"
            ],
            [
             0.3,
             "#f1b6da"
            ],
            [
             0.4,
             "#fde0ef"
            ],
            [
             0.5,
             "#f7f7f7"
            ],
            [
             0.6,
             "#e6f5d0"
            ],
            [
             0.7,
             "#b8e186"
            ],
            [
             0.8,
             "#7fbc41"
            ],
            [
             0.9,
             "#4d9221"
            ],
            [
             1,
             "#276419"
            ]
           ],
           "sequential": [
            [
             0,
             "#0d0887"
            ],
            [
             0.1111111111111111,
             "#46039f"
            ],
            [
             0.2222222222222222,
             "#7201a8"
            ],
            [
             0.3333333333333333,
             "#9c179e"
            ],
            [
             0.4444444444444444,
             "#bd3786"
            ],
            [
             0.5555555555555556,
             "#d8576b"
            ],
            [
             0.6666666666666666,
             "#ed7953"
            ],
            [
             0.7777777777777778,
             "#fb9f3a"
            ],
            [
             0.8888888888888888,
             "#fdca26"
            ],
            [
             1,
             "#f0f921"
            ]
           ],
           "sequentialminus": [
            [
             0,
             "#0d0887"
            ],
            [
             0.1111111111111111,
             "#46039f"
            ],
            [
             0.2222222222222222,
             "#7201a8"
            ],
            [
             0.3333333333333333,
             "#9c179e"
            ],
            [
             0.4444444444444444,
             "#bd3786"
            ],
            [
             0.5555555555555556,
             "#d8576b"
            ],
            [
             0.6666666666666666,
             "#ed7953"
            ],
            [
             0.7777777777777778,
             "#fb9f3a"
            ],
            [
             0.8888888888888888,
             "#fdca26"
            ],
            [
             1,
             "#f0f921"
            ]
           ]
          },
          "colorway": [
           "#636efa",
           "#EF553B",
           "#00cc96",
           "#ab63fa",
           "#FFA15A",
           "#19d3f3",
           "#FF6692",
           "#B6E880",
           "#FF97FF",
           "#FECB52"
          ],
          "font": {
           "color": "#2a3f5f"
          },
          "geo": {
           "bgcolor": "white",
           "lakecolor": "white",
           "landcolor": "#E5ECF6",
           "showlakes": true,
           "showland": true,
           "subunitcolor": "white"
          },
          "hoverlabel": {
           "align": "left"
          },
          "hovermode": "closest",
          "mapbox": {
           "style": "light"
          },
          "paper_bgcolor": "white",
          "plot_bgcolor": "#E5ECF6",
          "polar": {
           "angularaxis": {
            "gridcolor": "white",
            "linecolor": "white",
            "ticks": ""
           },
           "bgcolor": "#E5ECF6",
           "radialaxis": {
            "gridcolor": "white",
            "linecolor": "white",
            "ticks": ""
           }
          },
          "scene": {
           "xaxis": {
            "backgroundcolor": "#E5ECF6",
            "gridcolor": "white",
            "gridwidth": 2,
            "linecolor": "white",
            "showbackground": true,
            "ticks": "",
            "zerolinecolor": "white"
           },
           "yaxis": {
            "backgroundcolor": "#E5ECF6",
            "gridcolor": "white",
            "gridwidth": 2,
            "linecolor": "white",
            "showbackground": true,
            "ticks": "",
            "zerolinecolor": "white"
           },
           "zaxis": {
            "backgroundcolor": "#E5ECF6",
            "gridcolor": "white",
            "gridwidth": 2,
            "linecolor": "white",
            "showbackground": true,
            "ticks": "",
            "zerolinecolor": "white"
           }
          },
          "shapedefaults": {
           "line": {
            "color": "#2a3f5f"
           }
          },
          "ternary": {
           "aaxis": {
            "gridcolor": "white",
            "linecolor": "white",
            "ticks": ""
           },
           "baxis": {
            "gridcolor": "white",
            "linecolor": "white",
            "ticks": ""
           },
           "bgcolor": "#E5ECF6",
           "caxis": {
            "gridcolor": "white",
            "linecolor": "white",
            "ticks": ""
           }
          },
          "title": {
           "x": 0.05
          },
          "xaxis": {
           "automargin": true,
           "gridcolor": "white",
           "linecolor": "white",
           "ticks": "",
           "title": {
            "standoff": 15
           },
           "zerolinecolor": "white",
           "zerolinewidth": 2
          },
          "yaxis": {
           "automargin": true,
           "gridcolor": "white",
           "linecolor": "white",
           "ticks": "",
           "title": {
            "standoff": 15
           },
           "zerolinecolor": "white",
           "zerolinewidth": 2
          }
         }
        },
        "title": {
         "font": {
          "color": "#4D5663"
         }
        },
        "xaxis": {
         "anchor": "y",
         "domain": [
          0,
          0.2125
         ],
         "gridcolor": "#E1E5ED",
         "showgrid": false,
         "tickfont": {
          "color": "#4D5663"
         },
         "title": {
          "font": {
           "color": "#4D5663"
          },
          "text": ""
         },
         "zerolinecolor": "#E1E5ED"
        },
        "xaxis10": {
         "anchor": "y10",
         "domain": [
          0.2625,
          0.475
         ],
         "gridcolor": "#E1E5ED",
         "showgrid": false,
         "tickfont": {
          "color": "#4D5663"
         },
         "title": {
          "font": {
           "color": "#4D5663"
          },
          "text": ""
         },
         "zerolinecolor": "#E1E5ED"
        },
        "xaxis11": {
         "anchor": "y11",
         "domain": [
          0.525,
          0.7375
         ],
         "gridcolor": "#E1E5ED",
         "showgrid": false,
         "tickfont": {
          "color": "#4D5663"
         },
         "title": {
          "font": {
           "color": "#4D5663"
          },
          "text": ""
         },
         "zerolinecolor": "#E1E5ED"
        },
        "xaxis12": {
         "anchor": "y12",
         "domain": [
          0.7875,
          1
         ],
         "gridcolor": "#E1E5ED",
         "showgrid": false,
         "tickfont": {
          "color": "#4D5663"
         },
         "title": {
          "font": {
           "color": "#4D5663"
          },
          "text": ""
         },
         "zerolinecolor": "#E1E5ED"
        },
        "xaxis13": {
         "anchor": "y13",
         "domain": [
          0,
          0.2125
         ],
         "gridcolor": "#E1E5ED",
         "showgrid": false,
         "tickfont": {
          "color": "#4D5663"
         },
         "title": {
          "font": {
           "color": "#4D5663"
          },
          "text": ""
         },
         "zerolinecolor": "#E1E5ED"
        },
        "xaxis14": {
         "anchor": "y14",
         "domain": [
          0.2625,
          0.475
         ],
         "gridcolor": "#E1E5ED",
         "showgrid": false,
         "tickfont": {
          "color": "#4D5663"
         },
         "title": {
          "font": {
           "color": "#4D5663"
          },
          "text": ""
         },
         "zerolinecolor": "#E1E5ED"
        },
        "xaxis15": {
         "anchor": "y15",
         "domain": [
          0.525,
          0.7375
         ],
         "gridcolor": "#E1E5ED",
         "showgrid": false,
         "tickfont": {
          "color": "#4D5663"
         },
         "title": {
          "font": {
           "color": "#4D5663"
          },
          "text": ""
         },
         "zerolinecolor": "#E1E5ED"
        },
        "xaxis16": {
         "anchor": "y16",
         "domain": [
          0.7875,
          1
         ],
         "gridcolor": "#E1E5ED",
         "showgrid": false,
         "tickfont": {
          "color": "#4D5663"
         },
         "title": {
          "font": {
           "color": "#4D5663"
          },
          "text": ""
         },
         "zerolinecolor": "#E1E5ED"
        },
        "xaxis2": {
         "anchor": "y2",
         "domain": [
          0.2625,
          0.475
         ],
         "gridcolor": "#E1E5ED",
         "showgrid": false,
         "tickfont": {
          "color": "#4D5663"
         },
         "title": {
          "font": {
           "color": "#4D5663"
          },
          "text": ""
         },
         "zerolinecolor": "#E1E5ED"
        },
        "xaxis3": {
         "anchor": "y3",
         "domain": [
          0.525,
          0.7375
         ],
         "gridcolor": "#E1E5ED",
         "showgrid": false,
         "tickfont": {
          "color": "#4D5663"
         },
         "title": {
          "font": {
           "color": "#4D5663"
          },
          "text": ""
         },
         "zerolinecolor": "#E1E5ED"
        },
        "xaxis4": {
         "anchor": "y4",
         "domain": [
          0.7875,
          1
         ],
         "gridcolor": "#E1E5ED",
         "showgrid": false,
         "tickfont": {
          "color": "#4D5663"
         },
         "title": {
          "font": {
           "color": "#4D5663"
          },
          "text": ""
         },
         "zerolinecolor": "#E1E5ED"
        },
        "xaxis5": {
         "anchor": "y5",
         "domain": [
          0,
          0.2125
         ],
         "gridcolor": "#E1E5ED",
         "showgrid": false,
         "tickfont": {
          "color": "#4D5663"
         },
         "title": {
          "font": {
           "color": "#4D5663"
          },
          "text": ""
         },
         "zerolinecolor": "#E1E5ED"
        },
        "xaxis6": {
         "anchor": "y6",
         "domain": [
          0.2625,
          0.475
         ],
         "gridcolor": "#E1E5ED",
         "showgrid": false,
         "tickfont": {
          "color": "#4D5663"
         },
         "title": {
          "font": {
           "color": "#4D5663"
          },
          "text": ""
         },
         "zerolinecolor": "#E1E5ED"
        },
        "xaxis7": {
         "anchor": "y7",
         "domain": [
          0.525,
          0.7375
         ],
         "gridcolor": "#E1E5ED",
         "showgrid": false,
         "tickfont": {
          "color": "#4D5663"
         },
         "title": {
          "font": {
           "color": "#4D5663"
          },
          "text": ""
         },
         "zerolinecolor": "#E1E5ED"
        },
        "xaxis8": {
         "anchor": "y8",
         "domain": [
          0.7875,
          1
         ],
         "gridcolor": "#E1E5ED",
         "showgrid": false,
         "tickfont": {
          "color": "#4D5663"
         },
         "title": {
          "font": {
           "color": "#4D5663"
          },
          "text": ""
         },
         "zerolinecolor": "#E1E5ED"
        },
        "xaxis9": {
         "anchor": "y9",
         "domain": [
          0,
          0.2125
         ],
         "gridcolor": "#E1E5ED",
         "showgrid": false,
         "tickfont": {
          "color": "#4D5663"
         },
         "title": {
          "font": {
           "color": "#4D5663"
          },
          "text": ""
         },
         "zerolinecolor": "#E1E5ED"
        },
        "yaxis": {
         "anchor": "x",
         "domain": [
          0.8025,
          1
         ],
         "gridcolor": "#E1E5ED",
         "showgrid": false,
         "tickfont": {
          "color": "#4D5663"
         },
         "title": {
          "font": {
           "color": "#4D5663"
          },
          "text": ""
         },
         "zerolinecolor": "#E1E5ED"
        },
        "yaxis10": {
         "anchor": "x10",
         "domain": [
          0.2675,
          0.465
         ],
         "gridcolor": "#E1E5ED",
         "showgrid": false,
         "tickfont": {
          "color": "#4D5663"
         },
         "title": {
          "font": {
           "color": "#4D5663"
          },
          "text": ""
         },
         "zerolinecolor": "#E1E5ED"
        },
        "yaxis11": {
         "anchor": "x11",
         "domain": [
          0.2675,
          0.465
         ],
         "gridcolor": "#E1E5ED",
         "showgrid": false,
         "tickfont": {
          "color": "#4D5663"
         },
         "title": {
          "font": {
           "color": "#4D5663"
          },
          "text": ""
         },
         "zerolinecolor": "#E1E5ED"
        },
        "yaxis12": {
         "anchor": "x12",
         "domain": [
          0.2675,
          0.465
         ],
         "gridcolor": "#E1E5ED",
         "showgrid": false,
         "tickfont": {
          "color": "#4D5663"
         },
         "title": {
          "font": {
           "color": "#4D5663"
          },
          "text": ""
         },
         "zerolinecolor": "#E1E5ED"
        },
        "yaxis13": {
         "anchor": "x13",
         "domain": [
          0,
          0.1975
         ],
         "gridcolor": "#E1E5ED",
         "showgrid": false,
         "tickfont": {
          "color": "#4D5663"
         },
         "title": {
          "font": {
           "color": "#4D5663"
          },
          "text": ""
         },
         "zerolinecolor": "#E1E5ED"
        },
        "yaxis14": {
         "anchor": "x14",
         "domain": [
          0,
          0.1975
         ],
         "gridcolor": "#E1E5ED",
         "showgrid": false,
         "tickfont": {
          "color": "#4D5663"
         },
         "title": {
          "font": {
           "color": "#4D5663"
          },
          "text": ""
         },
         "zerolinecolor": "#E1E5ED"
        },
        "yaxis15": {
         "anchor": "x15",
         "domain": [
          0,
          0.1975
         ],
         "gridcolor": "#E1E5ED",
         "showgrid": false,
         "tickfont": {
          "color": "#4D5663"
         },
         "title": {
          "font": {
           "color": "#4D5663"
          },
          "text": ""
         },
         "zerolinecolor": "#E1E5ED"
        },
        "yaxis16": {
         "anchor": "x16",
         "domain": [
          0,
          0.1975
         ],
         "gridcolor": "#E1E5ED",
         "showgrid": false,
         "tickfont": {
          "color": "#4D5663"
         },
         "title": {
          "font": {
           "color": "#4D5663"
          },
          "text": ""
         },
         "zerolinecolor": "#E1E5ED"
        },
        "yaxis2": {
         "anchor": "x2",
         "domain": [
          0.8025,
          1
         ],
         "gridcolor": "#E1E5ED",
         "showgrid": false,
         "tickfont": {
          "color": "#4D5663"
         },
         "title": {
          "font": {
           "color": "#4D5663"
          },
          "text": ""
         },
         "zerolinecolor": "#E1E5ED"
        },
        "yaxis3": {
         "anchor": "x3",
         "domain": [
          0.8025,
          1
         ],
         "gridcolor": "#E1E5ED",
         "showgrid": false,
         "tickfont": {
          "color": "#4D5663"
         },
         "title": {
          "font": {
           "color": "#4D5663"
          },
          "text": ""
         },
         "zerolinecolor": "#E1E5ED"
        },
        "yaxis4": {
         "anchor": "x4",
         "domain": [
          0.8025,
          1
         ],
         "gridcolor": "#E1E5ED",
         "showgrid": false,
         "tickfont": {
          "color": "#4D5663"
         },
         "title": {
          "font": {
           "color": "#4D5663"
          },
          "text": ""
         },
         "zerolinecolor": "#E1E5ED"
        },
        "yaxis5": {
         "anchor": "x5",
         "domain": [
          0.535,
          0.7325
         ],
         "gridcolor": "#E1E5ED",
         "showgrid": false,
         "tickfont": {
          "color": "#4D5663"
         },
         "title": {
          "font": {
           "color": "#4D5663"
          },
          "text": ""
         },
         "zerolinecolor": "#E1E5ED"
        },
        "yaxis6": {
         "anchor": "x6",
         "domain": [
          0.535,
          0.7325
         ],
         "gridcolor": "#E1E5ED",
         "showgrid": false,
         "tickfont": {
          "color": "#4D5663"
         },
         "title": {
          "font": {
           "color": "#4D5663"
          },
          "text": ""
         },
         "zerolinecolor": "#E1E5ED"
        },
        "yaxis7": {
         "anchor": "x7",
         "domain": [
          0.535,
          0.7325
         ],
         "gridcolor": "#E1E5ED",
         "showgrid": false,
         "tickfont": {
          "color": "#4D5663"
         },
         "title": {
          "font": {
           "color": "#4D5663"
          },
          "text": ""
         },
         "zerolinecolor": "#E1E5ED"
        },
        "yaxis8": {
         "anchor": "x8",
         "domain": [
          0.535,
          0.7325
         ],
         "gridcolor": "#E1E5ED",
         "showgrid": false,
         "tickfont": {
          "color": "#4D5663"
         },
         "title": {
          "font": {
           "color": "#4D5663"
          },
          "text": ""
         },
         "zerolinecolor": "#E1E5ED"
        },
        "yaxis9": {
         "anchor": "x9",
         "domain": [
          0.2675,
          0.465
         ],
         "gridcolor": "#E1E5ED",
         "showgrid": false,
         "tickfont": {
          "color": "#4D5663"
         },
         "title": {
          "font": {
           "color": "#4D5663"
          },
          "text": ""
         },
         "zerolinecolor": "#E1E5ED"
        }
       }
      },
      "text/html": [
       "<div>                            <div id=\"bde4195a-ccfb-4189-94a1-307fec50bc31\" class=\"plotly-graph-div\" style=\"height:525px; width:100%;\"></div>            <script type=\"text/javascript\">                require([\"plotly\"], function(Plotly) {                    window.PLOTLYENV=window.PLOTLYENV || {};\n",
       "                    window.PLOTLYENV.BASE_URL='https://plot.ly';                                    if (document.getElementById(\"bde4195a-ccfb-4189-94a1-307fec50bc31\")) {                    Plotly.newPlot(                        \"bde4195a-ccfb-4189-94a1-307fec50bc31\",                        [{\"histfunc\":\"count\",\"histnorm\":\"\",\"marker\":{\"color\":\"rgba(255, 153, 51, 1.0)\",\"line\":{\"color\":\"#4D5663\",\"width\":1.3}},\"name\":\"A\",\"nbinsx\":10,\"opacity\":0.8,\"orientation\":\"v\",\"x\":[1.0163663847315616,0.6173154871769431,-0.6772810476386104,0.6237655411646876,-0.37260920798691394,0.5268099656427503,3.3821009368357,1.9577238270097503,2.3672034338753085,-0.1264357292249816,-0.8103067961827602,0.626606385498777,0.8971248085452803,0.9197234355071809,-0.08116844691411543,-0.23627135619609388,0.006315752144729975,0.8669884152608879,1.3477600604778872,0.5955044109947454,-2.2568755644129865,-0.4068329840129025,-1.0539585845464274,1.1553831547694944,0.8367721877894332,0.07562472966509834,-0.12160991114433886,-1.8708656358350333,-2.0980755507321915,-0.08333649016138943,-0.47654864104757116,0.3105903538405738,-0.2108414867369569,1.2160327251023146,0.530254461980228,0.8521931743489114,1.3174997251183853,-0.6329843164077711,-0.882042357186549,-0.10209874131529179,-0.8947340334956717,-0.03844201310949979,0.7649005814572767,-0.5966885081694819,0.11506435913682996,-0.10048058063216983,0.9452885815617678,-0.4588861395882851,1.2607952095263109,0.9909294214610531,-1.1887396736772753,0.45737437826220323,1.218396683884078,-0.6001335964116054,0.04417622281112498,0.004450468534862416,1.8313217303103826,-0.37055291069047724,1.2230284286498043,0.9753590408138841,-0.9655361156914539,-1.2668526033999856,1.1422566561817689,0.06441963023437752,-0.8204500089030339,-0.08683699678333419,-0.36853538959583965,-0.7060872984774748,1.2026123368245425,-1.3864336167600535,0.6529959510516941,-0.08084710487352231,0.3907698202410437,0.8968560566217788,-0.6609848902540147,1.8688627173419552,-0.27731576559523075,-1.7189260231242547,0.39408077609560643,0.6185665794368471,0.9780991990845405,-0.37004731829361825,-0.5377331341474938,0.43868366034200346,0.5368217774165542,1.213954701386464,0.5110904541180284,-0.4235805169165554,-1.0118041589500104,1.1431317111969865,-1.350938695027268,1.0143078055993617,-0.7217509864426822,0.9030044560127558,0.42860812787029134,-0.1071231255623638,-0.4543792366009019,-0.9730770823989808,0.1872464176467623,1.9436565221058293],\"xaxis\":\"x\",\"yaxis\":\"y\",\"type\":\"histogram\"},{\"line\":{\"color\":\"rgba(128, 128, 128, 1.0)\",\"dash\":\"solid\",\"shape\":\"linear\",\"width\":1.3},\"marker\":{\"size\":2,\"symbol\":\"circle\"},\"mode\":\"markers\",\"name\":\"A\",\"text\":\"\",\"x\":[-1.314123512152019,0.39375016329835755,-0.3333754421609034,-0.16129292315339847,0.39089174011821676,-0.2415285832239928,-0.1330687410391177,-2.742176842383155,-1.4549249762961163,-0.03288164196362554,0.7870954339775161,-1.5906364831120088,-0.24665783984415385,-1.2709531905402118,1.4177396247528429,0.9139339993306476,0.14968727936437834,-1.4773579780270367,1.2836065788783506,0.4218429543817784,-0.3891327307587016,-0.6603022181306161,-1.0684908499632273,-0.3548553707374886,0.899830228716969,-0.8941242273946151,0.28641016797356983,-0.5620191278396524,0.5645175911279281,-0.687053335069698,1.9940782552722824,0.41288636989328503,-0.0757559224356657,-1.228484199092643,0.10159891043339675,-0.8406593103911069,0.626646032389116,1.344081195804092,-0.2058879538088759,-0.24892149899365876,1.61428601967461,1.054023242279591,-1.0494231161382948,-0.29037512816229744,-0.31845732692891965,0.529699171795502,-0.8271224841739949,0.4273220127629525,-0.7435857578963644,-0.27184790451055646,-1.4840195959301983,-0.44688526663229666,0.4628829916489609,-1.0937281052231775,-0.04684302086081167,-1.7319842733126842,0.8936502873631862,-0.8605804212619843,-1.491722030552004,0.22619482826173615,0.12596075803515505,0.5939073679012035,-2.0319593614147418,0.4094611282332534,-1.425236969134026,0.13011219954716607,-0.40809823124548433,-0.09813875666548708,-0.3443129245978503,0.3722128853803303,-0.4876598037455311,1.0394990700889335,-0.8096093205424912,1.8638913823070484,1.4465628410979272,1.5033357505346296,-0.1644064395364936,0.9572849136768261,1.5099517130489664,-0.03615537780077251,-0.7750468333728179,0.6185273461544226,0.8477903244792816,0.2404673003418146,-0.8111967164058738,0.538679623313098,-0.594248432346121,0.971093297394865,0.26710198449999917,-0.37466122018418707,0.35159515438680605,-0.36114835700299674,-1.2442893555942884,-2.2215578576176584,1.1728151414090098,0.6090886842595982,-1.6522977997891652,-1.1130954230421588,0.42121458153220404,-0.8627485862769746],\"xaxis\":\"x2\",\"y\":[1.0163663847315616,0.6173154871769431,-0.6772810476386104,0.6237655411646876,-0.37260920798691394,0.5268099656427503,3.3821009368357,1.9577238270097503,2.3672034338753085,-0.1264357292249816,-0.8103067961827602,0.626606385498777,0.8971248085452803,0.9197234355071809,-0.08116844691411543,-0.23627135619609388,0.006315752144729975,0.8669884152608879,1.3477600604778872,0.5955044109947454,-2.2568755644129865,-0.4068329840129025,-1.0539585845464274,1.1553831547694944,0.8367721877894332,0.07562472966509834,-0.12160991114433886,-1.8708656358350333,-2.0980755507321915,-0.08333649016138943,-0.47654864104757116,0.3105903538405738,-0.2108414867369569,1.2160327251023146,0.530254461980228,0.8521931743489114,1.3174997251183853,-0.6329843164077711,-0.882042357186549,-0.10209874131529179,-0.8947340334956717,-0.03844201310949979,0.7649005814572767,-0.5966885081694819,0.11506435913682996,-0.10048058063216983,0.9452885815617678,-0.4588861395882851,1.2607952095263109,0.9909294214610531,-1.1887396736772753,0.45737437826220323,1.218396683884078,-0.6001335964116054,0.04417622281112498,0.004450468534862416,1.8313217303103826,-0.37055291069047724,1.2230284286498043,0.9753590408138841,-0.9655361156914539,-1.2668526033999856,1.1422566561817689,0.06441963023437752,-0.8204500089030339,-0.08683699678333419,-0.36853538959583965,-0.7060872984774748,1.2026123368245425,-1.3864336167600535,0.6529959510516941,-0.08084710487352231,0.3907698202410437,0.8968560566217788,-0.6609848902540147,1.8688627173419552,-0.27731576559523075,-1.7189260231242547,0.39408077609560643,0.6185665794368471,0.9780991990845405,-0.37004731829361825,-0.5377331341474938,0.43868366034200346,0.5368217774165542,1.213954701386464,0.5110904541180284,-0.4235805169165554,-1.0118041589500104,1.1431317111969865,-1.350938695027268,1.0143078055993617,-0.7217509864426822,0.9030044560127558,0.42860812787029134,-0.1071231255623638,-0.4543792366009019,-0.9730770823989808,0.1872464176467623,1.9436565221058293],\"yaxis\":\"y2\",\"type\":\"scatter\"},{\"line\":{\"color\":\"rgba(128, 128, 128, 1.0)\",\"dash\":\"solid\",\"shape\":\"linear\",\"width\":1.3},\"marker\":{\"size\":2,\"symbol\":\"circle\"},\"mode\":\"markers\",\"name\":\"A\",\"text\":\"\",\"x\":[1.17789599223246,-0.661400434155931,1.2313368112059233,-0.24339900043176255,0.9675959828040326,-0.8099039954694721,0.6376951022971441,-0.668279852937571,0.33130477744502224,-0.13111868134978907,-0.7543129781919886,0.44844014879375593,-0.9778756365215926,-0.8832086958930353,0.9495855236923345,0.24545920433061041,-0.4023261424550109,-0.024582443967006366,2.0218225895106143,-1.2097122515929808,-2.5293273164010737,0.15536611001813,0.6927964909911235,-0.5940112192467712,0.9348938152565605,0.9108935503155805,-0.8938271886470385,0.38261479895870504,-1.0736697692873345,1.8740739968425641,0.7322525668891493,2.120536718121365,0.23824388512601272,-0.377504099211284,0.3624900571062633,-0.568429183865922,-0.32520363027060145,-0.8818164540919655,0.570179172659156,-0.8612968999018705,0.22849521683754068,0.7630962434956688,-1.0533810528338508,0.32567843966561977,1.372257366906283,0.23203465920643873,1.0477911246061877,-1.0006522940798506,1.0757530061640197,-0.5114981698344443,-0.48646916299820925,-0.19536450054243273,-1.4463445759721227,1.8397089791903722,-0.04567427241237144,-0.8722649704359667,1.501655806737382,-1.0247133970192228,0.3875552334877692,-0.7485457146030059,-0.52364163876346,-0.7546426049417192,1.0741239174140584,-1.082818514974668,-0.050682267560251036,0.1976062660491136,-0.36124633241518506,-0.3464003317250285,1.4583525610748382,-0.018137965611309436,2.5078720568676784,0.4584655084762964,-0.609029438215186,-0.5408052766371294,0.4908360738275197,0.8746041335759098,0.7227830721878171,0.02061706180074759,0.651757172821551,0.5321786347271554,-0.6189706854967447,-0.8803330892394644,-0.03071584005189342,-1.9886438727363793,0.8229309186203905,0.7890306368756327,-0.6025057062017244,-1.0133951630813673,0.4583239442037677,-1.0540367772848824,0.27249714775275824,0.23308697127069317,1.71958930015937,0.3124837977579066,-1.1037781192401224,0.1606789660059298,-0.7006514510911815,0.6357168109204249,0.6896512585494607,-0.3733621725599462],\"xaxis\":\"x3\",\"y\":[1.0163663847315616,0.6173154871769431,-0.6772810476386104,0.6237655411646876,-0.37260920798691394,0.5268099656427503,3.3821009368357,1.9577238270097503,2.3672034338753085,-0.1264357292249816,-0.8103067961827602,0.626606385498777,0.8971248085452803,0.9197234355071809,-0.08116844691411543,-0.23627135619609388,0.006315752144729975,0.8669884152608879,1.3477600604778872,0.5955044109947454,-2.2568755644129865,-0.4068329840129025,-1.0539585845464274,1.1553831547694944,0.8367721877894332,0.07562472966509834,-0.12160991114433886,-1.8708656358350333,-2.0980755507321915,-0.08333649016138943,-0.47654864104757116,0.3105903538405738,-0.2108414867369569,1.2160327251023146,0.530254461980228,0.8521931743489114,1.3174997251183853,-0.6329843164077711,-0.882042357186549,-0.10209874131529179,-0.8947340334956717,-0.03844201310949979,0.7649005814572767,-0.5966885081694819,0.11506435913682996,-0.10048058063216983,0.9452885815617678,-0.4588861395882851,1.2607952095263109,0.9909294214610531,-1.1887396736772753,0.45737437826220323,1.218396683884078,-0.6001335964116054,0.04417622281112498,0.004450468534862416,1.8313217303103826,-0.37055291069047724,1.2230284286498043,0.9753590408138841,-0.9655361156914539,-1.2668526033999856,1.1422566561817689,0.06441963023437752,-0.8204500089030339,-0.08683699678333419,-0.36853538959583965,-0.7060872984774748,1.2026123368245425,-1.3864336167600535,0.6529959510516941,-0.08084710487352231,0.3907698202410437,0.8968560566217788,-0.6609848902540147,1.8688627173419552,-0.27731576559523075,-1.7189260231242547,0.39408077609560643,0.6185665794368471,0.9780991990845405,-0.37004731829361825,-0.5377331341474938,0.43868366034200346,0.5368217774165542,1.213954701386464,0.5110904541180284,-0.4235805169165554,-1.0118041589500104,1.1431317111969865,-1.350938695027268,1.0143078055993617,-0.7217509864426822,0.9030044560127558,0.42860812787029134,-0.1071231255623638,-0.4543792366009019,-0.9730770823989808,0.1872464176467623,1.9436565221058293],\"yaxis\":\"y3\",\"type\":\"scatter\"},{\"line\":{\"color\":\"rgba(128, 128, 128, 1.0)\",\"dash\":\"solid\",\"shape\":\"linear\",\"width\":1.3},\"marker\":{\"size\":2,\"symbol\":\"circle\"},\"mode\":\"markers\",\"name\":\"A\",\"text\":\"\",\"x\":[-0.6497558508146197,0.5696022472138228,-0.7742549950337608,0.014455016891685308,-0.9060133469484182,0.8317357464196173,-0.456742552047923,-0.893425922398005,-0.45629202248448775,0.8865742158055536,0.533112541987365,-0.5764423411134656,-1.0781933958796839,-0.7765606805526603,-0.774676440986213,-0.7254853319541702,0.01857757652433547,-0.4739028578841449,0.41546407453704925,0.18085488752726828,1.6392132099429437,2.152322296915255,0.5510914884845449,-0.17200497405891954,-0.30275609998810576,0.3337058203492321,1.915668368752776,0.09736653391683878,-1.1392266031457392,0.6189098863426716,0.9574377787133139,0.21040552178092659,-1.155999981256473,0.03471012759726958,-0.4759889738470913,-1.3202923670664828,-1.1421903545951442,-0.8023433609911226,0.14145530424876465,-0.8345545750446628,0.05607030814618059,0.8766930176309266,-0.3588416967252633,-1.2923043390651747,-0.14941580871574106,0.27879451079531004,0.2695398313730743,-0.7725303843772486,-0.43646365421850075,-0.9583290852048664,1.150297392219825,-1.1965596759703445,-1.0848850756530122,-0.1402059348920322,-1.2451705111909404,1.8248593793921886,-0.6558475942962985,0.23306245817302218,0.22632642407822606,-2.898995979748627,-1.2624231371901962,-0.45533371264789585,-0.6148073219255857,-0.4503032391310196,0.9341143618964147,-0.056447188256112835,-1.6372042102125877,3.004947294068905,2.7680945544450384,1.1114432303149564,0.3553376235390684,-0.1262912090720706,0.6890509423597909,-1.1360041320724081,-0.2531232310905212,-0.8492015466836488,0.06029213572844701,-1.5223969489227114,0.375856572534485,0.48642780992514606,0.4784750748119479,-1.2676523630862064,0.9255176670906304,0.22951864913232142,1.3429793798892857,2.702687714185298,1.226688593216633,-0.19832038411576372,-0.21840893275786102,1.1394216004837654,0.8271929327400069,0.7290778301278243,1.7026912789896953,-1.3847686195712015,-1.405587735172336,-0.16916074302135256,-2.4284863303666095,-0.5522450839579114,0.2603440872721333,-0.11201117408394276],\"xaxis\":\"x4\",\"y\":[1.0163663847315616,0.6173154871769431,-0.6772810476386104,0.6237655411646876,-0.37260920798691394,0.5268099656427503,3.3821009368357,1.9577238270097503,2.3672034338753085,-0.1264357292249816,-0.8103067961827602,0.626606385498777,0.8971248085452803,0.9197234355071809,-0.08116844691411543,-0.23627135619609388,0.006315752144729975,0.8669884152608879,1.3477600604778872,0.5955044109947454,-2.2568755644129865,-0.4068329840129025,-1.0539585845464274,1.1553831547694944,0.8367721877894332,0.07562472966509834,-0.12160991114433886,-1.8708656358350333,-2.0980755507321915,-0.08333649016138943,-0.47654864104757116,0.3105903538405738,-0.2108414867369569,1.2160327251023146,0.530254461980228,0.8521931743489114,1.3174997251183853,-0.6329843164077711,-0.882042357186549,-0.10209874131529179,-0.8947340334956717,-0.03844201310949979,0.7649005814572767,-0.5966885081694819,0.11506435913682996,-0.10048058063216983,0.9452885815617678,-0.4588861395882851,1.2607952095263109,0.9909294214610531,-1.1887396736772753,0.45737437826220323,1.218396683884078,-0.6001335964116054,0.04417622281112498,0.004450468534862416,1.8313217303103826,-0.37055291069047724,1.2230284286498043,0.9753590408138841,-0.9655361156914539,-1.2668526033999856,1.1422566561817689,0.06441963023437752,-0.8204500089030339,-0.08683699678333419,-0.36853538959583965,-0.7060872984774748,1.2026123368245425,-1.3864336167600535,0.6529959510516941,-0.08084710487352231,0.3907698202410437,0.8968560566217788,-0.6609848902540147,1.8688627173419552,-0.27731576559523075,-1.7189260231242547,0.39408077609560643,0.6185665794368471,0.9780991990845405,-0.37004731829361825,-0.5377331341474938,0.43868366034200346,0.5368217774165542,1.213954701386464,0.5110904541180284,-0.4235805169165554,-1.0118041589500104,1.1431317111969865,-1.350938695027268,1.0143078055993617,-0.7217509864426822,0.9030044560127558,0.42860812787029134,-0.1071231255623638,-0.4543792366009019,-0.9730770823989808,0.1872464176467623,1.9436565221058293],\"yaxis\":\"y4\",\"type\":\"scatter\"},{\"line\":{\"color\":\"rgba(128, 128, 128, 1.0)\",\"dash\":\"solid\",\"shape\":\"linear\",\"width\":1.3},\"marker\":{\"size\":2,\"symbol\":\"circle\"},\"mode\":\"markers\",\"name\":\"B\",\"text\":\"\",\"x\":[1.0163663847315616,0.6173154871769431,-0.6772810476386104,0.6237655411646876,-0.37260920798691394,0.5268099656427503,3.3821009368357,1.9577238270097503,2.3672034338753085,-0.1264357292249816,-0.8103067961827602,0.626606385498777,0.8971248085452803,0.9197234355071809,-0.08116844691411543,-0.23627135619609388,0.006315752144729975,0.8669884152608879,1.3477600604778872,0.5955044109947454,-2.2568755644129865,-0.4068329840129025,-1.0539585845464274,1.1553831547694944,0.8367721877894332,0.07562472966509834,-0.12160991114433886,-1.8708656358350333,-2.0980755507321915,-0.08333649016138943,-0.47654864104757116,0.3105903538405738,-0.2108414867369569,1.2160327251023146,0.530254461980228,0.8521931743489114,1.3174997251183853,-0.6329843164077711,-0.882042357186549,-0.10209874131529179,-0.8947340334956717,-0.03844201310949979,0.7649005814572767,-0.5966885081694819,0.11506435913682996,-0.10048058063216983,0.9452885815617678,-0.4588861395882851,1.2607952095263109,0.9909294214610531,-1.1887396736772753,0.45737437826220323,1.218396683884078,-0.6001335964116054,0.04417622281112498,0.004450468534862416,1.8313217303103826,-0.37055291069047724,1.2230284286498043,0.9753590408138841,-0.9655361156914539,-1.2668526033999856,1.1422566561817689,0.06441963023437752,-0.8204500089030339,-0.08683699678333419,-0.36853538959583965,-0.7060872984774748,1.2026123368245425,-1.3864336167600535,0.6529959510516941,-0.08084710487352231,0.3907698202410437,0.8968560566217788,-0.6609848902540147,1.8688627173419552,-0.27731576559523075,-1.7189260231242547,0.39408077609560643,0.6185665794368471,0.9780991990845405,-0.37004731829361825,-0.5377331341474938,0.43868366034200346,0.5368217774165542,1.213954701386464,0.5110904541180284,-0.4235805169165554,-1.0118041589500104,1.1431317111969865,-1.350938695027268,1.0143078055993617,-0.7217509864426822,0.9030044560127558,0.42860812787029134,-0.1071231255623638,-0.4543792366009019,-0.9730770823989808,0.1872464176467623,1.9436565221058293],\"xaxis\":\"x5\",\"y\":[-1.314123512152019,0.39375016329835755,-0.3333754421609034,-0.16129292315339847,0.39089174011821676,-0.2415285832239928,-0.1330687410391177,-2.742176842383155,-1.4549249762961163,-0.03288164196362554,0.7870954339775161,-1.5906364831120088,-0.24665783984415385,-1.2709531905402118,1.4177396247528429,0.9139339993306476,0.14968727936437834,-1.4773579780270367,1.2836065788783506,0.4218429543817784,-0.3891327307587016,-0.6603022181306161,-1.0684908499632273,-0.3548553707374886,0.899830228716969,-0.8941242273946151,0.28641016797356983,-0.5620191278396524,0.5645175911279281,-0.687053335069698,1.9940782552722824,0.41288636989328503,-0.0757559224356657,-1.228484199092643,0.10159891043339675,-0.8406593103911069,0.626646032389116,1.344081195804092,-0.2058879538088759,-0.24892149899365876,1.61428601967461,1.054023242279591,-1.0494231161382948,-0.29037512816229744,-0.31845732692891965,0.529699171795502,-0.8271224841739949,0.4273220127629525,-0.7435857578963644,-0.27184790451055646,-1.4840195959301983,-0.44688526663229666,0.4628829916489609,-1.0937281052231775,-0.04684302086081167,-1.7319842733126842,0.8936502873631862,-0.8605804212619843,-1.491722030552004,0.22619482826173615,0.12596075803515505,0.5939073679012035,-2.0319593614147418,0.4094611282332534,-1.425236969134026,0.13011219954716607,-0.40809823124548433,-0.09813875666548708,-0.3443129245978503,0.3722128853803303,-0.4876598037455311,1.0394990700889335,-0.8096093205424912,1.8638913823070484,1.4465628410979272,1.5033357505346296,-0.1644064395364936,0.9572849136768261,1.5099517130489664,-0.03615537780077251,-0.7750468333728179,0.6185273461544226,0.8477903244792816,0.2404673003418146,-0.8111967164058738,0.538679623313098,-0.594248432346121,0.971093297394865,0.26710198449999917,-0.37466122018418707,0.35159515438680605,-0.36114835700299674,-1.2442893555942884,-2.2215578576176584,1.1728151414090098,0.6090886842595982,-1.6522977997891652,-1.1130954230421588,0.42121458153220404,-0.8627485862769746],\"yaxis\":\"y5\",\"type\":\"scatter\"},{\"histfunc\":\"count\",\"histnorm\":\"\",\"marker\":{\"color\":\"rgba(55, 128, 191, 1.0)\",\"line\":{\"color\":\"#4D5663\",\"width\":1.3}},\"name\":\"B\",\"nbinsx\":10,\"opacity\":0.8,\"orientation\":\"v\",\"x\":[-1.314123512152019,0.39375016329835755,-0.3333754421609034,-0.16129292315339847,0.39089174011821676,-0.2415285832239928,-0.1330687410391177,-2.742176842383155,-1.4549249762961163,-0.03288164196362554,0.7870954339775161,-1.5906364831120088,-0.24665783984415385,-1.2709531905402118,1.4177396247528429,0.9139339993306476,0.14968727936437834,-1.4773579780270367,1.2836065788783506,0.4218429543817784,-0.3891327307587016,-0.6603022181306161,-1.0684908499632273,-0.3548553707374886,0.899830228716969,-0.8941242273946151,0.28641016797356983,-0.5620191278396524,0.5645175911279281,-0.687053335069698,1.9940782552722824,0.41288636989328503,-0.0757559224356657,-1.228484199092643,0.10159891043339675,-0.8406593103911069,0.626646032389116,1.344081195804092,-0.2058879538088759,-0.24892149899365876,1.61428601967461,1.054023242279591,-1.0494231161382948,-0.29037512816229744,-0.31845732692891965,0.529699171795502,-0.8271224841739949,0.4273220127629525,-0.7435857578963644,-0.27184790451055646,-1.4840195959301983,-0.44688526663229666,0.4628829916489609,-1.0937281052231775,-0.04684302086081167,-1.7319842733126842,0.8936502873631862,-0.8605804212619843,-1.491722030552004,0.22619482826173615,0.12596075803515505,0.5939073679012035,-2.0319593614147418,0.4094611282332534,-1.425236969134026,0.13011219954716607,-0.40809823124548433,-0.09813875666548708,-0.3443129245978503,0.3722128853803303,-0.4876598037455311,1.0394990700889335,-0.8096093205424912,1.8638913823070484,1.4465628410979272,1.5033357505346296,-0.1644064395364936,0.9572849136768261,1.5099517130489664,-0.03615537780077251,-0.7750468333728179,0.6185273461544226,0.8477903244792816,0.2404673003418146,-0.8111967164058738,0.538679623313098,-0.594248432346121,0.971093297394865,0.26710198449999917,-0.37466122018418707,0.35159515438680605,-0.36114835700299674,-1.2442893555942884,-2.2215578576176584,1.1728151414090098,0.6090886842595982,-1.6522977997891652,-1.1130954230421588,0.42121458153220404,-0.8627485862769746],\"xaxis\":\"x6\",\"yaxis\":\"y6\",\"type\":\"histogram\"},{\"line\":{\"color\":\"rgba(128, 128, 128, 1.0)\",\"dash\":\"solid\",\"shape\":\"linear\",\"width\":1.3},\"marker\":{\"size\":2,\"symbol\":\"circle\"},\"mode\":\"markers\",\"name\":\"B\",\"text\":\"\",\"x\":[1.17789599223246,-0.661400434155931,1.2313368112059233,-0.24339900043176255,0.9675959828040326,-0.8099039954694721,0.6376951022971441,-0.668279852937571,0.33130477744502224,-0.13111868134978907,-0.7543129781919886,0.44844014879375593,-0.9778756365215926,-0.8832086958930353,0.9495855236923345,0.24545920433061041,-0.4023261424550109,-0.024582443967006366,2.0218225895106143,-1.2097122515929808,-2.5293273164010737,0.15536611001813,0.6927964909911235,-0.5940112192467712,0.9348938152565605,0.9108935503155805,-0.8938271886470385,0.38261479895870504,-1.0736697692873345,1.8740739968425641,0.7322525668891493,2.120536718121365,0.23824388512601272,-0.377504099211284,0.3624900571062633,-0.568429183865922,-0.32520363027060145,-0.8818164540919655,0.570179172659156,-0.8612968999018705,0.22849521683754068,0.7630962434956688,-1.0533810528338508,0.32567843966561977,1.372257366906283,0.23203465920643873,1.0477911246061877,-1.0006522940798506,1.0757530061640197,-0.5114981698344443,-0.48646916299820925,-0.19536450054243273,-1.4463445759721227,1.8397089791903722,-0.04567427241237144,-0.8722649704359667,1.501655806737382,-1.0247133970192228,0.3875552334877692,-0.7485457146030059,-0.52364163876346,-0.7546426049417192,1.0741239174140584,-1.082818514974668,-0.050682267560251036,0.1976062660491136,-0.36124633241518506,-0.3464003317250285,1.4583525610748382,-0.018137965611309436,2.5078720568676784,0.4584655084762964,-0.609029438215186,-0.5408052766371294,0.4908360738275197,0.8746041335759098,0.7227830721878171,0.02061706180074759,0.651757172821551,0.5321786347271554,-0.6189706854967447,-0.8803330892394644,-0.03071584005189342,-1.9886438727363793,0.8229309186203905,0.7890306368756327,-0.6025057062017244,-1.0133951630813673,0.4583239442037677,-1.0540367772848824,0.27249714775275824,0.23308697127069317,1.71958930015937,0.3124837977579066,-1.1037781192401224,0.1606789660059298,-0.7006514510911815,0.6357168109204249,0.6896512585494607,-0.3733621725599462],\"xaxis\":\"x7\",\"y\":[-1.314123512152019,0.39375016329835755,-0.3333754421609034,-0.16129292315339847,0.39089174011821676,-0.2415285832239928,-0.1330687410391177,-2.742176842383155,-1.4549249762961163,-0.03288164196362554,0.7870954339775161,-1.5906364831120088,-0.24665783984415385,-1.2709531905402118,1.4177396247528429,0.9139339993306476,0.14968727936437834,-1.4773579780270367,1.2836065788783506,0.4218429543817784,-0.3891327307587016,-0.6603022181306161,-1.0684908499632273,-0.3548553707374886,0.899830228716969,-0.8941242273946151,0.28641016797356983,-0.5620191278396524,0.5645175911279281,-0.687053335069698,1.9940782552722824,0.41288636989328503,-0.0757559224356657,-1.228484199092643,0.10159891043339675,-0.8406593103911069,0.626646032389116,1.344081195804092,-0.2058879538088759,-0.24892149899365876,1.61428601967461,1.054023242279591,-1.0494231161382948,-0.29037512816229744,-0.31845732692891965,0.529699171795502,-0.8271224841739949,0.4273220127629525,-0.7435857578963644,-0.27184790451055646,-1.4840195959301983,-0.44688526663229666,0.4628829916489609,-1.0937281052231775,-0.04684302086081167,-1.7319842733126842,0.8936502873631862,-0.8605804212619843,-1.491722030552004,0.22619482826173615,0.12596075803515505,0.5939073679012035,-2.0319593614147418,0.4094611282332534,-1.425236969134026,0.13011219954716607,-0.40809823124548433,-0.09813875666548708,-0.3443129245978503,0.3722128853803303,-0.4876598037455311,1.0394990700889335,-0.8096093205424912,1.8638913823070484,1.4465628410979272,1.5033357505346296,-0.1644064395364936,0.9572849136768261,1.5099517130489664,-0.03615537780077251,-0.7750468333728179,0.6185273461544226,0.8477903244792816,0.2404673003418146,-0.8111967164058738,0.538679623313098,-0.594248432346121,0.971093297394865,0.26710198449999917,-0.37466122018418707,0.35159515438680605,-0.36114835700299674,-1.2442893555942884,-2.2215578576176584,1.1728151414090098,0.6090886842595982,-1.6522977997891652,-1.1130954230421588,0.42121458153220404,-0.8627485862769746],\"yaxis\":\"y7\",\"type\":\"scatter\"},{\"line\":{\"color\":\"rgba(128, 128, 128, 1.0)\",\"dash\":\"solid\",\"shape\":\"linear\",\"width\":1.3},\"marker\":{\"size\":2,\"symbol\":\"circle\"},\"mode\":\"markers\",\"name\":\"B\",\"text\":\"\",\"x\":[-0.6497558508146197,0.5696022472138228,-0.7742549950337608,0.014455016891685308,-0.9060133469484182,0.8317357464196173,-0.456742552047923,-0.893425922398005,-0.45629202248448775,0.8865742158055536,0.533112541987365,-0.5764423411134656,-1.0781933958796839,-0.7765606805526603,-0.774676440986213,-0.7254853319541702,0.01857757652433547,-0.4739028578841449,0.41546407453704925,0.18085488752726828,1.6392132099429437,2.152322296915255,0.5510914884845449,-0.17200497405891954,-0.30275609998810576,0.3337058203492321,1.915668368752776,0.09736653391683878,-1.1392266031457392,0.6189098863426716,0.9574377787133139,0.21040552178092659,-1.155999981256473,0.03471012759726958,-0.4759889738470913,-1.3202923670664828,-1.1421903545951442,-0.8023433609911226,0.14145530424876465,-0.8345545750446628,0.05607030814618059,0.8766930176309266,-0.3588416967252633,-1.2923043390651747,-0.14941580871574106,0.27879451079531004,0.2695398313730743,-0.7725303843772486,-0.43646365421850075,-0.9583290852048664,1.150297392219825,-1.1965596759703445,-1.0848850756530122,-0.1402059348920322,-1.2451705111909404,1.8248593793921886,-0.6558475942962985,0.23306245817302218,0.22632642407822606,-2.898995979748627,-1.2624231371901962,-0.45533371264789585,-0.6148073219255857,-0.4503032391310196,0.9341143618964147,-0.056447188256112835,-1.6372042102125877,3.004947294068905,2.7680945544450384,1.1114432303149564,0.3553376235390684,-0.1262912090720706,0.6890509423597909,-1.1360041320724081,-0.2531232310905212,-0.8492015466836488,0.06029213572844701,-1.5223969489227114,0.375856572534485,0.48642780992514606,0.4784750748119479,-1.2676523630862064,0.9255176670906304,0.22951864913232142,1.3429793798892857,2.702687714185298,1.226688593216633,-0.19832038411576372,-0.21840893275786102,1.1394216004837654,0.8271929327400069,0.7290778301278243,1.7026912789896953,-1.3847686195712015,-1.405587735172336,-0.16916074302135256,-2.4284863303666095,-0.5522450839579114,0.2603440872721333,-0.11201117408394276],\"xaxis\":\"x8\",\"y\":[-1.314123512152019,0.39375016329835755,-0.3333754421609034,-0.16129292315339847,0.39089174011821676,-0.2415285832239928,-0.1330687410391177,-2.742176842383155,-1.4549249762961163,-0.03288164196362554,0.7870954339775161,-1.5906364831120088,-0.24665783984415385,-1.2709531905402118,1.4177396247528429,0.9139339993306476,0.14968727936437834,-1.4773579780270367,1.2836065788783506,0.4218429543817784,-0.3891327307587016,-0.6603022181306161,-1.0684908499632273,-0.3548553707374886,0.899830228716969,-0.8941242273946151,0.28641016797356983,-0.5620191278396524,0.5645175911279281,-0.687053335069698,1.9940782552722824,0.41288636989328503,-0.0757559224356657,-1.228484199092643,0.10159891043339675,-0.8406593103911069,0.626646032389116,1.344081195804092,-0.2058879538088759,-0.24892149899365876,1.61428601967461,1.054023242279591,-1.0494231161382948,-0.29037512816229744,-0.31845732692891965,0.529699171795502,-0.8271224841739949,0.4273220127629525,-0.7435857578963644,-0.27184790451055646,-1.4840195959301983,-0.44688526663229666,0.4628829916489609,-1.0937281052231775,-0.04684302086081167,-1.7319842733126842,0.8936502873631862,-0.8605804212619843,-1.491722030552004,0.22619482826173615,0.12596075803515505,0.5939073679012035,-2.0319593614147418,0.4094611282332534,-1.425236969134026,0.13011219954716607,-0.40809823124548433,-0.09813875666548708,-0.3443129245978503,0.3722128853803303,-0.4876598037455311,1.0394990700889335,-0.8096093205424912,1.8638913823070484,1.4465628410979272,1.5033357505346296,-0.1644064395364936,0.9572849136768261,1.5099517130489664,-0.03615537780077251,-0.7750468333728179,0.6185273461544226,0.8477903244792816,0.2404673003418146,-0.8111967164058738,0.538679623313098,-0.594248432346121,0.971093297394865,0.26710198449999917,-0.37466122018418707,0.35159515438680605,-0.36114835700299674,-1.2442893555942884,-2.2215578576176584,1.1728151414090098,0.6090886842595982,-1.6522977997891652,-1.1130954230421588,0.42121458153220404,-0.8627485862769746],\"yaxis\":\"y8\",\"type\":\"scatter\"},{\"line\":{\"color\":\"rgba(128, 128, 128, 1.0)\",\"dash\":\"solid\",\"shape\":\"linear\",\"width\":1.3},\"marker\":{\"size\":2,\"symbol\":\"circle\"},\"mode\":\"markers\",\"name\":\"C\",\"text\":\"\",\"x\":[1.0163663847315616,0.6173154871769431,-0.6772810476386104,0.6237655411646876,-0.37260920798691394,0.5268099656427503,3.3821009368357,1.9577238270097503,2.3672034338753085,-0.1264357292249816,-0.8103067961827602,0.626606385498777,0.8971248085452803,0.9197234355071809,-0.08116844691411543,-0.23627135619609388,0.006315752144729975,0.8669884152608879,1.3477600604778872,0.5955044109947454,-2.2568755644129865,-0.4068329840129025,-1.0539585845464274,1.1553831547694944,0.8367721877894332,0.07562472966509834,-0.12160991114433886,-1.8708656358350333,-2.0980755507321915,-0.08333649016138943,-0.47654864104757116,0.3105903538405738,-0.2108414867369569,1.2160327251023146,0.530254461980228,0.8521931743489114,1.3174997251183853,-0.6329843164077711,-0.882042357186549,-0.10209874131529179,-0.8947340334956717,-0.03844201310949979,0.7649005814572767,-0.5966885081694819,0.11506435913682996,-0.10048058063216983,0.9452885815617678,-0.4588861395882851,1.2607952095263109,0.9909294214610531,-1.1887396736772753,0.45737437826220323,1.218396683884078,-0.6001335964116054,0.04417622281112498,0.004450468534862416,1.8313217303103826,-0.37055291069047724,1.2230284286498043,0.9753590408138841,-0.9655361156914539,-1.2668526033999856,1.1422566561817689,0.06441963023437752,-0.8204500089030339,-0.08683699678333419,-0.36853538959583965,-0.7060872984774748,1.2026123368245425,-1.3864336167600535,0.6529959510516941,-0.08084710487352231,0.3907698202410437,0.8968560566217788,-0.6609848902540147,1.8688627173419552,-0.27731576559523075,-1.7189260231242547,0.39408077609560643,0.6185665794368471,0.9780991990845405,-0.37004731829361825,-0.5377331341474938,0.43868366034200346,0.5368217774165542,1.213954701386464,0.5110904541180284,-0.4235805169165554,-1.0118041589500104,1.1431317111969865,-1.350938695027268,1.0143078055993617,-0.7217509864426822,0.9030044560127558,0.42860812787029134,-0.1071231255623638,-0.4543792366009019,-0.9730770823989808,0.1872464176467623,1.9436565221058293],\"xaxis\":\"x9\",\"y\":[1.17789599223246,-0.661400434155931,1.2313368112059233,-0.24339900043176255,0.9675959828040326,-0.8099039954694721,0.6376951022971441,-0.668279852937571,0.33130477744502224,-0.13111868134978907,-0.7543129781919886,0.44844014879375593,-0.9778756365215926,-0.8832086958930353,0.9495855236923345,0.24545920433061041,-0.4023261424550109,-0.024582443967006366,2.0218225895106143,-1.2097122515929808,-2.5293273164010737,0.15536611001813,0.6927964909911235,-0.5940112192467712,0.9348938152565605,0.9108935503155805,-0.8938271886470385,0.38261479895870504,-1.0736697692873345,1.8740739968425641,0.7322525668891493,2.120536718121365,0.23824388512601272,-0.377504099211284,0.3624900571062633,-0.568429183865922,-0.32520363027060145,-0.8818164540919655,0.570179172659156,-0.8612968999018705,0.22849521683754068,0.7630962434956688,-1.0533810528338508,0.32567843966561977,1.372257366906283,0.23203465920643873,1.0477911246061877,-1.0006522940798506,1.0757530061640197,-0.5114981698344443,-0.48646916299820925,-0.19536450054243273,-1.4463445759721227,1.8397089791903722,-0.04567427241237144,-0.8722649704359667,1.501655806737382,-1.0247133970192228,0.3875552334877692,-0.7485457146030059,-0.52364163876346,-0.7546426049417192,1.0741239174140584,-1.082818514974668,-0.050682267560251036,0.1976062660491136,-0.36124633241518506,-0.3464003317250285,1.4583525610748382,-0.018137965611309436,2.5078720568676784,0.4584655084762964,-0.609029438215186,-0.5408052766371294,0.4908360738275197,0.8746041335759098,0.7227830721878171,0.02061706180074759,0.651757172821551,0.5321786347271554,-0.6189706854967447,-0.8803330892394644,-0.03071584005189342,-1.9886438727363793,0.8229309186203905,0.7890306368756327,-0.6025057062017244,-1.0133951630813673,0.4583239442037677,-1.0540367772848824,0.27249714775275824,0.23308697127069317,1.71958930015937,0.3124837977579066,-1.1037781192401224,0.1606789660059298,-0.7006514510911815,0.6357168109204249,0.6896512585494607,-0.3733621725599462],\"yaxis\":\"y9\",\"type\":\"scatter\"},{\"line\":{\"color\":\"rgba(128, 128, 128, 1.0)\",\"dash\":\"solid\",\"shape\":\"linear\",\"width\":1.3},\"marker\":{\"size\":2,\"symbol\":\"circle\"},\"mode\":\"markers\",\"name\":\"C\",\"text\":\"\",\"x\":[-1.314123512152019,0.39375016329835755,-0.3333754421609034,-0.16129292315339847,0.39089174011821676,-0.2415285832239928,-0.1330687410391177,-2.742176842383155,-1.4549249762961163,-0.03288164196362554,0.7870954339775161,-1.5906364831120088,-0.24665783984415385,-1.2709531905402118,1.4177396247528429,0.9139339993306476,0.14968727936437834,-1.4773579780270367,1.2836065788783506,0.4218429543817784,-0.3891327307587016,-0.6603022181306161,-1.0684908499632273,-0.3548553707374886,0.899830228716969,-0.8941242273946151,0.28641016797356983,-0.5620191278396524,0.5645175911279281,-0.687053335069698,1.9940782552722824,0.41288636989328503,-0.0757559224356657,-1.228484199092643,0.10159891043339675,-0.8406593103911069,0.626646032389116,1.344081195804092,-0.2058879538088759,-0.24892149899365876,1.61428601967461,1.054023242279591,-1.0494231161382948,-0.29037512816229744,-0.31845732692891965,0.529699171795502,-0.8271224841739949,0.4273220127629525,-0.7435857578963644,-0.27184790451055646,-1.4840195959301983,-0.44688526663229666,0.4628829916489609,-1.0937281052231775,-0.04684302086081167,-1.7319842733126842,0.8936502873631862,-0.8605804212619843,-1.491722030552004,0.22619482826173615,0.12596075803515505,0.5939073679012035,-2.0319593614147418,0.4094611282332534,-1.425236969134026,0.13011219954716607,-0.40809823124548433,-0.09813875666548708,-0.3443129245978503,0.3722128853803303,-0.4876598037455311,1.0394990700889335,-0.8096093205424912,1.8638913823070484,1.4465628410979272,1.5033357505346296,-0.1644064395364936,0.9572849136768261,1.5099517130489664,-0.03615537780077251,-0.7750468333728179,0.6185273461544226,0.8477903244792816,0.2404673003418146,-0.8111967164058738,0.538679623313098,-0.594248432346121,0.971093297394865,0.26710198449999917,-0.37466122018418707,0.35159515438680605,-0.36114835700299674,-1.2442893555942884,-2.2215578576176584,1.1728151414090098,0.6090886842595982,-1.6522977997891652,-1.1130954230421588,0.42121458153220404,-0.8627485862769746],\"xaxis\":\"x10\",\"y\":[1.17789599223246,-0.661400434155931,1.2313368112059233,-0.24339900043176255,0.9675959828040326,-0.8099039954694721,0.6376951022971441,-0.668279852937571,0.33130477744502224,-0.13111868134978907,-0.7543129781919886,0.44844014879375593,-0.9778756365215926,-0.8832086958930353,0.9495855236923345,0.24545920433061041,-0.4023261424550109,-0.024582443967006366,2.0218225895106143,-1.2097122515929808,-2.5293273164010737,0.15536611001813,0.6927964909911235,-0.5940112192467712,0.9348938152565605,0.9108935503155805,-0.8938271886470385,0.38261479895870504,-1.0736697692873345,1.8740739968425641,0.7322525668891493,2.120536718121365,0.23824388512601272,-0.377504099211284,0.3624900571062633,-0.568429183865922,-0.32520363027060145,-0.8818164540919655,0.570179172659156,-0.8612968999018705,0.22849521683754068,0.7630962434956688,-1.0533810528338508,0.32567843966561977,1.372257366906283,0.23203465920643873,1.0477911246061877,-1.0006522940798506,1.0757530061640197,-0.5114981698344443,-0.48646916299820925,-0.19536450054243273,-1.4463445759721227,1.8397089791903722,-0.04567427241237144,-0.8722649704359667,1.501655806737382,-1.0247133970192228,0.3875552334877692,-0.7485457146030059,-0.52364163876346,-0.7546426049417192,1.0741239174140584,-1.082818514974668,-0.050682267560251036,0.1976062660491136,-0.36124633241518506,-0.3464003317250285,1.4583525610748382,-0.018137965611309436,2.5078720568676784,0.4584655084762964,-0.609029438215186,-0.5408052766371294,0.4908360738275197,0.8746041335759098,0.7227830721878171,0.02061706180074759,0.651757172821551,0.5321786347271554,-0.6189706854967447,-0.8803330892394644,-0.03071584005189342,-1.9886438727363793,0.8229309186203905,0.7890306368756327,-0.6025057062017244,-1.0133951630813673,0.4583239442037677,-1.0540367772848824,0.27249714775275824,0.23308697127069317,1.71958930015937,0.3124837977579066,-1.1037781192401224,0.1606789660059298,-0.7006514510911815,0.6357168109204249,0.6896512585494607,-0.3733621725599462],\"yaxis\":\"y10\",\"type\":\"scatter\"},{\"histfunc\":\"count\",\"histnorm\":\"\",\"marker\":{\"color\":\"rgba(50, 171, 96, 1.0)\",\"line\":{\"color\":\"#4D5663\",\"width\":1.3}},\"name\":\"C\",\"nbinsx\":10,\"opacity\":0.8,\"orientation\":\"v\",\"x\":[1.17789599223246,-0.661400434155931,1.2313368112059233,-0.24339900043176255,0.9675959828040326,-0.8099039954694721,0.6376951022971441,-0.668279852937571,0.33130477744502224,-0.13111868134978907,-0.7543129781919886,0.44844014879375593,-0.9778756365215926,-0.8832086958930353,0.9495855236923345,0.24545920433061041,-0.4023261424550109,-0.024582443967006366,2.0218225895106143,-1.2097122515929808,-2.5293273164010737,0.15536611001813,0.6927964909911235,-0.5940112192467712,0.9348938152565605,0.9108935503155805,-0.8938271886470385,0.38261479895870504,-1.0736697692873345,1.8740739968425641,0.7322525668891493,2.120536718121365,0.23824388512601272,-0.377504099211284,0.3624900571062633,-0.568429183865922,-0.32520363027060145,-0.8818164540919655,0.570179172659156,-0.8612968999018705,0.22849521683754068,0.7630962434956688,-1.0533810528338508,0.32567843966561977,1.372257366906283,0.23203465920643873,1.0477911246061877,-1.0006522940798506,1.0757530061640197,-0.5114981698344443,-0.48646916299820925,-0.19536450054243273,-1.4463445759721227,1.8397089791903722,-0.04567427241237144,-0.8722649704359667,1.501655806737382,-1.0247133970192228,0.3875552334877692,-0.7485457146030059,-0.52364163876346,-0.7546426049417192,1.0741239174140584,-1.082818514974668,-0.050682267560251036,0.1976062660491136,-0.36124633241518506,-0.3464003317250285,1.4583525610748382,-0.018137965611309436,2.5078720568676784,0.4584655084762964,-0.609029438215186,-0.5408052766371294,0.4908360738275197,0.8746041335759098,0.7227830721878171,0.02061706180074759,0.651757172821551,0.5321786347271554,-0.6189706854967447,-0.8803330892394644,-0.03071584005189342,-1.9886438727363793,0.8229309186203905,0.7890306368756327,-0.6025057062017244,-1.0133951630813673,0.4583239442037677,-1.0540367772848824,0.27249714775275824,0.23308697127069317,1.71958930015937,0.3124837977579066,-1.1037781192401224,0.1606789660059298,-0.7006514510911815,0.6357168109204249,0.6896512585494607,-0.3733621725599462],\"xaxis\":\"x11\",\"yaxis\":\"y11\",\"type\":\"histogram\"},{\"line\":{\"color\":\"rgba(128, 128, 128, 1.0)\",\"dash\":\"solid\",\"shape\":\"linear\",\"width\":1.3},\"marker\":{\"size\":2,\"symbol\":\"circle\"},\"mode\":\"markers\",\"name\":\"C\",\"text\":\"\",\"x\":[-0.6497558508146197,0.5696022472138228,-0.7742549950337608,0.014455016891685308,-0.9060133469484182,0.8317357464196173,-0.456742552047923,-0.893425922398005,-0.45629202248448775,0.8865742158055536,0.533112541987365,-0.5764423411134656,-1.0781933958796839,-0.7765606805526603,-0.774676440986213,-0.7254853319541702,0.01857757652433547,-0.4739028578841449,0.41546407453704925,0.18085488752726828,1.6392132099429437,2.152322296915255,0.5510914884845449,-0.17200497405891954,-0.30275609998810576,0.3337058203492321,1.915668368752776,0.09736653391683878,-1.1392266031457392,0.6189098863426716,0.9574377787133139,0.21040552178092659,-1.155999981256473,0.03471012759726958,-0.4759889738470913,-1.3202923670664828,-1.1421903545951442,-0.8023433609911226,0.14145530424876465,-0.8345545750446628,0.05607030814618059,0.8766930176309266,-0.3588416967252633,-1.2923043390651747,-0.14941580871574106,0.27879451079531004,0.2695398313730743,-0.7725303843772486,-0.43646365421850075,-0.9583290852048664,1.150297392219825,-1.1965596759703445,-1.0848850756530122,-0.1402059348920322,-1.2451705111909404,1.8248593793921886,-0.6558475942962985,0.23306245817302218,0.22632642407822606,-2.898995979748627,-1.2624231371901962,-0.45533371264789585,-0.6148073219255857,-0.4503032391310196,0.9341143618964147,-0.056447188256112835,-1.6372042102125877,3.004947294068905,2.7680945544450384,1.1114432303149564,0.3553376235390684,-0.1262912090720706,0.6890509423597909,-1.1360041320724081,-0.2531232310905212,-0.8492015466836488,0.06029213572844701,-1.5223969489227114,0.375856572534485,0.48642780992514606,0.4784750748119479,-1.2676523630862064,0.9255176670906304,0.22951864913232142,1.3429793798892857,2.702687714185298,1.226688593216633,-0.19832038411576372,-0.21840893275786102,1.1394216004837654,0.8271929327400069,0.7290778301278243,1.7026912789896953,-1.3847686195712015,-1.405587735172336,-0.16916074302135256,-2.4284863303666095,-0.5522450839579114,0.2603440872721333,-0.11201117408394276],\"xaxis\":\"x12\",\"y\":[1.17789599223246,-0.661400434155931,1.2313368112059233,-0.24339900043176255,0.9675959828040326,-0.8099039954694721,0.6376951022971441,-0.668279852937571,0.33130477744502224,-0.13111868134978907,-0.7543129781919886,0.44844014879375593,-0.9778756365215926,-0.8832086958930353,0.9495855236923345,0.24545920433061041,-0.4023261424550109,-0.024582443967006366,2.0218225895106143,-1.2097122515929808,-2.5293273164010737,0.15536611001813,0.6927964909911235,-0.5940112192467712,0.9348938152565605,0.9108935503155805,-0.8938271886470385,0.38261479895870504,-1.0736697692873345,1.8740739968425641,0.7322525668891493,2.120536718121365,0.23824388512601272,-0.377504099211284,0.3624900571062633,-0.568429183865922,-0.32520363027060145,-0.8818164540919655,0.570179172659156,-0.8612968999018705,0.22849521683754068,0.7630962434956688,-1.0533810528338508,0.32567843966561977,1.372257366906283,0.23203465920643873,1.0477911246061877,-1.0006522940798506,1.0757530061640197,-0.5114981698344443,-0.48646916299820925,-0.19536450054243273,-1.4463445759721227,1.8397089791903722,-0.04567427241237144,-0.8722649704359667,1.501655806737382,-1.0247133970192228,0.3875552334877692,-0.7485457146030059,-0.52364163876346,-0.7546426049417192,1.0741239174140584,-1.082818514974668,-0.050682267560251036,0.1976062660491136,-0.36124633241518506,-0.3464003317250285,1.4583525610748382,-0.018137965611309436,2.5078720568676784,0.4584655084762964,-0.609029438215186,-0.5408052766371294,0.4908360738275197,0.8746041335759098,0.7227830721878171,0.02061706180074759,0.651757172821551,0.5321786347271554,-0.6189706854967447,-0.8803330892394644,-0.03071584005189342,-1.9886438727363793,0.8229309186203905,0.7890306368756327,-0.6025057062017244,-1.0133951630813673,0.4583239442037677,-1.0540367772848824,0.27249714775275824,0.23308697127069317,1.71958930015937,0.3124837977579066,-1.1037781192401224,0.1606789660059298,-0.7006514510911815,0.6357168109204249,0.6896512585494607,-0.3733621725599462],\"yaxis\":\"y12\",\"type\":\"scatter\"},{\"line\":{\"color\":\"rgba(128, 128, 128, 1.0)\",\"dash\":\"solid\",\"shape\":\"linear\",\"width\":1.3},\"marker\":{\"size\":2,\"symbol\":\"circle\"},\"mode\":\"markers\",\"name\":\"D\",\"text\":\"\",\"x\":[1.0163663847315616,0.6173154871769431,-0.6772810476386104,0.6237655411646876,-0.37260920798691394,0.5268099656427503,3.3821009368357,1.9577238270097503,2.3672034338753085,-0.1264357292249816,-0.8103067961827602,0.626606385498777,0.8971248085452803,0.9197234355071809,-0.08116844691411543,-0.23627135619609388,0.006315752144729975,0.8669884152608879,1.3477600604778872,0.5955044109947454,-2.2568755644129865,-0.4068329840129025,-1.0539585845464274,1.1553831547694944,0.8367721877894332,0.07562472966509834,-0.12160991114433886,-1.8708656358350333,-2.0980755507321915,-0.08333649016138943,-0.47654864104757116,0.3105903538405738,-0.2108414867369569,1.2160327251023146,0.530254461980228,0.8521931743489114,1.3174997251183853,-0.6329843164077711,-0.882042357186549,-0.10209874131529179,-0.8947340334956717,-0.03844201310949979,0.7649005814572767,-0.5966885081694819,0.11506435913682996,-0.10048058063216983,0.9452885815617678,-0.4588861395882851,1.2607952095263109,0.9909294214610531,-1.1887396736772753,0.45737437826220323,1.218396683884078,-0.6001335964116054,0.04417622281112498,0.004450468534862416,1.8313217303103826,-0.37055291069047724,1.2230284286498043,0.9753590408138841,-0.9655361156914539,-1.2668526033999856,1.1422566561817689,0.06441963023437752,-0.8204500089030339,-0.08683699678333419,-0.36853538959583965,-0.7060872984774748,1.2026123368245425,-1.3864336167600535,0.6529959510516941,-0.08084710487352231,0.3907698202410437,0.8968560566217788,-0.6609848902540147,1.8688627173419552,-0.27731576559523075,-1.7189260231242547,0.39408077609560643,0.6185665794368471,0.9780991990845405,-0.37004731829361825,-0.5377331341474938,0.43868366034200346,0.5368217774165542,1.213954701386464,0.5110904541180284,-0.4235805169165554,-1.0118041589500104,1.1431317111969865,-1.350938695027268,1.0143078055993617,-0.7217509864426822,0.9030044560127558,0.42860812787029134,-0.1071231255623638,-0.4543792366009019,-0.9730770823989808,0.1872464176467623,1.9436565221058293],\"xaxis\":\"x13\",\"y\":[-0.6497558508146197,0.5696022472138228,-0.7742549950337608,0.014455016891685308,-0.9060133469484182,0.8317357464196173,-0.456742552047923,-0.893425922398005,-0.45629202248448775,0.8865742158055536,0.533112541987365,-0.5764423411134656,-1.0781933958796839,-0.7765606805526603,-0.774676440986213,-0.7254853319541702,0.01857757652433547,-0.4739028578841449,0.41546407453704925,0.18085488752726828,1.6392132099429437,2.152322296915255,0.5510914884845449,-0.17200497405891954,-0.30275609998810576,0.3337058203492321,1.915668368752776,0.09736653391683878,-1.1392266031457392,0.6189098863426716,0.9574377787133139,0.21040552178092659,-1.155999981256473,0.03471012759726958,-0.4759889738470913,-1.3202923670664828,-1.1421903545951442,-0.8023433609911226,0.14145530424876465,-0.8345545750446628,0.05607030814618059,0.8766930176309266,-0.3588416967252633,-1.2923043390651747,-0.14941580871574106,0.27879451079531004,0.2695398313730743,-0.7725303843772486,-0.43646365421850075,-0.9583290852048664,1.150297392219825,-1.1965596759703445,-1.0848850756530122,-0.1402059348920322,-1.2451705111909404,1.8248593793921886,-0.6558475942962985,0.23306245817302218,0.22632642407822606,-2.898995979748627,-1.2624231371901962,-0.45533371264789585,-0.6148073219255857,-0.4503032391310196,0.9341143618964147,-0.056447188256112835,-1.6372042102125877,3.004947294068905,2.7680945544450384,1.1114432303149564,0.3553376235390684,-0.1262912090720706,0.6890509423597909,-1.1360041320724081,-0.2531232310905212,-0.8492015466836488,0.06029213572844701,-1.5223969489227114,0.375856572534485,0.48642780992514606,0.4784750748119479,-1.2676523630862064,0.9255176670906304,0.22951864913232142,1.3429793798892857,2.702687714185298,1.226688593216633,-0.19832038411576372,-0.21840893275786102,1.1394216004837654,0.8271929327400069,0.7290778301278243,1.7026912789896953,-1.3847686195712015,-1.405587735172336,-0.16916074302135256,-2.4284863303666095,-0.5522450839579114,0.2603440872721333,-0.11201117408394276],\"yaxis\":\"y13\",\"type\":\"scatter\"},{\"line\":{\"color\":\"rgba(128, 128, 128, 1.0)\",\"dash\":\"solid\",\"shape\":\"linear\",\"width\":1.3},\"marker\":{\"size\":2,\"symbol\":\"circle\"},\"mode\":\"markers\",\"name\":\"D\",\"text\":\"\",\"x\":[-1.314123512152019,0.39375016329835755,-0.3333754421609034,-0.16129292315339847,0.39089174011821676,-0.2415285832239928,-0.1330687410391177,-2.742176842383155,-1.4549249762961163,-0.03288164196362554,0.7870954339775161,-1.5906364831120088,-0.24665783984415385,-1.2709531905402118,1.4177396247528429,0.9139339993306476,0.14968727936437834,-1.4773579780270367,1.2836065788783506,0.4218429543817784,-0.3891327307587016,-0.6603022181306161,-1.0684908499632273,-0.3548553707374886,0.899830228716969,-0.8941242273946151,0.28641016797356983,-0.5620191278396524,0.5645175911279281,-0.687053335069698,1.9940782552722824,0.41288636989328503,-0.0757559224356657,-1.228484199092643,0.10159891043339675,-0.8406593103911069,0.626646032389116,1.344081195804092,-0.2058879538088759,-0.24892149899365876,1.61428601967461,1.054023242279591,-1.0494231161382948,-0.29037512816229744,-0.31845732692891965,0.529699171795502,-0.8271224841739949,0.4273220127629525,-0.7435857578963644,-0.27184790451055646,-1.4840195959301983,-0.44688526663229666,0.4628829916489609,-1.0937281052231775,-0.04684302086081167,-1.7319842733126842,0.8936502873631862,-0.8605804212619843,-1.491722030552004,0.22619482826173615,0.12596075803515505,0.5939073679012035,-2.0319593614147418,0.4094611282332534,-1.425236969134026,0.13011219954716607,-0.40809823124548433,-0.09813875666548708,-0.3443129245978503,0.3722128853803303,-0.4876598037455311,1.0394990700889335,-0.8096093205424912,1.8638913823070484,1.4465628410979272,1.5033357505346296,-0.1644064395364936,0.9572849136768261,1.5099517130489664,-0.03615537780077251,-0.7750468333728179,0.6185273461544226,0.8477903244792816,0.2404673003418146,-0.8111967164058738,0.538679623313098,-0.594248432346121,0.971093297394865,0.26710198449999917,-0.37466122018418707,0.35159515438680605,-0.36114835700299674,-1.2442893555942884,-2.2215578576176584,1.1728151414090098,0.6090886842595982,-1.6522977997891652,-1.1130954230421588,0.42121458153220404,-0.8627485862769746],\"xaxis\":\"x14\",\"y\":[-0.6497558508146197,0.5696022472138228,-0.7742549950337608,0.014455016891685308,-0.9060133469484182,0.8317357464196173,-0.456742552047923,-0.893425922398005,-0.45629202248448775,0.8865742158055536,0.533112541987365,-0.5764423411134656,-1.0781933958796839,-0.7765606805526603,-0.774676440986213,-0.7254853319541702,0.01857757652433547,-0.4739028578841449,0.41546407453704925,0.18085488752726828,1.6392132099429437,2.152322296915255,0.5510914884845449,-0.17200497405891954,-0.30275609998810576,0.3337058203492321,1.915668368752776,0.09736653391683878,-1.1392266031457392,0.6189098863426716,0.9574377787133139,0.21040552178092659,-1.155999981256473,0.03471012759726958,-0.4759889738470913,-1.3202923670664828,-1.1421903545951442,-0.8023433609911226,0.14145530424876465,-0.8345545750446628,0.05607030814618059,0.8766930176309266,-0.3588416967252633,-1.2923043390651747,-0.14941580871574106,0.27879451079531004,0.2695398313730743,-0.7725303843772486,-0.43646365421850075,-0.9583290852048664,1.150297392219825,-1.1965596759703445,-1.0848850756530122,-0.1402059348920322,-1.2451705111909404,1.8248593793921886,-0.6558475942962985,0.23306245817302218,0.22632642407822606,-2.898995979748627,-1.2624231371901962,-0.45533371264789585,-0.6148073219255857,-0.4503032391310196,0.9341143618964147,-0.056447188256112835,-1.6372042102125877,3.004947294068905,2.7680945544450384,1.1114432303149564,0.3553376235390684,-0.1262912090720706,0.6890509423597909,-1.1360041320724081,-0.2531232310905212,-0.8492015466836488,0.06029213572844701,-1.5223969489227114,0.375856572534485,0.48642780992514606,0.4784750748119479,-1.2676523630862064,0.9255176670906304,0.22951864913232142,1.3429793798892857,2.702687714185298,1.226688593216633,-0.19832038411576372,-0.21840893275786102,1.1394216004837654,0.8271929327400069,0.7290778301278243,1.7026912789896953,-1.3847686195712015,-1.405587735172336,-0.16916074302135256,-2.4284863303666095,-0.5522450839579114,0.2603440872721333,-0.11201117408394276],\"yaxis\":\"y14\",\"type\":\"scatter\"},{\"line\":{\"color\":\"rgba(128, 128, 128, 1.0)\",\"dash\":\"solid\",\"shape\":\"linear\",\"width\":1.3},\"marker\":{\"size\":2,\"symbol\":\"circle\"},\"mode\":\"markers\",\"name\":\"D\",\"text\":\"\",\"x\":[1.17789599223246,-0.661400434155931,1.2313368112059233,-0.24339900043176255,0.9675959828040326,-0.8099039954694721,0.6376951022971441,-0.668279852937571,0.33130477744502224,-0.13111868134978907,-0.7543129781919886,0.44844014879375593,-0.9778756365215926,-0.8832086958930353,0.9495855236923345,0.24545920433061041,-0.4023261424550109,-0.024582443967006366,2.0218225895106143,-1.2097122515929808,-2.5293273164010737,0.15536611001813,0.6927964909911235,-0.5940112192467712,0.9348938152565605,0.9108935503155805,-0.8938271886470385,0.38261479895870504,-1.0736697692873345,1.8740739968425641,0.7322525668891493,2.120536718121365,0.23824388512601272,-0.377504099211284,0.3624900571062633,-0.568429183865922,-0.32520363027060145,-0.8818164540919655,0.570179172659156,-0.8612968999018705,0.22849521683754068,0.7630962434956688,-1.0533810528338508,0.32567843966561977,1.372257366906283,0.23203465920643873,1.0477911246061877,-1.0006522940798506,1.0757530061640197,-0.5114981698344443,-0.48646916299820925,-0.19536450054243273,-1.4463445759721227,1.8397089791903722,-0.04567427241237144,-0.8722649704359667,1.501655806737382,-1.0247133970192228,0.3875552334877692,-0.7485457146030059,-0.52364163876346,-0.7546426049417192,1.0741239174140584,-1.082818514974668,-0.050682267560251036,0.1976062660491136,-0.36124633241518506,-0.3464003317250285,1.4583525610748382,-0.018137965611309436,2.5078720568676784,0.4584655084762964,-0.609029438215186,-0.5408052766371294,0.4908360738275197,0.8746041335759098,0.7227830721878171,0.02061706180074759,0.651757172821551,0.5321786347271554,-0.6189706854967447,-0.8803330892394644,-0.03071584005189342,-1.9886438727363793,0.8229309186203905,0.7890306368756327,-0.6025057062017244,-1.0133951630813673,0.4583239442037677,-1.0540367772848824,0.27249714775275824,0.23308697127069317,1.71958930015937,0.3124837977579066,-1.1037781192401224,0.1606789660059298,-0.7006514510911815,0.6357168109204249,0.6896512585494607,-0.3733621725599462],\"xaxis\":\"x15\",\"y\":[-0.6497558508146197,0.5696022472138228,-0.7742549950337608,0.014455016891685308,-0.9060133469484182,0.8317357464196173,-0.456742552047923,-0.893425922398005,-0.45629202248448775,0.8865742158055536,0.533112541987365,-0.5764423411134656,-1.0781933958796839,-0.7765606805526603,-0.774676440986213,-0.7254853319541702,0.01857757652433547,-0.4739028578841449,0.41546407453704925,0.18085488752726828,1.6392132099429437,2.152322296915255,0.5510914884845449,-0.17200497405891954,-0.30275609998810576,0.3337058203492321,1.915668368752776,0.09736653391683878,-1.1392266031457392,0.6189098863426716,0.9574377787133139,0.21040552178092659,-1.155999981256473,0.03471012759726958,-0.4759889738470913,-1.3202923670664828,-1.1421903545951442,-0.8023433609911226,0.14145530424876465,-0.8345545750446628,0.05607030814618059,0.8766930176309266,-0.3588416967252633,-1.2923043390651747,-0.14941580871574106,0.27879451079531004,0.2695398313730743,-0.7725303843772486,-0.43646365421850075,-0.9583290852048664,1.150297392219825,-1.1965596759703445,-1.0848850756530122,-0.1402059348920322,-1.2451705111909404,1.8248593793921886,-0.6558475942962985,0.23306245817302218,0.22632642407822606,-2.898995979748627,-1.2624231371901962,-0.45533371264789585,-0.6148073219255857,-0.4503032391310196,0.9341143618964147,-0.056447188256112835,-1.6372042102125877,3.004947294068905,2.7680945544450384,1.1114432303149564,0.3553376235390684,-0.1262912090720706,0.6890509423597909,-1.1360041320724081,-0.2531232310905212,-0.8492015466836488,0.06029213572844701,-1.5223969489227114,0.375856572534485,0.48642780992514606,0.4784750748119479,-1.2676523630862064,0.9255176670906304,0.22951864913232142,1.3429793798892857,2.702687714185298,1.226688593216633,-0.19832038411576372,-0.21840893275786102,1.1394216004837654,0.8271929327400069,0.7290778301278243,1.7026912789896953,-1.3847686195712015,-1.405587735172336,-0.16916074302135256,-2.4284863303666095,-0.5522450839579114,0.2603440872721333,-0.11201117408394276],\"yaxis\":\"y15\",\"type\":\"scatter\"},{\"histfunc\":\"count\",\"histnorm\":\"\",\"marker\":{\"color\":\"rgba(128, 0, 128, 1.0)\",\"line\":{\"color\":\"#4D5663\",\"width\":1.3}},\"name\":\"D\",\"nbinsx\":10,\"opacity\":0.8,\"orientation\":\"v\",\"x\":[-0.6497558508146197,0.5696022472138228,-0.7742549950337608,0.014455016891685308,-0.9060133469484182,0.8317357464196173,-0.456742552047923,-0.893425922398005,-0.45629202248448775,0.8865742158055536,0.533112541987365,-0.5764423411134656,-1.0781933958796839,-0.7765606805526603,-0.774676440986213,-0.7254853319541702,0.01857757652433547,-0.4739028578841449,0.41546407453704925,0.18085488752726828,1.6392132099429437,2.152322296915255,0.5510914884845449,-0.17200497405891954,-0.30275609998810576,0.3337058203492321,1.915668368752776,0.09736653391683878,-1.1392266031457392,0.6189098863426716,0.9574377787133139,0.21040552178092659,-1.155999981256473,0.03471012759726958,-0.4759889738470913,-1.3202923670664828,-1.1421903545951442,-0.8023433609911226,0.14145530424876465,-0.8345545750446628,0.05607030814618059,0.8766930176309266,-0.3588416967252633,-1.2923043390651747,-0.14941580871574106,0.27879451079531004,0.2695398313730743,-0.7725303843772486,-0.43646365421850075,-0.9583290852048664,1.150297392219825,-1.1965596759703445,-1.0848850756530122,-0.1402059348920322,-1.2451705111909404,1.8248593793921886,-0.6558475942962985,0.23306245817302218,0.22632642407822606,-2.898995979748627,-1.2624231371901962,-0.45533371264789585,-0.6148073219255857,-0.4503032391310196,0.9341143618964147,-0.056447188256112835,-1.6372042102125877,3.004947294068905,2.7680945544450384,1.1114432303149564,0.3553376235390684,-0.1262912090720706,0.6890509423597909,-1.1360041320724081,-0.2531232310905212,-0.8492015466836488,0.06029213572844701,-1.5223969489227114,0.375856572534485,0.48642780992514606,0.4784750748119479,-1.2676523630862064,0.9255176670906304,0.22951864913232142,1.3429793798892857,2.702687714185298,1.226688593216633,-0.19832038411576372,-0.21840893275786102,1.1394216004837654,0.8271929327400069,0.7290778301278243,1.7026912789896953,-1.3847686195712015,-1.405587735172336,-0.16916074302135256,-2.4284863303666095,-0.5522450839579114,0.2603440872721333,-0.11201117408394276],\"xaxis\":\"x16\",\"yaxis\":\"y16\",\"type\":\"histogram\"}],                        {\"bargap\":0.02,\"legend\":{\"bgcolor\":\"#F5F6F9\",\"font\":{\"color\":\"#4D5663\"}},\"paper_bgcolor\":\"#F5F6F9\",\"plot_bgcolor\":\"#F5F6F9\",\"showlegend\":false,\"template\":{\"data\":{\"barpolar\":[{\"marker\":{\"line\":{\"color\":\"#E5ECF6\",\"width\":0.5},\"pattern\":{\"fillmode\":\"overlay\",\"size\":10,\"solidity\":0.2}},\"type\":\"barpolar\"}],\"bar\":[{\"error_x\":{\"color\":\"#2a3f5f\"},\"error_y\":{\"color\":\"#2a3f5f\"},\"marker\":{\"line\":{\"color\":\"#E5ECF6\",\"width\":0.5},\"pattern\":{\"fillmode\":\"overlay\",\"size\":10,\"solidity\":0.2}},\"type\":\"bar\"}],\"carpet\":[{\"aaxis\":{\"endlinecolor\":\"#2a3f5f\",\"gridcolor\":\"white\",\"linecolor\":\"white\",\"minorgridcolor\":\"white\",\"startlinecolor\":\"#2a3f5f\"},\"baxis\":{\"endlinecolor\":\"#2a3f5f\",\"gridcolor\":\"white\",\"linecolor\":\"white\",\"minorgridcolor\":\"white\",\"startlinecolor\":\"#2a3f5f\"},\"type\":\"carpet\"}],\"choropleth\":[{\"colorbar\":{\"outlinewidth\":0,\"ticks\":\"\"},\"type\":\"choropleth\"}],\"contourcarpet\":[{\"colorbar\":{\"outlinewidth\":0,\"ticks\":\"\"},\"type\":\"contourcarpet\"}],\"contour\":[{\"colorbar\":{\"outlinewidth\":0,\"ticks\":\"\"},\"colorscale\":[[0.0,\"#0d0887\"],[0.1111111111111111,\"#46039f\"],[0.2222222222222222,\"#7201a8\"],[0.3333333333333333,\"#9c179e\"],[0.4444444444444444,\"#bd3786\"],[0.5555555555555556,\"#d8576b\"],[0.6666666666666666,\"#ed7953\"],[0.7777777777777778,\"#fb9f3a\"],[0.8888888888888888,\"#fdca26\"],[1.0,\"#f0f921\"]],\"type\":\"contour\"}],\"heatmapgl\":[{\"colorbar\":{\"outlinewidth\":0,\"ticks\":\"\"},\"colorscale\":[[0.0,\"#0d0887\"],[0.1111111111111111,\"#46039f\"],[0.2222222222222222,\"#7201a8\"],[0.3333333333333333,\"#9c179e\"],[0.4444444444444444,\"#bd3786\"],[0.5555555555555556,\"#d8576b\"],[0.6666666666666666,\"#ed7953\"],[0.7777777777777778,\"#fb9f3a\"],[0.8888888888888888,\"#fdca26\"],[1.0,\"#f0f921\"]],\"type\":\"heatmapgl\"}],\"heatmap\":[{\"colorbar\":{\"outlinewidth\":0,\"ticks\":\"\"},\"colorscale\":[[0.0,\"#0d0887\"],[0.1111111111111111,\"#46039f\"],[0.2222222222222222,\"#7201a8\"],[0.3333333333333333,\"#9c179e\"],[0.4444444444444444,\"#bd3786\"],[0.5555555555555556,\"#d8576b\"],[0.6666666666666666,\"#ed7953\"],[0.7777777777777778,\"#fb9f3a\"],[0.8888888888888888,\"#fdca26\"],[1.0,\"#f0f921\"]],\"type\":\"heatmap\"}],\"histogram2dcontour\":[{\"colorbar\":{\"outlinewidth\":0,\"ticks\":\"\"},\"colorscale\":[[0.0,\"#0d0887\"],[0.1111111111111111,\"#46039f\"],[0.2222222222222222,\"#7201a8\"],[0.3333333333333333,\"#9c179e\"],[0.4444444444444444,\"#bd3786\"],[0.5555555555555556,\"#d8576b\"],[0.6666666666666666,\"#ed7953\"],[0.7777777777777778,\"#fb9f3a\"],[0.8888888888888888,\"#fdca26\"],[1.0,\"#f0f921\"]],\"type\":\"histogram2dcontour\"}],\"histogram2d\":[{\"colorbar\":{\"outlinewidth\":0,\"ticks\":\"\"},\"colorscale\":[[0.0,\"#0d0887\"],[0.1111111111111111,\"#46039f\"],[0.2222222222222222,\"#7201a8\"],[0.3333333333333333,\"#9c179e\"],[0.4444444444444444,\"#bd3786\"],[0.5555555555555556,\"#d8576b\"],[0.6666666666666666,\"#ed7953\"],[0.7777777777777778,\"#fb9f3a\"],[0.8888888888888888,\"#fdca26\"],[1.0,\"#f0f921\"]],\"type\":\"histogram2d\"}],\"histogram\":[{\"marker\":{\"pattern\":{\"fillmode\":\"overlay\",\"size\":10,\"solidity\":0.2}},\"type\":\"histogram\"}],\"mesh3d\":[{\"colorbar\":{\"outlinewidth\":0,\"ticks\":\"\"},\"type\":\"mesh3d\"}],\"parcoords\":[{\"line\":{\"colorbar\":{\"outlinewidth\":0,\"ticks\":\"\"}},\"type\":\"parcoords\"}],\"pie\":[{\"automargin\":true,\"type\":\"pie\"}],\"scatter3d\":[{\"line\":{\"colorbar\":{\"outlinewidth\":0,\"ticks\":\"\"}},\"marker\":{\"colorbar\":{\"outlinewidth\":0,\"ticks\":\"\"}},\"type\":\"scatter3d\"}],\"scattercarpet\":[{\"marker\":{\"colorbar\":{\"outlinewidth\":0,\"ticks\":\"\"}},\"type\":\"scattercarpet\"}],\"scattergeo\":[{\"marker\":{\"colorbar\":{\"outlinewidth\":0,\"ticks\":\"\"}},\"type\":\"scattergeo\"}],\"scattergl\":[{\"marker\":{\"colorbar\":{\"outlinewidth\":0,\"ticks\":\"\"}},\"type\":\"scattergl\"}],\"scattermapbox\":[{\"marker\":{\"colorbar\":{\"outlinewidth\":0,\"ticks\":\"\"}},\"type\":\"scattermapbox\"}],\"scatterpolargl\":[{\"marker\":{\"colorbar\":{\"outlinewidth\":0,\"ticks\":\"\"}},\"type\":\"scatterpolargl\"}],\"scatterpolar\":[{\"marker\":{\"colorbar\":{\"outlinewidth\":0,\"ticks\":\"\"}},\"type\":\"scatterpolar\"}],\"scatter\":[{\"marker\":{\"colorbar\":{\"outlinewidth\":0,\"ticks\":\"\"}},\"type\":\"scatter\"}],\"scatterternary\":[{\"marker\":{\"colorbar\":{\"outlinewidth\":0,\"ticks\":\"\"}},\"type\":\"scatterternary\"}],\"surface\":[{\"colorbar\":{\"outlinewidth\":0,\"ticks\":\"\"},\"colorscale\":[[0.0,\"#0d0887\"],[0.1111111111111111,\"#46039f\"],[0.2222222222222222,\"#7201a8\"],[0.3333333333333333,\"#9c179e\"],[0.4444444444444444,\"#bd3786\"],[0.5555555555555556,\"#d8576b\"],[0.6666666666666666,\"#ed7953\"],[0.7777777777777778,\"#fb9f3a\"],[0.8888888888888888,\"#fdca26\"],[1.0,\"#f0f921\"]],\"type\":\"surface\"}],\"table\":[{\"cells\":{\"fill\":{\"color\":\"#EBF0F8\"},\"line\":{\"color\":\"white\"}},\"header\":{\"fill\":{\"color\":\"#C8D4E3\"},\"line\":{\"color\":\"white\"}},\"type\":\"table\"}]},\"layout\":{\"annotationdefaults\":{\"arrowcolor\":\"#2a3f5f\",\"arrowhead\":0,\"arrowwidth\":1},\"autotypenumbers\":\"strict\",\"coloraxis\":{\"colorbar\":{\"outlinewidth\":0,\"ticks\":\"\"}},\"colorscale\":{\"diverging\":[[0,\"#8e0152\"],[0.1,\"#c51b7d\"],[0.2,\"#de77ae\"],[0.3,\"#f1b6da\"],[0.4,\"#fde0ef\"],[0.5,\"#f7f7f7\"],[0.6,\"#e6f5d0\"],[0.7,\"#b8e186\"],[0.8,\"#7fbc41\"],[0.9,\"#4d9221\"],[1,\"#276419\"]],\"sequential\":[[0.0,\"#0d0887\"],[0.1111111111111111,\"#46039f\"],[0.2222222222222222,\"#7201a8\"],[0.3333333333333333,\"#9c179e\"],[0.4444444444444444,\"#bd3786\"],[0.5555555555555556,\"#d8576b\"],[0.6666666666666666,\"#ed7953\"],[0.7777777777777778,\"#fb9f3a\"],[0.8888888888888888,\"#fdca26\"],[1.0,\"#f0f921\"]],\"sequentialminus\":[[0.0,\"#0d0887\"],[0.1111111111111111,\"#46039f\"],[0.2222222222222222,\"#7201a8\"],[0.3333333333333333,\"#9c179e\"],[0.4444444444444444,\"#bd3786\"],[0.5555555555555556,\"#d8576b\"],[0.6666666666666666,\"#ed7953\"],[0.7777777777777778,\"#fb9f3a\"],[0.8888888888888888,\"#fdca26\"],[1.0,\"#f0f921\"]]},\"colorway\":[\"#636efa\",\"#EF553B\",\"#00cc96\",\"#ab63fa\",\"#FFA15A\",\"#19d3f3\",\"#FF6692\",\"#B6E880\",\"#FF97FF\",\"#FECB52\"],\"font\":{\"color\":\"#2a3f5f\"},\"geo\":{\"bgcolor\":\"white\",\"lakecolor\":\"white\",\"landcolor\":\"#E5ECF6\",\"showlakes\":true,\"showland\":true,\"subunitcolor\":\"white\"},\"hoverlabel\":{\"align\":\"left\"},\"hovermode\":\"closest\",\"mapbox\":{\"style\":\"light\"},\"paper_bgcolor\":\"white\",\"plot_bgcolor\":\"#E5ECF6\",\"polar\":{\"angularaxis\":{\"gridcolor\":\"white\",\"linecolor\":\"white\",\"ticks\":\"\"},\"bgcolor\":\"#E5ECF6\",\"radialaxis\":{\"gridcolor\":\"white\",\"linecolor\":\"white\",\"ticks\":\"\"}},\"scene\":{\"xaxis\":{\"backgroundcolor\":\"#E5ECF6\",\"gridcolor\":\"white\",\"gridwidth\":2,\"linecolor\":\"white\",\"showbackground\":true,\"ticks\":\"\",\"zerolinecolor\":\"white\"},\"yaxis\":{\"backgroundcolor\":\"#E5ECF6\",\"gridcolor\":\"white\",\"gridwidth\":2,\"linecolor\":\"white\",\"showbackground\":true,\"ticks\":\"\",\"zerolinecolor\":\"white\"},\"zaxis\":{\"backgroundcolor\":\"#E5ECF6\",\"gridcolor\":\"white\",\"gridwidth\":2,\"linecolor\":\"white\",\"showbackground\":true,\"ticks\":\"\",\"zerolinecolor\":\"white\"}},\"shapedefaults\":{\"line\":{\"color\":\"#2a3f5f\"}},\"ternary\":{\"aaxis\":{\"gridcolor\":\"white\",\"linecolor\":\"white\",\"ticks\":\"\"},\"baxis\":{\"gridcolor\":\"white\",\"linecolor\":\"white\",\"ticks\":\"\"},\"bgcolor\":\"#E5ECF6\",\"caxis\":{\"gridcolor\":\"white\",\"linecolor\":\"white\",\"ticks\":\"\"}},\"title\":{\"x\":0.05},\"xaxis\":{\"automargin\":true,\"gridcolor\":\"white\",\"linecolor\":\"white\",\"ticks\":\"\",\"title\":{\"standoff\":15},\"zerolinecolor\":\"white\",\"zerolinewidth\":2},\"yaxis\":{\"automargin\":true,\"gridcolor\":\"white\",\"linecolor\":\"white\",\"ticks\":\"\",\"title\":{\"standoff\":15},\"zerolinecolor\":\"white\",\"zerolinewidth\":2}}},\"title\":{\"font\":{\"color\":\"#4D5663\"}},\"xaxis\":{\"anchor\":\"y\",\"domain\":[0.0,0.2125],\"gridcolor\":\"#E1E5ED\",\"showgrid\":false,\"tickfont\":{\"color\":\"#4D5663\"},\"title\":{\"font\":{\"color\":\"#4D5663\"},\"text\":\"\"},\"zerolinecolor\":\"#E1E5ED\"},\"yaxis\":{\"anchor\":\"x\",\"domain\":[0.8025,1.0],\"gridcolor\":\"#E1E5ED\",\"showgrid\":false,\"tickfont\":{\"color\":\"#4D5663\"},\"title\":{\"font\":{\"color\":\"#4D5663\"},\"text\":\"\"},\"zerolinecolor\":\"#E1E5ED\"},\"xaxis2\":{\"anchor\":\"y2\",\"domain\":[0.2625,0.475],\"gridcolor\":\"#E1E5ED\",\"showgrid\":false,\"tickfont\":{\"color\":\"#4D5663\"},\"title\":{\"font\":{\"color\":\"#4D5663\"},\"text\":\"\"},\"zerolinecolor\":\"#E1E5ED\"},\"yaxis2\":{\"anchor\":\"x2\",\"domain\":[0.8025,1.0],\"gridcolor\":\"#E1E5ED\",\"showgrid\":false,\"tickfont\":{\"color\":\"#4D5663\"},\"title\":{\"font\":{\"color\":\"#4D5663\"},\"text\":\"\"},\"zerolinecolor\":\"#E1E5ED\"},\"xaxis3\":{\"anchor\":\"y3\",\"domain\":[0.525,0.7375],\"gridcolor\":\"#E1E5ED\",\"showgrid\":false,\"tickfont\":{\"color\":\"#4D5663\"},\"title\":{\"font\":{\"color\":\"#4D5663\"},\"text\":\"\"},\"zerolinecolor\":\"#E1E5ED\"},\"yaxis3\":{\"anchor\":\"x3\",\"domain\":[0.8025,1.0],\"gridcolor\":\"#E1E5ED\",\"showgrid\":false,\"tickfont\":{\"color\":\"#4D5663\"},\"title\":{\"font\":{\"color\":\"#4D5663\"},\"text\":\"\"},\"zerolinecolor\":\"#E1E5ED\"},\"xaxis4\":{\"anchor\":\"y4\",\"domain\":[0.7875,1.0],\"gridcolor\":\"#E1E5ED\",\"showgrid\":false,\"tickfont\":{\"color\":\"#4D5663\"},\"title\":{\"font\":{\"color\":\"#4D5663\"},\"text\":\"\"},\"zerolinecolor\":\"#E1E5ED\"},\"yaxis4\":{\"anchor\":\"x4\",\"domain\":[0.8025,1.0],\"gridcolor\":\"#E1E5ED\",\"showgrid\":false,\"tickfont\":{\"color\":\"#4D5663\"},\"title\":{\"font\":{\"color\":\"#4D5663\"},\"text\":\"\"},\"zerolinecolor\":\"#E1E5ED\"},\"xaxis5\":{\"anchor\":\"y5\",\"domain\":[0.0,0.2125],\"gridcolor\":\"#E1E5ED\",\"showgrid\":false,\"tickfont\":{\"color\":\"#4D5663\"},\"title\":{\"font\":{\"color\":\"#4D5663\"},\"text\":\"\"},\"zerolinecolor\":\"#E1E5ED\"},\"yaxis5\":{\"anchor\":\"x5\",\"domain\":[0.535,0.7325],\"gridcolor\":\"#E1E5ED\",\"showgrid\":false,\"tickfont\":{\"color\":\"#4D5663\"},\"title\":{\"font\":{\"color\":\"#4D5663\"},\"text\":\"\"},\"zerolinecolor\":\"#E1E5ED\"},\"xaxis6\":{\"anchor\":\"y6\",\"domain\":[0.2625,0.475],\"gridcolor\":\"#E1E5ED\",\"showgrid\":false,\"tickfont\":{\"color\":\"#4D5663\"},\"title\":{\"font\":{\"color\":\"#4D5663\"},\"text\":\"\"},\"zerolinecolor\":\"#E1E5ED\"},\"yaxis6\":{\"anchor\":\"x6\",\"domain\":[0.535,0.7325],\"gridcolor\":\"#E1E5ED\",\"showgrid\":false,\"tickfont\":{\"color\":\"#4D5663\"},\"title\":{\"font\":{\"color\":\"#4D5663\"},\"text\":\"\"},\"zerolinecolor\":\"#E1E5ED\"},\"xaxis7\":{\"anchor\":\"y7\",\"domain\":[0.525,0.7375],\"gridcolor\":\"#E1E5ED\",\"showgrid\":false,\"tickfont\":{\"color\":\"#4D5663\"},\"title\":{\"font\":{\"color\":\"#4D5663\"},\"text\":\"\"},\"zerolinecolor\":\"#E1E5ED\"},\"yaxis7\":{\"anchor\":\"x7\",\"domain\":[0.535,0.7325],\"gridcolor\":\"#E1E5ED\",\"showgrid\":false,\"tickfont\":{\"color\":\"#4D5663\"},\"title\":{\"font\":{\"color\":\"#4D5663\"},\"text\":\"\"},\"zerolinecolor\":\"#E1E5ED\"},\"xaxis8\":{\"anchor\":\"y8\",\"domain\":[0.7875,1.0],\"gridcolor\":\"#E1E5ED\",\"showgrid\":false,\"tickfont\":{\"color\":\"#4D5663\"},\"title\":{\"font\":{\"color\":\"#4D5663\"},\"text\":\"\"},\"zerolinecolor\":\"#E1E5ED\"},\"yaxis8\":{\"anchor\":\"x8\",\"domain\":[0.535,0.7325],\"gridcolor\":\"#E1E5ED\",\"showgrid\":false,\"tickfont\":{\"color\":\"#4D5663\"},\"title\":{\"font\":{\"color\":\"#4D5663\"},\"text\":\"\"},\"zerolinecolor\":\"#E1E5ED\"},\"xaxis9\":{\"anchor\":\"y9\",\"domain\":[0.0,0.2125],\"gridcolor\":\"#E1E5ED\",\"showgrid\":false,\"tickfont\":{\"color\":\"#4D5663\"},\"title\":{\"font\":{\"color\":\"#4D5663\"},\"text\":\"\"},\"zerolinecolor\":\"#E1E5ED\"},\"yaxis9\":{\"anchor\":\"x9\",\"domain\":[0.2675,0.465],\"gridcolor\":\"#E1E5ED\",\"showgrid\":false,\"tickfont\":{\"color\":\"#4D5663\"},\"title\":{\"font\":{\"color\":\"#4D5663\"},\"text\":\"\"},\"zerolinecolor\":\"#E1E5ED\"},\"xaxis10\":{\"anchor\":\"y10\",\"domain\":[0.2625,0.475],\"gridcolor\":\"#E1E5ED\",\"showgrid\":false,\"tickfont\":{\"color\":\"#4D5663\"},\"title\":{\"font\":{\"color\":\"#4D5663\"},\"text\":\"\"},\"zerolinecolor\":\"#E1E5ED\"},\"yaxis10\":{\"anchor\":\"x10\",\"domain\":[0.2675,0.465],\"gridcolor\":\"#E1E5ED\",\"showgrid\":false,\"tickfont\":{\"color\":\"#4D5663\"},\"title\":{\"font\":{\"color\":\"#4D5663\"},\"text\":\"\"},\"zerolinecolor\":\"#E1E5ED\"},\"xaxis11\":{\"anchor\":\"y11\",\"domain\":[0.525,0.7375],\"gridcolor\":\"#E1E5ED\",\"showgrid\":false,\"tickfont\":{\"color\":\"#4D5663\"},\"title\":{\"font\":{\"color\":\"#4D5663\"},\"text\":\"\"},\"zerolinecolor\":\"#E1E5ED\"},\"yaxis11\":{\"anchor\":\"x11\",\"domain\":[0.2675,0.465],\"gridcolor\":\"#E1E5ED\",\"showgrid\":false,\"tickfont\":{\"color\":\"#4D5663\"},\"title\":{\"font\":{\"color\":\"#4D5663\"},\"text\":\"\"},\"zerolinecolor\":\"#E1E5ED\"},\"xaxis12\":{\"anchor\":\"y12\",\"domain\":[0.7875,1.0],\"gridcolor\":\"#E1E5ED\",\"showgrid\":false,\"tickfont\":{\"color\":\"#4D5663\"},\"title\":{\"font\":{\"color\":\"#4D5663\"},\"text\":\"\"},\"zerolinecolor\":\"#E1E5ED\"},\"yaxis12\":{\"anchor\":\"x12\",\"domain\":[0.2675,0.465],\"gridcolor\":\"#E1E5ED\",\"showgrid\":false,\"tickfont\":{\"color\":\"#4D5663\"},\"title\":{\"font\":{\"color\":\"#4D5663\"},\"text\":\"\"},\"zerolinecolor\":\"#E1E5ED\"},\"xaxis13\":{\"anchor\":\"y13\",\"domain\":[0.0,0.2125],\"gridcolor\":\"#E1E5ED\",\"showgrid\":false,\"tickfont\":{\"color\":\"#4D5663\"},\"title\":{\"font\":{\"color\":\"#4D5663\"},\"text\":\"\"},\"zerolinecolor\":\"#E1E5ED\"},\"yaxis13\":{\"anchor\":\"x13\",\"domain\":[0.0,0.1975],\"gridcolor\":\"#E1E5ED\",\"showgrid\":false,\"tickfont\":{\"color\":\"#4D5663\"},\"title\":{\"font\":{\"color\":\"#4D5663\"},\"text\":\"\"},\"zerolinecolor\":\"#E1E5ED\"},\"xaxis14\":{\"anchor\":\"y14\",\"domain\":[0.2625,0.475],\"gridcolor\":\"#E1E5ED\",\"showgrid\":false,\"tickfont\":{\"color\":\"#4D5663\"},\"title\":{\"font\":{\"color\":\"#4D5663\"},\"text\":\"\"},\"zerolinecolor\":\"#E1E5ED\"},\"yaxis14\":{\"anchor\":\"x14\",\"domain\":[0.0,0.1975],\"gridcolor\":\"#E1E5ED\",\"showgrid\":false,\"tickfont\":{\"color\":\"#4D5663\"},\"title\":{\"font\":{\"color\":\"#4D5663\"},\"text\":\"\"},\"zerolinecolor\":\"#E1E5ED\"},\"xaxis15\":{\"anchor\":\"y15\",\"domain\":[0.525,0.7375],\"gridcolor\":\"#E1E5ED\",\"showgrid\":false,\"tickfont\":{\"color\":\"#4D5663\"},\"title\":{\"font\":{\"color\":\"#4D5663\"},\"text\":\"\"},\"zerolinecolor\":\"#E1E5ED\"},\"yaxis15\":{\"anchor\":\"x15\",\"domain\":[0.0,0.1975],\"gridcolor\":\"#E1E5ED\",\"showgrid\":false,\"tickfont\":{\"color\":\"#4D5663\"},\"title\":{\"font\":{\"color\":\"#4D5663\"},\"text\":\"\"},\"zerolinecolor\":\"#E1E5ED\"},\"xaxis16\":{\"anchor\":\"y16\",\"domain\":[0.7875,1.0],\"gridcolor\":\"#E1E5ED\",\"showgrid\":false,\"tickfont\":{\"color\":\"#4D5663\"},\"title\":{\"font\":{\"color\":\"#4D5663\"},\"text\":\"\"},\"zerolinecolor\":\"#E1E5ED\"},\"yaxis16\":{\"anchor\":\"x16\",\"domain\":[0.0,0.1975],\"gridcolor\":\"#E1E5ED\",\"showgrid\":false,\"tickfont\":{\"color\":\"#4D5663\"},\"title\":{\"font\":{\"color\":\"#4D5663\"},\"text\":\"\"},\"zerolinecolor\":\"#E1E5ED\"}},                        {\"showLink\": true, \"linkText\": \"Export to plot.ly\", \"plotlyServerURL\": \"https://plot.ly\", \"responsive\": true}                    ).then(function(){\n",
       "                            \n",
       "var gd = document.getElementById('bde4195a-ccfb-4189-94a1-307fec50bc31');\n",
       "var x = new MutationObserver(function (mutations, observer) {{\n",
       "        var display = window.getComputedStyle(gd).display;\n",
       "        if (!display || display === 'none') {{\n",
       "            console.log([gd, 'removed!']);\n",
       "            Plotly.purge(gd);\n",
       "            observer.disconnect();\n",
       "        }}\n",
       "}});\n",
       "\n",
       "// Listen for the removal of the full notebook cells\n",
       "var notebookContainer = gd.closest('#notebook-container');\n",
       "if (notebookContainer) {{\n",
       "    x.observe(notebookContainer, {childList: true});\n",
       "}}\n",
       "\n",
       "// Listen for the clearing of the current output cell\n",
       "var outputEl = gd.closest('.output');\n",
       "if (outputEl) {{\n",
       "    x.observe(outputEl, {childList: true});\n",
       "}}\n",
       "\n",
       "                        })                };                });            </script>        </div>"
      ]
     },
     "metadata": {},
     "output_type": "display_data"
    }
   ],
   "source": [
    "df.scatter_matrix()"
   ]
  },
  {
   "cell_type": "markdown",
   "metadata": {
    "collapsed": true
   },
   "source": [
    "# Great Job!"
   ]
  }
 ],
 "metadata": {
  "kernelspec": {
   "display_name": "Python 3",
   "language": "python",
   "name": "python3"
  },
  "language_info": {
   "codemirror_mode": {
    "name": "ipython",
    "version": 3
   },
   "file_extension": ".py",
   "mimetype": "text/x-python",
   "name": "python",
   "nbconvert_exporter": "python",
   "pygments_lexer": "ipython3",
   "version": "3.8.8"
  }
 },
 "nbformat": 4,
 "nbformat_minor": 1
}
