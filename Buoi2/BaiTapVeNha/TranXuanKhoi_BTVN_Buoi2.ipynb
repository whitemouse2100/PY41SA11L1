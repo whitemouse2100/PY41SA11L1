{
 "cells": [
  {
   "cell_type": "code",
   "execution_count": 3,
   "id": "ad1babc4",
   "metadata": {},
   "outputs": [],
   "source": [
    "#Câu 1"
   ]
  },
  {
   "cell_type": "code",
   "execution_count": 4,
   "id": "34de08a2",
   "metadata": {},
   "outputs": [
    {
     "data": {
      "text/plain": [
       "2401"
      ]
     },
     "execution_count": 4,
     "metadata": {},
     "output_type": "execute_result"
    }
   ],
   "source": [
    "7**4"
   ]
  },
  {
   "cell_type": "code",
   "execution_count": 5,
   "id": "9e2029d5",
   "metadata": {},
   "outputs": [],
   "source": [
    "#Câu 2"
   ]
  },
  {
   "cell_type": "code",
   "execution_count": 17,
   "id": "77d96c75",
   "metadata": {},
   "outputs": [],
   "source": [
    "s=\"Hi there Sam!\""
   ]
  },
  {
   "cell_type": "code",
   "execution_count": 28,
   "id": "b9d8e1cc",
   "metadata": {},
   "outputs": [
    {
     "data": {
      "text/plain": [
       "['Hi', 'there', 'Sam!']"
      ]
     },
     "execution_count": 28,
     "metadata": {},
     "output_type": "execute_result"
    }
   ],
   "source": [
    "c=list(s.split())\n",
    "c"
   ]
  },
  {
   "cell_type": "code",
   "execution_count": 29,
   "id": "d8fba95c",
   "metadata": {},
   "outputs": [
    {
     "data": {
      "text/plain": [
       "['Hi', 'there', 'dad!']"
      ]
     },
     "execution_count": 29,
     "metadata": {},
     "output_type": "execute_result"
    }
   ],
   "source": [
    "c[2]=\"dad!\"\n",
    "c"
   ]
  },
  {
   "cell_type": "code",
   "execution_count": 12,
   "id": "f6825b72",
   "metadata": {},
   "outputs": [],
   "source": [
    "#Câu 3"
   ]
  },
  {
   "cell_type": "code",
   "execution_count": 4,
   "id": "a7728bf5",
   "metadata": {},
   "outputs": [
    {
     "name": "stdout",
     "output_type": "stream",
     "text": [
      "The diameter of Earth is 12742 kilometers\n"
     ]
    }
   ],
   "source": [
    "planet=\"Earth\"\n",
    "diameter=12742\n",
    "print(\"The diameter of {} is {} kilometers\".format(planet,diameter))"
   ]
  },
  {
   "cell_type": "code",
   "execution_count": 5,
   "id": "8444892c",
   "metadata": {},
   "outputs": [],
   "source": [
    "#Câu 4"
   ]
  },
  {
   "cell_type": "code",
   "execution_count": 6,
   "id": "5f1f98c7",
   "metadata": {},
   "outputs": [],
   "source": [
    "lst = [1,2,[3,4],[5,[100,200,['hello']],23,11],1,7]"
   ]
  },
  {
   "cell_type": "code",
   "execution_count": 10,
   "id": "6818a584",
   "metadata": {},
   "outputs": [
    {
     "data": {
      "text/plain": [
       "'hello'"
      ]
     },
     "execution_count": 10,
     "metadata": {},
     "output_type": "execute_result"
    }
   ],
   "source": [
    "lst[3][1][2][0]"
   ]
  },
  {
   "cell_type": "code",
   "execution_count": 11,
   "id": "e1d0a4fd",
   "metadata": {},
   "outputs": [],
   "source": [
    "#Câu 5"
   ]
  },
  {
   "cell_type": "code",
   "execution_count": 12,
   "id": "feadce10",
   "metadata": {},
   "outputs": [],
   "source": [
    "d = {'k1':[1,2,3,{'tricky':['oh','man','inception',{'target':[1,2,3,'hello']}]}]}"
   ]
  },
  {
   "cell_type": "code",
   "execution_count": 22,
   "id": "e9747be1",
   "metadata": {},
   "outputs": [
    {
     "data": {
      "text/plain": [
       "'hello'"
      ]
     },
     "execution_count": 22,
     "metadata": {},
     "output_type": "execute_result"
    }
   ],
   "source": [
    "d[\"k1\"][3][\"tricky\"][3][\"target\"][3]"
   ]
  },
  {
   "cell_type": "code",
   "execution_count": 26,
   "id": "bc18b5e7",
   "metadata": {},
   "outputs": [],
   "source": [
    "#Câu 6"
   ]
  },
  {
   "cell_type": "code",
   "execution_count": 28,
   "id": "aaddded6",
   "metadata": {},
   "outputs": [],
   "source": [
    "def TachMien(x):\n",
    "    mien=x.split(\"@\")\n",
    "    print(\"Tên miền là: {}\".format(mien[1]))"
   ]
  },
  {
   "cell_type": "code",
   "execution_count": 30,
   "id": "3c5af9f2",
   "metadata": {},
   "outputs": [
    {
     "name": "stdout",
     "output_type": "stream",
     "text": [
      "Tên miền là: st.uel.edu.vn\n"
     ]
    }
   ],
   "source": [
    "TachMien(\"khoitx@st.uel.edu.vn\")"
   ]
  },
  {
   "cell_type": "code",
   "execution_count": 31,
   "id": "5db29246",
   "metadata": {},
   "outputs": [],
   "source": [
    "#Câu 7"
   ]
  },
  {
   "cell_type": "code",
   "execution_count": 38,
   "id": "86e1326c",
   "metadata": {},
   "outputs": [],
   "source": [
    "def finddog(x):\n",
    "    if \"dog\" in x:\n",
    "        print(\"True\")\n",
    "    else:\n",
    "        print(\"False\")"
   ]
  },
  {
   "cell_type": "code",
   "execution_count": 85,
   "id": "1823a74d",
   "metadata": {},
   "outputs": [
    {
     "name": "stdout",
     "output_type": "stream",
     "text": [
      "True\n"
     ]
    }
   ],
   "source": [
    "finddog(\"There's a cute dog here!\")"
   ]
  },
  {
   "cell_type": "code",
   "execution_count": 45,
   "id": "cd5a766b",
   "metadata": {},
   "outputs": [],
   "source": [
    "#Câu 8"
   ]
  },
  {
   "cell_type": "code",
   "execution_count": 98,
   "id": "311460ac",
   "metadata": {},
   "outputs": [],
   "source": [
    "def Dem_Dog(x):\n",
    "    k=0\n",
    "    y=x.split()\n",
    "    for z in y:\n",
    "        if \"dog\" in z:\n",
    "            k=k+1\n",
    "        else: \n",
    "            pass\n",
    "    print(\"Số lần chữ 'dog' xuất hiện là: {}\".format(k))\n",
    "        "
   ]
  },
  {
   "cell_type": "code",
   "execution_count": 99,
   "id": "a9223735",
   "metadata": {},
   "outputs": [
    {
     "name": "stdout",
     "output_type": "stream",
     "text": [
      "Số lần chữ 'dog' xuất hiện là: 3\n"
     ]
    }
   ],
   "source": [
    "Dem_Dog(\"có 1 dog, 2 dog, 3 dog\")"
   ]
  },
  {
   "cell_type": "code",
   "execution_count": 92,
   "id": "1872101e",
   "metadata": {},
   "outputs": [],
   "source": [
    "#Câu 9"
   ]
  },
  {
   "cell_type": "code",
   "execution_count": 93,
   "id": "75a6a82b",
   "metadata": {},
   "outputs": [],
   "source": [
    "seq = ['soup','dog','salad','cat','great']"
   ]
  },
  {
   "cell_type": "code",
   "execution_count": 94,
   "id": "ffe8d172",
   "metadata": {},
   "outputs": [],
   "source": [
    "list_begin_s= lambda x: x[0]==\"s\""
   ]
  },
  {
   "cell_type": "code",
   "execution_count": 96,
   "id": "b4cbcedd",
   "metadata": {},
   "outputs": [
    {
     "data": {
      "text/plain": [
       "['soup', 'salad']"
      ]
     },
     "execution_count": 96,
     "metadata": {},
     "output_type": "execute_result"
    }
   ],
   "source": [
    "list(filter(list_begin_s, seq))"
   ]
  },
  {
   "cell_type": "code",
   "execution_count": 97,
   "id": "65a646a8",
   "metadata": {},
   "outputs": [],
   "source": [
    "#Câu 10"
   ]
  },
  {
   "cell_type": "code",
   "execution_count": 111,
   "id": "c0ccf0ae",
   "metadata": {},
   "outputs": [],
   "source": [
    "def caught_speed(speed,birthday):\n",
    "    if birthday==False:\n",
    "        if speed<=60:\n",
    "            print(\"No ticket\")\n",
    "        elif 60<speed<=80:\n",
    "            print(\"Small ticket\")\n",
    "        else:\n",
    "            print(\"Big ticket\")\n",
    "    elif birthday==True:\n",
    "        if speed<=65:\n",
    "            print(\"No ticket\")\n",
    "        elif 65<speed<=85:\n",
    "            print(\"Small ticket\")\n",
    "        else:\n",
    "            print(\"Big ticket\")\n",
    "    else: pass"
   ]
  },
  {
   "cell_type": "code",
   "execution_count": 116,
   "id": "83ce1669",
   "metadata": {},
   "outputs": [
    {
     "name": "stdout",
     "output_type": "stream",
     "text": [
      "Small ticket\n"
     ]
    }
   ],
   "source": [
    "caught_speed(81,True)"
   ]
  }
 ],
 "metadata": {
  "kernelspec": {
   "display_name": "Python 3",
   "language": "python",
   "name": "python3"
  },
  "language_info": {
   "codemirror_mode": {
    "name": "ipython",
    "version": 3
   },
   "file_extension": ".py",
   "mimetype": "text/x-python",
   "name": "python",
   "nbconvert_exporter": "python",
   "pygments_lexer": "ipython3",
   "version": "3.8.8"
  }
 },
 "nbformat": 4,
 "nbformat_minor": 5
}
