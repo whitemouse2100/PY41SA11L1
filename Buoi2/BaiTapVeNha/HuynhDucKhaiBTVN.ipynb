{
 "cells": [
  {
   "cell_type": "markdown",
   "id": "f7420422",
   "metadata": {},
   "source": [
    "Câu 1"
   ]
  },
  {
   "cell_type": "code",
   "execution_count": 3,
   "id": "b33f9b17",
   "metadata": {},
   "outputs": [
    {
     "data": {
      "text/plain": [
       "28"
      ]
     },
     "execution_count": 3,
     "metadata": {},
     "output_type": "execute_result"
    }
   ],
   "source": [
    "7*4"
   ]
  },
  {
   "cell_type": "markdown",
   "id": "13949ea9",
   "metadata": {},
   "source": [
    "Câu 2"
   ]
  },
  {
   "cell_type": "code",
   "execution_count": 4,
   "id": "5009200a",
   "metadata": {},
   "outputs": [],
   "source": [
    "s=\"Hi there Sam!\""
   ]
  },
  {
   "cell_type": "code",
   "execution_count": 5,
   "id": "ec6d9fe7",
   "metadata": {},
   "outputs": [],
   "source": [
    "tachchuoi=s.split()"
   ]
  },
  {
   "cell_type": "code",
   "execution_count": 6,
   "id": "c7c7a4a9",
   "metadata": {},
   "outputs": [
    {
     "data": {
      "text/plain": [
       "['Hi', 'there', 'Sam!']"
      ]
     },
     "execution_count": 6,
     "metadata": {},
     "output_type": "execute_result"
    }
   ],
   "source": [
    "tachchuoi"
   ]
  },
  {
   "cell_type": "markdown",
   "id": "f0855c3a",
   "metadata": {},
   "source": [
    "Câu 3"
   ]
  },
  {
   "cell_type": "code",
   "execution_count": 11,
   "id": "ee6a9056",
   "metadata": {},
   "outputs": [],
   "source": [
    "hihi= \"The diameter of {planet} is {diameter} kilometers.\".format(planet=\"Earth\",diameter=\"12742\")"
   ]
  },
  {
   "cell_type": "code",
   "execution_count": 12,
   "id": "16226541",
   "metadata": {},
   "outputs": [
    {
     "data": {
      "text/plain": [
       "'The diameter of Earth is 12742 kilometers.'"
      ]
     },
     "execution_count": 12,
     "metadata": {},
     "output_type": "execute_result"
    }
   ],
   "source": [
    "hihi"
   ]
  },
  {
   "cell_type": "markdown",
   "id": "70410b85",
   "metadata": {},
   "source": [
    "Câu 4"
   ]
  },
  {
   "cell_type": "code",
   "execution_count": 13,
   "id": "5655d6d5",
   "metadata": {},
   "outputs": [],
   "source": [
    "lst=[1,2,[3,4],[5,[100,200,['hello']],23,11],1,7]"
   ]
  },
  {
   "cell_type": "code",
   "execution_count": 14,
   "id": "1c0ec79b",
   "metadata": {},
   "outputs": [
    {
     "data": {
      "text/plain": [
       "'hello'"
      ]
     },
     "execution_count": 14,
     "metadata": {},
     "output_type": "execute_result"
    }
   ],
   "source": [
    "lst[3][1][2][0]"
   ]
  },
  {
   "cell_type": "markdown",
   "id": "4db94085",
   "metadata": {},
   "source": [
    "Câu 5"
   ]
  },
  {
   "cell_type": "code",
   "execution_count": 15,
   "id": "1d25f0b9",
   "metadata": {},
   "outputs": [],
   "source": [
    "d = {'k1':[1,2,3,{'tricky':['oh','man','inception',{'target':[1,2,3,'hello']}]}]}"
   ]
  },
  {
   "cell_type": "code",
   "execution_count": 16,
   "id": "f1439334",
   "metadata": {},
   "outputs": [
    {
     "data": {
      "text/plain": [
       "'hello'"
      ]
     },
     "execution_count": 16,
     "metadata": {},
     "output_type": "execute_result"
    }
   ],
   "source": [
    "d['k1'][3]['tricky'][3]['target'][3]\n",
    "\n"
   ]
  },
  {
   "cell_type": "markdown",
   "id": "b8f33324",
   "metadata": {},
   "source": [
    "Câu 6"
   ]
  },
  {
   "cell_type": "code",
   "execution_count": 27,
   "id": "6b012334",
   "metadata": {},
   "outputs": [],
   "source": [
    "def email(x):\n",
    "    list=x.split(\"@\")\n",
    "    return list[1]"
   ]
  },
  {
   "cell_type": "code",
   "execution_count": 28,
   "id": "8cf0428b",
   "metadata": {},
   "outputs": [
    {
     "data": {
      "text/plain": [
       "'gmail.com'"
      ]
     },
     "execution_count": 28,
     "metadata": {},
     "output_type": "execute_result"
    }
   ],
   "source": [
    "email(\"huynhkhai02@gmail.com\")"
   ]
  },
  {
   "cell_type": "markdown",
   "id": "59ef7f7e",
   "metadata": {},
   "source": [
    "Câu 7"
   ]
  },
  {
   "cell_type": "code",
   "execution_count": 30,
   "id": "f1685b79",
   "metadata": {},
   "outputs": [],
   "source": [
    "def findDog(s):\n",
    "    list=s.split()\n",
    "    if (\"dog\" in list) or (\"DOG\" in list): \n",
    "        return True\n",
    "    else: \n",
    "        return False"
   ]
  },
  {
   "cell_type": "code",
   "execution_count": 31,
   "id": "9ba6ea73",
   "metadata": {},
   "outputs": [
    {
     "data": {
      "text/plain": [
       "True"
      ]
     },
     "execution_count": 31,
     "metadata": {},
     "output_type": "execute_result"
    }
   ],
   "source": [
    "findDog('Is there a dog here?')\n"
   ]
  },
  {
   "cell_type": "markdown",
   "id": "02d97685",
   "metadata": {},
   "source": [
    "Câu 8"
   ]
  },
  {
   "cell_type": "code",
   "execution_count": 40,
   "id": "e9e2fb82",
   "metadata": {},
   "outputs": [],
   "source": [
    "def countDog(s):\n",
    "    list = s.split()\n",
    "    count = 0\n",
    "    for word in list:\n",
    "        if word == \"dog\": \n",
    "            count = count + 1\n",
    "    return count"
   ]
  },
  {
   "cell_type": "code",
   "execution_count": 33,
   "id": "b17b5136",
   "metadata": {},
   "outputs": [
    {
     "data": {
      "text/plain": [
       "2"
      ]
     },
     "execution_count": 33,
     "metadata": {},
     "output_type": "execute_result"
    }
   ],
   "source": [
    "countDog('This dog runs faster than the other dog dude!')"
   ]
  },
  {
   "cell_type": "markdown",
   "id": "847d8c0c",
   "metadata": {},
   "source": [
    "Câu 9|"
   ]
  },
  {
   "cell_type": "code",
   "execution_count": 34,
   "id": "bfe7d910",
   "metadata": {},
   "outputs": [],
   "source": [
    " seq = ['soup','dog','salad','cat','great']"
   ]
  },
  {
   "cell_type": "code",
   "execution_count": 43,
   "id": "04cca2bd",
   "metadata": {},
   "outputs": [
    {
     "data": {
      "text/plain": [
       "['soup', 'salad']"
      ]
     },
     "execution_count": 43,
     "metadata": {},
     "output_type": "execute_result"
    }
   ],
   "source": [
    "list(filter(lambda chuoi: chuoi[0]==\"s\",seq))"
   ]
  },
  {
   "cell_type": "markdown",
   "id": "a06a4d85",
   "metadata": {},
   "source": [
    "Câu 10"
   ]
  },
  {
   "cell_type": "code",
   "execution_count": 44,
   "id": "24f5f2c7",
   "metadata": {},
   "outputs": [],
   "source": [
    "def caught_speeding(speed, is_birthday):\n",
    "    if is_birthday:\n",
    "        speed = speed - 5\n",
    "    if speed <= 60: \n",
    "        return \"Not Ticket\"\n",
    "    elif speed <=80:\n",
    "        return \"Small Ticket\"\n",
    "    else:\n",
    "        return \"Big Ticket\""
   ]
  },
  {
   "cell_type": "code",
   "execution_count": 46,
   "id": "421a6551",
   "metadata": {},
   "outputs": [
    {
     "data": {
      "text/plain": [
       "'Small Ticket'"
      ]
     },
     "execution_count": 46,
     "metadata": {},
     "output_type": "execute_result"
    }
   ],
   "source": [
    "caught_speeding(80,False)"
   ]
  },
  {
   "cell_type": "code",
   "execution_count": null,
   "id": "6be144e6",
   "metadata": {},
   "outputs": [],
   "source": []
  }
 ],
 "metadata": {
  "kernelspec": {
   "display_name": "Python 3",
   "language": "python",
   "name": "python3"
  },
  "language_info": {
   "codemirror_mode": {
    "name": "ipython",
    "version": 3
   },
   "file_extension": ".py",
   "mimetype": "text/x-python",
   "name": "python",
   "nbconvert_exporter": "python",
   "pygments_lexer": "ipython3",
   "version": "3.8.8"
  }
 },
 "nbformat": 4,
 "nbformat_minor": 5
}
