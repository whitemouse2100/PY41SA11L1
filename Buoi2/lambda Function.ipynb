{
 "cells": [
  {
   "cell_type": "code",
   "execution_count": 1,
   "id": "fc63f66d",
   "metadata": {},
   "outputs": [],
   "source": [
    "#lambda arguments:expression"
   ]
  },
  {
   "cell_type": "code",
   "execution_count": 2,
   "id": "39911789",
   "metadata": {},
   "outputs": [],
   "source": [
    "def nhan2(a):\n",
    "    return a*2"
   ]
  },
  {
   "cell_type": "code",
   "execution_count": 3,
   "id": "e36ead2d",
   "metadata": {},
   "outputs": [],
   "source": [
    "a=nhan2(5)"
   ]
  },
  {
   "cell_type": "code",
   "execution_count": 4,
   "id": "6abe28a5",
   "metadata": {},
   "outputs": [
    {
     "name": "stdout",
     "output_type": "stream",
     "text": [
      "10\n"
     ]
    }
   ],
   "source": [
    "print(a)"
   ]
  },
  {
   "cell_type": "code",
   "execution_count": 5,
   "id": "ab81593d",
   "metadata": {},
   "outputs": [],
   "source": [
    "a=lambda x:x*2"
   ]
  },
  {
   "cell_type": "code",
   "execution_count": 6,
   "id": "71e7335e",
   "metadata": {},
   "outputs": [
    {
     "name": "stdout",
     "output_type": "stream",
     "text": [
      "10\n"
     ]
    }
   ],
   "source": [
    "print(a(5))"
   ]
  },
  {
   "cell_type": "code",
   "execution_count": 7,
   "id": "4b9d0251",
   "metadata": {},
   "outputs": [],
   "source": [
    "my_list=[1,5,4,6,8,11,3,12]"
   ]
  },
  {
   "cell_type": "code",
   "execution_count": 8,
   "id": "94b040d2",
   "metadata": {},
   "outputs": [],
   "source": [
    "new_list=list(filter(lambda x:(x%2==0),my_list))"
   ]
  },
  {
   "cell_type": "code",
   "execution_count": 9,
   "id": "7b52d9f7",
   "metadata": {},
   "outputs": [
    {
     "data": {
      "text/plain": [
       "[4, 6, 8, 12]"
      ]
     },
     "execution_count": 9,
     "metadata": {},
     "output_type": "execute_result"
    }
   ],
   "source": [
    "new_list"
   ]
  },
  {
   "cell_type": "code",
   "execution_count": 10,
   "id": "5df590a6",
   "metadata": {},
   "outputs": [],
   "source": [
    "new_list_2=list(map(lambda x:x*2,my_list))"
   ]
  },
  {
   "cell_type": "code",
   "execution_count": 11,
   "id": "3d8efc0c",
   "metadata": {},
   "outputs": [
    {
     "data": {
      "text/plain": [
       "[2, 10, 8, 12, 16, 22, 6, 24]"
      ]
     },
     "execution_count": 11,
     "metadata": {},
     "output_type": "execute_result"
    }
   ],
   "source": [
    "new_list_2"
   ]
  },
  {
   "cell_type": "code",
   "execution_count": null,
   "id": "1acbacb0",
   "metadata": {},
   "outputs": [],
   "source": []
  }
 ],
 "metadata": {
  "kernelspec": {
   "display_name": "Python 3",
   "language": "python",
   "name": "python3"
  },
  "language_info": {
   "codemirror_mode": {
    "name": "ipython",
    "version": 3
   },
   "file_extension": ".py",
   "mimetype": "text/x-python",
   "name": "python",
   "nbconvert_exporter": "python",
   "pygments_lexer": "ipython3",
   "version": "3.8.8"
  }
 },
 "nbformat": 4,
 "nbformat_minor": 5
}
