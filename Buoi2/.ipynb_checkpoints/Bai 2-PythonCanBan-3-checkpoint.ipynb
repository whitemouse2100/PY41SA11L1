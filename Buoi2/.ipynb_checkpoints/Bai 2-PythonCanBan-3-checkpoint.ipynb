{
 "cells": [
  {
   "cell_type": "code",
   "execution_count": null,
   "id": "6dae3001",
   "metadata": {},
   "outputs": [],
   "source": [
    "my_list1=[1,2,3]http://localhost:8891/notebooks/Desktop/Bai%202-PythonCanBan-3.ipynb#"
   ]
  },
  {
   "cell_type": "code",
   "execution_count": null,
   "id": "3d5737d3",
   "metadata": {},
   "outputs": [],
   "source": [
    "my_list1"
   ]
  },
  {
   "cell_type": "code",
   "execution_count": null,
   "id": "a2c8ccab",
   "metadata": {},
   "outputs": [],
   "source": [
    "my_list2=(1,2,3)"
   ]
  },
  {
   "cell_type": "code",
   "execution_count": null,
   "id": "4c151ef0",
   "metadata": {},
   "outputs": [],
   "source": [
    "my_list2"
   ]
  },
  {
   "cell_type": "code",
   "execution_count": null,
   "id": "58dfaf3e",
   "metadata": {},
   "outputs": [],
   "source": [
    "my_list1[0]"
   ]
  },
  {
   "cell_type": "code",
   "execution_count": null,
   "id": "1e53be56",
   "metadata": {},
   "outputs": [],
   "source": [
    "my_list[0]"
   ]
  },
  {
   "cell_type": "code",
   "execution_count": null,
   "id": "ad5b71fc",
   "metadata": {},
   "outputs": [],
   "source": [
    "my_list1[0]=\"NEW\""
   ]
  },
  {
   "cell_type": "code",
   "execution_count": null,
   "id": "fe83108f",
   "metadata": {},
   "outputs": [],
   "source": [
    "my_list1"
   ]
  },
  {
   "cell_type": "code",
   "execution_count": null,
   "id": "3958ce1c",
   "metadata": {},
   "outputs": [],
   "source": [
    "my_list2[0]=\"NEW\""
   ]
  },
  {
   "cell_type": "code",
   "execution_count": null,
   "id": "da8245e6",
   "metadata": {},
   "outputs": [],
   "source": [
    "my_dictionary={\"key1\":\"abc\",\"key2\":45}"
   ]
  },
  {
   "cell_type": "code",
   "execution_count": null,
   "id": "4418dde9",
   "metadata": {},
   "outputs": [],
   "source": [
    "my_dictionary[0]"
   ]
  },
  {
   "cell_type": "code",
   "execution_count": null,
   "id": "9d8a2595",
   "metadata": {},
   "outputs": [],
   "source": [
    "my_dictionary[\"key1\"]"
   ]
  },
  {
   "cell_type": "code",
   "execution_count": null,
   "id": "21112134",
   "metadata": {},
   "outputs": [],
   "source": [
    "my_dictionary[\"Key1\"]"
   ]
  },
  {
   "cell_type": "code",
   "execution_count": null,
   "id": "8730a82c",
   "metadata": {},
   "outputs": [],
   "source": [
    "if dk:\n",
    "    code\n",
    "elif dk:\n",
    "else code"
   ]
  },
  {
   "cell_type": "code",
   "execution_count": null,
   "id": "4597cc86",
   "metadata": {},
   "outputs": [],
   "source": [
    "#vòng lặp"
   ]
  },
  {
   "cell_type": "code",
   "execution_count": null,
   "id": "a9fded99",
   "metadata": {},
   "outputs": [],
   "source": [
    "danhsach=[1,2,3,4,5]"
   ]
  },
  {
   "cell_type": "code",
   "execution_count": null,
   "id": "108db4a5",
   "metadata": {},
   "outputs": [],
   "source": [
    "#for tenbien in danhsachcanduyet:\n",
    "#   code\n",
    "for num in danhsach:\n",
    "    print(num)"
   ]
  },
  {
   "cell_type": "code",
   "execution_count": null,
   "id": "ed25eaa4",
   "metadata": {},
   "outputs": [],
   "source": [
    "for giatri in danhsach:\n",
    "    print(\"hello\")"
   ]
  },
  {
   "cell_type": "code",
   "execution_count": null,
   "id": "9bc27ede",
   "metadata": {},
   "outputs": [],
   "source": [
    "i=1\n",
    "while i<5:\n",
    "    print(\"i là:{one}\".format(one=i)) #print(\"i là:\"+i)\n",
    "    i=i+1"
   ]
  },
  {
   "cell_type": "code",
   "execution_count": null,
   "id": "e58dc5be",
   "metadata": {},
   "outputs": [],
   "source": [
    "range(0,5)"
   ]
  },
  {
   "cell_type": "code",
   "execution_count": null,
   "id": "68753be0",
   "metadata": {},
   "outputs": [],
   "source": [
    "for num in range(0,5):\n",
    "    print(num)"
   ]
  },
  {
   "cell_type": "code",
   "execution_count": null,
   "id": "1b4fbead",
   "metadata": {},
   "outputs": [],
   "source": [
    "range(0,5)"
   ]
  },
  {
   "cell_type": "code",
   "execution_count": null,
   "id": "1009aa9f",
   "metadata": {},
   "outputs": [],
   "source": [
    "list(range(0,5))"
   ]
  },
  {
   "cell_type": "code",
   "execution_count": null,
   "id": "ee73b3be",
   "metadata": {},
   "outputs": [],
   "source": [
    "list(range(10))"
   ]
  },
  {
   "cell_type": "code",
   "execution_count": null,
   "id": "8525c6f2",
   "metadata": {},
   "outputs": [],
   "source": [
    "x=list(range(10))"
   ]
  },
  {
   "cell_type": "code",
   "execution_count": null,
   "id": "a82b69a2",
   "metadata": {},
   "outputs": [],
   "source": [
    "out=[]"
   ]
  },
  {
   "cell_type": "code",
   "execution_count": null,
   "id": "0fb446a2",
   "metadata": {},
   "outputs": [],
   "source": [
    "out.append(x**2)"
   ]
  },
  {
   "cell_type": "code",
   "execution_count": null,
   "id": "390bd057",
   "metadata": {},
   "outputs": [],
   "source": [
    "out[0]"
   ]
  },
  {
   "cell_type": "code",
   "execution_count": null,
   "id": "81fc22e3",
   "metadata": {},
   "outputs": [],
   "source": [
    "#comprehension chỉ đơn giản là một cách viết khác của python giúp đơn giản hóa code của python\n",
    "#ưu điểm là sẽ ít code dòng code hơn \n",
    "#nhược điểm sẽ gây khó hiểu và khó debug"
   ]
  },
  {
   "cell_type": "code",
   "execution_count": null,
   "id": "a93febfa",
   "metadata": {},
   "outputs": [],
   "source": [
    "out=[var**2 for var in x]"
   ]
  },
  {
   "cell_type": "code",
   "execution_count": null,
   "id": "481f3615",
   "metadata": {},
   "outputs": [],
   "source": [
    "out"
   ]
  },
  {
   "cell_type": "code",
   "execution_count": null,
   "id": "5224e327",
   "metadata": {},
   "outputs": [],
   "source": [
    "# function"
   ]
  },
  {
   "cell_type": "code",
   "execution_count": null,
   "id": "776bddaf",
   "metadata": {},
   "outputs": [],
   "source": [
    "# def tenham(thamso):\n",
    "#    code"
   ]
  },
  {
   "cell_type": "code",
   "execution_count": null,
   "id": "3d62e3b0",
   "metadata": {},
   "outputs": [],
   "source": [
    "#hàm không có giá trị trả về"
   ]
  },
  {
   "cell_type": "code",
   "execution_count": null,
   "id": "575ad5e6",
   "metadata": {},
   "outputs": [],
   "source": [
    "def ChaoHoi(hoten):\n",
    "    print(\"Chào bạn \" + hoten)"
   ]
  },
  {
   "cell_type": "code",
   "execution_count": null,
   "id": "5eecbf0e",
   "metadata": {},
   "outputs": [],
   "source": [
    "ChaoHoi(\"Khoa\")"
   ]
  },
  {
   "cell_type": "code",
   "execution_count": null,
   "id": "1142b9d9",
   "metadata": {},
   "outputs": [],
   "source": [
    "ChaoHoi(\"Tuấn\")"
   ]
  },
  {
   "cell_type": "code",
   "execution_count": null,
   "id": "d54a00d5",
   "metadata": {},
   "outputs": [],
   "source": [
    "ChaoHoi()"
   ]
  },
  {
   "cell_type": "code",
   "execution_count": null,
   "id": "aba3ad09",
   "metadata": {},
   "outputs": [],
   "source": [
    "def ChaoHoi(hoten=\"Quên gõ tên\"):\n",
    "    print(\"Chào bạn \" + hoten)"
   ]
  },
  {
   "cell_type": "code",
   "execution_count": null,
   "id": "b13367e1",
   "metadata": {},
   "outputs": [],
   "source": [
    "ChaoHoi()"
   ]
  },
  {
   "cell_type": "code",
   "execution_count": null,
   "id": "2281f4f5",
   "metadata": {},
   "outputs": [],
   "source": [
    "ChaoHoi(\"Abc\")"
   ]
  },
  {
   "cell_type": "code",
   "execution_count": null,
   "id": "7715a530",
   "metadata": {},
   "outputs": [],
   "source": [
    "#viết một function giới thiệu bản thân in ra họ tên và tuổi do người dùng nhập vào\n",
    "#hoten và tuoi duoc goi la tham số\n",
    "def GioiThieu(hoten=\"Quên gõ tên\",tuoi=0):\n",
    "    print(\"Tôi tên là: \"+hoten+\" - tuổi: \"+ str(tuoi))"
   ]
  },
  {
   "cell_type": "code",
   "execution_count": null,
   "id": "55540283",
   "metadata": {},
   "outputs": [],
   "source": [
    "GioiThieu(\"Tuan\",59)"
   ]
  },
  {
   "cell_type": "code",
   "execution_count": null,
   "id": "00c514fc",
   "metadata": {},
   "outputs": [],
   "source": [
    "#hàm có giá trị trả về - điểm đặc trưng là khi kết thúc nó phải có một cái từ khóa gọi là return"
   ]
  },
  {
   "cell_type": "code",
   "execution_count": null,
   "id": "f63689ba",
   "metadata": {},
   "outputs": [],
   "source": [
    "def NhanDoi(SoNhapVao):\n",
    "    x=SoNhapVao**2\n",
    "    return x"
   ]
  },
  {
   "cell_type": "code",
   "execution_count": null,
   "id": "a3336560",
   "metadata": {},
   "outputs": [],
   "source": [
    "x=6+NhanDoi(5)"
   ]
  },
  {
   "cell_type": "code",
   "execution_count": null,
   "id": "e17facfe",
   "metadata": {},
   "outputs": [],
   "source": [
    "x"
   ]
  },
  {
   "cell_type": "code",
   "execution_count": null,
   "id": "c65e0496",
   "metadata": {},
   "outputs": [],
   "source": [
    "#Viết một function mà đầu vào là một cái list sau đó tính tổng các giá trị trong list đó và xuất giá trị ra màn hình\n",
    "#VD: list=[1,2,3,4,5]  xuất ra màn hình: Tổng là: 15"
   ]
  },
  {
   "cell_type": "code",
   "execution_count": null,
   "id": "09260fc0",
   "metadata": {},
   "outputs": [],
   "source": [
    "def TinhTongList(listnhapvao=[]):\n",
    "    tong=0\n",
    "    for num in listnhapvao:\n",
    "        tong=tong+num\n",
    "    print(\"Tổng là: \"+ str(tong))"
   ]
  },
  {
   "cell_type": "code",
   "execution_count": null,
   "id": "2468f86a",
   "metadata": {},
   "outputs": [],
   "source": [
    "my_list=[1,2,3,4,5]"
   ]
  },
  {
   "cell_type": "code",
   "execution_count": null,
   "id": "4a2b011c",
   "metadata": {},
   "outputs": [],
   "source": [
    "TinhTongList(my_list)"
   ]
  },
  {
   "cell_type": "code",
   "execution_count": null,
   "id": "adac7641",
   "metadata": {},
   "outputs": [],
   "source": [
    "def list(x):\n",
    "    Sum=sum(x)\n",
    "    print(\"Tổng giá trị của mảng là: \"+str(Sum))\n"
   ]
  },
  {
   "cell_type": "code",
   "execution_count": null,
   "id": "37d35d86",
   "metadata": {},
   "outputs": [],
   "source": [
    "list(my_list)"
   ]
  },
  {
   "cell_type": "code",
   "execution_count": 1,
   "id": "c25438f5",
   "metadata": {},
   "outputs": [],
   "source": [
    "#map"
   ]
  },
  {
   "cell_type": "code",
   "execution_count": 2,
   "id": "9c639573",
   "metadata": {},
   "outputs": [],
   "source": [
    "seq=[1,2,3,4,5]"
   ]
  },
  {
   "cell_type": "code",
   "execution_count": 3,
   "id": "4a4a861a",
   "metadata": {},
   "outputs": [],
   "source": [
    "def Nhan2(sonhapvao):\n",
    "    return sonhapvao*2"
   ]
  },
  {
   "cell_type": "code",
   "execution_count": null,
   "id": "92cbdab7",
   "metadata": {},
   "outputs": [],
   "source": []
  },
  {
   "cell_type": "code",
   "execution_count": 4,
   "id": "cca07e97",
   "metadata": {},
   "outputs": [],
   "source": [
    "#C1 không có map\n",
    "list_null=[]\n",
    "for num in seq:\n",
    "    list_null.append(Nhan2(num))"
   ]
  },
  {
   "cell_type": "code",
   "execution_count": 5,
   "id": "2cd3f9d8",
   "metadata": {},
   "outputs": [
    {
     "data": {
      "text/plain": [
       "[2, 4, 6, 8, 10]"
      ]
     },
     "execution_count": 5,
     "metadata": {},
     "output_type": "execute_result"
    }
   ],
   "source": [
    "list_null"
   ]
  },
  {
   "cell_type": "code",
   "execution_count": 6,
   "id": "e0920874",
   "metadata": {},
   "outputs": [
    {
     "data": {
      "text/plain": [
       "<map at 0x1797982e700>"
      ]
     },
     "execution_count": 6,
     "metadata": {},
     "output_type": "execute_result"
    }
   ],
   "source": [
    "#Shift + tab là mở document string của một hàm bất kỳ\n",
    "map(Nhan2,seq)"
   ]
  },
  {
   "cell_type": "code",
   "execution_count": 7,
   "id": "4fbccf68",
   "metadata": {},
   "outputs": [
    {
     "data": {
      "text/plain": [
       "[2, 4, 6, 8, 10]"
      ]
     },
     "execution_count": 7,
     "metadata": {},
     "output_type": "execute_result"
    }
   ],
   "source": [
    "list(map(Nhan2,seq))"
   ]
  },
  {
   "cell_type": "code",
   "execution_count": 5,
   "id": "cdd26ffb",
   "metadata": {},
   "outputs": [],
   "source": [
    "s=\"Trung tâm của tôi là MCI\""
   ]
  },
  {
   "cell_type": "code",
   "execution_count": 6,
   "id": "98753b25",
   "metadata": {},
   "outputs": [
    {
     "data": {
      "text/plain": [
       "'TRUNG TÂM CỦA TÔI LÀ MCI'"
      ]
     },
     "execution_count": 6,
     "metadata": {},
     "output_type": "execute_result"
    }
   ],
   "source": [
    "#.+tab sẽ hiện ra hộp thoại gợi ý các hàm cho một đối tượng\n",
    "s.upper()"
   ]
  },
  {
   "cell_type": "code",
   "execution_count": 7,
   "id": "4ee51655",
   "metadata": {},
   "outputs": [
    {
     "data": {
      "text/plain": [
       "'trung tâm của tôi là mci'"
      ]
     },
     "execution_count": 7,
     "metadata": {},
     "output_type": "execute_result"
    }
   ],
   "source": [
    "s.lower()"
   ]
  },
  {
   "cell_type": "code",
   "execution_count": 11,
   "id": "76eed94f",
   "metadata": {},
   "outputs": [
    {
     "data": {
      "text/plain": [
       "['Trung', 'tâm', 'của', 'tôi', 'là', 'MCI']"
      ]
     },
     "execution_count": 11,
     "metadata": {},
     "output_type": "execute_result"
    }
   ],
   "source": [
    "s.split()"
   ]
  },
  {
   "cell_type": "code",
   "execution_count": 13,
   "id": "c4199f93",
   "metadata": {},
   "outputs": [
    {
     "data": {
      "text/plain": [
       "'tôi'"
      ]
     },
     "execution_count": 13,
     "metadata": {},
     "output_type": "execute_result"
    }
   ],
   "source": [
    "s.split()[3]"
   ]
  },
  {
   "cell_type": "code",
   "execution_count": 14,
   "id": "788eda1a",
   "metadata": {},
   "outputs": [],
   "source": [
    "d={\"k1\":1,\"k2\":2,\"k3\":3}"
   ]
  },
  {
   "cell_type": "code",
   "execution_count": 15,
   "id": "4b10caae",
   "metadata": {},
   "outputs": [
    {
     "data": {
      "text/plain": [
       "dict_keys(['k1', 'k2', 'k3'])"
      ]
     },
     "execution_count": 15,
     "metadata": {},
     "output_type": "execute_result"
    }
   ],
   "source": [
    "d.keys()"
   ]
  },
  {
   "cell_type": "code",
   "execution_count": 16,
   "id": "fcb439d2",
   "metadata": {},
   "outputs": [
    {
     "data": {
      "text/plain": [
       "dict_items([('k1', 1), ('k2', 2), ('k3', 3)])"
      ]
     },
     "execution_count": 16,
     "metadata": {},
     "output_type": "execute_result"
    }
   ],
   "source": [
    "d.items()"
   ]
  },
  {
   "cell_type": "code",
   "execution_count": 17,
   "id": "a177f81a",
   "metadata": {},
   "outputs": [
    {
     "data": {
      "text/plain": [
       "dict_values([1, 2, 3])"
      ]
     },
     "execution_count": 17,
     "metadata": {},
     "output_type": "execute_result"
    }
   ],
   "source": [
    "d.values()"
   ]
  },
  {
   "cell_type": "code",
   "execution_count": null,
   "id": "8fba592d",
   "metadata": {},
   "outputs": [],
   "source": []
  },
  {
   "cell_type": "code",
   "execution_count": null,
   "id": "c82a3cc1",
   "metadata": {},
   "outputs": [],
   "source": []
  },
  {
   "cell_type": "code",
   "execution_count": null,
   "id": "27d7bceb",
   "metadata": {},
   "outputs": [],
   "source": []
  },
  {
   "cell_type": "code",
   "execution_count": null,
   "id": "bd222358",
   "metadata": {},
   "outputs": [],
   "source": []
  },
  {
   "cell_type": "code",
   "execution_count": null,
   "id": "a7159e57",
   "metadata": {},
   "outputs": [],
   "source": []
  },
  {
   "cell_type": "code",
   "execution_count": null,
   "id": "2ada666d",
   "metadata": {},
   "outputs": [],
   "source": []
  },
  {
   "cell_type": "code",
   "execution_count": null,
   "id": "1e7f3229",
   "metadata": {},
   "outputs": [],
   "source": []
  },
  {
   "cell_type": "code",
   "execution_count": null,
   "id": "b3a6c037",
   "metadata": {},
   "outputs": [],
   "source": []
  },
  {
   "cell_type": "code",
   "execution_count": null,
   "id": "2d49de8c",
   "metadata": {},
   "outputs": [],
   "source": []
  },
  {
   "cell_type": "code",
   "execution_count": null,
   "id": "3ea92672",
   "metadata": {},
   "outputs": [],
   "source": []
  },
  {
   "cell_type": "code",
   "execution_count": null,
   "id": "beaccd01",
   "metadata": {},
   "outputs": [],
   "source": []
  },
  {
   "cell_type": "code",
   "execution_count": null,
   "id": "3fd8540c",
   "metadata": {},
   "outputs": [],
   "source": []
  },
  {
   "cell_type": "code",
   "execution_count": null,
   "id": "d4a8bc4c",
   "metadata": {},
   "outputs": [],
   "source": []
  },
  {
   "cell_type": "code",
   "execution_count": null,
   "id": "3acccad0",
   "metadata": {},
   "outputs": [],
   "source": []
  },
  {
   "cell_type": "code",
   "execution_count": null,
   "id": "85502d02",
   "metadata": {},
   "outputs": [],
   "source": []
  },
  {
   "cell_type": "code",
   "execution_count": null,
   "id": "a4a7c08e",
   "metadata": {},
   "outputs": [],
   "source": []
  },
  {
   "cell_type": "code",
   "execution_count": null,
   "id": "3a40f8bf",
   "metadata": {},
   "outputs": [],
   "source": []
  },
  {
   "cell_type": "code",
   "execution_count": null,
   "id": "e8f9a3e1",
   "metadata": {},
   "outputs": [],
   "source": []
  },
  {
   "cell_type": "code",
   "execution_count": null,
   "id": "1fa25b0d",
   "metadata": {},
   "outputs": [],
   "source": []
  },
  {
   "cell_type": "code",
   "execution_count": null,
   "id": "7d233725",
   "metadata": {},
   "outputs": [],
   "source": []
  },
  {
   "cell_type": "code",
   "execution_count": null,
   "id": "b6d7bf12",
   "metadata": {},
   "outputs": [],
   "source": []
  },
  {
   "cell_type": "code",
   "execution_count": null,
   "id": "487821b8",
   "metadata": {},
   "outputs": [],
   "source": []
  },
  {
   "cell_type": "code",
   "execution_count": null,
   "id": "d05d3072",
   "metadata": {},
   "outputs": [],
   "source": []
  },
  {
   "cell_type": "code",
   "execution_count": null,
   "id": "0ea047bd",
   "metadata": {},
   "outputs": [],
   "source": []
  },
  {
   "cell_type": "code",
   "execution_count": null,
   "id": "b26be978",
   "metadata": {},
   "outputs": [],
   "source": []
  },
  {
   "cell_type": "code",
   "execution_count": null,
   "id": "5cb9c92b",
   "metadata": {},
   "outputs": [],
   "source": []
  },
  {
   "cell_type": "code",
   "execution_count": null,
   "id": "56e1ab88",
   "metadata": {},
   "outputs": [],
   "source": []
  },
  {
   "cell_type": "code",
   "execution_count": null,
   "id": "829a5d32",
   "metadata": {},
   "outputs": [],
   "source": []
  },
  {
   "cell_type": "code",
   "execution_count": null,
   "id": "34bb9f58",
   "metadata": {},
   "outputs": [],
   "source": []
  },
  {
   "cell_type": "code",
   "execution_count": null,
   "id": "7ec18837",
   "metadata": {},
   "outputs": [],
   "source": []
  },
  {
   "cell_type": "code",
   "execution_count": null,
   "id": "67f44f4c",
   "metadata": {},
   "outputs": [],
   "source": []
  },
  {
   "cell_type": "code",
   "execution_count": null,
   "id": "d3d00ea4",
   "metadata": {},
   "outputs": [],
   "source": []
  },
  {
   "cell_type": "code",
   "execution_count": null,
   "id": "3e11135b",
   "metadata": {},
   "outputs": [],
   "source": []
  },
  {
   "cell_type": "code",
   "execution_count": null,
   "id": "a7b21a28",
   "metadata": {},
   "outputs": [],
   "source": []
  },
  {
   "cell_type": "code",
   "execution_count": null,
   "id": "5276f224",
   "metadata": {},
   "outputs": [],
   "source": []
  },
  {
   "cell_type": "code",
   "execution_count": null,
   "id": "f84103c9",
   "metadata": {},
   "outputs": [],
   "source": []
  },
  {
   "cell_type": "code",
   "execution_count": null,
   "id": "a86cdcda",
   "metadata": {},
   "outputs": [],
   "source": []
  },
  {
   "cell_type": "code",
   "execution_count": null,
   "id": "6dc05c20",
   "metadata": {},
   "outputs": [],
   "source": []
  },
  {
   "cell_type": "code",
   "execution_count": null,
   "id": "f0b6ec67",
   "metadata": {},
   "outputs": [],
   "source": []
  },
  {
   "cell_type": "code",
   "execution_count": null,
   "id": "69e98d86",
   "metadata": {},
   "outputs": [],
   "source": []
  },
  {
   "cell_type": "code",
   "execution_count": null,
   "id": "ea8027e1",
   "metadata": {},
   "outputs": [],
   "source": [
    "out"
   ]
  },
  {
   "cell_type": "code",
   "execution_count": null,
   "id": "c60a5486",
   "metadata": {},
   "outputs": [],
   "source": []
  },
  {
   "cell_type": "code",
   "execution_count": null,
   "id": "8c59164d",
   "metadata": {},
   "outputs": [],
   "source": []
  },
  {
   "cell_type": "code",
   "execution_count": null,
   "id": "ed273f52",
   "metadata": {},
   "outputs": [],
   "source": []
  },
  {
   "cell_type": "code",
   "execution_count": null,
   "id": "03ff2e95",
   "metadata": {},
   "outputs": [],
   "source": []
  },
  {
   "cell_type": "code",
   "execution_count": null,
   "id": "4cebab89",
   "metadata": {},
   "outputs": [],
   "source": []
  },
  {
   "cell_type": "code",
   "execution_count": null,
   "id": "13c918db",
   "metadata": {},
   "outputs": [],
   "source": []
  },
  {
   "cell_type": "code",
   "execution_count": null,
   "id": "262866e9",
   "metadata": {},
   "outputs": [],
   "source": []
  },
  {
   "cell_type": "code",
   "execution_count": null,
   "id": "22cac110",
   "metadata": {},
   "outputs": [],
   "source": []
  },
  {
   "cell_type": "code",
   "execution_count": null,
   "id": "858ff520",
   "metadata": {},
   "outputs": [],
   "source": []
  }
 ],
 "metadata": {
  "kernelspec": {
   "display_name": "Python 3",
   "language": "python",
   "name": "python3"
  },
  "language_info": {
   "codemirror_mode": {
    "name": "ipython",
    "version": 3
   },
   "file_extension": ".py",
   "mimetype": "text/x-python",
   "name": "python",
   "nbconvert_exporter": "python",
   "pygments_lexer": "ipython3",
   "version": "3.8.8"
  }
 },
 "nbformat": 4,
 "nbformat_minor": 5
}
